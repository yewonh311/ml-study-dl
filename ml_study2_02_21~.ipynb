{
  "cells": [
    {
      "cell_type": "code",
      "execution_count": 122,
      "metadata": {
        "id": "aY7ufjh7qZn7"
      },
      "outputs": [],
      "source": [
        "# pipeline"
      ]
    },
    {
      "cell_type": "code",
      "execution_count": 123,
      "metadata": {
        "id": "h9D4xGIFMYbo"
      },
      "outputs": [],
      "source": [
        "from sklearn.svm import SVC\n",
        "from sklearn.preprocessing import StandardScaler\n",
        "\n",
        "from sklearn.pipeline import Pipeline"
      ]
    },
    {
      "cell_type": "code",
      "execution_count": 124,
      "metadata": {
        "colab": {
          "base_uri": "https://localhost:8080/"
        },
        "id": "DuoAe90kMYd4",
        "outputId": "54dc988f-e0a1-42ed-f47f-08c55a962117"
      },
      "outputs": [
        {
          "output_type": "stream",
          "name": "stdout",
          "text": [
            "[('Scaler', StandardScaler()), ('svc', SVC())]\n"
          ]
        }
      ],
      "source": [
        "order = [\n",
        "         (\"Scaler\", StandardScaler()),\n",
        "         (\"svc\", SVC())\n",
        "]\n",
        "pipeline = Pipeline(order, verbose=True)\n",
        "print(pipeline.steps)"
      ]
    },
    {
      "cell_type": "code",
      "execution_count": 125,
      "metadata": {
        "id": "btY_A43yMhhW"
      },
      "outputs": [],
      "source": [
        "from sklearn.datasets import load_breast_cancer\n",
        "from sklearn.model_selection import train_test_split\n",
        "\n",
        "X, y = load_breast_cancer(return_X_y = True)\n",
        "\n",
        "X_train, X_test, y_train, y_test = train_test_split(X, y, stratify = y, random_state=1)"
      ]
    },
    {
      "cell_type": "code",
      "execution_count": 126,
      "metadata": {
        "colab": {
          "base_uri": "https://localhost:8080/"
        },
        "id": "0wtTzercMYf2",
        "outputId": "1511d4b7-79a8-4934-9707-83f40298974d"
      },
      "outputs": [
        {
          "output_type": "stream",
          "name": "stdout",
          "text": [
            "[Pipeline] ............ (step 1 of 2) Processing Scaler, total=   0.0s\n",
            "[Pipeline] ............... (step 2 of 2) Processing svc, total=   0.0s\n"
          ]
        },
        {
          "output_type": "execute_result",
          "data": {
            "text/plain": [
              "Pipeline(steps=[('Scaler', StandardScaler()), ('svc', SVC())], verbose=True)"
            ]
          },
          "metadata": {},
          "execution_count": 126
        }
      ],
      "source": [
        "pipeline.fit(X_train, y_train)"
      ]
    },
    {
      "cell_type": "code",
      "execution_count": 127,
      "metadata": {
        "id": "KkoSI899MYh7"
      },
      "outputs": [],
      "source": [
        "pred_train = pipeline.predict(X_train)\n",
        "pred_test = pipeline.predict(X_test)"
      ]
    },
    {
      "cell_type": "code",
      "execution_count": 128,
      "metadata": {
        "colab": {
          "base_uri": "https://localhost:8080/"
        },
        "id": "4oeCRWEpMYjt",
        "outputId": "976882af-b7f5-494a-8d36-a7e6f4dc5e8e"
      },
      "outputs": [
        {
          "output_type": "execute_result",
          "data": {
            "text/plain": [
              "(0.9882629107981221, 0.9790209790209791)"
            ]
          },
          "metadata": {},
          "execution_count": 128
        }
      ],
      "source": [
        "from sklearn.metrics import accuracy_score\n",
        "\n",
        "accuracy_score(y_train, pred_train),accuracy_score(y_test, pred_test)"
      ]
    },
    {
      "cell_type": "code",
      "execution_count": 129,
      "metadata": {
        "colab": {
          "base_uri": "https://localhost:8080/"
        },
        "id": "tAKclIl2MYlX",
        "outputId": "97d2ca2c-9777-47ec-ce34-0ac8f375b1ae"
      },
      "outputs": [
        {
          "output_type": "stream",
          "name": "stdout",
          "text": [
            "[Pipeline] ............ (step 1 of 2) Processing Scaler, total=   0.0s\n",
            "[Pipeline] ............... (step 2 of 2) Processing svc, total=   0.0s\n"
          ]
        },
        {
          "output_type": "execute_result",
          "data": {
            "text/plain": [
              "GridSearchCV(cv=3,\n",
              "             estimator=Pipeline(steps=[('Scaler', StandardScaler()),\n",
              "                                       ('svc', SVC())],\n",
              "                                verbose=True),\n",
              "             n_jobs=-1,\n",
              "             param_grid={'svc__C': [0.001, 0.01, 0.1, 1, 10, 100],\n",
              "                         'svc__gamma': [0.001, 0.01, 0.1, 1, 10, 100]},\n",
              "             scoring='accuracy')"
            ]
          },
          "metadata": {},
          "execution_count": 129
        }
      ],
      "source": [
        "from sklearn.model_selection import GridSearchCV\n",
        "param_grid = {\n",
        "    'svc__C':[0.001,0.01,0.1, 1, 10, 100],\n",
        "    'svc__gamma':[0.001, 0.01, 0.1, 1, 10, 100]\n",
        "}\n",
        "grid_search = GridSearchCV(pipeline, \n",
        "                           param_grid = param_grid,\n",
        "                           scoring = 'accuracy',\n",
        "                           cv = 3,\n",
        "                           n_jobs = -1)\n",
        "\n",
        "grid_search.fit(X_train, y_train)"
      ]
    },
    {
      "cell_type": "code",
      "execution_count": 130,
      "metadata": {
        "colab": {
          "base_uri": "https://localhost:8080/",
          "height": 1000
        },
        "id": "tonsWzNIMYo4",
        "outputId": "d453acb1-b7d8-4d3a-dc2d-12689ef4ae68"
      },
      "outputs": [
        {
          "output_type": "execute_result",
          "data": {
            "text/plain": [
              "    mean_fit_time  std_fit_time  mean_score_time  std_score_time param_svc__C  \\\n",
              "25       0.003628      0.000080         0.001509        0.000043           10   \n",
              "30       0.003731      0.000092         0.001638        0.000318          100   \n",
              "31       0.004091      0.000630         0.001249        0.000058          100   \n",
              "24       0.004145      0.000132         0.001980        0.000039           10   \n",
              "19       0.004394      0.000063         0.002769        0.000875            1   \n",
              "20       0.007751      0.000965         0.003730        0.000135            1   \n",
              "26       0.008216      0.002335         0.003255        0.000062           10   \n",
              "32       0.007272      0.000667         0.003368        0.000142          100   \n",
              "18       0.005750      0.000070         0.003276        0.000017            1   \n",
              "13       0.011737      0.006946         0.006329        0.003406          0.1   \n",
              "14       0.008498      0.000068         0.005024        0.000007          0.1   \n",
              "12       0.008832      0.000525         0.005058        0.000026          0.1   \n",
              "27       0.012544      0.000216         0.006475        0.000020           10   \n",
              "33       0.013016      0.000560         0.007764        0.001219          100   \n",
              "29       0.013136      0.001438         0.006538        0.000220           10   \n",
              "28       0.013155      0.000040         0.006873        0.000141           10   \n",
              "23       0.011031      0.000073         0.006220        0.000107            1   \n",
              "22       0.012612      0.000120         0.006784        0.000092            1   \n",
              "21       0.012256      0.000538         0.006579        0.000145            1   \n",
              "0        0.008729      0.000203         0.008233        0.004475        0.001   \n",
              "17       0.014213      0.004310         0.006904        0.001228          0.1   \n",
              "16       0.012466      0.000236         0.006735        0.000081          0.1   \n",
              "15       0.015525      0.005507         0.009340        0.003874          0.1   \n",
              "11       0.014872      0.006063         0.006805        0.000859         0.01   \n",
              "10       0.018600      0.007784         0.006962        0.000254         0.01   \n",
              "9        0.013627      0.002397         0.008453        0.001893         0.01   \n",
              "8        0.009348      0.000669         0.005179        0.000074         0.01   \n",
              "7        0.008717      0.000139         0.005067        0.000077         0.01   \n",
              "6        0.011691      0.004300         0.007310        0.002241         0.01   \n",
              "5        0.009986      0.000052         0.006298        0.000067        0.001   \n",
              "4        0.011465      0.001251         0.006303        0.000282        0.001   \n",
              "3        0.014970      0.003395         0.007459        0.002194        0.001   \n",
              "2        0.009949      0.001138         0.009113        0.003657        0.001   \n",
              "1        0.009147      0.000359         0.005001        0.000084        0.001   \n",
              "34       0.018762      0.004483         0.009917        0.003569          100   \n",
              "35       0.011628      0.000430         0.005584        0.001120          100   \n",
              "\n",
              "   param_svc__gamma                                  params  \\\n",
              "25             0.01      {'svc__C': 10, 'svc__gamma': 0.01}   \n",
              "30            0.001    {'svc__C': 100, 'svc__gamma': 0.001}   \n",
              "31             0.01     {'svc__C': 100, 'svc__gamma': 0.01}   \n",
              "24            0.001     {'svc__C': 10, 'svc__gamma': 0.001}   \n",
              "19             0.01       {'svc__C': 1, 'svc__gamma': 0.01}   \n",
              "20              0.1        {'svc__C': 1, 'svc__gamma': 0.1}   \n",
              "26              0.1       {'svc__C': 10, 'svc__gamma': 0.1}   \n",
              "32              0.1      {'svc__C': 100, 'svc__gamma': 0.1}   \n",
              "18            0.001      {'svc__C': 1, 'svc__gamma': 0.001}   \n",
              "13             0.01     {'svc__C': 0.1, 'svc__gamma': 0.01}   \n",
              "14              0.1      {'svc__C': 0.1, 'svc__gamma': 0.1}   \n",
              "12            0.001    {'svc__C': 0.1, 'svc__gamma': 0.001}   \n",
              "27                1         {'svc__C': 10, 'svc__gamma': 1}   \n",
              "33                1        {'svc__C': 100, 'svc__gamma': 1}   \n",
              "29              100       {'svc__C': 10, 'svc__gamma': 100}   \n",
              "28               10        {'svc__C': 10, 'svc__gamma': 10}   \n",
              "23              100        {'svc__C': 1, 'svc__gamma': 100}   \n",
              "22               10         {'svc__C': 1, 'svc__gamma': 10}   \n",
              "21                1          {'svc__C': 1, 'svc__gamma': 1}   \n",
              "0             0.001  {'svc__C': 0.001, 'svc__gamma': 0.001}   \n",
              "17              100      {'svc__C': 0.1, 'svc__gamma': 100}   \n",
              "16               10       {'svc__C': 0.1, 'svc__gamma': 10}   \n",
              "15                1        {'svc__C': 0.1, 'svc__gamma': 1}   \n",
              "11              100     {'svc__C': 0.01, 'svc__gamma': 100}   \n",
              "10               10      {'svc__C': 0.01, 'svc__gamma': 10}   \n",
              "9                 1       {'svc__C': 0.01, 'svc__gamma': 1}   \n",
              "8               0.1     {'svc__C': 0.01, 'svc__gamma': 0.1}   \n",
              "7              0.01    {'svc__C': 0.01, 'svc__gamma': 0.01}   \n",
              "6             0.001   {'svc__C': 0.01, 'svc__gamma': 0.001}   \n",
              "5               100    {'svc__C': 0.001, 'svc__gamma': 100}   \n",
              "4                10     {'svc__C': 0.001, 'svc__gamma': 10}   \n",
              "3                 1      {'svc__C': 0.001, 'svc__gamma': 1}   \n",
              "2               0.1    {'svc__C': 0.001, 'svc__gamma': 0.1}   \n",
              "1              0.01   {'svc__C': 0.001, 'svc__gamma': 0.01}   \n",
              "34               10       {'svc__C': 100, 'svc__gamma': 10}   \n",
              "35              100      {'svc__C': 100, 'svc__gamma': 100}   \n",
              "\n",
              "    split0_test_score  split1_test_score  split2_test_score  mean_test_score  \\\n",
              "25           0.978873           0.992958           0.978873         0.983568   \n",
              "30           0.971831           0.992958           0.978873         0.981221   \n",
              "31           0.971831           0.978873           0.978873         0.976526   \n",
              "24           0.971831           0.964789           0.964789         0.967136   \n",
              "19           0.978873           0.957746           0.964789         0.967136   \n",
              "20           0.964789           0.957746           0.971831         0.964789   \n",
              "26           0.964789           0.943662           0.957746         0.955399   \n",
              "32           0.964789           0.943662           0.957746         0.955399   \n",
              "18           0.929577           0.943662           0.950704         0.941315   \n",
              "13           0.936620           0.936620           0.943662         0.938967   \n",
              "14           0.943662           0.908451           0.936620         0.929577   \n",
              "12           0.683099           0.683099           0.654930         0.673709   \n",
              "27           0.626761           0.626761           0.640845         0.631455   \n",
              "33           0.626761           0.626761           0.640845         0.631455   \n",
              "29           0.626761           0.626761           0.626761         0.626761   \n",
              "28           0.626761           0.626761           0.626761         0.626761   \n",
              "23           0.626761           0.626761           0.626761         0.626761   \n",
              "22           0.626761           0.626761           0.626761         0.626761   \n",
              "21           0.626761           0.626761           0.626761         0.626761   \n",
              "0            0.626761           0.626761           0.626761         0.626761   \n",
              "17           0.626761           0.626761           0.626761         0.626761   \n",
              "16           0.626761           0.626761           0.626761         0.626761   \n",
              "15           0.626761           0.626761           0.626761         0.626761   \n",
              "11           0.626761           0.626761           0.626761         0.626761   \n",
              "10           0.626761           0.626761           0.626761         0.626761   \n",
              "9            0.626761           0.626761           0.626761         0.626761   \n",
              "8            0.626761           0.626761           0.626761         0.626761   \n",
              "7            0.626761           0.626761           0.626761         0.626761   \n",
              "6            0.626761           0.626761           0.626761         0.626761   \n",
              "5            0.626761           0.626761           0.626761         0.626761   \n",
              "4            0.626761           0.626761           0.626761         0.626761   \n",
              "3            0.626761           0.626761           0.626761         0.626761   \n",
              "2            0.626761           0.626761           0.626761         0.626761   \n",
              "1            0.626761           0.626761           0.626761         0.626761   \n",
              "34           0.626761           0.626761           0.626761         0.626761   \n",
              "35           0.626761           0.626761           0.626761         0.626761   \n",
              "\n",
              "    std_test_score  rank_test_score  \n",
              "25        0.006640                1  \n",
              "30        0.008783                2  \n",
              "31        0.003320                3  \n",
              "24        0.003320                4  \n",
              "19        0.008783                5  \n",
              "20        0.005750                6  \n",
              "26        0.008783                7  \n",
              "32        0.008783                7  \n",
              "18        0.008783                9  \n",
              "13        0.003320               10  \n",
              "14        0.015213               11  \n",
              "12        0.013279               12  \n",
              "27        0.006640               13  \n",
              "33        0.006640               13  \n",
              "29        0.000000               15  \n",
              "28        0.000000               15  \n",
              "23        0.000000               15  \n",
              "22        0.000000               15  \n",
              "21        0.000000               15  \n",
              "0         0.000000               15  \n",
              "17        0.000000               15  \n",
              "16        0.000000               15  \n",
              "15        0.000000               15  \n",
              "11        0.000000               15  \n",
              "10        0.000000               15  \n",
              "9         0.000000               15  \n",
              "8         0.000000               15  \n",
              "7         0.000000               15  \n",
              "6         0.000000               15  \n",
              "5         0.000000               15  \n",
              "4         0.000000               15  \n",
              "3         0.000000               15  \n",
              "2         0.000000               15  \n",
              "1         0.000000               15  \n",
              "34        0.000000               15  \n",
              "35        0.000000               15  "
            ],
            "text/html": [
              "\n",
              "  <div id=\"df-8a2523c1-b1cf-409d-b1fc-4ee1ec48f3cd\">\n",
              "    <div class=\"colab-df-container\">\n",
              "      <div>\n",
              "<style scoped>\n",
              "    .dataframe tbody tr th:only-of-type {\n",
              "        vertical-align: middle;\n",
              "    }\n",
              "\n",
              "    .dataframe tbody tr th {\n",
              "        vertical-align: top;\n",
              "    }\n",
              "\n",
              "    .dataframe thead th {\n",
              "        text-align: right;\n",
              "    }\n",
              "</style>\n",
              "<table border=\"1\" class=\"dataframe\">\n",
              "  <thead>\n",
              "    <tr style=\"text-align: right;\">\n",
              "      <th></th>\n",
              "      <th>mean_fit_time</th>\n",
              "      <th>std_fit_time</th>\n",
              "      <th>mean_score_time</th>\n",
              "      <th>std_score_time</th>\n",
              "      <th>param_svc__C</th>\n",
              "      <th>param_svc__gamma</th>\n",
              "      <th>params</th>\n",
              "      <th>split0_test_score</th>\n",
              "      <th>split1_test_score</th>\n",
              "      <th>split2_test_score</th>\n",
              "      <th>mean_test_score</th>\n",
              "      <th>std_test_score</th>\n",
              "      <th>rank_test_score</th>\n",
              "    </tr>\n",
              "  </thead>\n",
              "  <tbody>\n",
              "    <tr>\n",
              "      <th>25</th>\n",
              "      <td>0.003628</td>\n",
              "      <td>0.000080</td>\n",
              "      <td>0.001509</td>\n",
              "      <td>0.000043</td>\n",
              "      <td>10</td>\n",
              "      <td>0.01</td>\n",
              "      <td>{'svc__C': 10, 'svc__gamma': 0.01}</td>\n",
              "      <td>0.978873</td>\n",
              "      <td>0.992958</td>\n",
              "      <td>0.978873</td>\n",
              "      <td>0.983568</td>\n",
              "      <td>0.006640</td>\n",
              "      <td>1</td>\n",
              "    </tr>\n",
              "    <tr>\n",
              "      <th>30</th>\n",
              "      <td>0.003731</td>\n",
              "      <td>0.000092</td>\n",
              "      <td>0.001638</td>\n",
              "      <td>0.000318</td>\n",
              "      <td>100</td>\n",
              "      <td>0.001</td>\n",
              "      <td>{'svc__C': 100, 'svc__gamma': 0.001}</td>\n",
              "      <td>0.971831</td>\n",
              "      <td>0.992958</td>\n",
              "      <td>0.978873</td>\n",
              "      <td>0.981221</td>\n",
              "      <td>0.008783</td>\n",
              "      <td>2</td>\n",
              "    </tr>\n",
              "    <tr>\n",
              "      <th>31</th>\n",
              "      <td>0.004091</td>\n",
              "      <td>0.000630</td>\n",
              "      <td>0.001249</td>\n",
              "      <td>0.000058</td>\n",
              "      <td>100</td>\n",
              "      <td>0.01</td>\n",
              "      <td>{'svc__C': 100, 'svc__gamma': 0.01}</td>\n",
              "      <td>0.971831</td>\n",
              "      <td>0.978873</td>\n",
              "      <td>0.978873</td>\n",
              "      <td>0.976526</td>\n",
              "      <td>0.003320</td>\n",
              "      <td>3</td>\n",
              "    </tr>\n",
              "    <tr>\n",
              "      <th>24</th>\n",
              "      <td>0.004145</td>\n",
              "      <td>0.000132</td>\n",
              "      <td>0.001980</td>\n",
              "      <td>0.000039</td>\n",
              "      <td>10</td>\n",
              "      <td>0.001</td>\n",
              "      <td>{'svc__C': 10, 'svc__gamma': 0.001}</td>\n",
              "      <td>0.971831</td>\n",
              "      <td>0.964789</td>\n",
              "      <td>0.964789</td>\n",
              "      <td>0.967136</td>\n",
              "      <td>0.003320</td>\n",
              "      <td>4</td>\n",
              "    </tr>\n",
              "    <tr>\n",
              "      <th>19</th>\n",
              "      <td>0.004394</td>\n",
              "      <td>0.000063</td>\n",
              "      <td>0.002769</td>\n",
              "      <td>0.000875</td>\n",
              "      <td>1</td>\n",
              "      <td>0.01</td>\n",
              "      <td>{'svc__C': 1, 'svc__gamma': 0.01}</td>\n",
              "      <td>0.978873</td>\n",
              "      <td>0.957746</td>\n",
              "      <td>0.964789</td>\n",
              "      <td>0.967136</td>\n",
              "      <td>0.008783</td>\n",
              "      <td>5</td>\n",
              "    </tr>\n",
              "    <tr>\n",
              "      <th>20</th>\n",
              "      <td>0.007751</td>\n",
              "      <td>0.000965</td>\n",
              "      <td>0.003730</td>\n",
              "      <td>0.000135</td>\n",
              "      <td>1</td>\n",
              "      <td>0.1</td>\n",
              "      <td>{'svc__C': 1, 'svc__gamma': 0.1}</td>\n",
              "      <td>0.964789</td>\n",
              "      <td>0.957746</td>\n",
              "      <td>0.971831</td>\n",
              "      <td>0.964789</td>\n",
              "      <td>0.005750</td>\n",
              "      <td>6</td>\n",
              "    </tr>\n",
              "    <tr>\n",
              "      <th>26</th>\n",
              "      <td>0.008216</td>\n",
              "      <td>0.002335</td>\n",
              "      <td>0.003255</td>\n",
              "      <td>0.000062</td>\n",
              "      <td>10</td>\n",
              "      <td>0.1</td>\n",
              "      <td>{'svc__C': 10, 'svc__gamma': 0.1}</td>\n",
              "      <td>0.964789</td>\n",
              "      <td>0.943662</td>\n",
              "      <td>0.957746</td>\n",
              "      <td>0.955399</td>\n",
              "      <td>0.008783</td>\n",
              "      <td>7</td>\n",
              "    </tr>\n",
              "    <tr>\n",
              "      <th>32</th>\n",
              "      <td>0.007272</td>\n",
              "      <td>0.000667</td>\n",
              "      <td>0.003368</td>\n",
              "      <td>0.000142</td>\n",
              "      <td>100</td>\n",
              "      <td>0.1</td>\n",
              "      <td>{'svc__C': 100, 'svc__gamma': 0.1}</td>\n",
              "      <td>0.964789</td>\n",
              "      <td>0.943662</td>\n",
              "      <td>0.957746</td>\n",
              "      <td>0.955399</td>\n",
              "      <td>0.008783</td>\n",
              "      <td>7</td>\n",
              "    </tr>\n",
              "    <tr>\n",
              "      <th>18</th>\n",
              "      <td>0.005750</td>\n",
              "      <td>0.000070</td>\n",
              "      <td>0.003276</td>\n",
              "      <td>0.000017</td>\n",
              "      <td>1</td>\n",
              "      <td>0.001</td>\n",
              "      <td>{'svc__C': 1, 'svc__gamma': 0.001}</td>\n",
              "      <td>0.929577</td>\n",
              "      <td>0.943662</td>\n",
              "      <td>0.950704</td>\n",
              "      <td>0.941315</td>\n",
              "      <td>0.008783</td>\n",
              "      <td>9</td>\n",
              "    </tr>\n",
              "    <tr>\n",
              "      <th>13</th>\n",
              "      <td>0.011737</td>\n",
              "      <td>0.006946</td>\n",
              "      <td>0.006329</td>\n",
              "      <td>0.003406</td>\n",
              "      <td>0.1</td>\n",
              "      <td>0.01</td>\n",
              "      <td>{'svc__C': 0.1, 'svc__gamma': 0.01}</td>\n",
              "      <td>0.936620</td>\n",
              "      <td>0.936620</td>\n",
              "      <td>0.943662</td>\n",
              "      <td>0.938967</td>\n",
              "      <td>0.003320</td>\n",
              "      <td>10</td>\n",
              "    </tr>\n",
              "    <tr>\n",
              "      <th>14</th>\n",
              "      <td>0.008498</td>\n",
              "      <td>0.000068</td>\n",
              "      <td>0.005024</td>\n",
              "      <td>0.000007</td>\n",
              "      <td>0.1</td>\n",
              "      <td>0.1</td>\n",
              "      <td>{'svc__C': 0.1, 'svc__gamma': 0.1}</td>\n",
              "      <td>0.943662</td>\n",
              "      <td>0.908451</td>\n",
              "      <td>0.936620</td>\n",
              "      <td>0.929577</td>\n",
              "      <td>0.015213</td>\n",
              "      <td>11</td>\n",
              "    </tr>\n",
              "    <tr>\n",
              "      <th>12</th>\n",
              "      <td>0.008832</td>\n",
              "      <td>0.000525</td>\n",
              "      <td>0.005058</td>\n",
              "      <td>0.000026</td>\n",
              "      <td>0.1</td>\n",
              "      <td>0.001</td>\n",
              "      <td>{'svc__C': 0.1, 'svc__gamma': 0.001}</td>\n",
              "      <td>0.683099</td>\n",
              "      <td>0.683099</td>\n",
              "      <td>0.654930</td>\n",
              "      <td>0.673709</td>\n",
              "      <td>0.013279</td>\n",
              "      <td>12</td>\n",
              "    </tr>\n",
              "    <tr>\n",
              "      <th>27</th>\n",
              "      <td>0.012544</td>\n",
              "      <td>0.000216</td>\n",
              "      <td>0.006475</td>\n",
              "      <td>0.000020</td>\n",
              "      <td>10</td>\n",
              "      <td>1</td>\n",
              "      <td>{'svc__C': 10, 'svc__gamma': 1}</td>\n",
              "      <td>0.626761</td>\n",
              "      <td>0.626761</td>\n",
              "      <td>0.640845</td>\n",
              "      <td>0.631455</td>\n",
              "      <td>0.006640</td>\n",
              "      <td>13</td>\n",
              "    </tr>\n",
              "    <tr>\n",
              "      <th>33</th>\n",
              "      <td>0.013016</td>\n",
              "      <td>0.000560</td>\n",
              "      <td>0.007764</td>\n",
              "      <td>0.001219</td>\n",
              "      <td>100</td>\n",
              "      <td>1</td>\n",
              "      <td>{'svc__C': 100, 'svc__gamma': 1}</td>\n",
              "      <td>0.626761</td>\n",
              "      <td>0.626761</td>\n",
              "      <td>0.640845</td>\n",
              "      <td>0.631455</td>\n",
              "      <td>0.006640</td>\n",
              "      <td>13</td>\n",
              "    </tr>\n",
              "    <tr>\n",
              "      <th>29</th>\n",
              "      <td>0.013136</td>\n",
              "      <td>0.001438</td>\n",
              "      <td>0.006538</td>\n",
              "      <td>0.000220</td>\n",
              "      <td>10</td>\n",
              "      <td>100</td>\n",
              "      <td>{'svc__C': 10, 'svc__gamma': 100}</td>\n",
              "      <td>0.626761</td>\n",
              "      <td>0.626761</td>\n",
              "      <td>0.626761</td>\n",
              "      <td>0.626761</td>\n",
              "      <td>0.000000</td>\n",
              "      <td>15</td>\n",
              "    </tr>\n",
              "    <tr>\n",
              "      <th>28</th>\n",
              "      <td>0.013155</td>\n",
              "      <td>0.000040</td>\n",
              "      <td>0.006873</td>\n",
              "      <td>0.000141</td>\n",
              "      <td>10</td>\n",
              "      <td>10</td>\n",
              "      <td>{'svc__C': 10, 'svc__gamma': 10}</td>\n",
              "      <td>0.626761</td>\n",
              "      <td>0.626761</td>\n",
              "      <td>0.626761</td>\n",
              "      <td>0.626761</td>\n",
              "      <td>0.000000</td>\n",
              "      <td>15</td>\n",
              "    </tr>\n",
              "    <tr>\n",
              "      <th>23</th>\n",
              "      <td>0.011031</td>\n",
              "      <td>0.000073</td>\n",
              "      <td>0.006220</td>\n",
              "      <td>0.000107</td>\n",
              "      <td>1</td>\n",
              "      <td>100</td>\n",
              "      <td>{'svc__C': 1, 'svc__gamma': 100}</td>\n",
              "      <td>0.626761</td>\n",
              "      <td>0.626761</td>\n",
              "      <td>0.626761</td>\n",
              "      <td>0.626761</td>\n",
              "      <td>0.000000</td>\n",
              "      <td>15</td>\n",
              "    </tr>\n",
              "    <tr>\n",
              "      <th>22</th>\n",
              "      <td>0.012612</td>\n",
              "      <td>0.000120</td>\n",
              "      <td>0.006784</td>\n",
              "      <td>0.000092</td>\n",
              "      <td>1</td>\n",
              "      <td>10</td>\n",
              "      <td>{'svc__C': 1, 'svc__gamma': 10}</td>\n",
              "      <td>0.626761</td>\n",
              "      <td>0.626761</td>\n",
              "      <td>0.626761</td>\n",
              "      <td>0.626761</td>\n",
              "      <td>0.000000</td>\n",
              "      <td>15</td>\n",
              "    </tr>\n",
              "    <tr>\n",
              "      <th>21</th>\n",
              "      <td>0.012256</td>\n",
              "      <td>0.000538</td>\n",
              "      <td>0.006579</td>\n",
              "      <td>0.000145</td>\n",
              "      <td>1</td>\n",
              "      <td>1</td>\n",
              "      <td>{'svc__C': 1, 'svc__gamma': 1}</td>\n",
              "      <td>0.626761</td>\n",
              "      <td>0.626761</td>\n",
              "      <td>0.626761</td>\n",
              "      <td>0.626761</td>\n",
              "      <td>0.000000</td>\n",
              "      <td>15</td>\n",
              "    </tr>\n",
              "    <tr>\n",
              "      <th>0</th>\n",
              "      <td>0.008729</td>\n",
              "      <td>0.000203</td>\n",
              "      <td>0.008233</td>\n",
              "      <td>0.004475</td>\n",
              "      <td>0.001</td>\n",
              "      <td>0.001</td>\n",
              "      <td>{'svc__C': 0.001, 'svc__gamma': 0.001}</td>\n",
              "      <td>0.626761</td>\n",
              "      <td>0.626761</td>\n",
              "      <td>0.626761</td>\n",
              "      <td>0.626761</td>\n",
              "      <td>0.000000</td>\n",
              "      <td>15</td>\n",
              "    </tr>\n",
              "    <tr>\n",
              "      <th>17</th>\n",
              "      <td>0.014213</td>\n",
              "      <td>0.004310</td>\n",
              "      <td>0.006904</td>\n",
              "      <td>0.001228</td>\n",
              "      <td>0.1</td>\n",
              "      <td>100</td>\n",
              "      <td>{'svc__C': 0.1, 'svc__gamma': 100}</td>\n",
              "      <td>0.626761</td>\n",
              "      <td>0.626761</td>\n",
              "      <td>0.626761</td>\n",
              "      <td>0.626761</td>\n",
              "      <td>0.000000</td>\n",
              "      <td>15</td>\n",
              "    </tr>\n",
              "    <tr>\n",
              "      <th>16</th>\n",
              "      <td>0.012466</td>\n",
              "      <td>0.000236</td>\n",
              "      <td>0.006735</td>\n",
              "      <td>0.000081</td>\n",
              "      <td>0.1</td>\n",
              "      <td>10</td>\n",
              "      <td>{'svc__C': 0.1, 'svc__gamma': 10}</td>\n",
              "      <td>0.626761</td>\n",
              "      <td>0.626761</td>\n",
              "      <td>0.626761</td>\n",
              "      <td>0.626761</td>\n",
              "      <td>0.000000</td>\n",
              "      <td>15</td>\n",
              "    </tr>\n",
              "    <tr>\n",
              "      <th>15</th>\n",
              "      <td>0.015525</td>\n",
              "      <td>0.005507</td>\n",
              "      <td>0.009340</td>\n",
              "      <td>0.003874</td>\n",
              "      <td>0.1</td>\n",
              "      <td>1</td>\n",
              "      <td>{'svc__C': 0.1, 'svc__gamma': 1}</td>\n",
              "      <td>0.626761</td>\n",
              "      <td>0.626761</td>\n",
              "      <td>0.626761</td>\n",
              "      <td>0.626761</td>\n",
              "      <td>0.000000</td>\n",
              "      <td>15</td>\n",
              "    </tr>\n",
              "    <tr>\n",
              "      <th>11</th>\n",
              "      <td>0.014872</td>\n",
              "      <td>0.006063</td>\n",
              "      <td>0.006805</td>\n",
              "      <td>0.000859</td>\n",
              "      <td>0.01</td>\n",
              "      <td>100</td>\n",
              "      <td>{'svc__C': 0.01, 'svc__gamma': 100}</td>\n",
              "      <td>0.626761</td>\n",
              "      <td>0.626761</td>\n",
              "      <td>0.626761</td>\n",
              "      <td>0.626761</td>\n",
              "      <td>0.000000</td>\n",
              "      <td>15</td>\n",
              "    </tr>\n",
              "    <tr>\n",
              "      <th>10</th>\n",
              "      <td>0.018600</td>\n",
              "      <td>0.007784</td>\n",
              "      <td>0.006962</td>\n",
              "      <td>0.000254</td>\n",
              "      <td>0.01</td>\n",
              "      <td>10</td>\n",
              "      <td>{'svc__C': 0.01, 'svc__gamma': 10}</td>\n",
              "      <td>0.626761</td>\n",
              "      <td>0.626761</td>\n",
              "      <td>0.626761</td>\n",
              "      <td>0.626761</td>\n",
              "      <td>0.000000</td>\n",
              "      <td>15</td>\n",
              "    </tr>\n",
              "    <tr>\n",
              "      <th>9</th>\n",
              "      <td>0.013627</td>\n",
              "      <td>0.002397</td>\n",
              "      <td>0.008453</td>\n",
              "      <td>0.001893</td>\n",
              "      <td>0.01</td>\n",
              "      <td>1</td>\n",
              "      <td>{'svc__C': 0.01, 'svc__gamma': 1}</td>\n",
              "      <td>0.626761</td>\n",
              "      <td>0.626761</td>\n",
              "      <td>0.626761</td>\n",
              "      <td>0.626761</td>\n",
              "      <td>0.000000</td>\n",
              "      <td>15</td>\n",
              "    </tr>\n",
              "    <tr>\n",
              "      <th>8</th>\n",
              "      <td>0.009348</td>\n",
              "      <td>0.000669</td>\n",
              "      <td>0.005179</td>\n",
              "      <td>0.000074</td>\n",
              "      <td>0.01</td>\n",
              "      <td>0.1</td>\n",
              "      <td>{'svc__C': 0.01, 'svc__gamma': 0.1}</td>\n",
              "      <td>0.626761</td>\n",
              "      <td>0.626761</td>\n",
              "      <td>0.626761</td>\n",
              "      <td>0.626761</td>\n",
              "      <td>0.000000</td>\n",
              "      <td>15</td>\n",
              "    </tr>\n",
              "    <tr>\n",
              "      <th>7</th>\n",
              "      <td>0.008717</td>\n",
              "      <td>0.000139</td>\n",
              "      <td>0.005067</td>\n",
              "      <td>0.000077</td>\n",
              "      <td>0.01</td>\n",
              "      <td>0.01</td>\n",
              "      <td>{'svc__C': 0.01, 'svc__gamma': 0.01}</td>\n",
              "      <td>0.626761</td>\n",
              "      <td>0.626761</td>\n",
              "      <td>0.626761</td>\n",
              "      <td>0.626761</td>\n",
              "      <td>0.000000</td>\n",
              "      <td>15</td>\n",
              "    </tr>\n",
              "    <tr>\n",
              "      <th>6</th>\n",
              "      <td>0.011691</td>\n",
              "      <td>0.004300</td>\n",
              "      <td>0.007310</td>\n",
              "      <td>0.002241</td>\n",
              "      <td>0.01</td>\n",
              "      <td>0.001</td>\n",
              "      <td>{'svc__C': 0.01, 'svc__gamma': 0.001}</td>\n",
              "      <td>0.626761</td>\n",
              "      <td>0.626761</td>\n",
              "      <td>0.626761</td>\n",
              "      <td>0.626761</td>\n",
              "      <td>0.000000</td>\n",
              "      <td>15</td>\n",
              "    </tr>\n",
              "    <tr>\n",
              "      <th>5</th>\n",
              "      <td>0.009986</td>\n",
              "      <td>0.000052</td>\n",
              "      <td>0.006298</td>\n",
              "      <td>0.000067</td>\n",
              "      <td>0.001</td>\n",
              "      <td>100</td>\n",
              "      <td>{'svc__C': 0.001, 'svc__gamma': 100}</td>\n",
              "      <td>0.626761</td>\n",
              "      <td>0.626761</td>\n",
              "      <td>0.626761</td>\n",
              "      <td>0.626761</td>\n",
              "      <td>0.000000</td>\n",
              "      <td>15</td>\n",
              "    </tr>\n",
              "    <tr>\n",
              "      <th>4</th>\n",
              "      <td>0.011465</td>\n",
              "      <td>0.001251</td>\n",
              "      <td>0.006303</td>\n",
              "      <td>0.000282</td>\n",
              "      <td>0.001</td>\n",
              "      <td>10</td>\n",
              "      <td>{'svc__C': 0.001, 'svc__gamma': 10}</td>\n",
              "      <td>0.626761</td>\n",
              "      <td>0.626761</td>\n",
              "      <td>0.626761</td>\n",
              "      <td>0.626761</td>\n",
              "      <td>0.000000</td>\n",
              "      <td>15</td>\n",
              "    </tr>\n",
              "    <tr>\n",
              "      <th>3</th>\n",
              "      <td>0.014970</td>\n",
              "      <td>0.003395</td>\n",
              "      <td>0.007459</td>\n",
              "      <td>0.002194</td>\n",
              "      <td>0.001</td>\n",
              "      <td>1</td>\n",
              "      <td>{'svc__C': 0.001, 'svc__gamma': 1}</td>\n",
              "      <td>0.626761</td>\n",
              "      <td>0.626761</td>\n",
              "      <td>0.626761</td>\n",
              "      <td>0.626761</td>\n",
              "      <td>0.000000</td>\n",
              "      <td>15</td>\n",
              "    </tr>\n",
              "    <tr>\n",
              "      <th>2</th>\n",
              "      <td>0.009949</td>\n",
              "      <td>0.001138</td>\n",
              "      <td>0.009113</td>\n",
              "      <td>0.003657</td>\n",
              "      <td>0.001</td>\n",
              "      <td>0.1</td>\n",
              "      <td>{'svc__C': 0.001, 'svc__gamma': 0.1}</td>\n",
              "      <td>0.626761</td>\n",
              "      <td>0.626761</td>\n",
              "      <td>0.626761</td>\n",
              "      <td>0.626761</td>\n",
              "      <td>0.000000</td>\n",
              "      <td>15</td>\n",
              "    </tr>\n",
              "    <tr>\n",
              "      <th>1</th>\n",
              "      <td>0.009147</td>\n",
              "      <td>0.000359</td>\n",
              "      <td>0.005001</td>\n",
              "      <td>0.000084</td>\n",
              "      <td>0.001</td>\n",
              "      <td>0.01</td>\n",
              "      <td>{'svc__C': 0.001, 'svc__gamma': 0.01}</td>\n",
              "      <td>0.626761</td>\n",
              "      <td>0.626761</td>\n",
              "      <td>0.626761</td>\n",
              "      <td>0.626761</td>\n",
              "      <td>0.000000</td>\n",
              "      <td>15</td>\n",
              "    </tr>\n",
              "    <tr>\n",
              "      <th>34</th>\n",
              "      <td>0.018762</td>\n",
              "      <td>0.004483</td>\n",
              "      <td>0.009917</td>\n",
              "      <td>0.003569</td>\n",
              "      <td>100</td>\n",
              "      <td>10</td>\n",
              "      <td>{'svc__C': 100, 'svc__gamma': 10}</td>\n",
              "      <td>0.626761</td>\n",
              "      <td>0.626761</td>\n",
              "      <td>0.626761</td>\n",
              "      <td>0.626761</td>\n",
              "      <td>0.000000</td>\n",
              "      <td>15</td>\n",
              "    </tr>\n",
              "    <tr>\n",
              "      <th>35</th>\n",
              "      <td>0.011628</td>\n",
              "      <td>0.000430</td>\n",
              "      <td>0.005584</td>\n",
              "      <td>0.001120</td>\n",
              "      <td>100</td>\n",
              "      <td>100</td>\n",
              "      <td>{'svc__C': 100, 'svc__gamma': 100}</td>\n",
              "      <td>0.626761</td>\n",
              "      <td>0.626761</td>\n",
              "      <td>0.626761</td>\n",
              "      <td>0.626761</td>\n",
              "      <td>0.000000</td>\n",
              "      <td>15</td>\n",
              "    </tr>\n",
              "  </tbody>\n",
              "</table>\n",
              "</div>\n",
              "      <button class=\"colab-df-convert\" onclick=\"convertToInteractive('df-8a2523c1-b1cf-409d-b1fc-4ee1ec48f3cd')\"\n",
              "              title=\"Convert this dataframe to an interactive table.\"\n",
              "              style=\"display:none;\">\n",
              "        \n",
              "  <svg xmlns=\"http://www.w3.org/2000/svg\" height=\"24px\"viewBox=\"0 0 24 24\"\n",
              "       width=\"24px\">\n",
              "    <path d=\"M0 0h24v24H0V0z\" fill=\"none\"/>\n",
              "    <path d=\"M18.56 5.44l.94 2.06.94-2.06 2.06-.94-2.06-.94-.94-2.06-.94 2.06-2.06.94zm-11 1L8.5 8.5l.94-2.06 2.06-.94-2.06-.94L8.5 2.5l-.94 2.06-2.06.94zm10 10l.94 2.06.94-2.06 2.06-.94-2.06-.94-.94-2.06-.94 2.06-2.06.94z\"/><path d=\"M17.41 7.96l-1.37-1.37c-.4-.4-.92-.59-1.43-.59-.52 0-1.04.2-1.43.59L10.3 9.45l-7.72 7.72c-.78.78-.78 2.05 0 2.83L4 21.41c.39.39.9.59 1.41.59.51 0 1.02-.2 1.41-.59l7.78-7.78 2.81-2.81c.8-.78.8-2.07 0-2.86zM5.41 20L4 18.59l7.72-7.72 1.47 1.35L5.41 20z\"/>\n",
              "  </svg>\n",
              "      </button>\n",
              "      \n",
              "  <style>\n",
              "    .colab-df-container {\n",
              "      display:flex;\n",
              "      flex-wrap:wrap;\n",
              "      gap: 12px;\n",
              "    }\n",
              "\n",
              "    .colab-df-convert {\n",
              "      background-color: #E8F0FE;\n",
              "      border: none;\n",
              "      border-radius: 50%;\n",
              "      cursor: pointer;\n",
              "      display: none;\n",
              "      fill: #1967D2;\n",
              "      height: 32px;\n",
              "      padding: 0 0 0 0;\n",
              "      width: 32px;\n",
              "    }\n",
              "\n",
              "    .colab-df-convert:hover {\n",
              "      background-color: #E2EBFA;\n",
              "      box-shadow: 0px 1px 2px rgba(60, 64, 67, 0.3), 0px 1px 3px 1px rgba(60, 64, 67, 0.15);\n",
              "      fill: #174EA6;\n",
              "    }\n",
              "\n",
              "    [theme=dark] .colab-df-convert {\n",
              "      background-color: #3B4455;\n",
              "      fill: #D2E3FC;\n",
              "    }\n",
              "\n",
              "    [theme=dark] .colab-df-convert:hover {\n",
              "      background-color: #434B5C;\n",
              "      box-shadow: 0px 1px 3px 1px rgba(0, 0, 0, 0.15);\n",
              "      filter: drop-shadow(0px 1px 2px rgba(0, 0, 0, 0.3));\n",
              "      fill: #FFFFFF;\n",
              "    }\n",
              "  </style>\n",
              "\n",
              "      <script>\n",
              "        const buttonEl =\n",
              "          document.querySelector('#df-8a2523c1-b1cf-409d-b1fc-4ee1ec48f3cd button.colab-df-convert');\n",
              "        buttonEl.style.display =\n",
              "          google.colab.kernel.accessAllowed ? 'block' : 'none';\n",
              "\n",
              "        async function convertToInteractive(key) {\n",
              "          const element = document.querySelector('#df-8a2523c1-b1cf-409d-b1fc-4ee1ec48f3cd');\n",
              "          const dataTable =\n",
              "            await google.colab.kernel.invokeFunction('convertToInteractive',\n",
              "                                                     [key], {});\n",
              "          if (!dataTable) return;\n",
              "\n",
              "          const docLinkHtml = 'Like what you see? Visit the ' +\n",
              "            '<a target=\"_blank\" href=https://colab.research.google.com/notebooks/data_table.ipynb>data table notebook</a>'\n",
              "            + ' to learn more about interactive tables.';\n",
              "          element.innerHTML = '';\n",
              "          dataTable['output_type'] = 'display_data';\n",
              "          await google.colab.output.renderOutput(dataTable, element);\n",
              "          const docLink = document.createElement('div');\n",
              "          docLink.innerHTML = docLinkHtml;\n",
              "          element.appendChild(docLink);\n",
              "        }\n",
              "      </script>\n",
              "    </div>\n",
              "  </div>\n",
              "  "
            ]
          },
          "metadata": {},
          "execution_count": 130
        }
      ],
      "source": [
        "import pandas as pd\n",
        "\n",
        "pd.DataFrame(grid_search.cv_results_).sort_values('rank_test_score')"
      ]
    },
    {
      "cell_type": "code",
      "execution_count": 131,
      "metadata": {
        "colab": {
          "base_uri": "https://localhost:8080/"
        },
        "id": "mmHIlhDpMYqy",
        "outputId": "7c550bea-9906-4186-ad79-f072bdeb270e"
      },
      "outputs": [
        {
          "output_type": "execute_result",
          "data": {
            "text/plain": [
              "{'svc__C': 10, 'svc__gamma': 0.01}"
            ]
          },
          "metadata": {},
          "execution_count": 131
        }
      ],
      "source": [
        "grid_search.best_params_"
      ]
    },
    {
      "cell_type": "code",
      "execution_count": 132,
      "metadata": {
        "colab": {
          "base_uri": "https://localhost:8080/"
        },
        "id": "AWqgHrDNMYsk",
        "outputId": "f1475ae2-bf40-475d-ef8f-710f6616f7a2"
      },
      "outputs": [
        {
          "output_type": "execute_result",
          "data": {
            "text/plain": [
              "(0.9953051643192489, 0.972027972027972)"
            ]
          },
          "metadata": {},
          "execution_count": 132
        }
      ],
      "source": [
        "pred_train = grid_search.predict(X_train)\n",
        "pred_test = grid_search.predict(X_test)\n",
        "\n",
        "accuracy_score(y_train, pred_train), accuracy_score(y_test, pred_test)"
      ]
    },
    {
      "cell_type": "code",
      "execution_count": 133,
      "metadata": {
        "id": "WlvJoknpMYuZ"
      },
      "outputs": [],
      "source": [
        "from sklearn.pipeline import make_pipeline"
      ]
    },
    {
      "cell_type": "code",
      "execution_count": 134,
      "metadata": {
        "colab": {
          "base_uri": "https://localhost:8080/"
        },
        "id": "enOhXKEMMYwA",
        "outputId": "883c51f6-5b29-4e75-aa6a-c6b89032bc39"
      },
      "outputs": [
        {
          "output_type": "execute_result",
          "data": {
            "text/plain": [
              "[('standardscaler', StandardScaler()), ('svc', SVC())]"
            ]
          },
          "metadata": {},
          "execution_count": 134
        }
      ],
      "source": [
        "pipeline2 = make_pipeline(StandardScaler(), SVC())\n",
        "pipeline2.steps"
      ]
    },
    {
      "cell_type": "code",
      "execution_count": 135,
      "metadata": {
        "colab": {
          "base_uri": "https://localhost:8080/"
        },
        "id": "uhWy_WWCMYx_",
        "outputId": "bcc94daa-5731-4122-85c3-d5854e6c2e49"
      },
      "outputs": [
        {
          "output_type": "execute_result",
          "data": {
            "text/plain": [
              "Pipeline(steps=[('standardscaler', StandardScaler()), ('svc', SVC())])"
            ]
          },
          "metadata": {},
          "execution_count": 135
        }
      ],
      "source": [
        "pipeline2.fit(X_train, y_train)"
      ]
    },
    {
      "cell_type": "code",
      "execution_count": 136,
      "metadata": {
        "colab": {
          "base_uri": "https://localhost:8080/"
        },
        "id": "DXqG5RWXMYz5",
        "outputId": "40530dec-54a2-4ac3-c23f-1df34c2d65c6"
      },
      "outputs": [
        {
          "output_type": "execute_result",
          "data": {
            "text/plain": [
              "0.9790209790209791"
            ]
          },
          "metadata": {},
          "execution_count": 136
        }
      ],
      "source": [
        "accuracy_score(y_test, pipeline.predict(X_test))"
      ]
    },
    {
      "cell_type": "code",
      "execution_count": 137,
      "metadata": {
        "id": "hh6CJBMYWtZe"
      },
      "outputs": [],
      "source": [
        "# 02/24"
      ]
    },
    {
      "cell_type": "code",
      "execution_count": 138,
      "metadata": {
        "id": "t5yZf8UrC2uk"
      },
      "outputs": [],
      "source": [
        "import numpy as np\n",
        "import pandas as pd\n",
        "import matplotlib.pyplot as plt\n",
        "\n",
        "from sklearn.datasets import load_breast_cancer\n",
        "from sklearn.model_selection import train_test_split\n",
        "from sklearn.preprocessing import StandardScaler\n",
        "from sklearn.neighbors import KNeighborsClassifier\n",
        "from sklearn.metrics import accuracy_score, classification_report"
      ]
    },
    {
      "cell_type": "code",
      "execution_count": 139,
      "metadata": {
        "id": "bTLwQguJC5Qd"
      },
      "outputs": [],
      "source": [
        "X, y = load_breast_cancer(return_X_y = True)\n",
        "X_train, X_test, y_train, y_test = train_test_split(X, y, stratify=y, random_state=1)"
      ]
    },
    {
      "cell_type": "code",
      "execution_count": 140,
      "metadata": {
        "id": "84RgLFGEGRof"
      },
      "outputs": [],
      "source": [
        "scaler = StandardScaler()\n",
        "X_train_scaled = scaler.fit_transform(X_train)\n",
        "X_test_scaled = scaler.fit_transform(X_test)"
      ]
    },
    {
      "cell_type": "code",
      "execution_count": 141,
      "metadata": {
        "id": "S_rUNFVpGRrK"
      },
      "outputs": [],
      "source": [
        "k_list = range(1,21)\n",
        "train_acc_list = []\n",
        "test_acc_list = []\n",
        "\n",
        "for k in k_list:\n",
        "  knn = KNeighborsClassifier(n_neighbors=k)\n",
        "  knn.fit(X_train_scaled, y_train)\n",
        "\n",
        "  pred_train = knn.predict(X_train_scaled)\n",
        "  pred_test = knn.predict(X_test_scaled)\n",
        "\n",
        "  train_acc_list.append(accuracy_score(y_train, pred_train))\n",
        "  test_acc_list.append(accuracy_score(y_test, pred_test))"
      ]
    },
    {
      "cell_type": "code",
      "execution_count": 142,
      "metadata": {
        "colab": {
          "base_uri": "https://localhost:8080/",
          "height": 669
        },
        "id": "HUVgfmmyIbCO",
        "outputId": "96fee7f8-627d-4edf-cb36-b8da526d2cc8"
      },
      "outputs": [
        {
          "output_type": "execute_result",
          "data": {
            "text/plain": [
              "     K     Train      Test\n",
              "0    1  1.000000  0.972028\n",
              "1    2  0.981221  0.958042\n",
              "2    3  0.981221  0.979021\n",
              "3    4  0.985915  0.979021\n",
              "4    5  0.981221  0.972028\n",
              "5    6  0.981221  0.965035\n",
              "6    7  0.974178  0.972028\n",
              "7    8  0.974178  0.965035\n",
              "8    9  0.974178  0.965035\n",
              "9   10  0.974178  0.958042\n",
              "10  11  0.974178  0.965035\n",
              "11  12  0.974178  0.965035\n",
              "12  13  0.976526  0.958042\n",
              "13  14  0.974178  0.958042\n",
              "14  15  0.962441  0.965035\n",
              "15  16  0.967136  0.958042\n",
              "16  17  0.962441  0.965035\n",
              "17  18  0.967136  0.965035\n",
              "18  19  0.960094  0.965035\n",
              "19  20  0.957746  0.965035"
            ],
            "text/html": [
              "\n",
              "  <div id=\"df-7ea8fbdf-f73d-4917-a141-743abd8e5c49\">\n",
              "    <div class=\"colab-df-container\">\n",
              "      <div>\n",
              "<style scoped>\n",
              "    .dataframe tbody tr th:only-of-type {\n",
              "        vertical-align: middle;\n",
              "    }\n",
              "\n",
              "    .dataframe tbody tr th {\n",
              "        vertical-align: top;\n",
              "    }\n",
              "\n",
              "    .dataframe thead th {\n",
              "        text-align: right;\n",
              "    }\n",
              "</style>\n",
              "<table border=\"1\" class=\"dataframe\">\n",
              "  <thead>\n",
              "    <tr style=\"text-align: right;\">\n",
              "      <th></th>\n",
              "      <th>K</th>\n",
              "      <th>Train</th>\n",
              "      <th>Test</th>\n",
              "    </tr>\n",
              "  </thead>\n",
              "  <tbody>\n",
              "    <tr>\n",
              "      <th>0</th>\n",
              "      <td>1</td>\n",
              "      <td>1.000000</td>\n",
              "      <td>0.972028</td>\n",
              "    </tr>\n",
              "    <tr>\n",
              "      <th>1</th>\n",
              "      <td>2</td>\n",
              "      <td>0.981221</td>\n",
              "      <td>0.958042</td>\n",
              "    </tr>\n",
              "    <tr>\n",
              "      <th>2</th>\n",
              "      <td>3</td>\n",
              "      <td>0.981221</td>\n",
              "      <td>0.979021</td>\n",
              "    </tr>\n",
              "    <tr>\n",
              "      <th>3</th>\n",
              "      <td>4</td>\n",
              "      <td>0.985915</td>\n",
              "      <td>0.979021</td>\n",
              "    </tr>\n",
              "    <tr>\n",
              "      <th>4</th>\n",
              "      <td>5</td>\n",
              "      <td>0.981221</td>\n",
              "      <td>0.972028</td>\n",
              "    </tr>\n",
              "    <tr>\n",
              "      <th>5</th>\n",
              "      <td>6</td>\n",
              "      <td>0.981221</td>\n",
              "      <td>0.965035</td>\n",
              "    </tr>\n",
              "    <tr>\n",
              "      <th>6</th>\n",
              "      <td>7</td>\n",
              "      <td>0.974178</td>\n",
              "      <td>0.972028</td>\n",
              "    </tr>\n",
              "    <tr>\n",
              "      <th>7</th>\n",
              "      <td>8</td>\n",
              "      <td>0.974178</td>\n",
              "      <td>0.965035</td>\n",
              "    </tr>\n",
              "    <tr>\n",
              "      <th>8</th>\n",
              "      <td>9</td>\n",
              "      <td>0.974178</td>\n",
              "      <td>0.965035</td>\n",
              "    </tr>\n",
              "    <tr>\n",
              "      <th>9</th>\n",
              "      <td>10</td>\n",
              "      <td>0.974178</td>\n",
              "      <td>0.958042</td>\n",
              "    </tr>\n",
              "    <tr>\n",
              "      <th>10</th>\n",
              "      <td>11</td>\n",
              "      <td>0.974178</td>\n",
              "      <td>0.965035</td>\n",
              "    </tr>\n",
              "    <tr>\n",
              "      <th>11</th>\n",
              "      <td>12</td>\n",
              "      <td>0.974178</td>\n",
              "      <td>0.965035</td>\n",
              "    </tr>\n",
              "    <tr>\n",
              "      <th>12</th>\n",
              "      <td>13</td>\n",
              "      <td>0.976526</td>\n",
              "      <td>0.958042</td>\n",
              "    </tr>\n",
              "    <tr>\n",
              "      <th>13</th>\n",
              "      <td>14</td>\n",
              "      <td>0.974178</td>\n",
              "      <td>0.958042</td>\n",
              "    </tr>\n",
              "    <tr>\n",
              "      <th>14</th>\n",
              "      <td>15</td>\n",
              "      <td>0.962441</td>\n",
              "      <td>0.965035</td>\n",
              "    </tr>\n",
              "    <tr>\n",
              "      <th>15</th>\n",
              "      <td>16</td>\n",
              "      <td>0.967136</td>\n",
              "      <td>0.958042</td>\n",
              "    </tr>\n",
              "    <tr>\n",
              "      <th>16</th>\n",
              "      <td>17</td>\n",
              "      <td>0.962441</td>\n",
              "      <td>0.965035</td>\n",
              "    </tr>\n",
              "    <tr>\n",
              "      <th>17</th>\n",
              "      <td>18</td>\n",
              "      <td>0.967136</td>\n",
              "      <td>0.965035</td>\n",
              "    </tr>\n",
              "    <tr>\n",
              "      <th>18</th>\n",
              "      <td>19</td>\n",
              "      <td>0.960094</td>\n",
              "      <td>0.965035</td>\n",
              "    </tr>\n",
              "    <tr>\n",
              "      <th>19</th>\n",
              "      <td>20</td>\n",
              "      <td>0.957746</td>\n",
              "      <td>0.965035</td>\n",
              "    </tr>\n",
              "  </tbody>\n",
              "</table>\n",
              "</div>\n",
              "      <button class=\"colab-df-convert\" onclick=\"convertToInteractive('df-7ea8fbdf-f73d-4917-a141-743abd8e5c49')\"\n",
              "              title=\"Convert this dataframe to an interactive table.\"\n",
              "              style=\"display:none;\">\n",
              "        \n",
              "  <svg xmlns=\"http://www.w3.org/2000/svg\" height=\"24px\"viewBox=\"0 0 24 24\"\n",
              "       width=\"24px\">\n",
              "    <path d=\"M0 0h24v24H0V0z\" fill=\"none\"/>\n",
              "    <path d=\"M18.56 5.44l.94 2.06.94-2.06 2.06-.94-2.06-.94-.94-2.06-.94 2.06-2.06.94zm-11 1L8.5 8.5l.94-2.06 2.06-.94-2.06-.94L8.5 2.5l-.94 2.06-2.06.94zm10 10l.94 2.06.94-2.06 2.06-.94-2.06-.94-.94-2.06-.94 2.06-2.06.94z\"/><path d=\"M17.41 7.96l-1.37-1.37c-.4-.4-.92-.59-1.43-.59-.52 0-1.04.2-1.43.59L10.3 9.45l-7.72 7.72c-.78.78-.78 2.05 0 2.83L4 21.41c.39.39.9.59 1.41.59.51 0 1.02-.2 1.41-.59l7.78-7.78 2.81-2.81c.8-.78.8-2.07 0-2.86zM5.41 20L4 18.59l7.72-7.72 1.47 1.35L5.41 20z\"/>\n",
              "  </svg>\n",
              "      </button>\n",
              "      \n",
              "  <style>\n",
              "    .colab-df-container {\n",
              "      display:flex;\n",
              "      flex-wrap:wrap;\n",
              "      gap: 12px;\n",
              "    }\n",
              "\n",
              "    .colab-df-convert {\n",
              "      background-color: #E8F0FE;\n",
              "      border: none;\n",
              "      border-radius: 50%;\n",
              "      cursor: pointer;\n",
              "      display: none;\n",
              "      fill: #1967D2;\n",
              "      height: 32px;\n",
              "      padding: 0 0 0 0;\n",
              "      width: 32px;\n",
              "    }\n",
              "\n",
              "    .colab-df-convert:hover {\n",
              "      background-color: #E2EBFA;\n",
              "      box-shadow: 0px 1px 2px rgba(60, 64, 67, 0.3), 0px 1px 3px 1px rgba(60, 64, 67, 0.15);\n",
              "      fill: #174EA6;\n",
              "    }\n",
              "\n",
              "    [theme=dark] .colab-df-convert {\n",
              "      background-color: #3B4455;\n",
              "      fill: #D2E3FC;\n",
              "    }\n",
              "\n",
              "    [theme=dark] .colab-df-convert:hover {\n",
              "      background-color: #434B5C;\n",
              "      box-shadow: 0px 1px 3px 1px rgba(0, 0, 0, 0.15);\n",
              "      filter: drop-shadow(0px 1px 2px rgba(0, 0, 0, 0.3));\n",
              "      fill: #FFFFFF;\n",
              "    }\n",
              "  </style>\n",
              "\n",
              "      <script>\n",
              "        const buttonEl =\n",
              "          document.querySelector('#df-7ea8fbdf-f73d-4917-a141-743abd8e5c49 button.colab-df-convert');\n",
              "        buttonEl.style.display =\n",
              "          google.colab.kernel.accessAllowed ? 'block' : 'none';\n",
              "\n",
              "        async function convertToInteractive(key) {\n",
              "          const element = document.querySelector('#df-7ea8fbdf-f73d-4917-a141-743abd8e5c49');\n",
              "          const dataTable =\n",
              "            await google.colab.kernel.invokeFunction('convertToInteractive',\n",
              "                                                     [key], {});\n",
              "          if (!dataTable) return;\n",
              "\n",
              "          const docLinkHtml = 'Like what you see? Visit the ' +\n",
              "            '<a target=\"_blank\" href=https://colab.research.google.com/notebooks/data_table.ipynb>data table notebook</a>'\n",
              "            + ' to learn more about interactive tables.';\n",
              "          element.innerHTML = '';\n",
              "          dataTable['output_type'] = 'display_data';\n",
              "          await google.colab.output.renderOutput(dataTable, element);\n",
              "          const docLink = document.createElement('div');\n",
              "          docLink.innerHTML = docLinkHtml;\n",
              "          element.appendChild(docLink);\n",
              "        }\n",
              "      </script>\n",
              "    </div>\n",
              "  </div>\n",
              "  "
            ]
          },
          "metadata": {},
          "execution_count": 142
        }
      ],
      "source": [
        "pd.DataFrame(dict(K=k_list,\n",
        "                  Train = train_acc_list,\n",
        "                  Test = test_acc_list))"
      ]
    },
    {
      "cell_type": "code",
      "execution_count": 143,
      "metadata": {
        "colab": {
          "base_uri": "https://localhost:8080/",
          "height": 428
        },
        "id": "pqxhLtwYGRtx",
        "outputId": "14e19299-5cee-48d1-c34d-fb6a3c08855f"
      },
      "outputs": [
        {
          "output_type": "display_data",
          "data": {
            "text/plain": [
              "<Figure size 720x504 with 1 Axes>"
            ],
            "image/png": "[encoded data removed]"
          },
          "metadata": {
            "needs_background": "light"
          }
        }
      ],
      "source": [
        "plt.figure(figsize=(10,7))\n",
        "plt.plot(k_list, train_acc_list, label=\"Train\")\n",
        "plt.plot(k_list, test_acc_list, label=\"Test\")\n",
        "plt.xticks(ticks=k_list)\n",
        "plt.legend()\n",
        "plt.show()"
      ]
    },
    {
      "cell_type": "code",
      "execution_count": 144,
      "metadata": {
        "id": "XvCCHf48KBQr"
      },
      "outputs": [],
      "source": [
        "import numpy as np\n",
        "import pandas as pd\n",
        "\n",
        "from sklearn.datasets import load_breast_cancer\n",
        "from sklearn.model_selection import train_test_split, GridSearchCV\n",
        "from sklearn.preprocessing import StandardScaler\n",
        "from sklearn.svm import SVC\n",
        "from sklearn.metrics import accuracy_score"
      ]
    },
    {
      "cell_type": "code",
      "execution_count": 145,
      "metadata": {
        "id": "saClsECAKBOO"
      },
      "outputs": [],
      "source": [
        "X, y = load_breast_cancer(return_X_y = True)\n",
        "X_train, X_test, y_train, y_test = train_test_split(X, y, stratify=y, random_state=1)"
      ]
    },
    {
      "cell_type": "code",
      "execution_count": 146,
      "metadata": {
        "id": "BxE2Kp1jGRwc"
      },
      "outputs": [],
      "source": [
        "scaler = StandardScaler()\n",
        "X_train_scaled = scaler.fit_transform(X_train)\n",
        "X_test_scaled = scaler.fit_transform(X_test)"
      ]
    },
    {
      "cell_type": "code",
      "execution_count": 147,
      "metadata": {
        "colab": {
          "base_uri": "https://localhost:8080/"
        },
        "id": "n06Z8oPYGR1p",
        "outputId": "d48787ab-ef38-4a01-88bc-e129ebf9994c"
      },
      "outputs": [
        {
          "output_type": "execute_result",
          "data": {
            "text/plain": [
              "SVC(C=100, kernel='linear', random_state=1)"
            ]
          },
          "metadata": {},
          "execution_count": 147
        }
      ],
      "source": [
        "svc = SVC(kernel='linear',\n",
        "          C=100, # 높으면 과적합\n",
        "          random_state= 1)\n",
        "svc.fit(X_train_scaled, y_train)"
      ]
    },
    {
      "cell_type": "code",
      "execution_count": 148,
      "metadata": {
        "colab": {
          "base_uri": "https://localhost:8080/"
        },
        "id": "yObF5kEjGR3-",
        "outputId": "fbfb264f-9938-4d26-a1d8-4b596a88d12d"
      },
      "outputs": [
        {
          "output_type": "execute_result",
          "data": {
            "text/plain": [
              "(0.9953051643192489, 0.958041958041958)"
            ]
          },
          "metadata": {},
          "execution_count": 148
        }
      ],
      "source": [
        "pred_train = svc.predict(X_train_scaled)\n",
        "pred_test = svc.predict(X_test_scaled)\n",
        "\n",
        "accuracy_score(y_train, pred_train), accuracy_score(y_test, pred_test)"
      ]
    },
    {
      "cell_type": "code",
      "execution_count": 149,
      "metadata": {
        "colab": {
          "base_uri": "https://localhost:8080/"
        },
        "id": "dYPrdjIFGR8s",
        "outputId": "eb88d46c-6e0d-4a1d-8fb8-e5f2f6c6df4a"
      },
      "outputs": [
        {
          "output_type": "execute_result",
          "data": {
            "text/plain": [
              "(0.9953051643192489, 0.958041958041958)"
            ]
          },
          "metadata": {},
          "execution_count": 149
        }
      ],
      "source": [
        "pred_train = svc.predict(X_train_scaled)\n",
        "pred_test = svc.predict(X_test_scaled)\n",
        "\n",
        "accuracy_score(y_train, pred_train), accuracy_score(y_test, pred_test)"
      ]
    },
    {
      "cell_type": "code",
      "execution_count": 150,
      "metadata": {
        "colab": {
          "base_uri": "https://localhost:8080/"
        },
        "id": "yrlSIvmyC2yW",
        "outputId": "cd6db170-9bbe-4715-b2bc-86162ac71fb9"
      },
      "outputs": [
        {
          "output_type": "execute_result",
          "data": {
            "text/plain": [
              "(0.9953051643192489, 0.958041958041958)"
            ]
          },
          "metadata": {},
          "execution_count": 150
        }
      ],
      "source": [
        "pred_train = svc.predict(X_train_scaled)\n",
        "pred_test = svc.predict(X_test_scaled)\n",
        "\n",
        "accuracy_score(y_train, pred_train), accuracy_score(y_test, pred_test)"
      ]
    },
    {
      "cell_type": "code",
      "execution_count": 151,
      "metadata": {
        "id": "gIR9sk92C2z6"
      },
      "outputs": [],
      "source": [
        "rbf_svc = SVC(kernel='rbf',\n",
        "              C = 1,\n",
        "              gamma = 0.01,\n",
        "              probability=True,\n",
        "              random_state = 1)"
      ]
    },
    {
      "cell_type": "code",
      "execution_count": 152,
      "metadata": {
        "id": "FpcMTlk-C22i"
      },
      "outputs": [],
      "source": [
        "rbf_svc.fit(X_train_scaled, y_train)\n",
        "\n",
        "pred_train = rbf_svc.predict(X_train_scaled)\n",
        "pred_test = rbf_svc.predict(X_test_scaled)"
      ]
    },
    {
      "cell_type": "code",
      "execution_count": 153,
      "metadata": {
        "id": "vuVMlYaZC25G"
      },
      "outputs": [],
      "source": [
        "# 0303"
      ]
    },
    {
      "cell_type": "code",
      "execution_count": 154,
      "metadata": {
        "id": "R4Q0JgcNC28e"
      },
      "outputs": [],
      "source": [
        "import pandas as pd \n",
        "wine = pd.read_csv('sample_data/wine.csv')"
      ]
    },
    {
      "cell_type": "code",
      "execution_count": 155,
      "metadata": {
        "colab": {
          "base_uri": "https://localhost:8080/"
        },
        "id": "7YCdh-XtMY1-",
        "outputId": "cfd405d8-3797-4039-e13b-0445e5f9e3df"
      },
      "outputs": [
        {
          "output_type": "execute_result",
          "data": {
            "text/plain": [
              "(1599, 12)"
            ]
          },
          "metadata": {},
          "execution_count": 155
        }
      ],
      "source": [
        "wine.shape"
      ]
    },
    {
      "cell_type": "code",
      "execution_count": 156,
      "metadata": {
        "id": "8f3vFdU2MY3z",
        "colab": {
          "base_uri": "https://localhost:8080/"
        },
        "outputId": "15e3c6fb-c257-4e5d-b0b6-d000da243545"
      },
      "outputs": [
        {
          "output_type": "stream",
          "name": "stdout",
          "text": [
            "<class 'pandas.core.frame.DataFrame'>\n",
            "RangeIndex: 1599 entries, 0 to 1598\n",
            "Data columns (total 12 columns):\n",
            " #   Column                Non-Null Count  Dtype  \n",
            "---  ------                --------------  -----  \n",
            " 0   fixed acidity         1599 non-null   float64\n",
            " 1   volatile acidity      1599 non-null   float64\n",
            " 2   citric acid           1599 non-null   float64\n",
            " 3   residual sugar        1599 non-null   float64\n",
            " 4   chlorides             1599 non-null   float64\n",
            " 5   free sulfur dioxide   1599 non-null   float64\n",
            " 6   total sulfur dioxide  1599 non-null   float64\n",
            " 7   density               1599 non-null   float64\n",
            " 8   pH                    1599 non-null   float64\n",
            " 9   sulphates             1599 non-null   float64\n",
            " 10  alcohol               1599 non-null   float64\n",
            " 11  quality               1599 non-null   int64  \n",
            "dtypes: float64(11), int64(1)\n",
            "memory usage: 150.0 KB\n"
          ]
        }
      ],
      "source": [
        "wine.info()"
      ]
    },
    {
      "cell_type": "code",
      "execution_count": 157,
      "metadata": {
        "id": "0pl5LNelMY6G",
        "colab": {
          "base_uri": "https://localhost:8080/",
          "height": 302
        },
        "outputId": "fd43d664-725e-42dc-a3c1-8f72ad2f5552"
      },
      "outputs": [
        {
          "output_type": "execute_result",
          "data": {
            "text/plain": [
              "   fixed acidity  volatile acidity  citric acid  residual sugar  chlorides  \\\n",
              "0            7.4              0.70         0.00             1.9      0.076   \n",
              "1            7.8              0.88         0.00             2.6      0.098   \n",
              "2            7.8              0.76         0.04             2.3      0.092   \n",
              "3           11.2              0.28         0.56             1.9      0.075   \n",
              "4            7.4              0.70         0.00             1.9      0.076   \n",
              "\n",
              "   free sulfur dioxide  total sulfur dioxide  density    pH  sulphates  \\\n",
              "0                 11.0                  34.0   0.9978  3.51       0.56   \n",
              "1                 25.0                  67.0   0.9968  3.20       0.68   \n",
              "2                 15.0                  54.0   0.9970  3.26       0.65   \n",
              "3                 17.0                  60.0   0.9980  3.16       0.58   \n",
              "4                 11.0                  34.0   0.9978  3.51       0.56   \n",
              "\n",
              "   alcohol  quality  \n",
              "0      9.4        5  \n",
              "1      9.8        5  \n",
              "2      9.8        5  \n",
              "3      9.8        6  \n",
              "4      9.4        5  "
            ],
            "text/html": [
              "\n",
              "  <div id=\"df-4437d810-8fc1-46be-9280-640a44296485\">\n",
              "    <div class=\"colab-df-container\">\n",
              "      <div>\n",
              "<style scoped>\n",
              "    .dataframe tbody tr th:only-of-type {\n",
              "        vertical-align: middle;\n",
              "    }\n",
              "\n",
              "    .dataframe tbody tr th {\n",
              "        vertical-align: top;\n",
              "    }\n",
              "\n",
              "    .dataframe thead th {\n",
              "        text-align: right;\n",
              "    }\n",
              "</style>\n",
              "<table border=\"1\" class=\"dataframe\">\n",
              "  <thead>\n",
              "    <tr style=\"text-align: right;\">\n",
              "      <th></th>\n",
              "      <th>fixed acidity</th>\n",
              "      <th>volatile acidity</th>\n",
              "      <th>citric acid</th>\n",
              "      <th>residual sugar</th>\n",
              "      <th>chlorides</th>\n",
              "      <th>free sulfur dioxide</th>\n",
              "      <th>total sulfur dioxide</th>\n",
              "      <th>density</th>\n",
              "      <th>pH</th>\n",
              "      <th>sulphates</th>\n",
              "      <th>alcohol</th>\n",
              "      <th>quality</th>\n",
              "    </tr>\n",
              "  </thead>\n",
              "  <tbody>\n",
              "    <tr>\n",
              "      <th>0</th>\n",
              "      <td>7.4</td>\n",
              "      <td>0.70</td>\n",
              "      <td>0.00</td>\n",
              "      <td>1.9</td>\n",
              "      <td>0.076</td>\n",
              "      <td>11.0</td>\n",
              "      <td>34.0</td>\n",
              "      <td>0.9978</td>\n",
              "      <td>3.51</td>\n",
              "      <td>0.56</td>\n",
              "      <td>9.4</td>\n",
              "      <td>5</td>\n",
              "    </tr>\n",
              "    <tr>\n",
              "      <th>1</th>\n",
              "      <td>7.8</td>\n",
              "      <td>0.88</td>\n",
              "      <td>0.00</td>\n",
              "      <td>2.6</td>\n",
              "      <td>0.098</td>\n",
              "      <td>25.0</td>\n",
              "      <td>67.0</td>\n",
              "      <td>0.9968</td>\n",
              "      <td>3.20</td>\n",
              "      <td>0.68</td>\n",
              "      <td>9.8</td>\n",
              "      <td>5</td>\n",
              "    </tr>\n",
              "    <tr>\n",
              "      <th>2</th>\n",
              "      <td>7.8</td>\n",
              "      <td>0.76</td>\n",
              "      <td>0.04</td>\n",
              "      <td>2.3</td>\n",
              "      <td>0.092</td>\n",
              "      <td>15.0</td>\n",
              "      <td>54.0</td>\n",
              "      <td>0.9970</td>\n",
              "      <td>3.26</td>\n",
              "      <td>0.65</td>\n",
              "      <td>9.8</td>\n",
              "      <td>5</td>\n",
              "    </tr>\n",
              "    <tr>\n",
              "      <th>3</th>\n",
              "      <td>11.2</td>\n",
              "      <td>0.28</td>\n",
              "      <td>0.56</td>\n",
              "      <td>1.9</td>\n",
              "      <td>0.075</td>\n",
              "      <td>17.0</td>\n",
              "      <td>60.0</td>\n",
              "      <td>0.9980</td>\n",
              "      <td>3.16</td>\n",
              "      <td>0.58</td>\n",
              "      <td>9.8</td>\n",
              "      <td>6</td>\n",
              "    </tr>\n",
              "    <tr>\n",
              "      <th>4</th>\n",
              "      <td>7.4</td>\n",
              "      <td>0.70</td>\n",
              "      <td>0.00</td>\n",
              "      <td>1.9</td>\n",
              "      <td>0.076</td>\n",
              "      <td>11.0</td>\n",
              "      <td>34.0</td>\n",
              "      <td>0.9978</td>\n",
              "      <td>3.51</td>\n",
              "      <td>0.56</td>\n",
              "      <td>9.4</td>\n",
              "      <td>5</td>\n",
              "    </tr>\n",
              "  </tbody>\n",
              "</table>\n",
              "</div>\n",
              "      <button class=\"colab-df-convert\" onclick=\"convertToInteractive('df-4437d810-8fc1-46be-9280-640a44296485')\"\n",
              "              title=\"Convert this dataframe to an interactive table.\"\n",
              "              style=\"display:none;\">\n",
              "        \n",
              "  <svg xmlns=\"http://www.w3.org/2000/svg\" height=\"24px\"viewBox=\"0 0 24 24\"\n",
              "       width=\"24px\">\n",
              "    <path d=\"M0 0h24v24H0V0z\" fill=\"none\"/>\n",
              "    <path d=\"M18.56 5.44l.94 2.06.94-2.06 2.06-.94-2.06-.94-.94-2.06-.94 2.06-2.06.94zm-11 1L8.5 8.5l.94-2.06 2.06-.94-2.06-.94L8.5 2.5l-.94 2.06-2.06.94zm10 10l.94 2.06.94-2.06 2.06-.94-2.06-.94-.94-2.06-.94 2.06-2.06.94z\"/><path d=\"M17.41 7.96l-1.37-1.37c-.4-.4-.92-.59-1.43-.59-.52 0-1.04.2-1.43.59L10.3 9.45l-7.72 7.72c-.78.78-.78 2.05 0 2.83L4 21.41c.39.39.9.59 1.41.59.51 0 1.02-.2 1.41-.59l7.78-7.78 2.81-2.81c.8-.78.8-2.07 0-2.86zM5.41 20L4 18.59l7.72-7.72 1.47 1.35L5.41 20z\"/>\n",
              "  </svg>\n",
              "      </button>\n",
              "      \n",
              "  <style>\n",
              "    .colab-df-container {\n",
              "      display:flex;\n",
              "      flex-wrap:wrap;\n",
              "      gap: 12px;\n",
              "    }\n",
              "\n",
              "    .colab-df-convert {\n",
              "      background-color: #E8F0FE;\n",
              "      border: none;\n",
              "      border-radius: 50%;\n",
              "      cursor: pointer;\n",
              "      display: none;\n",
              "      fill: #1967D2;\n",
              "      height: 32px;\n",
              "      padding: 0 0 0 0;\n",
              "      width: 32px;\n",
              "    }\n",
              "\n",
              "    .colab-df-convert:hover {\n",
              "      background-color: #E2EBFA;\n",
              "      box-shadow: 0px 1px 2px rgba(60, 64, 67, 0.3), 0px 1px 3px 1px rgba(60, 64, 67, 0.15);\n",
              "      fill: #174EA6;\n",
              "    }\n",
              "\n",
              "    [theme=dark] .colab-df-convert {\n",
              "      background-color: #3B4455;\n",
              "      fill: #D2E3FC;\n",
              "    }\n",
              "\n",
              "    [theme=dark] .colab-df-convert:hover {\n",
              "      background-color: #434B5C;\n",
              "      box-shadow: 0px 1px 3px 1px rgba(0, 0, 0, 0.15);\n",
              "      filter: drop-shadow(0px 1px 2px rgba(0, 0, 0, 0.3));\n",
              "      fill: #FFFFFF;\n",
              "    }\n",
              "  </style>\n",
              "\n",
              "      <script>\n",
              "        const buttonEl =\n",
              "          document.querySelector('#df-4437d810-8fc1-46be-9280-640a44296485 button.colab-df-convert');\n",
              "        buttonEl.style.display =\n",
              "          google.colab.kernel.accessAllowed ? 'block' : 'none';\n",
              "\n",
              "        async function convertToInteractive(key) {\n",
              "          const element = document.querySelector('#df-4437d810-8fc1-46be-9280-640a44296485');\n",
              "          const dataTable =\n",
              "            await google.colab.kernel.invokeFunction('convertToInteractive',\n",
              "                                                     [key], {});\n",
              "          if (!dataTable) return;\n",
              "\n",
              "          const docLinkHtml = 'Like what you see? Visit the ' +\n",
              "            '<a target=\"_blank\" href=https://colab.research.google.com/notebooks/data_table.ipynb>data table notebook</a>'\n",
              "            + ' to learn more about interactive tables.';\n",
              "          element.innerHTML = '';\n",
              "          dataTable['output_type'] = 'display_data';\n",
              "          await google.colab.output.renderOutput(dataTable, element);\n",
              "          const docLink = document.createElement('div');\n",
              "          docLink.innerHTML = docLinkHtml;\n",
              "          element.appendChild(docLink);\n",
              "        }\n",
              "      </script>\n",
              "    </div>\n",
              "  </div>\n",
              "  "
            ]
          },
          "metadata": {},
          "execution_count": 157
        }
      ],
      "source": [
        "wine.head()"
      ]
    },
    {
      "cell_type": "code",
      "execution_count": 158,
      "metadata": {
        "id": "DVO8LR-iMY8J",
        "colab": {
          "base_uri": "https://localhost:8080/",
          "height": 528
        },
        "outputId": "42d35b1a-5030-4b44-edd9-3803374b4071"
      },
      "outputs": [
        {
          "output_type": "error",
          "ename": "KeyError",
          "evalue": "ignored",
          "traceback": [
            "\u001b[0;31m---------------------------------------------------------------------------\u001b[0m",
            "\u001b[0;31mKeyError\u001b[0m                                  Traceback (most recent call last)",
            "\u001b[0;32m/usr/local/lib/python3.8/dist-packages/pandas/core/indexes/base.py\u001b[0m in \u001b[0;36mget_loc\u001b[0;34m(self, key, method, tolerance)\u001b[0m\n\u001b[1;32m   3360\u001b[0m             \u001b[0;32mtry\u001b[0m\u001b[0;34m:\u001b[0m\u001b[0;34m\u001b[0m\u001b[0;34m\u001b[0m\u001b[0m\n\u001b[0;32m-> 3361\u001b[0;31m                 \u001b[0;32mreturn\u001b[0m \u001b[0mself\u001b[0m\u001b[0;34m.\u001b[0m\u001b[0m_engine\u001b[0m\u001b[0;34m.\u001b[0m\u001b[0mget_loc\u001b[0m\u001b[0;34m(\u001b[0m\u001b[0mcasted_key\u001b[0m\u001b[0;34m)\u001b[0m\u001b[0;34m\u001b[0m\u001b[0;34m\u001b[0m\u001b[0m\n\u001b[0m\u001b[1;32m   3362\u001b[0m             \u001b[0;32mexcept\u001b[0m \u001b[0mKeyError\u001b[0m \u001b[0;32mas\u001b[0m \u001b[0merr\u001b[0m\u001b[0;34m:\u001b[0m\u001b[0;34m\u001b[0m\u001b[0;34m\u001b[0m\u001b[0m\n",
            "\u001b[0;32m/usr/local/lib/python3.8/dist-packages/pandas/_libs/index.pyx\u001b[0m in \u001b[0;36mpandas._libs.index.IndexEngine.get_loc\u001b[0;34m()\u001b[0m\n",
            "\u001b[0;32m/usr/local/lib/python3.8/dist-packages/pandas/_libs/index.pyx\u001b[0m in \u001b[0;36mpandas._libs.index.IndexEngine.get_loc\u001b[0;34m()\u001b[0m\n",
            "\u001b[0;32mpandas/_libs/hashtable_class_helper.pxi\u001b[0m in \u001b[0;36mpandas._libs.hashtable.PyObjectHashTable.get_item\u001b[0;34m()\u001b[0m\n",
            "\u001b[0;32mpandas/_libs/hashtable_class_helper.pxi\u001b[0m in \u001b[0;36mpandas._libs.hashtable.PyObjectHashTable.get_item\u001b[0;34m()\u001b[0m\n",
            "\u001b[0;31mKeyError\u001b[0m: 'color'",
            "\nThe above exception was the direct cause of the following exception:\n",
            "\u001b[0;31mKeyError\u001b[0m                                  Traceback (most recent call last)",
            "\u001b[0;32m<ipython-input-158-a1bb934de9e3>\u001b[0m in \u001b[0;36m<module>\u001b[0;34m\u001b[0m\n\u001b[0;32m----> 1\u001b[0;31m \u001b[0mwine\u001b[0m\u001b[0;34m[\u001b[0m\u001b[0;34m'color'\u001b[0m\u001b[0;34m]\u001b[0m\u001b[0;34m.\u001b[0m\u001b[0mvalue_counts\u001b[0m\u001b[0;34m(\u001b[0m\u001b[0;34m)\u001b[0m\u001b[0;34m\u001b[0m\u001b[0;34m\u001b[0m\u001b[0m\n\u001b[0m",
            "\u001b[0;32m/usr/local/lib/python3.8/dist-packages/pandas/core/frame.py\u001b[0m in \u001b[0;36m__getitem__\u001b[0;34m(self, key)\u001b[0m\n\u001b[1;32m   3456\u001b[0m             \u001b[0;32mif\u001b[0m \u001b[0mself\u001b[0m\u001b[0;34m.\u001b[0m\u001b[0mcolumns\u001b[0m\u001b[0;34m.\u001b[0m\u001b[0mnlevels\u001b[0m \u001b[0;34m>\u001b[0m \u001b[0;36m1\u001b[0m\u001b[0;34m:\u001b[0m\u001b[0;34m\u001b[0m\u001b[0;34m\u001b[0m\u001b[0m\n\u001b[1;32m   3457\u001b[0m                 \u001b[0;32mreturn\u001b[0m \u001b[0mself\u001b[0m\u001b[0;34m.\u001b[0m\u001b[0m_getitem_multilevel\u001b[0m\u001b[0;34m(\u001b[0m\u001b[0mkey\u001b[0m\u001b[0;34m)\u001b[0m\u001b[0;34m\u001b[0m\u001b[0;34m\u001b[0m\u001b[0m\n\u001b[0;32m-> 3458\u001b[0;31m             \u001b[0mindexer\u001b[0m \u001b[0;34m=\u001b[0m \u001b[0mself\u001b[0m\u001b[0;34m.\u001b[0m\u001b[0mcolumns\u001b[0m\u001b[0;34m.\u001b[0m\u001b[0mget_loc\u001b[0m\u001b[0;34m(\u001b[0m\u001b[0mkey\u001b[0m\u001b[0;34m)\u001b[0m\u001b[0;34m\u001b[0m\u001b[0;34m\u001b[0m\u001b[0m\n\u001b[0m\u001b[1;32m   3459\u001b[0m             \u001b[0;32mif\u001b[0m \u001b[0mis_integer\u001b[0m\u001b[0;34m(\u001b[0m\u001b[0mindexer\u001b[0m\u001b[0;34m)\u001b[0m\u001b[0;34m:\u001b[0m\u001b[0;34m\u001b[0m\u001b[0;34m\u001b[0m\u001b[0m\n\u001b[1;32m   3460\u001b[0m                 \u001b[0mindexer\u001b[0m \u001b[0;34m=\u001b[0m \u001b[0;34m[\u001b[0m\u001b[0mindexer\u001b[0m\u001b[0;34m]\u001b[0m\u001b[0;34m\u001b[0m\u001b[0;34m\u001b[0m\u001b[0m\n",
            "\u001b[0;32m/usr/local/lib/python3.8/dist-packages/pandas/core/indexes/base.py\u001b[0m in \u001b[0;36mget_loc\u001b[0;34m(self, key, method, tolerance)\u001b[0m\n\u001b[1;32m   3361\u001b[0m                 \u001b[0;32mreturn\u001b[0m \u001b[0mself\u001b[0m\u001b[0;34m.\u001b[0m\u001b[0m_engine\u001b[0m\u001b[0;34m.\u001b[0m\u001b[0mget_loc\u001b[0m\u001b[0;34m(\u001b[0m\u001b[0mcasted_key\u001b[0m\u001b[0;34m)\u001b[0m\u001b[0;34m\u001b[0m\u001b[0;34m\u001b[0m\u001b[0m\n\u001b[1;32m   3362\u001b[0m             \u001b[0;32mexcept\u001b[0m \u001b[0mKeyError\u001b[0m \u001b[0;32mas\u001b[0m \u001b[0merr\u001b[0m\u001b[0;34m:\u001b[0m\u001b[0;34m\u001b[0m\u001b[0;34m\u001b[0m\u001b[0m\n\u001b[0;32m-> 3363\u001b[0;31m                 \u001b[0;32mraise\u001b[0m \u001b[0mKeyError\u001b[0m\u001b[0;34m(\u001b[0m\u001b[0mkey\u001b[0m\u001b[0;34m)\u001b[0m \u001b[0;32mfrom\u001b[0m \u001b[0merr\u001b[0m\u001b[0;34m\u001b[0m\u001b[0;34m\u001b[0m\u001b[0m\n\u001b[0m\u001b[1;32m   3364\u001b[0m \u001b[0;34m\u001b[0m\u001b[0m\n\u001b[1;32m   3365\u001b[0m         \u001b[0;32mif\u001b[0m \u001b[0mis_scalar\u001b[0m\u001b[0;34m(\u001b[0m\u001b[0mkey\u001b[0m\u001b[0;34m)\u001b[0m \u001b[0;32mand\u001b[0m \u001b[0misna\u001b[0m\u001b[0;34m(\u001b[0m\u001b[0mkey\u001b[0m\u001b[0;34m)\u001b[0m \u001b[0;32mand\u001b[0m \u001b[0;32mnot\u001b[0m \u001b[0mself\u001b[0m\u001b[0;34m.\u001b[0m\u001b[0mhasnans\u001b[0m\u001b[0;34m:\u001b[0m\u001b[0;34m\u001b[0m\u001b[0;34m\u001b[0m\u001b[0m\n",
            "\u001b[0;31mKeyError\u001b[0m: 'color'"
          ]
        }
      ],
      "source": [
        "wine['color'].value_counts()"
      ]
    },
    {
      "cell_type": "code",
      "execution_count": 159,
      "metadata": {
        "id": "6dkegdBzMY-l",
        "colab": {
          "base_uri": "https://localhost:8080/"
        },
        "outputId": "3eec9faa-41a6-4e19-8002-da8c0d978e25"
      },
      "outputs": [
        {
          "output_type": "execute_result",
          "data": {
            "text/plain": [
              "5    681\n",
              "6    638\n",
              "7    199\n",
              "4     53\n",
              "8     18\n",
              "3     10\n",
              "Name: quality, dtype: int64"
            ]
          },
          "metadata": {},
          "execution_count": 159
        }
      ],
      "source": [
        "wine['quality'].value_counts()"
      ]
    },
    {
      "cell_type": "code",
      "execution_count": 160,
      "metadata": {
        "id": "H6rNkAceMZAo"
      },
      "outputs": [],
      "source": [
        "import numpy as np\n",
        "from sklearn.model_selection import train_test_split, GridSearchCV\n",
        "from sklearn.preprocessing import LabelEncoder\n",
        "from sklearn.tree import DecisionTreeClassifier\n",
        "from sklearn.metrics import accuracy_score, classification_report"
      ]
    },
    {
      "cell_type": "code",
      "execution_count": 161,
      "metadata": {
        "id": "ETgcA4BJMZCf",
        "colab": {
          "base_uri": "https://localhost:8080/",
          "height": 528
        },
        "outputId": "23489da7-31e7-4b54-a3b0-be8b14d051a9"
      },
      "outputs": [
        {
          "output_type": "error",
          "ename": "KeyError",
          "evalue": "ignored",
          "traceback": [
            "\u001b[0;31m---------------------------------------------------------------------------\u001b[0m",
            "\u001b[0;31mKeyError\u001b[0m                                  Traceback (most recent call last)",
            "\u001b[0;32m/usr/local/lib/python3.8/dist-packages/pandas/core/indexes/base.py\u001b[0m in \u001b[0;36mget_loc\u001b[0;34m(self, key, method, tolerance)\u001b[0m\n\u001b[1;32m   3360\u001b[0m             \u001b[0;32mtry\u001b[0m\u001b[0;34m:\u001b[0m\u001b[0;34m\u001b[0m\u001b[0;34m\u001b[0m\u001b[0m\n\u001b[0;32m-> 3361\u001b[0;31m                 \u001b[0;32mreturn\u001b[0m \u001b[0mself\u001b[0m\u001b[0;34m.\u001b[0m\u001b[0m_engine\u001b[0m\u001b[0;34m.\u001b[0m\u001b[0mget_loc\u001b[0m\u001b[0;34m(\u001b[0m\u001b[0mcasted_key\u001b[0m\u001b[0;34m)\u001b[0m\u001b[0;34m\u001b[0m\u001b[0;34m\u001b[0m\u001b[0m\n\u001b[0m\u001b[1;32m   3362\u001b[0m             \u001b[0;32mexcept\u001b[0m \u001b[0mKeyError\u001b[0m \u001b[0;32mas\u001b[0m \u001b[0merr\u001b[0m\u001b[0;34m:\u001b[0m\u001b[0;34m\u001b[0m\u001b[0;34m\u001b[0m\u001b[0m\n",
            "\u001b[0;32m/usr/local/lib/python3.8/dist-packages/pandas/_libs/index.pyx\u001b[0m in \u001b[0;36mpandas._libs.index.IndexEngine.get_loc\u001b[0;34m()\u001b[0m\n",
            "\u001b[0;32m/usr/local/lib/python3.8/dist-packages/pandas/_libs/index.pyx\u001b[0m in \u001b[0;36mpandas._libs.index.IndexEngine.get_loc\u001b[0;34m()\u001b[0m\n",
            "\u001b[0;32mpandas/_libs/hashtable_class_helper.pxi\u001b[0m in \u001b[0;36mpandas._libs.hashtable.PyObjectHashTable.get_item\u001b[0;34m()\u001b[0m\n",
            "\u001b[0;32mpandas/_libs/hashtable_class_helper.pxi\u001b[0m in \u001b[0;36mpandas._libs.hashtable.PyObjectHashTable.get_item\u001b[0;34m()\u001b[0m\n",
            "\u001b[0;31mKeyError\u001b[0m: 'color'",
            "\nThe above exception was the direct cause of the following exception:\n",
            "\u001b[0;31mKeyError\u001b[0m                                  Traceback (most recent call last)",
            "\u001b[0;32m<ipython-input-161-e69e15e5ca4e>\u001b[0m in \u001b[0;36m<module>\u001b[0;34m\u001b[0m\n\u001b[0;32m----> 1\u001b[0;31m \u001b[0my\u001b[0m \u001b[0;34m=\u001b[0m \u001b[0mwine\u001b[0m\u001b[0;34m[\u001b[0m\u001b[0;34m'color'\u001b[0m\u001b[0;34m]\u001b[0m\u001b[0;34m\u001b[0m\u001b[0;34m\u001b[0m\u001b[0m\n\u001b[0m\u001b[1;32m      2\u001b[0m \u001b[0mX\u001b[0m \u001b[0;34m=\u001b[0m \u001b[0mwine\u001b[0m\u001b[0;34m.\u001b[0m\u001b[0mdrop\u001b[0m\u001b[0;34m(\u001b[0m\u001b[0;34m'color'\u001b[0m\u001b[0;34m,\u001b[0m\u001b[0maxis\u001b[0m\u001b[0;34m=\u001b[0m\u001b[0;36m1\u001b[0m\u001b[0;34m)\u001b[0m \u001b[0;31m# 위아래를 지우기 위해 (1모양이니까 세로)\u001b[0m\u001b[0;34m\u001b[0m\u001b[0;34m\u001b[0m\u001b[0m\n\u001b[1;32m      3\u001b[0m \u001b[0mwine\u001b[0m\u001b[0;34m.\u001b[0m\u001b[0mshape\u001b[0m\u001b[0;34m,\u001b[0m \u001b[0mX\u001b[0m\u001b[0;34m.\u001b[0m\u001b[0mshape\u001b[0m\u001b[0;34m,\u001b[0m \u001b[0my\u001b[0m\u001b[0;34m.\u001b[0m\u001b[0mshape\u001b[0m\u001b[0;34m\u001b[0m\u001b[0;34m\u001b[0m\u001b[0m\n",
            "\u001b[0;32m/usr/local/lib/python3.8/dist-packages/pandas/core/frame.py\u001b[0m in \u001b[0;36m__getitem__\u001b[0;34m(self, key)\u001b[0m\n\u001b[1;32m   3456\u001b[0m             \u001b[0;32mif\u001b[0m \u001b[0mself\u001b[0m\u001b[0;34m.\u001b[0m\u001b[0mcolumns\u001b[0m\u001b[0;34m.\u001b[0m\u001b[0mnlevels\u001b[0m \u001b[0;34m>\u001b[0m \u001b[0;36m1\u001b[0m\u001b[0;34m:\u001b[0m\u001b[0;34m\u001b[0m\u001b[0;34m\u001b[0m\u001b[0m\n\u001b[1;32m   3457\u001b[0m                 \u001b[0;32mreturn\u001b[0m \u001b[0mself\u001b[0m\u001b[0;34m.\u001b[0m\u001b[0m_getitem_multilevel\u001b[0m\u001b[0;34m(\u001b[0m\u001b[0mkey\u001b[0m\u001b[0;34m)\u001b[0m\u001b[0;34m\u001b[0m\u001b[0;34m\u001b[0m\u001b[0m\n\u001b[0;32m-> 3458\u001b[0;31m             \u001b[0mindexer\u001b[0m \u001b[0;34m=\u001b[0m \u001b[0mself\u001b[0m\u001b[0;34m.\u001b[0m\u001b[0mcolumns\u001b[0m\u001b[0;34m.\u001b[0m\u001b[0mget_loc\u001b[0m\u001b[0;34m(\u001b[0m\u001b[0mkey\u001b[0m\u001b[0;34m)\u001b[0m\u001b[0;34m\u001b[0m\u001b[0;34m\u001b[0m\u001b[0m\n\u001b[0m\u001b[1;32m   3459\u001b[0m             \u001b[0;32mif\u001b[0m \u001b[0mis_integer\u001b[0m\u001b[0;34m(\u001b[0m\u001b[0mindexer\u001b[0m\u001b[0;34m)\u001b[0m\u001b[0;34m:\u001b[0m\u001b[0;34m\u001b[0m\u001b[0;34m\u001b[0m\u001b[0m\n\u001b[1;32m   3460\u001b[0m                 \u001b[0mindexer\u001b[0m \u001b[0;34m=\u001b[0m \u001b[0;34m[\u001b[0m\u001b[0mindexer\u001b[0m\u001b[0;34m]\u001b[0m\u001b[0;34m\u001b[0m\u001b[0;34m\u001b[0m\u001b[0m\n",
            "\u001b[0;32m/usr/local/lib/python3.8/dist-packages/pandas/core/indexes/base.py\u001b[0m in \u001b[0;36mget_loc\u001b[0;34m(self, key, method, tolerance)\u001b[0m\n\u001b[1;32m   3361\u001b[0m                 \u001b[0;32mreturn\u001b[0m \u001b[0mself\u001b[0m\u001b[0;34m.\u001b[0m\u001b[0m_engine\u001b[0m\u001b[0;34m.\u001b[0m\u001b[0mget_loc\u001b[0m\u001b[0;34m(\u001b[0m\u001b[0mcasted_key\u001b[0m\u001b[0;34m)\u001b[0m\u001b[0;34m\u001b[0m\u001b[0;34m\u001b[0m\u001b[0m\n\u001b[1;32m   3362\u001b[0m             \u001b[0;32mexcept\u001b[0m \u001b[0mKeyError\u001b[0m \u001b[0;32mas\u001b[0m \u001b[0merr\u001b[0m\u001b[0;34m:\u001b[0m\u001b[0;34m\u001b[0m\u001b[0;34m\u001b[0m\u001b[0m\n\u001b[0;32m-> 3363\u001b[0;31m                 \u001b[0;32mraise\u001b[0m \u001b[0mKeyError\u001b[0m\u001b[0;34m(\u001b[0m\u001b[0mkey\u001b[0m\u001b[0;34m)\u001b[0m \u001b[0;32mfrom\u001b[0m \u001b[0merr\u001b[0m\u001b[0;34m\u001b[0m\u001b[0;34m\u001b[0m\u001b[0m\n\u001b[0m\u001b[1;32m   3364\u001b[0m \u001b[0;34m\u001b[0m\u001b[0m\n\u001b[1;32m   3365\u001b[0m         \u001b[0;32mif\u001b[0m \u001b[0mis_scalar\u001b[0m\u001b[0;34m(\u001b[0m\u001b[0mkey\u001b[0m\u001b[0;34m)\u001b[0m \u001b[0;32mand\u001b[0m \u001b[0misna\u001b[0m\u001b[0;34m(\u001b[0m\u001b[0mkey\u001b[0m\u001b[0;34m)\u001b[0m \u001b[0;32mand\u001b[0m \u001b[0;32mnot\u001b[0m \u001b[0mself\u001b[0m\u001b[0;34m.\u001b[0m\u001b[0mhasnans\u001b[0m\u001b[0;34m:\u001b[0m\u001b[0;34m\u001b[0m\u001b[0;34m\u001b[0m\u001b[0m\n",
            "\u001b[0;31mKeyError\u001b[0m: 'color'"
          ]
        }
      ],
      "source": [
        "y = wine['color']\n",
        "X = wine.drop('color',axis=1) # 위아래를 지우기 위해 (1모양이니까 세로)\n",
        "wine.shape, X.shape, y.shape"
      ]
    },
    {
      "cell_type": "code",
      "execution_count": 164,
      "metadata": {
        "id": "2SdOiJcOMnb2",
        "colab": {
          "base_uri": "https://localhost:8080/",
          "height": 215
        },
        "outputId": "0aa2fa23-2cc6-462b-ad03-cc30aa3e04e9"
      },
      "outputs": [
        {
          "output_type": "error",
          "ename": "IndexError",
          "evalue": "ignored",
          "traceback": [
            "\u001b[0;31m---------------------------------------------------------------------------\u001b[0m",
            "\u001b[0;31mIndexError\u001b[0m                                Traceback (most recent call last)",
            "\u001b[0;32m<ipython-input-164-6f16558c7f79>\u001b[0m in \u001b[0;36m<module>\u001b[0;34m\u001b[0m\n\u001b[1;32m      1\u001b[0m \u001b[0mencoder\u001b[0m \u001b[0;34m=\u001b[0m \u001b[0mLabelEncoder\u001b[0m\u001b[0;34m(\u001b[0m\u001b[0;34m)\u001b[0m\u001b[0;34m\u001b[0m\u001b[0;34m\u001b[0m\u001b[0m\n\u001b[0;32m----> 2\u001b[0;31m \u001b[0mX\u001b[0m\u001b[0;34m[\u001b[0m\u001b[0;34m'quality'\u001b[0m\u001b[0;34m]\u001b[0m \u001b[0;34m=\u001b[0m \u001b[0mencoder\u001b[0m\u001b[0;34m.\u001b[0m\u001b[0mfit_transform\u001b[0m\u001b[0;34m(\u001b[0m\u001b[0mX\u001b[0m\u001b[0;34m[\u001b[0m\u001b[0;34m'quality'\u001b[0m\u001b[0;34m]\u001b[0m\u001b[0;34m)\u001b[0m\u001b[0;34m\u001b[0m\u001b[0;34m\u001b[0m\u001b[0m\n\u001b[0m\u001b[1;32m      3\u001b[0m \u001b[0mencoder\u001b[0m\u001b[0;34m.\u001b[0m\u001b[0mclasses_\u001b[0m\u001b[0;34m\u001b[0m\u001b[0;34m\u001b[0m\u001b[0m\n",
            "\u001b[0;31mIndexError\u001b[0m: only integers, slices (`:`), ellipsis (`...`), numpy.newaxis (`None`) and integer or boolean arrays are valid indices"
          ]
        }
      ],
      "source": [
        "encoder = LabelEncoder()\n",
        "X['quality'] = encoder.fit_transform(X['quality'])\n",
        "encoder.classes_"
      ]
    },
    {
      "cell_type": "code",
      "execution_count": 165,
      "metadata": {
        "id": "hRRqaW0lMndn",
        "colab": {
          "base_uri": "https://localhost:8080/"
        },
        "outputId": "d1e2907e-1661-45fe-d740-d355021a7455"
      },
      "outputs": [
        {
          "output_type": "execute_result",
          "data": {
            "text/plain": [
              "DecisionTreeClassifier(random_state=1)"
            ]
          },
          "metadata": {},
          "execution_count": 165
        }
      ],
      "source": [
        "X_train, X_test, y_train, y_test = train_test_split(X, y, stratify = y, random_state=1)\n",
        "\n",
        "tree = DecisionTreeClassifier(random_state=1)\n",
        "tree.fit(X_train, y_train)"
      ]
    },
    {
      "cell_type": "code",
      "execution_count": 166,
      "metadata": {
        "id": "67_w1IdaMngB"
      },
      "outputs": [],
      "source": [
        "pred_train = tree.predict(X_train)\n",
        "pred_test = tree.predict(X_test)"
      ]
    },
    {
      "cell_type": "code",
      "execution_count": 167,
      "metadata": {
        "id": "IByFHC-5Mnjn",
        "colab": {
          "base_uri": "https://localhost:8080/"
        },
        "outputId": "f599b94c-3cf6-464f-a392-c977be31505d"
      },
      "outputs": [
        {
          "output_type": "execute_result",
          "data": {
            "text/plain": [
              "(1.0, 0.9300699300699301)"
            ]
          },
          "metadata": {},
          "execution_count": 167
        }
      ],
      "source": [
        "accuracy_score(y_train, pred_train), accuracy_score(y_test, pred_test)"
      ]
    },
    {
      "cell_type": "code",
      "execution_count": 168,
      "metadata": {
        "id": "rYc2vHq7Mnnc",
        "colab": {
          "base_uri": "https://localhost:8080/"
        },
        "outputId": "b8ecb98e-668c-48e6-8c89-ebc0cbb0d8f6"
      },
      "outputs": [
        {
          "output_type": "stream",
          "name": "stdout",
          "text": [
            "              precision    recall  f1-score   support\n",
            "\n",
            "           0       1.00      1.00      1.00       159\n",
            "           1       1.00      1.00      1.00       267\n",
            "\n",
            "    accuracy                           1.00       426\n",
            "   macro avg       1.00      1.00      1.00       426\n",
            "weighted avg       1.00      1.00      1.00       426\n",
            "\n"
          ]
        }
      ],
      "source": [
        "print(classification_report(y_train,pred_train))"
      ]
    },
    {
      "cell_type": "code",
      "execution_count": 169,
      "metadata": {
        "id": "dn6lq-gqMnpj",
        "colab": {
          "base_uri": "https://localhost:8080/"
        },
        "outputId": "ccd56ca3-6d49-4461-c5d2-ae2503e674d0"
      },
      "outputs": [
        {
          "output_type": "execute_result",
          "data": {
            "text/plain": [
              "array([[159,   0],\n",
              "       [  0, 267]])"
            ]
          },
          "metadata": {},
          "execution_count": 169
        }
      ],
      "source": [
        "from sklearn.metrics import confusion_matrix\n",
        "confusion_matrix(y_train, pred_train)"
      ]
    },
    {
      "cell_type": "code",
      "execution_count": 170,
      "metadata": {
        "id": "v3YCYXtlMnru",
        "colab": {
          "base_uri": "https://localhost:8080/"
        },
        "outputId": "b0cad03e-daef-4ad4-c1ac-f4057bd10982"
      },
      "outputs": [
        {
          "output_type": "stream",
          "name": "stdout",
          "text": [
            "              precision    recall  f1-score   support\n",
            "\n",
            "           0       0.89      0.92      0.91        53\n",
            "           1       0.95      0.93      0.94        90\n",
            "\n",
            "    accuracy                           0.93       143\n",
            "   macro avg       0.92      0.93      0.93       143\n",
            "weighted avg       0.93      0.93      0.93       143\n",
            "\n"
          ]
        }
      ],
      "source": [
        "print(classification_report(y_test,pred_test))"
      ]
    },
    {
      "cell_type": "code",
      "execution_count": 171,
      "metadata": {
        "id": "8m-VvRKqMnuB",
        "colab": {
          "base_uri": "https://localhost:8080/",
          "height": 232
        },
        "outputId": "89319db9-48b8-4317-8572-b7cdfd3a8ba2"
      },
      "outputs": [
        {
          "output_type": "error",
          "ename": "AttributeError",
          "evalue": "ignored",
          "traceback": [
            "\u001b[0;31m---------------------------------------------------------------------------\u001b[0m",
            "\u001b[0;31mAttributeError\u001b[0m                            Traceback (most recent call last)",
            "\u001b[0;32m<ipython-input-171-35509029c830>\u001b[0m in \u001b[0;36m<module>\u001b[0;34m\u001b[0m\n\u001b[1;32m      3\u001b[0m graph = Source(export_graphviz(tree, \n\u001b[1;32m      4\u001b[0m                                \u001b[0mout_file\u001b[0m\u001b[0;34m=\u001b[0m\u001b[0;32mNone\u001b[0m\u001b[0;34m,\u001b[0m\u001b[0;34m\u001b[0m\u001b[0;34m\u001b[0m\u001b[0m\n\u001b[0;32m----> 5\u001b[0;31m                                \u001b[0mfeature_names\u001b[0m \u001b[0;34m=\u001b[0m \u001b[0mX_train\u001b[0m\u001b[0;34m.\u001b[0m\u001b[0mcolumns\u001b[0m\u001b[0;34m,\u001b[0m\u001b[0;34m\u001b[0m\u001b[0;34m\u001b[0m\u001b[0m\n\u001b[0m\u001b[1;32m      6\u001b[0m                                \u001b[0mclass_names\u001b[0m \u001b[0;34m=\u001b[0m \u001b[0;34m[\u001b[0m\u001b[0;34m'White'\u001b[0m\u001b[0;34m,\u001b[0m \u001b[0;34m'Red'\u001b[0m\u001b[0;34m]\u001b[0m\u001b[0;34m,\u001b[0m\u001b[0;34m\u001b[0m\u001b[0;34m\u001b[0m\u001b[0m\n\u001b[1;32m      7\u001b[0m                                \u001b[0mfilled\u001b[0m \u001b[0;34m=\u001b[0m \u001b[0;32mTrue\u001b[0m\u001b[0;34m,\u001b[0m\u001b[0;34m\u001b[0m\u001b[0;34m\u001b[0m\u001b[0m\n",
            "\u001b[0;31mAttributeError\u001b[0m: 'numpy.ndarray' object has no attribute 'columns'"
          ]
        }
      ],
      "source": [
        "from sklearn.tree import export_graphviz\n",
        "from graphviz import Source\n",
        "graph = Source(export_graphviz(tree, \n",
        "                               out_file=None,\n",
        "                               feature_names = X_train.columns,\n",
        "                               class_names = ['White', 'Red'],\n",
        "                               filled = True,\n",
        "                               rounded = True))\n",
        "graph"
      ]
    },
    {
      "cell_type": "code",
      "execution_count": 172,
      "metadata": {
        "id": "I8-N4x4cMnwA",
        "colab": {
          "base_uri": "https://localhost:8080/"
        },
        "outputId": "76a66ec6-b84a-4c86-9bb1-318ee013341e"
      },
      "outputs": [
        {
          "output_type": "execute_result",
          "data": {
            "text/plain": [
              "array([0.        , 0.02107272, 0.02815513, 0.        , 0.        ,\n",
              "       0.        , 0.00159699, 0.        , 0.        , 0.        ,\n",
              "       0.        , 0.        , 0.        , 0.02287018, 0.        ,\n",
              "       0.        , 0.        , 0.0096886 , 0.        , 0.        ,\n",
              "       0.        , 0.0593675 , 0.01291125, 0.13096215, 0.        ,\n",
              "       0.00668975, 0.00981053, 0.6968752 , 0.        , 0.        ])"
            ]
          },
          "metadata": {},
          "execution_count": 172
        }
      ],
      "source": [
        "tree.feature_importances_"
      ]
    },
    {
      "cell_type": "code",
      "execution_count": 173,
      "metadata": {
        "id": "N65qVOuBMny8"
      },
      "outputs": [],
      "source": [
        "params = {\n",
        "    'max_depth': range(2,15),\n",
        "    'min_samples_leaf': [100, 1000],\n",
        "    'max_leaf_nodes': [5, 10]\n",
        "}\n",
        "\n",
        "gs = GridSearchCV(tree,\n",
        "                  param_grid = params,\n",
        "                  scoring = 'accuracy',\n",
        "                  cv = 10,\n",
        "                  n_jobs = -1)"
      ]
    },
    {
      "cell_type": "code",
      "execution_count": 174,
      "metadata": {
        "id": "3NWL17npMn02",
        "colab": {
          "base_uri": "https://localhost:8080/"
        },
        "outputId": "53f0dc6c-1d4b-4a4b-b58e-e53ee0f6ceef"
      },
      "outputs": [
        {
          "output_type": "execute_result",
          "data": {
            "text/plain": [
              "GridSearchCV(cv=10, estimator=DecisionTreeClassifier(random_state=1), n_jobs=-1,\n",
              "             param_grid={'max_depth': range(2, 15), 'max_leaf_nodes': [5, 10],\n",
              "                         'min_samples_leaf': [100, 1000]},\n",
              "             scoring='accuracy')"
            ]
          },
          "metadata": {},
          "execution_count": 174
        }
      ],
      "source": [
        "gs.fit(X_train, y_train)\n",
        "gs.fit(X_test, y_test)"
      ]
    },
    {
      "cell_type": "code",
      "execution_count": 175,
      "metadata": {
        "id": "sv0QiBPoTkDg"
      },
      "outputs": [],
      "source": [
        "pred_train = gs.predict(X_train)\n",
        "pred_test = gs.predict(X_test)"
      ]
    },
    {
      "cell_type": "code",
      "execution_count": 176,
      "metadata": {
        "id": "phmxf60RTkF3",
        "colab": {
          "base_uri": "https://localhost:8080/"
        },
        "outputId": "dec8f43d-5cb0-4f62-f4bd-7d8909ce5cc9"
      },
      "outputs": [
        {
          "output_type": "execute_result",
          "data": {
            "text/plain": [
              "{'max_depth': 2, 'max_leaf_nodes': 5, 'min_samples_leaf': 100}"
            ]
          },
          "metadata": {},
          "execution_count": 176
        }
      ],
      "source": [
        "gs.best_params_"
      ]
    },
    {
      "cell_type": "code",
      "execution_count": 177,
      "metadata": {
        "id": "rV3H6fVtTkIM",
        "colab": {
          "base_uri": "https://localhost:8080/",
          "height": 232
        },
        "outputId": "57474d56-48e8-4c91-9e98-78067e53b9ff"
      },
      "outputs": [
        {
          "output_type": "error",
          "ename": "AttributeError",
          "evalue": "ignored",
          "traceback": [
            "\u001b[0;31m---------------------------------------------------------------------------\u001b[0m",
            "\u001b[0;31mAttributeError\u001b[0m                            Traceback (most recent call last)",
            "\u001b[0;32m<ipython-input-177-765cb3c29004>\u001b[0m in \u001b[0;36m<module>\u001b[0;34m\u001b[0m\n\u001b[1;32m      2\u001b[0m graph = Source(export_graphviz(best, \n\u001b[1;32m      3\u001b[0m                                \u001b[0mout_file\u001b[0m\u001b[0;34m=\u001b[0m\u001b[0;32mNone\u001b[0m\u001b[0;34m,\u001b[0m\u001b[0;34m\u001b[0m\u001b[0;34m\u001b[0m\u001b[0m\n\u001b[0;32m----> 4\u001b[0;31m                                \u001b[0mfeature_names\u001b[0m \u001b[0;34m=\u001b[0m \u001b[0mX_train\u001b[0m\u001b[0;34m.\u001b[0m\u001b[0mcolumns\u001b[0m\u001b[0;34m,\u001b[0m\u001b[0;34m\u001b[0m\u001b[0;34m\u001b[0m\u001b[0m\n\u001b[0m\u001b[1;32m      5\u001b[0m                                \u001b[0mclass_names\u001b[0m \u001b[0;34m=\u001b[0m \u001b[0;34m[\u001b[0m\u001b[0;34m'White'\u001b[0m\u001b[0;34m,\u001b[0m \u001b[0;34m'Red'\u001b[0m\u001b[0;34m]\u001b[0m\u001b[0;34m,\u001b[0m\u001b[0;34m\u001b[0m\u001b[0;34m\u001b[0m\u001b[0m\n\u001b[1;32m      6\u001b[0m                                \u001b[0mfilled\u001b[0m \u001b[0;34m=\u001b[0m \u001b[0;32mTrue\u001b[0m\u001b[0;34m,\u001b[0m\u001b[0;34m\u001b[0m\u001b[0;34m\u001b[0m\u001b[0m\n",
            "\u001b[0;31mAttributeError\u001b[0m: 'numpy.ndarray' object has no attribute 'columns'"
          ]
        }
      ],
      "source": [
        "best = gs.best_estimator_\n",
        "graph = Source(export_graphviz(best, \n",
        "                               out_file=None,\n",
        "                               feature_names = X_train.columns,\n",
        "                               class_names = ['White', 'Red'],\n",
        "                               filled = True,\n",
        "                               rounded = True))\n",
        "graph"
      ]
    },
    {
      "cell_type": "code",
      "execution_count": 222,
      "metadata": {
        "id": "sDqFuzAyTkKE"
      },
      "outputs": [],
      "source": [
        "# random forest (bagging Ensemble + decision tree)"
      ]
    },
    {
      "cell_type": "code",
      "execution_count": 223,
      "metadata": {
        "id": "4TgWDxIZTkMe"
      },
      "outputs": [],
      "source": [
        "from sklearn.ensemble import RandomForestClassifier"
      ]
    },
    {
      "cell_type": "code",
      "execution_count": 224,
      "metadata": {
        "id": "ZULSzpV9TkOX",
        "colab": {
          "base_uri": "https://localhost:8080/"
        },
        "outputId": "c8ef7a5e-9b51-485a-b02f-ee8d925e498e"
      },
      "outputs": [
        {
          "output_type": "execute_result",
          "data": {
            "text/plain": [
              "(80, 1)"
            ]
          },
          "metadata": {},
          "execution_count": 224
        }
      ],
      "source": [
        "X_train.shape"
      ]
    },
    {
      "cell_type": "code",
      "execution_count": 225,
      "metadata": {
        "id": "XjncHWxfTkRU",
        "colab": {
          "base_uri": "https://localhost:8080/",
          "height": 375
        },
        "outputId": "6d03d52b-293a-46f1-98ab-ed54b057240a"
      },
      "outputs": [
        {
          "output_type": "error",
          "ename": "ValueError",
          "evalue": "ignored",
          "traceback": [
            "\u001b[0;31m---------------------------------------------------------------------------\u001b[0m",
            "\u001b[0;31mValueError\u001b[0m                                Traceback (most recent call last)",
            "\u001b[0;32m<ipython-input-225-ab415d83d479>\u001b[0m in \u001b[0;36m<module>\u001b[0;34m\u001b[0m\n\u001b[1;32m      4\u001b[0m                             \u001b[0mn_jobs\u001b[0m \u001b[0;34m=\u001b[0m \u001b[0;34m-\u001b[0m\u001b[0;36m1\u001b[0m\u001b[0;34m,\u001b[0m\u001b[0;34m\u001b[0m\u001b[0;34m\u001b[0m\u001b[0m\n\u001b[1;32m      5\u001b[0m                             random_state=1)\n\u001b[0;32m----> 6\u001b[0;31m \u001b[0mrf\u001b[0m\u001b[0;34m.\u001b[0m\u001b[0mfit\u001b[0m\u001b[0;34m(\u001b[0m\u001b[0mX_train\u001b[0m\u001b[0;34m,\u001b[0m \u001b[0my_train\u001b[0m\u001b[0;34m)\u001b[0m\u001b[0;34m\u001b[0m\u001b[0;34m\u001b[0m\u001b[0m\n\u001b[0m\u001b[1;32m      7\u001b[0m \u001b[0;34m\u001b[0m\u001b[0m\n\u001b[1;32m      8\u001b[0m \u001b[0mpred_train\u001b[0m \u001b[0;34m=\u001b[0m \u001b[0mrf\u001b[0m\u001b[0;34m.\u001b[0m\u001b[0mpredict\u001b[0m\u001b[0;34m(\u001b[0m\u001b[0mX_train\u001b[0m\u001b[0;34m)\u001b[0m\u001b[0;34m\u001b[0m\u001b[0;34m\u001b[0m\u001b[0m\n",
            "\u001b[0;32m/usr/local/lib/python3.8/dist-packages/sklearn/ensemble/_forest.py\u001b[0m in \u001b[0;36mfit\u001b[0;34m(self, X, y, sample_weight)\u001b[0m\n\u001b[1;32m    365\u001b[0m         \u001b[0mself\u001b[0m\u001b[0;34m.\u001b[0m\u001b[0mn_outputs_\u001b[0m \u001b[0;34m=\u001b[0m \u001b[0my\u001b[0m\u001b[0;34m.\u001b[0m\u001b[0mshape\u001b[0m\u001b[0;34m[\u001b[0m\u001b[0;36m1\u001b[0m\u001b[0;34m]\u001b[0m\u001b[0;34m\u001b[0m\u001b[0;34m\u001b[0m\u001b[0m\n\u001b[1;32m    366\u001b[0m \u001b[0;34m\u001b[0m\u001b[0m\n\u001b[0;32m--> 367\u001b[0;31m         \u001b[0my\u001b[0m\u001b[0;34m,\u001b[0m \u001b[0mexpanded_class_weight\u001b[0m \u001b[0;34m=\u001b[0m \u001b[0mself\u001b[0m\u001b[0;34m.\u001b[0m\u001b[0m_validate_y_class_weight\u001b[0m\u001b[0;34m(\u001b[0m\u001b[0my\u001b[0m\u001b[0;34m)\u001b[0m\u001b[0;34m\u001b[0m\u001b[0;34m\u001b[0m\u001b[0m\n\u001b[0m\u001b[1;32m    368\u001b[0m \u001b[0;34m\u001b[0m\u001b[0m\n\u001b[1;32m    369\u001b[0m         \u001b[0;32mif\u001b[0m \u001b[0mgetattr\u001b[0m\u001b[0;34m(\u001b[0m\u001b[0my\u001b[0m\u001b[0;34m,\u001b[0m \u001b[0;34m\"dtype\"\u001b[0m\u001b[0;34m,\u001b[0m \u001b[0;32mNone\u001b[0m\u001b[0;34m)\u001b[0m \u001b[0;34m!=\u001b[0m \u001b[0mDOUBLE\u001b[0m \u001b[0;32mor\u001b[0m \u001b[0;32mnot\u001b[0m \u001b[0my\u001b[0m\u001b[0;34m.\u001b[0m\u001b[0mflags\u001b[0m\u001b[0;34m.\u001b[0m\u001b[0mcontiguous\u001b[0m\u001b[0;34m:\u001b[0m\u001b[0;34m\u001b[0m\u001b[0;34m\u001b[0m\u001b[0m\n",
            "\u001b[0;32m/usr/local/lib/python3.8/dist-packages/sklearn/ensemble/_forest.py\u001b[0m in \u001b[0;36m_validate_y_class_weight\u001b[0;34m(self, y)\u001b[0m\n\u001b[1;32m    732\u001b[0m \u001b[0;34m\u001b[0m\u001b[0m\n\u001b[1;32m    733\u001b[0m     \u001b[0;32mdef\u001b[0m \u001b[0m_validate_y_class_weight\u001b[0m\u001b[0;34m(\u001b[0m\u001b[0mself\u001b[0m\u001b[0;34m,\u001b[0m \u001b[0my\u001b[0m\u001b[0;34m)\u001b[0m\u001b[0;34m:\u001b[0m\u001b[0;34m\u001b[0m\u001b[0;34m\u001b[0m\u001b[0m\n\u001b[0;32m--> 734\u001b[0;31m         \u001b[0mcheck_classification_targets\u001b[0m\u001b[0;34m(\u001b[0m\u001b[0my\u001b[0m\u001b[0;34m)\u001b[0m\u001b[0;34m\u001b[0m\u001b[0;34m\u001b[0m\u001b[0m\n\u001b[0m\u001b[1;32m    735\u001b[0m \u001b[0;34m\u001b[0m\u001b[0m\n\u001b[1;32m    736\u001b[0m         \u001b[0my\u001b[0m \u001b[0;34m=\u001b[0m \u001b[0mnp\u001b[0m\u001b[0;34m.\u001b[0m\u001b[0mcopy\u001b[0m\u001b[0;34m(\u001b[0m\u001b[0my\u001b[0m\u001b[0;34m)\u001b[0m\u001b[0;34m\u001b[0m\u001b[0;34m\u001b[0m\u001b[0m\n",
            "\u001b[0;32m/usr/local/lib/python3.8/dist-packages/sklearn/utils/multiclass.py\u001b[0m in \u001b[0;36mcheck_classification_targets\u001b[0;34m(y)\u001b[0m\n\u001b[1;32m    195\u001b[0m         \u001b[0;34m\"multilabel-sequences\"\u001b[0m\u001b[0;34m,\u001b[0m\u001b[0;34m\u001b[0m\u001b[0;34m\u001b[0m\u001b[0m\n\u001b[1;32m    196\u001b[0m     ]:\n\u001b[0;32m--> 197\u001b[0;31m         \u001b[0;32mraise\u001b[0m \u001b[0mValueError\u001b[0m\u001b[0;34m(\u001b[0m\u001b[0;34m\"Unknown label type: %r\"\u001b[0m \u001b[0;34m%\u001b[0m \u001b[0my_type\u001b[0m\u001b[0;34m)\u001b[0m\u001b[0;34m\u001b[0m\u001b[0;34m\u001b[0m\u001b[0m\n\u001b[0m\u001b[1;32m    198\u001b[0m \u001b[0;34m\u001b[0m\u001b[0m\n\u001b[1;32m    199\u001b[0m \u001b[0;34m\u001b[0m\u001b[0m\n",
            "\u001b[0;31mValueError\u001b[0m: Unknown label type: 'continuous'"
          ]
        }
      ],
      "source": [
        "rf = RandomForestClassifier(n_estimators = 200,\n",
        "                            max_features = 7,\n",
        "                            max_depth=5,\n",
        "                            n_jobs = -1,\n",
        "                            random_state=1)\n",
        "rf.fit(X_train, y_train)\n",
        "\n",
        "pred_train = rf.predict(X_train)\n",
        "pred_test = rf.predict(X_test)"
      ]
    },
    {
      "cell_type": "code",
      "execution_count": null,
      "metadata": {
        "id": "NlE8PFryans1"
      },
      "outputs": [],
      "source": [
        "accuracy_score(y_train, pred_train), accuracy_score(y_test, pred_test)"
      ]
    },
    {
      "cell_type": "code",
      "execution_count": null,
      "metadata": {
        "id": "d5J10uMJgeWj"
      },
      "outputs": [],
      "source": [
        "import pandas as pd\n",
        "import numpy as np\n",
        "from sklearn.model_selection import train_test_split\n",
        "from sklearn.preprocessing import LabelEncoder, StandardScaler, OneHotEncoder\n",
        "from sklearn.pipeline import Pipeline"
      ]
    },
    {
      "cell_type": "code",
      "execution_count": null,
      "metadata": {
        "id": "NUbmJuYBgeTp"
      },
      "outputs": [],
      "source": [
        "wine = pd.read_csv('sample_data/wine.csv')\n",
        "y = wine['color']\n",
        "X = wine.drop('color', axis=1)"
      ]
    },
    {
      "cell_type": "code",
      "execution_count": null,
      "metadata": {
        "id": "jAsMipcRgeQy"
      },
      "outputs": [],
      "source": [
        "np.array(X['quality']).reshape(-1,1)"
      ]
    },
    {
      "cell_type": "code",
      "execution_count": null,
      "metadata": {
        "id": "bQ5mZBSogeN7"
      },
      "outputs": [],
      "source": [
        "ohe = OneHotEncoder()\n",
        "quality = ohe.fit_transform(np.array(X['quality']).reshape(-1,1)).toarray()\n",
        "quality"
      ]
    },
    {
      "cell_type": "code",
      "execution_count": null,
      "metadata": {
        "id": "jtuZMyd5geK6"
      },
      "outputs": [],
      "source": [
        "ohe.get_feature_names()"
      ]
    },
    {
      "cell_type": "code",
      "execution_count": null,
      "metadata": {
        "id": "Zib9oOfWgeIH"
      },
      "outputs": [],
      "source": [
        "X = pd.concat([X, pd.DataFrame(quality, columns = ohe.get_feature_names())], axis=1)"
      ]
    },
    {
      "cell_type": "code",
      "execution_count": null,
      "metadata": {
        "id": "7pbCjtulgeFK"
      },
      "outputs": [],
      "source": [
        "X"
      ]
    },
    {
      "cell_type": "code",
      "execution_count": null,
      "metadata": {
        "id": "BdXlS5JMgeCO"
      },
      "outputs": [],
      "source": [
        "X.drop('quality', axis=1, inplace=True)\n",
        "X"
      ]
    },
    {
      "cell_type": "code",
      "execution_count": null,
      "metadata": {
        "id": "sEoIgTd1m8X6"
      },
      "outputs": [],
      "source": [
        "X_train, X_test, y_train, y_test = train_test_split(X, y, stratify = y, random_state=1)"
      ]
    },
    {
      "cell_type": "code",
      "execution_count": null,
      "metadata": {
        "id": "UmoVOX1jm8aS"
      },
      "outputs": [],
      "source": [
        "from sklearn.neighbors import KNeighborsClassifier\n",
        "from sklearn.ensemble import RandomForestClassifier\n",
        "from sklearn.svm import SVC\n",
        "from sklearn.ensemble import VotingClassifier\n",
        "\n",
        "from sklearn.pipeline import make_pipeline\n",
        "from sklearn.model_selection import GridSearchCV"
      ]
    },
    {
      "cell_type": "code",
      "execution_count": null,
      "metadata": {
        "id": "nrg6MeSzpY-_"
      },
      "outputs": [],
      "source": [
        "knn = KNeighborsClassifier(n_neighbors=5)\n",
        "rf = RandomForestClassifier(n_estimators=200)\n",
        "svc = SVC(C=1, gamma=0.1, probability=True)"
      ]
    },
    {
      "cell_type": "code",
      "execution_count": 178,
      "metadata": {
        "id": "Xu1eZCPKqgNc"
      },
      "outputs": [],
      "source": [
        "# 다 다른 종류니까 voting 그 전에 pipeline\n",
        "# pipeline - 전처리, 스케일링, 인코딩\n",
        "knn_pipe = make_pipeline(StandardScaler(), knn)\n",
        "svc_pipe = make_pipeline(StandardScaler(), svc)\n",
        "estimators = [('knn', knn_pipe),\n",
        "              ('random forest', rf),\n",
        "              ('svc', svc_pipe)]\n",
        "\n",
        "# voting\n",
        "voting = VotingClassifier(estimators)"
      ]
    },
    {
      "cell_type": "code",
      "execution_count": 179,
      "metadata": {
        "id": "11fXQpSqm8e4"
      },
      "outputs": [],
      "source": [
        "from sklearn.metrics import accuracy_score, recall_score, precision_score, f1_score\n",
        "\n",
        "def print_metrics(y, y_pred, title = None):\n",
        "  if title:\n",
        "    print(title)\n",
        "  metrics = f'정확도:{accuracy_score(y, y_pred)}, 재현율:{recall_score(y, y_pred)}, 정밀도:{precision_score(y, y_pred)}, fl:{f1_score(y, y_pred)}'\n",
        "  print(metrics)"
      ]
    },
    {
      "cell_type": "code",
      "execution_count": 180,
      "metadata": {
        "colab": {
          "base_uri": "https://localhost:8080/",
          "height": 307
        },
        "id": "QqL5Vsjtm8hy",
        "outputId": "7c27c763-6b9b-4000-8fb1-9fc20a22dd53"
      },
      "outputs": [
        {
          "output_type": "error",
          "ename": "ValueError",
          "evalue": "ignored",
          "traceback": [
            "\u001b[0;31m---------------------------------------------------------------------------\u001b[0m",
            "\u001b[0;31mValueError\u001b[0m                                Traceback (most recent call last)",
            "\u001b[0;32m<ipython-input-180-f1dec76cba9b>\u001b[0m in \u001b[0;36m<module>\u001b[0;34m\u001b[0m\n\u001b[0;32m----> 1\u001b[0;31m \u001b[0mvoting\u001b[0m\u001b[0;34m.\u001b[0m\u001b[0mfit\u001b[0m\u001b[0;34m(\u001b[0m\u001b[0mX_train\u001b[0m\u001b[0;34m,\u001b[0m \u001b[0my_train\u001b[0m\u001b[0;34m)\u001b[0m\u001b[0;34m\u001b[0m\u001b[0;34m\u001b[0m\u001b[0m\n\u001b[0m",
            "\u001b[0;32m/usr/local/lib/python3.8/dist-packages/sklearn/ensemble/_voting.py\u001b[0m in \u001b[0;36mfit\u001b[0;34m(self, X, y, sample_weight)\u001b[0m\n\u001b[1;32m    322\u001b[0m         \u001b[0mtransformed_y\u001b[0m \u001b[0;34m=\u001b[0m \u001b[0mself\u001b[0m\u001b[0;34m.\u001b[0m\u001b[0mle_\u001b[0m\u001b[0;34m.\u001b[0m\u001b[0mtransform\u001b[0m\u001b[0;34m(\u001b[0m\u001b[0my\u001b[0m\u001b[0;34m)\u001b[0m\u001b[0;34m\u001b[0m\u001b[0;34m\u001b[0m\u001b[0m\n\u001b[1;32m    323\u001b[0m \u001b[0;34m\u001b[0m\u001b[0m\n\u001b[0;32m--> 324\u001b[0;31m         \u001b[0;32mreturn\u001b[0m \u001b[0msuper\u001b[0m\u001b[0;34m(\u001b[0m\u001b[0;34m)\u001b[0m\u001b[0;34m.\u001b[0m\u001b[0mfit\u001b[0m\u001b[0;34m(\u001b[0m\u001b[0mX\u001b[0m\u001b[0;34m,\u001b[0m \u001b[0mtransformed_y\u001b[0m\u001b[0;34m,\u001b[0m \u001b[0msample_weight\u001b[0m\u001b[0;34m)\u001b[0m\u001b[0;34m\u001b[0m\u001b[0;34m\u001b[0m\u001b[0m\n\u001b[0m\u001b[1;32m    325\u001b[0m \u001b[0;34m\u001b[0m\u001b[0m\n\u001b[1;32m    326\u001b[0m     \u001b[0;32mdef\u001b[0m \u001b[0mpredict\u001b[0m\u001b[0;34m(\u001b[0m\u001b[0mself\u001b[0m\u001b[0;34m,\u001b[0m \u001b[0mX\u001b[0m\u001b[0;34m)\u001b[0m\u001b[0;34m:\u001b[0m\u001b[0;34m\u001b[0m\u001b[0;34m\u001b[0m\u001b[0m\n",
            "\u001b[0;32m/usr/local/lib/python3.8/dist-packages/sklearn/ensemble/_voting.py\u001b[0m in \u001b[0;36mfit\u001b[0;34m(self, X, y, sample_weight)\u001b[0m\n\u001b[1;32m     63\u001b[0m     \u001b[0;32mdef\u001b[0m \u001b[0mfit\u001b[0m\u001b[0;34m(\u001b[0m\u001b[0mself\u001b[0m\u001b[0;34m,\u001b[0m \u001b[0mX\u001b[0m\u001b[0;34m,\u001b[0m \u001b[0my\u001b[0m\u001b[0;34m,\u001b[0m \u001b[0msample_weight\u001b[0m\u001b[0;34m=\u001b[0m\u001b[0;32mNone\u001b[0m\u001b[0;34m)\u001b[0m\u001b[0;34m:\u001b[0m\u001b[0;34m\u001b[0m\u001b[0;34m\u001b[0m\u001b[0m\n\u001b[1;32m     64\u001b[0m         \u001b[0;34m\"\"\"Get common fit operations.\"\"\"\u001b[0m\u001b[0;34m\u001b[0m\u001b[0;34m\u001b[0m\u001b[0m\n\u001b[0;32m---> 65\u001b[0;31m         \u001b[0mnames\u001b[0m\u001b[0;34m,\u001b[0m \u001b[0mclfs\u001b[0m \u001b[0;34m=\u001b[0m \u001b[0mself\u001b[0m\u001b[0;34m.\u001b[0m\u001b[0m_validate_estimators\u001b[0m\u001b[0;34m(\u001b[0m\u001b[0;34m)\u001b[0m\u001b[0;34m\u001b[0m\u001b[0;34m\u001b[0m\u001b[0m\n\u001b[0m\u001b[1;32m     66\u001b[0m \u001b[0;34m\u001b[0m\u001b[0m\n\u001b[1;32m     67\u001b[0m         \u001b[0;32mif\u001b[0m \u001b[0mself\u001b[0m\u001b[0;34m.\u001b[0m\u001b[0mweights\u001b[0m \u001b[0;32mis\u001b[0m \u001b[0;32mnot\u001b[0m \u001b[0;32mNone\u001b[0m \u001b[0;32mand\u001b[0m \u001b[0mlen\u001b[0m\u001b[0;34m(\u001b[0m\u001b[0mself\u001b[0m\u001b[0;34m.\u001b[0m\u001b[0mweights\u001b[0m\u001b[0;34m)\u001b[0m \u001b[0;34m!=\u001b[0m \u001b[0mlen\u001b[0m\u001b[0;34m(\u001b[0m\u001b[0mself\u001b[0m\u001b[0;34m.\u001b[0m\u001b[0mestimators\u001b[0m\u001b[0;34m)\u001b[0m\u001b[0;34m:\u001b[0m\u001b[0;34m\u001b[0m\u001b[0;34m\u001b[0m\u001b[0m\n",
            "\u001b[0;32m/usr/local/lib/python3.8/dist-packages/sklearn/ensemble/_base.py\u001b[0m in \u001b[0;36m_validate_estimators\u001b[0;34m(self)\u001b[0m\n\u001b[1;32m    260\u001b[0m         \u001b[0;32mfor\u001b[0m \u001b[0mest\u001b[0m \u001b[0;32min\u001b[0m \u001b[0mestimators\u001b[0m\u001b[0;34m:\u001b[0m\u001b[0;34m\u001b[0m\u001b[0;34m\u001b[0m\u001b[0m\n\u001b[1;32m    261\u001b[0m             \u001b[0;32mif\u001b[0m \u001b[0mest\u001b[0m \u001b[0;34m!=\u001b[0m \u001b[0;34m\"drop\"\u001b[0m \u001b[0;32mand\u001b[0m \u001b[0;32mnot\u001b[0m \u001b[0mis_estimator_type\u001b[0m\u001b[0;34m(\u001b[0m\u001b[0mest\u001b[0m\u001b[0;34m)\u001b[0m\u001b[0;34m:\u001b[0m\u001b[0;34m\u001b[0m\u001b[0;34m\u001b[0m\u001b[0m\n\u001b[0;32m--> 262\u001b[0;31m                 raise ValueError(\n\u001b[0m\u001b[1;32m    263\u001b[0m                     \"The estimator {} should be a {}.\".format(\n\u001b[1;32m    264\u001b[0m                         \u001b[0mest\u001b[0m\u001b[0;34m.\u001b[0m\u001b[0m__class__\u001b[0m\u001b[0;34m.\u001b[0m\u001b[0m__name__\u001b[0m\u001b[0;34m,\u001b[0m \u001b[0mis_estimator_type\u001b[0m\u001b[0;34m.\u001b[0m\u001b[0m__name__\u001b[0m\u001b[0;34m[\u001b[0m\u001b[0;36m3\u001b[0m\u001b[0;34m:\u001b[0m\u001b[0;34m]\u001b[0m\u001b[0;34m\u001b[0m\u001b[0;34m\u001b[0m\u001b[0m\n",
            "\u001b[0;31mValueError\u001b[0m: The estimator RandomForestRegressor should be a classifier."
          ]
        }
      ],
      "source": [
        "voting.fit(X_train, y_train)"
      ]
    },
    {
      "cell_type": "code",
      "execution_count": 181,
      "metadata": {
        "id": "lsnsAQpLm8kV",
        "colab": {
          "base_uri": "https://localhost:8080/",
          "height": 324
        },
        "outputId": "28624c78-853a-48de-cae2-1a0b1d4d16bc"
      },
      "outputs": [
        {
          "output_type": "error",
          "ename": "AttributeError",
          "evalue": "ignored",
          "traceback": [
            "\u001b[0;31m---------------------------------------------------------------------------\u001b[0m",
            "\u001b[0;31mAttributeError\u001b[0m                            Traceback (most recent call last)",
            "\u001b[0;32m<ipython-input-181-5dd89d61d977>\u001b[0m in \u001b[0;36m<module>\u001b[0;34m\u001b[0m\n\u001b[0;32m----> 1\u001b[0;31m \u001b[0mpred_train\u001b[0m \u001b[0;34m=\u001b[0m \u001b[0mvoting\u001b[0m\u001b[0;34m.\u001b[0m\u001b[0mpredict\u001b[0m\u001b[0;34m(\u001b[0m\u001b[0mX_train\u001b[0m\u001b[0;34m)\u001b[0m\u001b[0;34m\u001b[0m\u001b[0;34m\u001b[0m\u001b[0m\n\u001b[0m\u001b[1;32m      2\u001b[0m \u001b[0mpred_test\u001b[0m \u001b[0;34m=\u001b[0m \u001b[0mvoting\u001b[0m\u001b[0;34m.\u001b[0m\u001b[0mpredict\u001b[0m\u001b[0;34m(\u001b[0m\u001b[0mX_test\u001b[0m\u001b[0;34m)\u001b[0m\u001b[0;34m\u001b[0m\u001b[0;34m\u001b[0m\u001b[0m\n",
            "\u001b[0;32m/usr/local/lib/python3.8/dist-packages/sklearn/ensemble/_voting.py\u001b[0m in \u001b[0;36mpredict\u001b[0;34m(self, X)\u001b[0m\n\u001b[1;32m    342\u001b[0m \u001b[0;34m\u001b[0m\u001b[0m\n\u001b[1;32m    343\u001b[0m         \u001b[0;32melse\u001b[0m\u001b[0;34m:\u001b[0m  \u001b[0;31m# 'hard' voting\u001b[0m\u001b[0;34m\u001b[0m\u001b[0;34m\u001b[0m\u001b[0m\n\u001b[0;32m--> 344\u001b[0;31m             \u001b[0mpredictions\u001b[0m \u001b[0;34m=\u001b[0m \u001b[0mself\u001b[0m\u001b[0;34m.\u001b[0m\u001b[0m_predict\u001b[0m\u001b[0;34m(\u001b[0m\u001b[0mX\u001b[0m\u001b[0;34m)\u001b[0m\u001b[0;34m\u001b[0m\u001b[0;34m\u001b[0m\u001b[0m\n\u001b[0m\u001b[1;32m    345\u001b[0m             maj = np.apply_along_axis(\n\u001b[1;32m    346\u001b[0m                 \u001b[0;32mlambda\u001b[0m \u001b[0mx\u001b[0m\u001b[0;34m:\u001b[0m \u001b[0mnp\u001b[0m\u001b[0;34m.\u001b[0m\u001b[0margmax\u001b[0m\u001b[0;34m(\u001b[0m\u001b[0mnp\u001b[0m\u001b[0;34m.\u001b[0m\u001b[0mbincount\u001b[0m\u001b[0;34m(\u001b[0m\u001b[0mx\u001b[0m\u001b[0;34m,\u001b[0m \u001b[0mweights\u001b[0m\u001b[0;34m=\u001b[0m\u001b[0mself\u001b[0m\u001b[0;34m.\u001b[0m\u001b[0m_weights_not_none\u001b[0m\u001b[0;34m)\u001b[0m\u001b[0;34m)\u001b[0m\u001b[0;34m,\u001b[0m\u001b[0;34m\u001b[0m\u001b[0;34m\u001b[0m\u001b[0m\n",
            "\u001b[0;32m/usr/local/lib/python3.8/dist-packages/sklearn/ensemble/_voting.py\u001b[0m in \u001b[0;36m_predict\u001b[0;34m(self, X)\u001b[0m\n\u001b[1;32m     58\u001b[0m     \u001b[0;32mdef\u001b[0m \u001b[0m_predict\u001b[0m\u001b[0;34m(\u001b[0m\u001b[0mself\u001b[0m\u001b[0;34m,\u001b[0m \u001b[0mX\u001b[0m\u001b[0;34m)\u001b[0m\u001b[0;34m:\u001b[0m\u001b[0;34m\u001b[0m\u001b[0;34m\u001b[0m\u001b[0m\n\u001b[1;32m     59\u001b[0m         \u001b[0;34m\"\"\"Collect results from clf.predict calls.\"\"\"\u001b[0m\u001b[0;34m\u001b[0m\u001b[0;34m\u001b[0m\u001b[0m\n\u001b[0;32m---> 60\u001b[0;31m         \u001b[0;32mreturn\u001b[0m \u001b[0mnp\u001b[0m\u001b[0;34m.\u001b[0m\u001b[0masarray\u001b[0m\u001b[0;34m(\u001b[0m\u001b[0;34m[\u001b[0m\u001b[0mest\u001b[0m\u001b[0;34m.\u001b[0m\u001b[0mpredict\u001b[0m\u001b[0;34m(\u001b[0m\u001b[0mX\u001b[0m\u001b[0;34m)\u001b[0m \u001b[0;32mfor\u001b[0m \u001b[0mest\u001b[0m \u001b[0;32min\u001b[0m \u001b[0mself\u001b[0m\u001b[0;34m.\u001b[0m\u001b[0mestimators_\u001b[0m\u001b[0;34m]\u001b[0m\u001b[0;34m)\u001b[0m\u001b[0;34m.\u001b[0m\u001b[0mT\u001b[0m\u001b[0;34m\u001b[0m\u001b[0;34m\u001b[0m\u001b[0m\n\u001b[0m\u001b[1;32m     61\u001b[0m \u001b[0;34m\u001b[0m\u001b[0m\n\u001b[1;32m     62\u001b[0m     \u001b[0;34m@\u001b[0m\u001b[0mabstractmethod\u001b[0m\u001b[0;34m\u001b[0m\u001b[0;34m\u001b[0m\u001b[0m\n",
            "\u001b[0;31mAttributeError\u001b[0m: 'VotingClassifier' object has no attribute 'estimators_'"
          ]
        }
      ],
      "source": [
        "pred_train = voting.predict(X_train)\n",
        "pred_test = voting.predict(X_test)"
      ]
    },
    {
      "cell_type": "code",
      "execution_count": null,
      "metadata": {
        "id": "FmDOtdewgdWs"
      },
      "outputs": [],
      "source": [
        "print_metrics(y_train, pred_train)\n",
        "print_metrics(y_test, pred_test)"
      ]
    },
    {
      "cell_type": "code",
      "execution_count": null,
      "metadata": {
        "id": "5qSdlbVlanvp"
      },
      "outputs": [],
      "source": [
        "# voting의 default 값은 hard임, soft 하려면 줘야함\n",
        "voting_soft = VotingClassifier(estimators, voting = 'soft')"
      ]
    },
    {
      "cell_type": "code",
      "execution_count": null,
      "metadata": {
        "id": "FYQcv469v6HS"
      },
      "outputs": [],
      "source": [
        "voting_soft.fit(X_train, y_train)\n",
        "\n",
        "pred_train_soft = voting_soft.predict(X_train)\n",
        "pred_test_soft = voting_soft.predict(X_test)"
      ]
    },
    {
      "cell_type": "code",
      "execution_count": 182,
      "metadata": {
        "colab": {
          "base_uri": "https://localhost:8080/"
        },
        "id": "E5d0oej_v6J8",
        "outputId": "3806e03a-4260-4aa9-c1b5-4647346b681e"
      },
      "outputs": [
        {
          "output_type": "stream",
          "name": "stdout",
          "text": [
            "정확도:0.9953051643192489, 재현율:1.0, 정밀도:0.9925650557620818, fl:0.9962686567164178\n",
            "정확도:0.965034965034965, 재현율:0.9888888888888889, 정밀도:0.956989247311828, fl:0.9726775956284154\n"
          ]
        }
      ],
      "source": [
        "print_metrics(y_train, pred_train_soft)\n",
        "print_metrics(y_test, pred_test_soft)"
      ]
    },
    {
      "cell_type": "code",
      "execution_count": 183,
      "metadata": {
        "id": "g4Yn8XlHv6Mu"
      },
      "outputs": [],
      "source": [
        "# 03/07 boosting"
      ]
    },
    {
      "cell_type": "code",
      "execution_count": 184,
      "metadata": {
        "id": "WpSKIPlIv6PZ"
      },
      "outputs": [],
      "source": [
        "from sklearn.datasets import load_breast_cancer\n",
        "from sklearn.model_selection import train_test_split\n",
        "from sklearn.ensemble import GradientBoostingClassifier\n",
        "from sklearn.metrics import accuracy_score"
      ]
    },
    {
      "cell_type": "code",
      "execution_count": 185,
      "metadata": {
        "colab": {
          "base_uri": "https://localhost:8080/"
        },
        "id": "Ws-pA3zYx5Pc",
        "outputId": "a94861c3-5771-4837-b98b-493c5f41edf0"
      },
      "outputs": [
        {
          "output_type": "execute_result",
          "data": {
            "text/plain": [
              "((426,), (143,))"
            ]
          },
          "metadata": {},
          "execution_count": 185
        }
      ],
      "source": [
        "data = load_breast_cancer()\n",
        "X, y = data['data'], data['target']\n",
        "X_train, X_test, y_train, y_test = train_test_split(X, y, stratify=y, random_state=1)\n",
        "y_train.shape, y_test.shape"
      ]
    },
    {
      "cell_type": "code",
      "execution_count": 186,
      "metadata": {
        "colab": {
          "base_uri": "https://localhost:8080/"
        },
        "id": "z734P_qSx5SI",
        "outputId": "04bf9cb4-73f3-4d24-cd90-c1cc1e763783"
      },
      "outputs": [
        {
          "output_type": "execute_result",
          "data": {
            "text/plain": [
              "GradientBoostingClassifier(random_state=1)"
            ]
          },
          "metadata": {},
          "execution_count": 186
        }
      ],
      "source": [
        "gb = GradientBoostingClassifier(random_state=1)\n",
        "gb.fit(X_train, y_train)"
      ]
    },
    {
      "cell_type": "code",
      "execution_count": 187,
      "metadata": {
        "id": "2ndT6-gtx5U2"
      },
      "outputs": [],
      "source": [
        "pred_train = gb.predict(X_train)\n",
        "pred_test = gb.predict(X_test)"
      ]
    },
    {
      "cell_type": "code",
      "execution_count": 188,
      "metadata": {
        "colab": {
          "base_uri": "https://localhost:8080/"
        },
        "id": "xyssQIlAx5XA",
        "outputId": "aa7a35ac-c069-4f53-f575-e589eeedc4f0"
      },
      "outputs": [
        {
          "output_type": "execute_result",
          "data": {
            "text/plain": [
              "(1.0, 0.958041958041958)"
            ]
          },
          "metadata": {},
          "execution_count": 188
        }
      ],
      "source": [
        "accuracy_score(y_train, pred_train), accuracy_score(y_test, pred_test)"
      ]
    },
    {
      "cell_type": "code",
      "execution_count": 189,
      "metadata": {
        "id": "FQilzTZpx5Z5"
      },
      "outputs": [],
      "source": [
        "import pandas as pd\n",
        "fi = gb.feature_importances_\n",
        "fis = pd.Series(fi, index=data['feature_names'])"
      ]
    },
    {
      "cell_type": "code",
      "execution_count": 190,
      "metadata": {
        "colab": {
          "base_uri": "https://localhost:8080/"
        },
        "id": "mS25dVDwx5c0",
        "outputId": "bde0b418-58f2-4caa-8500-d458594138bb"
      },
      "outputs": [
        {
          "output_type": "execute_result",
          "data": {
            "text/plain": [
              "worst radius               0.383871\n",
              "worst concave points       0.285990\n",
              "worst perimeter            0.130654\n",
              "mean concave points        0.046544\n",
              "worst area                 0.042472\n",
              "worst texture              0.041187\n",
              "worst concavity            0.012790\n",
              "area error                 0.010906\n",
              "mean texture               0.009120\n",
              "mean concavity             0.007964\n",
              "radius error               0.004788\n",
              "concavity error            0.003404\n",
              "worst fractal dimension    0.002838\n",
              "worst symmetry             0.002546\n",
              "mean area                  0.002540\n",
              "fractal dimension error    0.002532\n",
              "mean compactness           0.001572\n",
              "compactness error          0.001384\n",
              "mean perimeter             0.001381\n",
              "smoothness error           0.001340\n",
              "symmetry error             0.001267\n",
              "perimeter error            0.000813\n",
              "mean radius                0.000656\n",
              "mean fractal dimension     0.000625\n",
              "texture error              0.000575\n",
              "worst compactness          0.000097\n",
              "worst smoothness           0.000066\n",
              "mean symmetry              0.000039\n",
              "mean smoothness            0.000032\n",
              "concave points error       0.000008\n",
              "dtype: float64"
            ]
          },
          "metadata": {},
          "execution_count": 190
        }
      ],
      "source": [
        "fis.sort_values(ascending= False)"
      ]
    },
    {
      "cell_type": "code",
      "execution_count": 191,
      "metadata": {
        "colab": {
          "base_uri": "https://localhost:8080/"
        },
        "id": "HICvkwXbx5eT",
        "outputId": "3e6dffed-bb99-4348-db31-d7f64a39b9a3"
      },
      "outputs": [
        {
          "output_type": "execute_result",
          "data": {
            "text/plain": [
              "array([6.56004947e-04, 9.12048913e-03, 1.38084141e-03, 2.53954604e-03,\n",
              "       3.15275986e-05, 1.57221418e-03, 7.96379898e-03, 4.65439078e-02,\n",
              "       3.92816748e-05, 6.25390210e-04, 4.78826205e-03, 5.75334737e-04,\n",
              "       8.12699315e-04, 1.09057228e-02, 1.34022770e-03, 1.38399110e-03,\n",
              "       3.40367814e-03, 8.24536284e-06, 1.26671451e-03, 2.53195851e-03,\n",
              "       3.83871224e-01, 4.11870661e-02, 1.30653593e-01, 4.24715224e-02,\n",
              "       6.60899343e-05, 9.72342504e-05, 1.27899008e-02, 2.85990013e-01,\n",
              "       2.54564947e-03, 2.83786994e-03])"
            ]
          },
          "metadata": {},
          "execution_count": 191
        }
      ],
      "source": [
        "fi"
      ]
    },
    {
      "cell_type": "code",
      "execution_count": 192,
      "metadata": {
        "colab": {
          "base_uri": "https://localhost:8080/"
        },
        "id": "mR3CXPoVx5gW",
        "outputId": "2f871762-263c-40de-a4e6-751b382d7b3e"
      },
      "outputs": [
        {
          "output_type": "execute_result",
          "data": {
            "text/plain": [
              "GridSearchCV(cv=3, estimator=GradientBoostingClassifier(random_state=1),\n",
              "             n_jobs=-1,\n",
              "             param_grid={'learning_rate': [0.001, 0.1, 0.2],\n",
              "                         'max_depth': range(1, 5),\n",
              "                         'n_estimators': [100, 200, 300, 400, 500],\n",
              "                         'subsample': [0.5, 0.7, 1]},\n",
              "             scoring='accuracy')"
            ]
          },
          "metadata": {},
          "execution_count": 192
        }
      ],
      "source": [
        "from sklearn.model_selection import GridSearchCV\n",
        "\n",
        "param = {\n",
        "    'n_estimators': [100,200,300,400,500], # 트리 개수\n",
        "    'learning_rate': [0.001, 0.1, 0.2],\n",
        "    'max_depth': range(1,5), # 웬만하면 5 안 넘는게 좋음\n",
        "    'subsample': [0.5, 0.7, 1]\n",
        "}\n",
        "\n",
        "gs = GridSearchCV(gb,\n",
        "                  param_grid=param,\n",
        "                  cv=3,\n",
        "                  scoring='accuracy',\n",
        "                  n_jobs=-1)\n",
        "\n",
        "gs.fit(X_train, y_train)"
      ]
    },
    {
      "cell_type": "code",
      "execution_count": 193,
      "metadata": {
        "colab": {
          "base_uri": "https://localhost:8080/"
        },
        "id": "0WHxq0foMHLK",
        "outputId": "f75292d7-32a7-4ef2-9f5f-332d6c69b39e"
      },
      "outputs": [
        {
          "output_type": "execute_result",
          "data": {
            "text/plain": [
              "{'learning_rate': 0.1, 'max_depth': 2, 'n_estimators': 200, 'subsample': 0.5}"
            ]
          },
          "metadata": {},
          "execution_count": 193
        }
      ],
      "source": [
        "gs.best_params_"
      ]
    },
    {
      "cell_type": "code",
      "execution_count": 194,
      "metadata": {
        "colab": {
          "base_uri": "https://localhost:8080/",
          "height": 523
        },
        "id": "JdfYI1X1MHNw",
        "outputId": "440d1bf4-1aba-4fff-c5e0-66d21c376ea1"
      },
      "outputs": [
        {
          "output_type": "execute_result",
          "data": {
            "text/plain": [
              "     mean_fit_time  std_fit_time  mean_score_time  std_score_time  \\\n",
              "78        0.348744      0.008894         0.001412        0.000009   \n",
              "151       0.287378      0.003864         0.001230        0.000045   \n",
              "83        0.809799      0.011989         0.001657        0.000025   \n",
              "93        0.446976      0.006145         0.001600        0.000024   \n",
              "86        1.061232      0.010351         0.001942        0.000056   \n",
              "\n",
              "    param_learning_rate param_max_depth param_n_estimators param_subsample  \\\n",
              "78                  0.1               2                200             0.5   \n",
              "151                 0.2               3                100             0.7   \n",
              "83                  0.1               2                300               1   \n",
              "93                  0.1               3                200             0.5   \n",
              "86                  0.1               2                400               1   \n",
              "\n",
              "                                                params  split0_test_score  \\\n",
              "78   {'learning_rate': 0.1, 'max_depth': 2, 'n_esti...           0.971831   \n",
              "151  {'learning_rate': 0.2, 'max_depth': 3, 'n_esti...           0.957746   \n",
              "83   {'learning_rate': 0.1, 'max_depth': 2, 'n_esti...           0.957746   \n",
              "93   {'learning_rate': 0.1, 'max_depth': 3, 'n_esti...           0.964789   \n",
              "86   {'learning_rate': 0.1, 'max_depth': 2, 'n_esti...           0.964789   \n",
              "\n",
              "     split1_test_score  split2_test_score  mean_test_score  std_test_score  \\\n",
              "78            0.971831           0.978873         0.974178        0.003320   \n",
              "151           0.971831           0.992958         0.974178        0.014470   \n",
              "83            0.971831           0.992958         0.974178        0.014470   \n",
              "93            0.971831           0.985915         0.974178        0.008783   \n",
              "86            0.971831           0.985915         0.974178        0.008783   \n",
              "\n",
              "     rank_test_score  \n",
              "78                 1  \n",
              "151                1  \n",
              "83                 1  \n",
              "93                 1  \n",
              "86                 1  "
            ],
            "text/html": [
              "\n",
              "  <div id=\"df-022543ea-a9f6-4604-9c00-ca44f5e53403\">\n",
              "    <div class=\"colab-df-container\">\n",
              "      <div>\n",
              "<style scoped>\n",
              "    .dataframe tbody tr th:only-of-type {\n",
              "        vertical-align: middle;\n",
              "    }\n",
              "\n",
              "    .dataframe tbody tr th {\n",
              "        vertical-align: top;\n",
              "    }\n",
              "\n",
              "    .dataframe thead th {\n",
              "        text-align: right;\n",
              "    }\n",
              "</style>\n",
              "<table border=\"1\" class=\"dataframe\">\n",
              "  <thead>\n",
              "    <tr style=\"text-align: right;\">\n",
              "      <th></th>\n",
              "      <th>mean_fit_time</th>\n",
              "      <th>std_fit_time</th>\n",
              "      <th>mean_score_time</th>\n",
              "      <th>std_score_time</th>\n",
              "      <th>param_learning_rate</th>\n",
              "      <th>param_max_depth</th>\n",
              "      <th>param_n_estimators</th>\n",
              "      <th>param_subsample</th>\n",
              "      <th>params</th>\n",
              "      <th>split0_test_score</th>\n",
              "      <th>split1_test_score</th>\n",
              "      <th>split2_test_score</th>\n",
              "      <th>mean_test_score</th>\n",
              "      <th>std_test_score</th>\n",
              "      <th>rank_test_score</th>\n",
              "    </tr>\n",
              "  </thead>\n",
              "  <tbody>\n",
              "    <tr>\n",
              "      <th>78</th>\n",
              "      <td>0.348744</td>\n",
              "      <td>0.008894</td>\n",
              "      <td>0.001412</td>\n",
              "      <td>0.000009</td>\n",
              "      <td>0.1</td>\n",
              "      <td>2</td>\n",
              "      <td>200</td>\n",
              "      <td>0.5</td>\n",
              "      <td>{'learning_rate': 0.1, 'max_depth': 2, 'n_esti...</td>\n",
              "      <td>0.971831</td>\n",
              "      <td>0.971831</td>\n",
              "      <td>0.978873</td>\n",
              "      <td>0.974178</td>\n",
              "      <td>0.003320</td>\n",
              "      <td>1</td>\n",
              "    </tr>\n",
              "    <tr>\n",
              "      <th>151</th>\n",
              "      <td>0.287378</td>\n",
              "      <td>0.003864</td>\n",
              "      <td>0.001230</td>\n",
              "      <td>0.000045</td>\n",
              "      <td>0.2</td>\n",
              "      <td>3</td>\n",
              "      <td>100</td>\n",
              "      <td>0.7</td>\n",
              "      <td>{'learning_rate': 0.2, 'max_depth': 3, 'n_esti...</td>\n",
              "      <td>0.957746</td>\n",
              "      <td>0.971831</td>\n",
              "      <td>0.992958</td>\n",
              "      <td>0.974178</td>\n",
              "      <td>0.014470</td>\n",
              "      <td>1</td>\n",
              "    </tr>\n",
              "    <tr>\n",
              "      <th>83</th>\n",
              "      <td>0.809799</td>\n",
              "      <td>0.011989</td>\n",
              "      <td>0.001657</td>\n",
              "      <td>0.000025</td>\n",
              "      <td>0.1</td>\n",
              "      <td>2</td>\n",
              "      <td>300</td>\n",
              "      <td>1</td>\n",
              "      <td>{'learning_rate': 0.1, 'max_depth': 2, 'n_esti...</td>\n",
              "      <td>0.957746</td>\n",
              "      <td>0.971831</td>\n",
              "      <td>0.992958</td>\n",
              "      <td>0.974178</td>\n",
              "      <td>0.014470</td>\n",
              "      <td>1</td>\n",
              "    </tr>\n",
              "    <tr>\n",
              "      <th>93</th>\n",
              "      <td>0.446976</td>\n",
              "      <td>0.006145</td>\n",
              "      <td>0.001600</td>\n",
              "      <td>0.000024</td>\n",
              "      <td>0.1</td>\n",
              "      <td>3</td>\n",
              "      <td>200</td>\n",
              "      <td>0.5</td>\n",
              "      <td>{'learning_rate': 0.1, 'max_depth': 3, 'n_esti...</td>\n",
              "      <td>0.964789</td>\n",
              "      <td>0.971831</td>\n",
              "      <td>0.985915</td>\n",
              "      <td>0.974178</td>\n",
              "      <td>0.008783</td>\n",
              "      <td>1</td>\n",
              "    </tr>\n",
              "    <tr>\n",
              "      <th>86</th>\n",
              "      <td>1.061232</td>\n",
              "      <td>0.010351</td>\n",
              "      <td>0.001942</td>\n",
              "      <td>0.000056</td>\n",
              "      <td>0.1</td>\n",
              "      <td>2</td>\n",
              "      <td>400</td>\n",
              "      <td>1</td>\n",
              "      <td>{'learning_rate': 0.1, 'max_depth': 2, 'n_esti...</td>\n",
              "      <td>0.964789</td>\n",
              "      <td>0.971831</td>\n",
              "      <td>0.985915</td>\n",
              "      <td>0.974178</td>\n",
              "      <td>0.008783</td>\n",
              "      <td>1</td>\n",
              "    </tr>\n",
              "  </tbody>\n",
              "</table>\n",
              "</div>\n",
              "      <button class=\"colab-df-convert\" onclick=\"convertToInteractive('df-022543ea-a9f6-4604-9c00-ca44f5e53403')\"\n",
              "              title=\"Convert this dataframe to an interactive table.\"\n",
              "              style=\"display:none;\">\n",
              "        \n",
              "  <svg xmlns=\"http://www.w3.org/2000/svg\" height=\"24px\"viewBox=\"0 0 24 24\"\n",
              "       width=\"24px\">\n",
              "    <path d=\"M0 0h24v24H0V0z\" fill=\"none\"/>\n",
              "    <path d=\"M18.56 5.44l.94 2.06.94-2.06 2.06-.94-2.06-.94-.94-2.06-.94 2.06-2.06.94zm-11 1L8.5 8.5l.94-2.06 2.06-.94-2.06-.94L8.5 2.5l-.94 2.06-2.06.94zm10 10l.94 2.06.94-2.06 2.06-.94-2.06-.94-.94-2.06-.94 2.06-2.06.94z\"/><path d=\"M17.41 7.96l-1.37-1.37c-.4-.4-.92-.59-1.43-.59-.52 0-1.04.2-1.43.59L10.3 9.45l-7.72 7.72c-.78.78-.78 2.05 0 2.83L4 21.41c.39.39.9.59 1.41.59.51 0 1.02-.2 1.41-.59l7.78-7.78 2.81-2.81c.8-.78.8-2.07 0-2.86zM5.41 20L4 18.59l7.72-7.72 1.47 1.35L5.41 20z\"/>\n",
              "  </svg>\n",
              "      </button>\n",
              "      \n",
              "  <style>\n",
              "    .colab-df-container {\n",
              "      display:flex;\n",
              "      flex-wrap:wrap;\n",
              "      gap: 12px;\n",
              "    }\n",
              "\n",
              "    .colab-df-convert {\n",
              "      background-color: #E8F0FE;\n",
              "      border: none;\n",
              "      border-radius: 50%;\n",
              "      cursor: pointer;\n",
              "      display: none;\n",
              "      fill: #1967D2;\n",
              "      height: 32px;\n",
              "      padding: 0 0 0 0;\n",
              "      width: 32px;\n",
              "    }\n",
              "\n",
              "    .colab-df-convert:hover {\n",
              "      background-color: #E2EBFA;\n",
              "      box-shadow: 0px 1px 2px rgba(60, 64, 67, 0.3), 0px 1px 3px 1px rgba(60, 64, 67, 0.15);\n",
              "      fill: #174EA6;\n",
              "    }\n",
              "\n",
              "    [theme=dark] .colab-df-convert {\n",
              "      background-color: #3B4455;\n",
              "      fill: #D2E3FC;\n",
              "    }\n",
              "\n",
              "    [theme=dark] .colab-df-convert:hover {\n",
              "      background-color: #434B5C;\n",
              "      box-shadow: 0px 1px 3px 1px rgba(0, 0, 0, 0.15);\n",
              "      filter: drop-shadow(0px 1px 2px rgba(0, 0, 0, 0.3));\n",
              "      fill: #FFFFFF;\n",
              "    }\n",
              "  </style>\n",
              "\n",
              "      <script>\n",
              "        const buttonEl =\n",
              "          document.querySelector('#df-022543ea-a9f6-4604-9c00-ca44f5e53403 button.colab-df-convert');\n",
              "        buttonEl.style.display =\n",
              "          google.colab.kernel.accessAllowed ? 'block' : 'none';\n",
              "\n",
              "        async function convertToInteractive(key) {\n",
              "          const element = document.querySelector('#df-022543ea-a9f6-4604-9c00-ca44f5e53403');\n",
              "          const dataTable =\n",
              "            await google.colab.kernel.invokeFunction('convertToInteractive',\n",
              "                                                     [key], {});\n",
              "          if (!dataTable) return;\n",
              "\n",
              "          const docLinkHtml = 'Like what you see? Visit the ' +\n",
              "            '<a target=\"_blank\" href=https://colab.research.google.com/notebooks/data_table.ipynb>data table notebook</a>'\n",
              "            + ' to learn more about interactive tables.';\n",
              "          element.innerHTML = '';\n",
              "          dataTable['output_type'] = 'display_data';\n",
              "          await google.colab.output.renderOutput(dataTable, element);\n",
              "          const docLink = document.createElement('div');\n",
              "          docLink.innerHTML = docLinkHtml;\n",
              "          element.appendChild(docLink);\n",
              "        }\n",
              "      </script>\n",
              "    </div>\n",
              "  </div>\n",
              "  "
            ]
          },
          "metadata": {},
          "execution_count": 194
        }
      ],
      "source": [
        "df= pd.DataFrame(gs.cv_results_)\n",
        "df.sort_values('rank_test_score').head()"
      ]
    },
    {
      "cell_type": "code",
      "execution_count": 195,
      "metadata": {
        "id": "cK0bvkFmMHP2"
      },
      "outputs": [],
      "source": [
        "model = gs.best_estimator_\n",
        "m = pd.Series(model.feature_importances_, index=data['feature_names'])"
      ]
    },
    {
      "cell_type": "code",
      "execution_count": 196,
      "metadata": {
        "id": "AmBdr-VzMHSe",
        "colab": {
          "base_uri": "https://localhost:8080/"
        },
        "outputId": "1cff8f2f-7edf-4bc9-8c53-776282e03ae9"
      },
      "outputs": [
        {
          "output_type": "execute_result",
          "data": {
            "text/plain": [
              "worst concave points       0.249645\n",
              "worst perimeter            0.222472\n",
              "worst radius               0.181471\n",
              "mean concave points        0.072334\n",
              "worst area                 0.062524\n",
              "area error                 0.045590\n",
              "worst symmetry             0.026432\n",
              "worst texture              0.021030\n",
              "mean texture               0.018533\n",
              "worst concavity            0.012035\n",
              "mean area                  0.011135\n",
              "texture error              0.010491\n",
              "radius error               0.009121\n",
              "worst compactness          0.008886\n",
              "concavity error            0.007978\n",
              "fractal dimension error    0.007519\n",
              "mean symmetry              0.004420\n",
              "smoothness error           0.003954\n",
              "symmetry error             0.003803\n",
              "mean compactness           0.003423\n",
              "mean concavity             0.003220\n",
              "perimeter error            0.002787\n",
              "compactness error          0.002304\n",
              "mean fractal dimension     0.001955\n",
              "worst fractal dimension    0.001618\n",
              "mean radius                0.001582\n",
              "mean perimeter             0.001439\n",
              "concave points error       0.001403\n",
              "mean smoothness            0.000467\n",
              "worst smoothness           0.000428\n",
              "dtype: float64"
            ]
          },
          "metadata": {},
          "execution_count": 196
        }
      ],
      "source": [
        "m.sort_values(ascending= False)"
      ]
    },
    {
      "cell_type": "code",
      "execution_count": 197,
      "metadata": {
        "id": "GcS42IlHMHW5"
      },
      "outputs": [],
      "source": [
        "# XGBoost"
      ]
    },
    {
      "cell_type": "code",
      "execution_count": 198,
      "metadata": {
        "id": "xCIYpzAvMHZS",
        "colab": {
          "base_uri": "https://localhost:8080/"
        },
        "outputId": "37139d4c-9aa2-4ecb-e579-be15f8eddf31"
      },
      "outputs": [
        {
          "output_type": "stream",
          "name": "stdout",
          "text": [
            "Looking in indexes: https://pypi.org/simple, https://us-python.pkg.dev/colab-wheels/public/simple/\n",
            "Requirement already satisfied: xgboost in /usr/local/lib/python3.8/dist-packages (0.90)\n",
            "Requirement already satisfied: scipy in /usr/local/lib/python3.8/dist-packages (from xgboost) (1.7.3)\n",
            "Requirement already satisfied: numpy in /usr/local/lib/python3.8/dist-packages (from xgboost) (1.21.6)\n"
          ]
        }
      ],
      "source": [
        "!pip install xgboost"
      ]
    },
    {
      "cell_type": "code",
      "execution_count": 199,
      "metadata": {
        "id": "hKslC0c3MHcp",
        "colab": {
          "base_uri": "https://localhost:8080/"
        },
        "outputId": "cce59c45-9399-43fc-95e9-64f92a303f95"
      },
      "outputs": [
        {
          "output_type": "execute_result",
          "data": {
            "text/plain": [
              "XGBClassifier(learning_rate=0.5, max_depth=2, n_estimators=200, random_state=1)"
            ]
          },
          "metadata": {},
          "execution_count": 199
        }
      ],
      "source": [
        "from xgboost import XGBClassifier\n",
        "\n",
        "xgb = XGBClassifier(n_estimators=200,\n",
        "                    learning_rate=0.5,\n",
        "                    max_depth=2,\n",
        "                    random_state=1)\n",
        "xgb.fit(X_train, y_train)"
      ]
    },
    {
      "cell_type": "code",
      "execution_count": 200,
      "metadata": {
        "id": "tC9bwsU6SN79"
      },
      "outputs": [],
      "source": [
        "pred_train = xgb.predict(X_train)\n",
        "pred_test = xgb.predict(X_test)"
      ]
    },
    {
      "cell_type": "code",
      "execution_count": 201,
      "metadata": {
        "id": "DjvDrHC2x5iq",
        "colab": {
          "base_uri": "https://localhost:8080/"
        },
        "outputId": "bf24e472-acb7-43bb-d77d-9c7b8ef3aa23"
      },
      "outputs": [
        {
          "output_type": "execute_result",
          "data": {
            "text/plain": [
              "(1.0, 0.965034965034965)"
            ]
          },
          "metadata": {},
          "execution_count": 201
        }
      ],
      "source": [
        "accuracy_score(y_train, pred_train), accuracy_score(y_test, pred_test)"
      ]
    },
    {
      "cell_type": "code",
      "execution_count": 202,
      "metadata": {
        "id": "x_HTexOLx5k1"
      },
      "outputs": [],
      "source": [
        "# regression"
      ]
    },
    {
      "cell_type": "code",
      "execution_count": 203,
      "metadata": {
        "id": "GjeFIlR6x5nV"
      },
      "outputs": [],
      "source": [
        "import numpy as np\n",
        "import matplotlib.pyplot as plt\n",
        "import seaborn as sns\n",
        "\n",
        "from sklearn.datasets import make_regression\n",
        "from sklearn.model_selection import cross_val_score\n",
        "from sklearn.linear_model import LinearRegression"
      ]
    },
    {
      "cell_type": "code",
      "execution_count": 204,
      "metadata": {
        "id": "53VHD1gsv6SC"
      },
      "outputs": [],
      "source": [
        "X, y = make_regression(n_samples=100, n_features=1, n_informative=1,\n",
        "                       noise=30, coef=False, random_state=1)"
      ]
    },
    {
      "cell_type": "code",
      "execution_count": 205,
      "metadata": {
        "id": "SPImMS8Hv6Uj",
        "colab": {
          "base_uri": "https://localhost:8080/"
        },
        "outputId": "fa01e0ab-12da-49f6-e9d8-1dde0c5ba1a3"
      },
      "outputs": [
        {
          "output_type": "execute_result",
          "data": {
            "text/plain": [
              "((100, 1), (100,))"
            ]
          },
          "metadata": {},
          "execution_count": 205
        }
      ],
      "source": [
        "X.shape, y.shape"
      ]
    },
    {
      "cell_type": "code",
      "execution_count": 206,
      "metadata": {
        "id": "wyFemn4Cv6XS",
        "colab": {
          "base_uri": "https://localhost:8080/",
          "height": 282
        },
        "outputId": "607a3fc4-6997-4f0d-d36e-80d79f6aa353"
      },
      "outputs": [
        {
          "output_type": "execute_result",
          "data": {
            "text/plain": [
              "<matplotlib.collections.PathCollection at 0x7fca8de6c280>"
            ]
          },
          "metadata": {},
          "execution_count": 206
        },
        {
          "output_type": "display_data",
          "data": {
            "text/plain": [
              "<Figure size 432x288 with 1 Axes>"
            ],
            "image/png": "[encoded data removed]"
          },
          "metadata": {
            "needs_background": "light"
          }
        }
      ],
      "source": [
        "plt.scatter(X,y)"
      ]
    },
    {
      "cell_type": "code",
      "execution_count": 207,
      "metadata": {
        "id": "R4GGYzjUv6ae",
        "colab": {
          "base_uri": "https://localhost:8080/"
        },
        "outputId": "93e23f0b-77dd-4051-8831-7dc783c340ca"
      },
      "outputs": [
        {
          "output_type": "execute_result",
          "data": {
            "text/plain": [
              "(11.131925761438476,\n",
              " -218.35217950995258,\n",
              " 202.95633640879163,\n",
              " 4.552552367183393)"
            ]
          },
          "metadata": {},
          "execution_count": 207
        }
      ],
      "source": [
        "np.mean(y), np.min(y), np.max(y), np.median(y)"
      ]
    },
    {
      "cell_type": "code",
      "execution_count": 208,
      "metadata": {
        "id": "iFBhegQfv6ct",
        "colab": {
          "base_uri": "https://localhost:8080/"
        },
        "outputId": "61e39e5f-e9aa-4970-a7e9-195860809a03"
      },
      "outputs": [
        {
          "output_type": "execute_result",
          "data": {
            "text/plain": [
              "LinearRegression()"
            ]
          },
          "metadata": {},
          "execution_count": 208
        }
      ],
      "source": [
        "lr = LinearRegression()\n",
        "lr.fit(X,y)"
      ]
    },
    {
      "cell_type": "code",
      "execution_count": 209,
      "metadata": {
        "id": "S2qTXsHXanyG"
      },
      "outputs": [],
      "source": [
        "pred = lr.predict(X)"
      ]
    },
    {
      "cell_type": "code",
      "execution_count": 210,
      "metadata": {
        "id": "SRjjNiX4TkTS",
        "colab": {
          "base_uri": "https://localhost:8080/"
        },
        "outputId": "7566aa2d-d71b-4b6b-8964-a1b9713b294f"
      },
      "outputs": [
        {
          "output_type": "stream",
          "name": "stdout",
          "text": [
            "748.2770205230797 0.8791979968955662 27.354652630276256\n"
          ]
        }
      ],
      "source": [
        "from sklearn.metrics import mean_squared_error, r2_score \n",
        "\n",
        "mse = mean_squared_error(y, pred)\n",
        "r2 = r2_score(y, pred)\n",
        "\n",
        "print(mse, r2, np.sqrt(mse))"
      ]
    },
    {
      "cell_type": "code",
      "execution_count": 211,
      "metadata": {
        "id": "44TSsnRePWeB",
        "colab": {
          "base_uri": "https://localhost:8080/"
        },
        "outputId": "7537dff4-741c-4a0a-e8b2-2abb526066f1"
      },
      "outputs": [
        {
          "output_type": "execute_result",
          "data": {
            "text/plain": [
              "(array([83.37148916]), 6.081043166432561)"
            ]
          },
          "metadata": {},
          "execution_count": 211
        }
      ],
      "source": [
        "lr.coef_, lr.intercept_"
      ]
    },
    {
      "cell_type": "code",
      "execution_count": 212,
      "metadata": {
        "id": "B6k8rByBPWhT"
      },
      "outputs": [],
      "source": [
        "y_hat = X*lr.coef_ + lr.intercept_"
      ]
    },
    {
      "cell_type": "code",
      "execution_count": 213,
      "metadata": {
        "id": "91IWCVtZPWjx",
        "colab": {
          "base_uri": "https://localhost:8080/",
          "height": 282
        },
        "outputId": "7589033c-1525-4517-eeec-beb9a8c96b5f"
      },
      "outputs": [
        {
          "output_type": "execute_result",
          "data": {
            "text/plain": [
              "[<matplotlib.lines.Line2D at 0x7fca8de11040>]"
            ]
          },
          "metadata": {},
          "execution_count": 213
        },
        {
          "output_type": "display_data",
          "data": {
            "text/plain": [
              "<Figure size 432x288 with 1 Axes>"
            ],
            "image/png": "[encoded data removed]"
          },
          "metadata": {
            "needs_background": "light"
          }
        }
      ],
      "source": [
        "plt.scatter(X, y)\n",
        "plt.plot(X, y_hat, color = 'red')"
      ]
    },
    {
      "cell_type": "code",
      "execution_count": 214,
      "metadata": {
        "id": "Y5pdRElrPWmR"
      },
      "outputs": [],
      "source": [
        "from sklearn.model_selection import train_test_split\n",
        "from sklearn.tree import DecisionTreeRegressor\n",
        "from sklearn.neighbors import KNeighborsRegressor\n",
        "from sklearn.ensemble import RandomForestRegressor, VotingRegressor\n",
        "from sklearn.linear_model import LinearRegression\n",
        "\n",
        "X_train, X_test, y_train, y_test = train_test_split(X, y, test_size=0.2, random_state=1)"
      ]
    },
    {
      "cell_type": "code",
      "execution_count": 215,
      "metadata": {
        "id": "1cPckLCbPWo9"
      },
      "outputs": [],
      "source": [
        "knn = KNeighborsRegressor(n_neighbors=3)\n",
        "tree = DecisionTreeRegressor(max_depth=5)\n",
        "rf = RandomForestRegressor(n_estimators=200, max_depth=2)\n",
        "lr = LinearRegression()\n",
        "\n",
        "estimators=[('knn', knn),('tree',tree),('rf',rf),('lr',lr)]"
      ]
    },
    {
      "cell_type": "code",
      "execution_count": 216,
      "metadata": {
        "id": "-yL9FRJsS3Ur"
      },
      "outputs": [],
      "source": [
        "# 여러개 한 번에 \n",
        "def print_metrics(y, y_pred, title=None):\n",
        "  mse = mean_squared_error(y, y_pred)\n",
        "  rmse = np.sqrt(mse)\n",
        "  r2 = r2_score(y, y_pred)\n",
        "\n",
        "  if title:\n",
        "    print(title)\n",
        "  print(f\"MSE:{mse}, RMSE:{rmse}, R2:{r2}\")"
      ]
    },
    {
      "cell_type": "code",
      "execution_count": 217,
      "metadata": {
        "id": "dJhtalF7T7yX",
        "colab": {
          "base_uri": "https://localhost:8080/"
        },
        "outputId": "dacb7de8-aa58-4f97-e76d-6d83febdf938"
      },
      "outputs": [
        {
          "output_type": "stream",
          "name": "stdout",
          "text": [
            "knn Train\n",
            "MSE:518.5805009545331, RMSE:22.772362656398503, R2:0.9145690683638479\n",
            "knn Test\n",
            "MSE:1111.7165014848215, RMSE:33.34241295234677, R2:0.8326862049646492\n",
            "----------------------------------------------------------------------\n",
            "tree Train\n",
            "MSE:308.3248571701649, RMSE:17.55918156322113, R2:0.9492065749750584\n",
            "tree Test\n",
            "MSE:1806.211010940225, RMSE:42.49954130270378, R2:0.7281644929517379\n",
            "----------------------------------------------------------------------\n",
            "rf Train\n",
            "MSE:698.8034598320654, RMSE:26.434890955554657, R2:0.8848791451006486\n",
            "rf Test\n",
            "MSE:965.822730936882, RMSE:31.077688635689785, R2:0.8546432780042147\n",
            "----------------------------------------------------------------------\n",
            "lr Train\n",
            "MSE:718.6380926330148, RMSE:26.80742607250862, R2:0.8816115884614631\n",
            "lr Test\n",
            "MSE:869.5538784172734, RMSE:29.488198968693787, R2:0.8691317802772685\n",
            "----------------------------------------------------------------------\n"
          ]
        }
      ],
      "source": [
        "for name, model in estimators:\n",
        "  model.fit(X_train, y_train)\n",
        "  pred_train = model.predict(X_train)\n",
        "  pred_test = model.predict(X_test)\n",
        "\n",
        "  print_metrics(y_train, pred_train, name+\" Train\")\n",
        "  print_metrics(y_test, pred_test, name+\" Test\")\n",
        "  print(\"-\"*70)"
      ]
    },
    {
      "cell_type": "code",
      "execution_count": 218,
      "metadata": {
        "id": "h3Zdcb4NS3X9"
      },
      "outputs": [],
      "source": [
        "estimators=[('knn', knn),('rf',rf),('lr',lr)]\n",
        "\n",
        "vote = VotingRegressor(estimators)\n",
        "vote.fit(X_train, y_train)\n",
        "pred_train = vote.predict(X_train)\n",
        "pred_test = vote.predict(X_test)"
      ]
    },
    {
      "cell_type": "code",
      "execution_count": 219,
      "metadata": {
        "id": "o-czFeC-S3Zu",
        "colab": {
          "base_uri": "https://localhost:8080/"
        },
        "outputId": "9b057b2b-7c0c-477b-c435-58e17d61ea79"
      },
      "outputs": [
        {
          "output_type": "stream",
          "name": "stdout",
          "text": [
            "MSE:572.4727546765574, RMSE:23.926402877920395, R2:0.9056908605736015\n",
            "MSE:911.0464618692343, RMSE:30.183546210961268, R2:0.8628871292408788\n"
          ]
        }
      ],
      "source": [
        "print_metrics(y_train, pred_train)\n",
        "print_metrics(y_test, pred_test)"
      ]
    },
    {
      "cell_type": "code",
      "execution_count": 220,
      "metadata": {
        "id": "wbQAax3qS3cT",
        "colab": {
          "base_uri": "https://localhost:8080/"
        },
        "outputId": "8e83daae-32ac-4440-be24-5cf4eeead730"
      },
      "outputs": [
        {
          "output_type": "execute_result",
          "data": {
            "text/plain": [
              "DecisionTreeRegressor(max_depth=3)"
            ]
          },
          "metadata": {},
          "execution_count": 220
        }
      ],
      "source": [
        "tree2 = DecisionTreeRegressor(max_depth=3)\n",
        "\n",
        "tree2.fit(X_train, y_train)"
      ]
    },
    {
      "cell_type": "code",
      "execution_count": 221,
      "metadata": {
        "id": "ykfOTbdBS3e2",
        "colab": {
          "base_uri": "https://localhost:8080/",
          "height": 538
        },
        "outputId": "d3525626-6cc1-4ac9-e1a4-89c23a256b2f"
      },
      "outputs": [
        {
          "output_type": "display_data",
          "data": {
            "text/plain": [
              "<IPython.core.display.SVG object>"
            ],
            "image/svg+xml": "<svg xmlns=\"http://www.w3.org/2000/svg\" xmlns:xlink=\"http://www.w3.org/1999/xlink\" width=\"1522pt\" height=\"373pt\" viewBox=\"0.00 0.00 1522.00 373.00\">\n<g id=\"graph0\" class=\"graph\" transform=\"scale(1 1) rotate(0) translate(4 369)\">\n<title>Tree</title>\n<polygon fill=\"#ffffff\" stroke=\"transparent\" points=\"-4,4 -4,-369 1518,-369 1518,4 -4,4\"/>\n<!-- 0 -->\n<g id=\"node1\" class=\"node\">\n<title>0</title>\n<path fill=\"#f0b48a\" stroke=\"#000000\" d=\"M815,-365C815,-365 654,-365 654,-365 648,-365 642,-359 642,-353 642,-353 642,-309 642,-309 642,-303 648,-297 654,-297 654,-297 815,-297 815,-297 821,-297 827,-303 827,-309 827,-309 827,-353 827,-353 827,-359 821,-365 815,-365\"/>\n<text text-anchor=\"middle\" x=\"734.5\" y=\"-349.8\" font-family=\"Helvetica,sans-Serif\" font-size=\"14.00\" fill=\"#000000\">X[0] &lt;= 0.015</text>\n<text text-anchor=\"middle\" x=\"734.5\" y=\"-334.8\" font-family=\"Helvetica,sans-Serif\" font-size=\"14.00\" fill=\"#000000\">squared_error = 6070.173</text>\n<text text-anchor=\"middle\" x=\"734.5\" y=\"-319.8\" font-family=\"Helvetica,sans-Serif\" font-size=\"14.00\" fill=\"#000000\">samples = 80</text>\n<text text-anchor=\"middle\" x=\"734.5\" y=\"-304.8\" font-family=\"Helvetica,sans-Serif\" font-size=\"14.00\" fill=\"#000000\">value = 12.649</text>\n</g>\n<!-- 1 -->\n<g id=\"node2\" class=\"node\">\n<title>1</title>\n<path fill=\"#f4c9aa\" stroke=\"#000000\" d=\"M631,-261C631,-261 470,-261 470,-261 464,-261 458,-255 458,-249 458,-249 458,-205 458,-205 458,-199 464,-193 470,-193 470,-193 631,-193 631,-193 637,-193 643,-199 643,-205 643,-205 643,-249 643,-249 643,-255 637,-261 631,-261\"/>\n<text text-anchor=\"middle\" x=\"550.5\" y=\"-245.8\" font-family=\"Helvetica,sans-Serif\" font-size=\"14.00\" fill=\"#000000\">X[0] &lt;= -1.42</text>\n<text text-anchor=\"middle\" x=\"550.5\" y=\"-230.8\" font-family=\"Helvetica,sans-Serif\" font-size=\"14.00\" fill=\"#000000\">squared_error = 2321.816</text>\n<text text-anchor=\"middle\" x=\"550.5\" y=\"-215.8\" font-family=\"Helvetica,sans-Serif\" font-size=\"14.00\" fill=\"#000000\">samples = 38</text>\n<text text-anchor=\"middle\" x=\"550.5\" y=\"-200.8\" font-family=\"Helvetica,sans-Serif\" font-size=\"14.00\" fill=\"#000000\">value = -47.885</text>\n</g>\n<!-- 0&#45;&gt;1 -->\n<g id=\"edge1\" class=\"edge\">\n<title>0-&gt;1</title>\n<path fill=\"none\" stroke=\"#000000\" d=\"M674.2515,-296.9465C656.7779,-287.0701 637.5625,-276.2093 619.5924,-266.0522\"/>\n<polygon fill=\"#000000\" stroke=\"#000000\" points=\"621.3117,-263.0036 610.8838,-261.13 617.8673,-269.0976 621.3117,-263.0036\"/>\n<text text-anchor=\"middle\" x=\"617.5749\" y=\"-281.5179\" font-family=\"Helvetica,sans-Serif\" font-size=\"14.00\" fill=\"#000000\">True</text>\n</g>\n<!-- 8 -->\n<g id=\"node9\" class=\"node\">\n<title>8</title>\n<path fill=\"#eca26d\" stroke=\"#000000\" d=\"M1014,-261C1014,-261 853,-261 853,-261 847,-261 841,-255 841,-249 841,-249 841,-205 841,-205 841,-199 847,-193 853,-193 853,-193 1014,-193 1014,-193 1020,-193 1026,-199 1026,-205 1026,-205 1026,-249 1026,-249 1026,-255 1020,-261 1014,-261\"/>\n<text text-anchor=\"middle\" x=\"933.5\" y=\"-245.8\" font-family=\"Helvetica,sans-Serif\" font-size=\"14.00\" fill=\"#000000\">X[0] &lt;= 1.138</text>\n<text text-anchor=\"middle\" x=\"933.5\" y=\"-230.8\" font-family=\"Helvetica,sans-Serif\" font-size=\"14.00\" fill=\"#000000\">squared_error = 3146.529</text>\n<text text-anchor=\"middle\" x=\"933.5\" y=\"-215.8\" font-family=\"Helvetica,sans-Serif\" font-size=\"14.00\" fill=\"#000000\">samples = 42</text>\n<text text-anchor=\"middle\" x=\"933.5\" y=\"-200.8\" font-family=\"Helvetica,sans-Serif\" font-size=\"14.00\" fill=\"#000000\">value = 67.418</text>\n</g>\n<!-- 0&#45;&gt;8 -->\n<g id=\"edge8\" class=\"edge\">\n<title>0-&gt;8</title>\n<path fill=\"none\" stroke=\"#000000\" d=\"M799.66,-296.9465C818.7299,-286.9803 839.718,-276.0117 859.3048,-265.7754\"/>\n<polygon fill=\"#000000\" stroke=\"#000000\" points=\"860.952,-268.8637 868.1936,-261.13 857.7098,-262.6599 860.952,-268.8637\"/>\n<text text-anchor=\"middle\" x=\"860.7143\" y=\"-281.285\" font-family=\"Helvetica,sans-Serif\" font-size=\"14.00\" fill=\"#000000\">False</text>\n</g>\n<!-- 2 -->\n<g id=\"node3\" class=\"node\">\n<title>2</title>\n<path fill=\"#fdf5ef\" stroke=\"#000000\" d=\"M350,-157C350,-157 189,-157 189,-157 183,-157 177,-151 177,-145 177,-145 177,-101 177,-101 177,-95 183,-89 189,-89 189,-89 350,-89 350,-89 356,-89 362,-95 362,-101 362,-101 362,-145 362,-145 362,-151 356,-157 350,-157\"/>\n<text text-anchor=\"middle\" x=\"269.5\" y=\"-141.8\" font-family=\"Helvetica,sans-Serif\" font-size=\"14.00\" fill=\"#000000\">X[0] &lt;= -1.733</text>\n<text text-anchor=\"middle\" x=\"269.5\" y=\"-126.8\" font-family=\"Helvetica,sans-Serif\" font-size=\"14.00\" fill=\"#000000\">squared_error = 1801.855</text>\n<text text-anchor=\"middle\" x=\"269.5\" y=\"-111.8\" font-family=\"Helvetica,sans-Serif\" font-size=\"14.00\" fill=\"#000000\">samples = 3</text>\n<text text-anchor=\"middle\" x=\"269.5\" y=\"-96.8\" font-family=\"Helvetica,sans-Serif\" font-size=\"14.00\" fill=\"#000000\">value = -177.855</text>\n</g>\n<!-- 1&#45;&gt;2 -->\n<g id=\"edge2\" class=\"edge\">\n<title>1-&gt;2</title>\n<path fill=\"none\" stroke=\"#000000\" d=\"M458.4901,-192.9465C430.5919,-182.6212 399.7864,-171.2199 371.286,-160.6717\"/>\n<polygon fill=\"#000000\" stroke=\"#000000\" points=\"372.3098,-157.3186 361.7166,-157.13 369.8801,-163.8834 372.3098,-157.3186\"/>\n</g>\n<!-- 5 -->\n<g id=\"node6\" class=\"node\">\n<title>5</title>\n<path fill=\"#f3c5a4\" stroke=\"#000000\" d=\"M627,-157C627,-157 474,-157 474,-157 468,-157 462,-151 462,-145 462,-145 462,-101 462,-101 462,-95 468,-89 474,-89 474,-89 627,-89 627,-89 633,-89 639,-95 639,-101 639,-101 639,-145 639,-145 639,-151 633,-157 627,-157\"/>\n<text text-anchor=\"middle\" x=\"550.5\" y=\"-141.8\" font-family=\"Helvetica,sans-Serif\" font-size=\"14.00\" fill=\"#000000\">X[0] &lt;= -0.803</text>\n<text text-anchor=\"middle\" x=\"550.5\" y=\"-126.8\" font-family=\"Helvetica,sans-Serif\" font-size=\"14.00\" fill=\"#000000\">squared_error = 794.376</text>\n<text text-anchor=\"middle\" x=\"550.5\" y=\"-111.8\" font-family=\"Helvetica,sans-Serif\" font-size=\"14.00\" fill=\"#000000\">samples = 35</text>\n<text text-anchor=\"middle\" x=\"550.5\" y=\"-96.8\" font-family=\"Helvetica,sans-Serif\" font-size=\"14.00\" fill=\"#000000\">value = -36.745</text>\n</g>\n<!-- 1&#45;&gt;5 -->\n<g id=\"edge5\" class=\"edge\">\n<title>1-&gt;5</title>\n<path fill=\"none\" stroke=\"#000000\" d=\"M550.5,-192.9465C550.5,-184.776 550.5,-175.9318 550.5,-167.3697\"/>\n<polygon fill=\"#000000\" stroke=\"#000000\" points=\"554.0001,-167.13 550.5,-157.13 547.0001,-167.13 554.0001,-167.13\"/>\n</g>\n<!-- 3 -->\n<g id=\"node4\" class=\"node\">\n<title>3</title>\n<path fill=\"#ffffff\" stroke=\"#000000\" d=\"M165,-53C165,-53 12,-53 12,-53 6,-53 0,-47 0,-41 0,-41 0,-12 0,-12 0,-6 6,0 12,0 12,0 165,0 165,0 171,0 177,-6 177,-12 177,-12 177,-41 177,-41 177,-47 171,-53 165,-53\"/>\n<text text-anchor=\"middle\" x=\"88.5\" y=\"-37.8\" font-family=\"Helvetica,sans-Serif\" font-size=\"14.00\" fill=\"#000000\">squared_error = 125.092</text>\n<text text-anchor=\"middle\" x=\"88.5\" y=\"-22.8\" font-family=\"Helvetica,sans-Serif\" font-size=\"14.00\" fill=\"#000000\">samples = 2</text>\n<text text-anchor=\"middle\" x=\"88.5\" y=\"-7.8\" font-family=\"Helvetica,sans-Serif\" font-size=\"14.00\" fill=\"#000000\">value = -207.168</text>\n</g>\n<!-- 2&#45;&gt;3 -->\n<g id=\"edge3\" class=\"edge\">\n<title>2-&gt;3</title>\n<path fill=\"none\" stroke=\"#000000\" d=\"M205.6862,-88.9777C186.7059,-78.8584 166.0058,-67.8222 147.3567,-57.8794\"/>\n<polygon fill=\"#000000\" stroke=\"#000000\" points=\"148.8538,-54.7112 138.3829,-53.095 145.5605,-60.8882 148.8538,-54.7112\"/>\n</g>\n<!-- 4 -->\n<g id=\"node5\" class=\"node\">\n<title>4</title>\n<path fill=\"#f9e1d0\" stroke=\"#000000\" d=\"M332,-53C332,-53 207,-53 207,-53 201,-53 195,-47 195,-41 195,-41 195,-12 195,-12 195,-6 201,0 207,0 207,0 332,0 332,0 338,0 344,-6 344,-12 344,-12 344,-41 344,-41 344,-47 338,-53 332,-53\"/>\n<text text-anchor=\"middle\" x=\"269.5\" y=\"-37.8\" font-family=\"Helvetica,sans-Serif\" font-size=\"14.00\" fill=\"#000000\">squared_error = -0.0</text>\n<text text-anchor=\"middle\" x=\"269.5\" y=\"-22.8\" font-family=\"Helvetica,sans-Serif\" font-size=\"14.00\" fill=\"#000000\">samples = 1</text>\n<text text-anchor=\"middle\" x=\"269.5\" y=\"-7.8\" font-family=\"Helvetica,sans-Serif\" font-size=\"14.00\" fill=\"#000000\">value = -119.23</text>\n</g>\n<!-- 2&#45;&gt;4 -->\n<g id=\"edge4\" class=\"edge\">\n<title>2-&gt;4</title>\n<path fill=\"none\" stroke=\"#000000\" d=\"M269.5,-88.9777C269.5,-80.7364 269.5,-71.887 269.5,-63.5153\"/>\n<polygon fill=\"#000000\" stroke=\"#000000\" points=\"273.0001,-63.2484 269.5,-53.2485 266.0001,-63.2485 273.0001,-63.2484\"/>\n</g>\n<!-- 6 -->\n<g id=\"node7\" class=\"node\">\n<title>6</title>\n<path fill=\"#f6d1b7\" stroke=\"#000000\" d=\"M527,-53C527,-53 374,-53 374,-53 368,-53 362,-47 362,-41 362,-41 362,-12 362,-12 362,-6 368,0 374,0 374,0 527,0 527,0 533,0 539,-6 539,-12 539,-12 539,-41 539,-41 539,-47 533,-53 527,-53\"/>\n<text text-anchor=\"middle\" x=\"450.5\" y=\"-37.8\" font-family=\"Helvetica,sans-Serif\" font-size=\"14.00\" fill=\"#000000\">squared_error = 409.177</text>\n<text text-anchor=\"middle\" x=\"450.5\" y=\"-22.8\" font-family=\"Helvetica,sans-Serif\" font-size=\"14.00\" fill=\"#000000\">samples = 7</text>\n<text text-anchor=\"middle\" x=\"450.5\" y=\"-7.8\" font-family=\"Helvetica,sans-Serif\" font-size=\"14.00\" fill=\"#000000\">value = -72.928</text>\n</g>\n<!-- 5&#45;&gt;6 -->\n<g id=\"edge6\" class=\"edge\">\n<title>5-&gt;6</title>\n<path fill=\"none\" stroke=\"#000000\" d=\"M515.2437,-88.9777C505.5649,-79.6376 495.0765,-69.5163 485.4168,-60.1947\"/>\n<polygon fill=\"#000000\" stroke=\"#000000\" points=\"487.8449,-57.674 478.2186,-53.2485 482.9841,-62.7111 487.8449,-57.674\"/>\n</g>\n<!-- 7 -->\n<g id=\"node8\" class=\"node\">\n<title>7</title>\n<path fill=\"#f2c29f\" stroke=\"#000000\" d=\"M722,-53C722,-53 569,-53 569,-53 563,-53 557,-47 557,-41 557,-41 557,-12 557,-12 557,-6 563,0 569,0 569,0 722,0 722,0 728,0 734,-6 734,-12 734,-12 734,-41 734,-41 734,-47 728,-53 722,-53\"/>\n<text text-anchor=\"middle\" x=\"645.5\" y=\"-37.8\" font-family=\"Helvetica,sans-Serif\" font-size=\"14.00\" fill=\"#000000\">squared_error = 481.544</text>\n<text text-anchor=\"middle\" x=\"645.5\" y=\"-22.8\" font-family=\"Helvetica,sans-Serif\" font-size=\"14.00\" fill=\"#000000\">samples = 28</text>\n<text text-anchor=\"middle\" x=\"645.5\" y=\"-7.8\" font-family=\"Helvetica,sans-Serif\" font-size=\"14.00\" fill=\"#000000\">value = -27.699</text>\n</g>\n<!-- 5&#45;&gt;7 -->\n<g id=\"edge7\" class=\"edge\">\n<title>5-&gt;7</title>\n<path fill=\"none\" stroke=\"#000000\" d=\"M583.9934,-88.9777C593.0982,-79.7292 602.957,-69.7147 612.0589,-60.4691\"/>\n<polygon fill=\"#000000\" stroke=\"#000000\" points=\"614.646,-62.8302 619.1673,-53.2485 609.6576,-57.9193 614.646,-62.8302\"/>\n</g>\n<!-- 9 -->\n<g id=\"node10\" class=\"node\">\n<title>9</title>\n<path fill=\"#eeaa7a\" stroke=\"#000000\" d=\"M1014,-157C1014,-157 853,-157 853,-157 847,-157 841,-151 841,-145 841,-145 841,-101 841,-101 841,-95 847,-89 853,-89 853,-89 1014,-89 1014,-89 1020,-89 1026,-95 1026,-101 1026,-101 1026,-145 1026,-145 1026,-151 1020,-157 1014,-157\"/>\n<text text-anchor=\"middle\" x=\"933.5\" y=\"-141.8\" font-family=\"Helvetica,sans-Serif\" font-size=\"14.00\" fill=\"#000000\">X[0] &lt;= 0.6</text>\n<text text-anchor=\"middle\" x=\"933.5\" y=\"-126.8\" font-family=\"Helvetica,sans-Serif\" font-size=\"14.00\" fill=\"#000000\">squared_error = 1198.631</text>\n<text text-anchor=\"middle\" x=\"933.5\" y=\"-111.8\" font-family=\"Helvetica,sans-Serif\" font-size=\"14.00\" fill=\"#000000\">samples = 32</text>\n<text text-anchor=\"middle\" x=\"933.5\" y=\"-96.8\" font-family=\"Helvetica,sans-Serif\" font-size=\"14.00\" fill=\"#000000\">value = 42.454</text>\n</g>\n<!-- 8&#45;&gt;9 -->\n<g id=\"edge9\" class=\"edge\">\n<title>8-&gt;9</title>\n<path fill=\"none\" stroke=\"#000000\" d=\"M933.5,-192.9465C933.5,-184.776 933.5,-175.9318 933.5,-167.3697\"/>\n<polygon fill=\"#000000\" stroke=\"#000000\" points=\"937.0001,-167.13 933.5,-157.13 930.0001,-167.13 937.0001,-167.13\"/>\n</g>\n<!-- 12 -->\n<g id=\"node13\" class=\"node\">\n<title>12</title>\n<path fill=\"#e68742\" stroke=\"#000000\" d=\"M1303,-157C1303,-157 1158,-157 1158,-157 1152,-157 1146,-151 1146,-145 1146,-145 1146,-101 1146,-101 1146,-95 1152,-89 1158,-89 1158,-89 1303,-89 1303,-89 1309,-89 1315,-95 1315,-101 1315,-101 1315,-145 1315,-145 1315,-151 1309,-157 1303,-157\"/>\n<text text-anchor=\"middle\" x=\"1230.5\" y=\"-141.8\" font-family=\"Helvetica,sans-Serif\" font-size=\"14.00\" fill=\"#000000\">X[0] &lt;= 1.491</text>\n<text text-anchor=\"middle\" x=\"1230.5\" y=\"-126.8\" font-family=\"Helvetica,sans-Serif\" font-size=\"14.00\" fill=\"#000000\">squared_error = 1004.3</text>\n<text text-anchor=\"middle\" x=\"1230.5\" y=\"-111.8\" font-family=\"Helvetica,sans-Serif\" font-size=\"14.00\" fill=\"#000000\">samples = 10</text>\n<text text-anchor=\"middle\" x=\"1230.5\" y=\"-96.8\" font-family=\"Helvetica,sans-Serif\" font-size=\"14.00\" fill=\"#000000\">value = 147.301</text>\n</g>\n<!-- 8&#45;&gt;12 -->\n<g id=\"edge12\" class=\"edge\">\n<title>8-&gt;12</title>\n<path fill=\"none\" stroke=\"#000000\" d=\"M1026.251,-194.5215C1061.0998,-182.3186 1100.7402,-168.4378 1135.7668,-156.1726\"/>\n<polygon fill=\"#000000\" stroke=\"#000000\" points=\"1137.2346,-159.367 1145.516,-152.7587 1134.9211,-152.7604 1137.2346,-159.367\"/>\n</g>\n<!-- 10 -->\n<g id=\"node11\" class=\"node\">\n<title>10</title>\n<path fill=\"#efaf82\" stroke=\"#000000\" d=\"M909,-53C909,-53 764,-53 764,-53 758,-53 752,-47 752,-41 752,-41 752,-12 752,-12 752,-6 758,0 764,0 764,0 909,0 909,0 915,0 921,-6 921,-12 921,-12 921,-41 921,-41 921,-47 915,-53 909,-53\"/>\n<text text-anchor=\"middle\" x=\"836.5\" y=\"-37.8\" font-family=\"Helvetica,sans-Serif\" font-size=\"14.00\" fill=\"#000000\">squared_error = 582.84</text>\n<text text-anchor=\"middle\" x=\"836.5\" y=\"-22.8\" font-family=\"Helvetica,sans-Serif\" font-size=\"14.00\" fill=\"#000000\">samples = 22</text>\n<text text-anchor=\"middle\" x=\"836.5\" y=\"-7.8\" font-family=\"Helvetica,sans-Serif\" font-size=\"14.00\" fill=\"#000000\">value = 28.007</text>\n</g>\n<!-- 9&#45;&gt;10 -->\n<g id=\"edge10\" class=\"edge\">\n<title>9-&gt;10</title>\n<path fill=\"none\" stroke=\"#000000\" d=\"M899.3014,-88.9777C890.005,-79.7292 879.9386,-69.7147 870.6451,-60.4691\"/>\n<polygon fill=\"#000000\" stroke=\"#000000\" points=\"872.9449,-57.82 863.3871,-53.2485 868.0079,-62.7825 872.9449,-57.82\"/>\n</g>\n<!-- 11 -->\n<g id=\"node12\" class=\"node\">\n<title>11</title>\n<path fill=\"#eba069\" stroke=\"#000000\" d=\"M1112,-53C1112,-53 951,-53 951,-53 945,-53 939,-47 939,-41 939,-41 939,-12 939,-12 939,-6 945,0 951,0 951,0 1112,0 1112,0 1118,0 1124,-6 1124,-12 1124,-12 1124,-41 1124,-41 1124,-47 1118,-53 1112,-53\"/>\n<text text-anchor=\"middle\" x=\"1031.5\" y=\"-37.8\" font-family=\"Helvetica,sans-Serif\" font-size=\"14.00\" fill=\"#000000\">squared_error = 1083.993</text>\n<text text-anchor=\"middle\" x=\"1031.5\" y=\"-22.8\" font-family=\"Helvetica,sans-Serif\" font-size=\"14.00\" fill=\"#000000\">samples = 10</text>\n<text text-anchor=\"middle\" x=\"1031.5\" y=\"-7.8\" font-family=\"Helvetica,sans-Serif\" font-size=\"14.00\" fill=\"#000000\">value = 74.238</text>\n</g>\n<!-- 9&#45;&gt;11 -->\n<g id=\"edge11\" class=\"edge\">\n<title>9-&gt;11</title>\n<path fill=\"none\" stroke=\"#000000\" d=\"M968.0511,-88.9777C977.4434,-79.7292 987.6136,-69.7147 997.0029,-60.4691\"/>\n<polygon fill=\"#000000\" stroke=\"#000000\" points=\"999.6661,-62.7587 1004.3357,-53.2485 994.7546,-57.7709 999.6661,-62.7587\"/>\n</g>\n<!-- 13 -->\n<g id=\"node14\" class=\"node\">\n<title>13</title>\n<path fill=\"#e99457\" stroke=\"#000000\" d=\"M1307,-53C1307,-53 1154,-53 1154,-53 1148,-53 1142,-47 1142,-41 1142,-41 1142,-12 1142,-12 1142,-6 1148,0 1154,0 1154,0 1307,0 1307,0 1313,0 1319,-6 1319,-12 1319,-12 1319,-41 1319,-41 1319,-47 1313,-53 1307,-53\"/>\n<text text-anchor=\"middle\" x=\"1230.5\" y=\"-37.8\" font-family=\"Helvetica,sans-Serif\" font-size=\"14.00\" fill=\"#000000\">squared_error = 122.492</text>\n<text text-anchor=\"middle\" x=\"1230.5\" y=\"-22.8\" font-family=\"Helvetica,sans-Serif\" font-size=\"14.00\" fill=\"#000000\">samples = 3</text>\n<text text-anchor=\"middle\" x=\"1230.5\" y=\"-7.8\" font-family=\"Helvetica,sans-Serif\" font-size=\"14.00\" fill=\"#000000\">value = 107.876</text>\n</g>\n<!-- 12&#45;&gt;13 -->\n<g id=\"edge13\" class=\"edge\">\n<title>12-&gt;13</title>\n<path fill=\"none\" stroke=\"#000000\" d=\"M1230.5,-88.9777C1230.5,-80.7364 1230.5,-71.887 1230.5,-63.5153\"/>\n<polygon fill=\"#000000\" stroke=\"#000000\" points=\"1234.0001,-63.2484 1230.5,-53.2485 1227.0001,-63.2485 1234.0001,-63.2484\"/>\n</g>\n<!-- 14 -->\n<g id=\"node15\" class=\"node\">\n<title>14</title>\n<path fill=\"#e58139\" stroke=\"#000000\" d=\"M1502,-53C1502,-53 1349,-53 1349,-53 1343,-53 1337,-47 1337,-41 1337,-41 1337,-12 1337,-12 1337,-6 1343,0 1349,0 1349,0 1502,0 1502,0 1508,0 1514,-6 1514,-12 1514,-12 1514,-41 1514,-41 1514,-47 1508,-53 1502,-53\"/>\n<text text-anchor=\"middle\" x=\"1425.5\" y=\"-37.8\" font-family=\"Helvetica,sans-Serif\" font-size=\"14.00\" fill=\"#000000\">squared_error = 430.584</text>\n<text text-anchor=\"middle\" x=\"1425.5\" y=\"-22.8\" font-family=\"Helvetica,sans-Serif\" font-size=\"14.00\" fill=\"#000000\">samples = 7</text>\n<text text-anchor=\"middle\" x=\"1425.5\" y=\"-7.8\" font-family=\"Helvetica,sans-Serif\" font-size=\"14.00\" fill=\"#000000\">value = 164.198</text>\n</g>\n<!-- 12&#45;&gt;14 -->\n<g id=\"edge14\" class=\"edge\">\n<title>12-&gt;14</title>\n<path fill=\"none\" stroke=\"#000000\" d=\"M1299.2497,-88.9777C1319.8839,-78.7664 1342.4049,-67.6214 1362.6383,-57.6085\"/>\n<polygon fill=\"#000000\" stroke=\"#000000\" points=\"1364.3485,-60.6673 1371.7588,-53.095 1361.2438,-54.3935 1364.3485,-60.6673\"/>\n</g>\n</g>\n</svg>"
          },
          "metadata": {}
        }
      ],
      "source": [
        "from sklearn.tree import export_graphviz\n",
        "from graphviz import Source\n",
        "from IPython.display import SVG\n",
        "\n",
        "graph = Source(export_graphviz(tree2,\n",
        "                               out_file=None,\n",
        "                               rounded=True,\n",
        "                               filled=True))\n",
        "\n",
        "display(SVG(graph.pipe(format='svg')))"
      ]
    },
    {
      "cell_type": "code",
      "execution_count": 221,
      "metadata": {
        "id": "FxVm6kdjMn4l"
      },
      "outputs": [],
      "source": []
    }
  ],
  "metadata": {
    "colab": {
      "provenance": []
    },
    "kernelspec": {
      "display_name": "Python 3",
      "name": "python3"
    },
    "language_info": {
      "name": "python"
    }
  },
  "nbformat": 4,
  "nbformat_minor": 0
}
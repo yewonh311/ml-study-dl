{
  "cells": [
    {
      "cell_type": "code",
      "execution_count": 37,
      "metadata": {
        "colab": {
          "base_uri": "https://localhost:8080/"
        },
        "id": "fgUYOluWLjdp",
        "outputId": "97d0bac3-1218-46a3-d134-26d483bf26e6"
      },
      "outputs": [
        {
          "output_type": "execute_result",
          "data": {
            "text/plain": [
              "{'data': array([[5.1, 3.5, 1.4, 0.2],\n",
              "        [4.9, 3. , 1.4, 0.2],\n",
              "        [4.7, 3.2, 1.3, 0.2],\n",
              "        [4.6, 3.1, 1.5, 0.2],\n",
              "        [5. , 3.6, 1.4, 0.2],\n",
              "        [5.4, 3.9, 1.7, 0.4],\n",
              "        [4.6, 3.4, 1.4, 0.3],\n",
              "        [5. , 3.4, 1.5, 0.2],\n",
              "        [4.4, 2.9, 1.4, 0.2],\n",
              "        [4.9, 3.1, 1.5, 0.1],\n",
              "        [5.4, 3.7, 1.5, 0.2],\n",
              "        [4.8, 3.4, 1.6, 0.2],\n",
              "        [4.8, 3. , 1.4, 0.1],\n",
              "        [4.3, 3. , 1.1, 0.1],\n",
              "        [5.8, 4. , 1.2, 0.2],\n",
              "        [5.7, 4.4, 1.5, 0.4],\n",
              "        [5.4, 3.9, 1.3, 0.4],\n",
              "        [5.1, 3.5, 1.4, 0.3],\n",
              "        [5.7, 3.8, 1.7, 0.3],\n",
              "        [5.1, 3.8, 1.5, 0.3],\n",
              "        [5.4, 3.4, 1.7, 0.2],\n",
              "        [5.1, 3.7, 1.5, 0.4],\n",
              "        [4.6, 3.6, 1. , 0.2],\n",
              "        [5.1, 3.3, 1.7, 0.5],\n",
              "        [4.8, 3.4, 1.9, 0.2],\n",
              "        [5. , 3. , 1.6, 0.2],\n",
              "        [5. , 3.4, 1.6, 0.4],\n",
              "        [5.2, 3.5, 1.5, 0.2],\n",
              "        [5.2, 3.4, 1.4, 0.2],\n",
              "        [4.7, 3.2, 1.6, 0.2],\n",
              "        [4.8, 3.1, 1.6, 0.2],\n",
              "        [5.4, 3.4, 1.5, 0.4],\n",
              "        [5.2, 4.1, 1.5, 0.1],\n",
              "        [5.5, 4.2, 1.4, 0.2],\n",
              "        [4.9, 3.1, 1.5, 0.2],\n",
              "        [5. , 3.2, 1.2, 0.2],\n",
              "        [5.5, 3.5, 1.3, 0.2],\n",
              "        [4.9, 3.6, 1.4, 0.1],\n",
              "        [4.4, 3. , 1.3, 0.2],\n",
              "        [5.1, 3.4, 1.5, 0.2],\n",
              "        [5. , 3.5, 1.3, 0.3],\n",
              "        [4.5, 2.3, 1.3, 0.3],\n",
              "        [4.4, 3.2, 1.3, 0.2],\n",
              "        [5. , 3.5, 1.6, 0.6],\n",
              "        [5.1, 3.8, 1.9, 0.4],\n",
              "        [4.8, 3. , 1.4, 0.3],\n",
              "        [5.1, 3.8, 1.6, 0.2],\n",
              "        [4.6, 3.2, 1.4, 0.2],\n",
              "        [5.3, 3.7, 1.5, 0.2],\n",
              "        [5. , 3.3, 1.4, 0.2],\n",
              "        [7. , 3.2, 4.7, 1.4],\n",
              "        [6.4, 3.2, 4.5, 1.5],\n",
              "        [6.9, 3.1, 4.9, 1.5],\n",
              "        [5.5, 2.3, 4. , 1.3],\n",
              "        [6.5, 2.8, 4.6, 1.5],\n",
              "        [5.7, 2.8, 4.5, 1.3],\n",
              "        [6.3, 3.3, 4.7, 1.6],\n",
              "        [4.9, 2.4, 3.3, 1. ],\n",
              "        [6.6, 2.9, 4.6, 1.3],\n",
              "        [5.2, 2.7, 3.9, 1.4],\n",
              "        [5. , 2. , 3.5, 1. ],\n",
              "        [5.9, 3. , 4.2, 1.5],\n",
              "        [6. , 2.2, 4. , 1. ],\n",
              "        [6.1, 2.9, 4.7, 1.4],\n",
              "        [5.6, 2.9, 3.6, 1.3],\n",
              "        [6.7, 3.1, 4.4, 1.4],\n",
              "        [5.6, 3. , 4.5, 1.5],\n",
              "        [5.8, 2.7, 4.1, 1. ],\n",
              "        [6.2, 2.2, 4.5, 1.5],\n",
              "        [5.6, 2.5, 3.9, 1.1],\n",
              "        [5.9, 3.2, 4.8, 1.8],\n",
              "        [6.1, 2.8, 4. , 1.3],\n",
              "        [6.3, 2.5, 4.9, 1.5],\n",
              "        [6.1, 2.8, 4.7, 1.2],\n",
              "        [6.4, 2.9, 4.3, 1.3],\n",
              "        [6.6, 3. , 4.4, 1.4],\n",
              "        [6.8, 2.8, 4.8, 1.4],\n",
              "        [6.7, 3. , 5. , 1.7],\n",
              "        [6. , 2.9, 4.5, 1.5],\n",
              "        [5.7, 2.6, 3.5, 1. ],\n",
              "        [5.5, 2.4, 3.8, 1.1],\n",
              "        [5.5, 2.4, 3.7, 1. ],\n",
              "        [5.8, 2.7, 3.9, 1.2],\n",
              "        [6. , 2.7, 5.1, 1.6],\n",
              "        [5.4, 3. , 4.5, 1.5],\n",
              "        [6. , 3.4, 4.5, 1.6],\n",
              "        [6.7, 3.1, 4.7, 1.5],\n",
              "        [6.3, 2.3, 4.4, 1.3],\n",
              "        [5.6, 3. , 4.1, 1.3],\n",
              "        [5.5, 2.5, 4. , 1.3],\n",
              "        [5.5, 2.6, 4.4, 1.2],\n",
              "        [6.1, 3. , 4.6, 1.4],\n",
              "        [5.8, 2.6, 4. , 1.2],\n",
              "        [5. , 2.3, 3.3, 1. ],\n",
              "        [5.6, 2.7, 4.2, 1.3],\n",
              "        [5.7, 3. , 4.2, 1.2],\n",
              "        [5.7, 2.9, 4.2, 1.3],\n",
              "        [6.2, 2.9, 4.3, 1.3],\n",
              "        [5.1, 2.5, 3. , 1.1],\n",
              "        [5.7, 2.8, 4.1, 1.3],\n",
              "        [6.3, 3.3, 6. , 2.5],\n",
              "        [5.8, 2.7, 5.1, 1.9],\n",
              "        [7.1, 3. , 5.9, 2.1],\n",
              "        [6.3, 2.9, 5.6, 1.8],\n",
              "        [6.5, 3. , 5.8, 2.2],\n",
              "        [7.6, 3. , 6.6, 2.1],\n",
              "        [4.9, 2.5, 4.5, 1.7],\n",
              "        [7.3, 2.9, 6.3, 1.8],\n",
              "        [6.7, 2.5, 5.8, 1.8],\n",
              "        [7.2, 3.6, 6.1, 2.5],\n",
              "        [6.5, 3.2, 5.1, 2. ],\n",
              "        [6.4, 2.7, 5.3, 1.9],\n",
              "        [6.8, 3. , 5.5, 2.1],\n",
              "        [5.7, 2.5, 5. , 2. ],\n",
              "        [5.8, 2.8, 5.1, 2.4],\n",
              "        [6.4, 3.2, 5.3, 2.3],\n",
              "        [6.5, 3. , 5.5, 1.8],\n",
              "        [7.7, 3.8, 6.7, 2.2],\n",
              "        [7.7, 2.6, 6.9, 2.3],\n",
              "        [6. , 2.2, 5. , 1.5],\n",
              "        [6.9, 3.2, 5.7, 2.3],\n",
              "        [5.6, 2.8, 4.9, 2. ],\n",
              "        [7.7, 2.8, 6.7, 2. ],\n",
              "        [6.3, 2.7, 4.9, 1.8],\n",
              "        [6.7, 3.3, 5.7, 2.1],\n",
              "        [7.2, 3.2, 6. , 1.8],\n",
              "        [6.2, 2.8, 4.8, 1.8],\n",
              "        [6.1, 3. , 4.9, 1.8],\n",
              "        [6.4, 2.8, 5.6, 2.1],\n",
              "        [7.2, 3. , 5.8, 1.6],\n",
              "        [7.4, 2.8, 6.1, 1.9],\n",
              "        [7.9, 3.8, 6.4, 2. ],\n",
              "        [6.4, 2.8, 5.6, 2.2],\n",
              "        [6.3, 2.8, 5.1, 1.5],\n",
              "        [6.1, 2.6, 5.6, 1.4],\n",
              "        [7.7, 3. , 6.1, 2.3],\n",
              "        [6.3, 3.4, 5.6, 2.4],\n",
              "        [6.4, 3.1, 5.5, 1.8],\n",
              "        [6. , 3. , 4.8, 1.8],\n",
              "        [6.9, 3.1, 5.4, 2.1],\n",
              "        [6.7, 3.1, 5.6, 2.4],\n",
              "        [6.9, 3.1, 5.1, 2.3],\n",
              "        [5.8, 2.7, 5.1, 1.9],\n",
              "        [6.8, 3.2, 5.9, 2.3],\n",
              "        [6.7, 3.3, 5.7, 2.5],\n",
              "        [6.7, 3. , 5.2, 2.3],\n",
              "        [6.3, 2.5, 5. , 1.9],\n",
              "        [6.5, 3. , 5.2, 2. ],\n",
              "        [6.2, 3.4, 5.4, 2.3],\n",
              "        [5.9, 3. , 5.1, 1.8]]),\n",
              " 'target': array([0, 0, 0, 0, 0, 0, 0, 0, 0, 0, 0, 0, 0, 0, 0, 0, 0, 0, 0, 0, 0, 0,\n",
              "        0, 0, 0, 0, 0, 0, 0, 0, 0, 0, 0, 0, 0, 0, 0, 0, 0, 0, 0, 0, 0, 0,\n",
              "        0, 0, 0, 0, 0, 0, 1, 1, 1, 1, 1, 1, 1, 1, 1, 1, 1, 1, 1, 1, 1, 1,\n",
              "        1, 1, 1, 1, 1, 1, 1, 1, 1, 1, 1, 1, 1, 1, 1, 1, 1, 1, 1, 1, 1, 1,\n",
              "        1, 1, 1, 1, 1, 1, 1, 1, 1, 1, 1, 1, 2, 2, 2, 2, 2, 2, 2, 2, 2, 2,\n",
              "        2, 2, 2, 2, 2, 2, 2, 2, 2, 2, 2, 2, 2, 2, 2, 2, 2, 2, 2, 2, 2, 2,\n",
              "        2, 2, 2, 2, 2, 2, 2, 2, 2, 2, 2, 2, 2, 2, 2, 2, 2, 2]),\n",
              " 'frame': None,\n",
              " 'target_names': array(['setosa', 'versicolor', 'virginica'], dtype='<U10'),\n",
              " 'DESCR': '.. _iris_dataset:\\n\\nIris plants dataset\\n--------------------\\n\\n**Data Set Characteristics:**\\n\\n    :Number of Instances: 150 (50 in each of three classes)\\n    :Number of Attributes: 4 numeric, predictive attributes and the class\\n    :Attribute Information:\\n        - sepal length in cm\\n        - sepal width in cm\\n        - petal length in cm\\n        - petal width in cm\\n        - class:\\n                - Iris-Setosa\\n                - Iris-Versicolour\\n                - Iris-Virginica\\n                \\n    :Summary Statistics:\\n\\n    ============== ==== ==== ======= ===== ====================\\n                    Min  Max   Mean    SD   Class Correlation\\n    ============== ==== ==== ======= ===== ====================\\n    sepal length:   4.3  7.9   5.84   0.83    0.7826\\n    sepal width:    2.0  4.4   3.05   0.43   -0.4194\\n    petal length:   1.0  6.9   3.76   1.76    0.9490  (high!)\\n    petal width:    0.1  2.5   1.20   0.76    0.9565  (high!)\\n    ============== ==== ==== ======= ===== ====================\\n\\n    :Missing Attribute Values: None\\n    :Class Distribution: 33.3% for each of 3 classes.\\n    :Creator: R.A. Fisher\\n    :Donor: Michael Marshall (MARSHALL%PLU@io.arc.nasa.gov)\\n    :Date: July, 1988\\n\\nThe famous Iris database, first used by Sir R.A. Fisher. The dataset is taken\\nfrom Fisher\\'s paper. Note that it\\'s the same as in R, but not as in the UCI\\nMachine Learning Repository, which has two wrong data points.\\n\\nThis is perhaps the best known database to be found in the\\npattern recognition literature.  Fisher\\'s paper is a classic in the field and\\nis referenced frequently to this day.  (See Duda & Hart, for example.)  The\\ndata set contains 3 classes of 50 instances each, where each class refers to a\\ntype of iris plant.  One class is linearly separable from the other 2; the\\nlatter are NOT linearly separable from each other.\\n\\n.. topic:: References\\n\\n   - Fisher, R.A. \"The use of multiple measurements in taxonomic problems\"\\n     Annual Eugenics, 7, Part II, 179-188 (1936); also in \"Contributions to\\n     Mathematical Statistics\" (John Wiley, NY, 1950).\\n   - Duda, R.O., & Hart, P.E. (1973) Pattern Classification and Scene Analysis.\\n     (Q327.D83) John Wiley & Sons.  ISBN 0-471-22361-1.  See page 218.\\n   - Dasarathy, B.V. (1980) \"Nosing Around the Neighborhood: A New System\\n     Structure and Classification Rule for Recognition in Partially Exposed\\n     Environments\".  IEEE Transactions on Pattern Analysis and Machine\\n     Intelligence, Vol. PAMI-2, No. 1, 67-71.\\n   - Gates, G.W. (1972) \"The Reduced Nearest Neighbor Rule\".  IEEE Transactions\\n     on Information Theory, May 1972, 431-433.\\n   - See also: 1988 MLC Proceedings, 54-64.  Cheeseman et al\"s AUTOCLASS II\\n     conceptual clustering system finds 3 classes in the data.\\n   - Many, many more ...',\n",
              " 'feature_names': ['sepal length (cm)',\n",
              "  'sepal width (cm)',\n",
              "  'petal length (cm)',\n",
              "  'petal width (cm)'],\n",
              " 'filename': 'iris.csv',\n",
              " 'data_module': 'sklearn.datasets.data'}"
            ]
          },
          "metadata": {},
          "execution_count": 37
        }
      ],
      "source": [
        "from sklearn.datasets import load_iris\n",
        "iris = load_iris()\n",
        "iris"
      ]
    },
    {
      "cell_type": "code",
      "execution_count": 38,
      "metadata": {
        "colab": {
          "base_uri": "https://localhost:8080/"
        },
        "id": "4aXk_pDEL67-",
        "outputId": "f0d779ba-72ce-4b5b-8e42-7b9a66988aca"
      },
      "outputs": [
        {
          "output_type": "execute_result",
          "data": {
            "text/plain": [
              "dict_keys(['data', 'target', 'frame', 'target_names', 'DESCR', 'feature_names', 'filename', 'data_module'])"
            ]
          },
          "metadata": {},
          "execution_count": 38
        }
      ],
      "source": [
        "iris.keys()"
      ]
    },
    {
      "cell_type": "code",
      "execution_count": 39,
      "metadata": {
        "id": "6-4FqFBdL6_A"
      },
      "outputs": [],
      "source": [
        "import numpy as np"
      ]
    },
    {
      "cell_type": "code",
      "execution_count": 40,
      "metadata": {
        "colab": {
          "base_uri": "https://localhost:8080/"
        },
        "id": "a2fmX2BQL7E2",
        "outputId": "12eb5118-f68f-4b7a-d23b-1a0e99016c1a"
      },
      "outputs": [
        {
          "output_type": "stream",
          "name": "stdout",
          "text": [
            "150\n",
            "[0 1 2]\n",
            "['setosa' 'versicolor' 'virginica']\n"
          ]
        }
      ],
      "source": [
        "print(iris['target'].size)\n",
        "print(np.unique(iris['target']))\n",
        "print(iris['target_names'])"
      ]
    },
    {
      "cell_type": "code",
      "execution_count": 41,
      "metadata": {
        "colab": {
          "base_uri": "https://localhost:8080/"
        },
        "id": "uyPTdiPVh1uf",
        "outputId": "7395a2f4-d290-4d20-e166-c2bcdf6dc703"
      },
      "outputs": [
        {
          "output_type": "execute_result",
          "data": {
            "text/plain": [
              "array([0, 0, 0, 0, 0, 0, 0, 0, 0, 0, 0, 0, 0, 0, 0, 0, 0, 0, 0, 0, 0, 0,\n",
              "       0, 0, 0, 0, 0, 0, 0, 0, 0, 0, 0, 0, 0, 0, 0, 0, 0, 0, 0, 0, 0, 0,\n",
              "       0, 0, 0, 0, 0, 0, 1, 1, 1, 1, 1, 1, 1, 1, 1, 1, 1, 1, 1, 1, 1, 1,\n",
              "       1, 1, 1, 1, 1, 1, 1, 1, 1, 1, 1, 1, 1, 1, 1, 1, 1, 1, 1, 1, 1, 1,\n",
              "       1, 1, 1, 1, 1, 1, 1, 1, 1, 1, 1, 1, 2, 2, 2, 2, 2, 2, 2, 2, 2, 2,\n",
              "       2, 2, 2, 2, 2, 2, 2, 2, 2, 2, 2, 2, 2, 2, 2, 2, 2, 2, 2, 2, 2, 2,\n",
              "       2, 2, 2, 2, 2, 2, 2, 2, 2, 2, 2, 2, 2, 2, 2, 2, 2, 2])"
            ]
          },
          "metadata": {},
          "execution_count": 41
        }
      ],
      "source": [
        "iris['target']"
      ]
    },
    {
      "cell_type": "code",
      "execution_count": 42,
      "metadata": {
        "colab": {
          "base_uri": "https://localhost:8080/"
        },
        "id": "aQw-6u3Ph1xu",
        "outputId": "2c02584e-9e31-46b4-f7fe-724700cb6936"
      },
      "outputs": [
        {
          "output_type": "stream",
          "name": "stdout",
          "text": [
            "<class 'numpy.ndarray'>\n"
          ]
        },
        {
          "output_type": "execute_result",
          "data": {
            "text/plain": [
              "(150, 4)"
            ]
          },
          "metadata": {},
          "execution_count": 42
        }
      ],
      "source": [
        "print(type(iris['data']))\n",
        "iris['data'].shape"
      ]
    },
    {
      "cell_type": "code",
      "execution_count": 43,
      "metadata": {
        "colab": {
          "base_uri": "https://localhost:8080/"
        },
        "id": "Q4uZPBP_h10x",
        "outputId": "f403530a-2163-45f7-ee1a-d6a7d568d5ec"
      },
      "outputs": [
        {
          "output_type": "execute_result",
          "data": {
            "text/plain": [
              "array([[5.1, 3.5, 1.4, 0.2],\n",
              "       [4.9, 3. , 1.4, 0.2],\n",
              "       [4.7, 3.2, 1.3, 0.2],\n",
              "       [4.6, 3.1, 1.5, 0.2],\n",
              "       [5. , 3.6, 1.4, 0.2],\n",
              "       [5.4, 3.9, 1.7, 0.4],\n",
              "       [4.6, 3.4, 1.4, 0.3],\n",
              "       [5. , 3.4, 1.5, 0.2],\n",
              "       [4.4, 2.9, 1.4, 0.2],\n",
              "       [4.9, 3.1, 1.5, 0.1],\n",
              "       [5.4, 3.7, 1.5, 0.2],\n",
              "       [4.8, 3.4, 1.6, 0.2],\n",
              "       [4.8, 3. , 1.4, 0.1],\n",
              "       [4.3, 3. , 1.1, 0.1],\n",
              "       [5.8, 4. , 1.2, 0.2],\n",
              "       [5.7, 4.4, 1.5, 0.4],\n",
              "       [5.4, 3.9, 1.3, 0.4],\n",
              "       [5.1, 3.5, 1.4, 0.3],\n",
              "       [5.7, 3.8, 1.7, 0.3],\n",
              "       [5.1, 3.8, 1.5, 0.3],\n",
              "       [5.4, 3.4, 1.7, 0.2],\n",
              "       [5.1, 3.7, 1.5, 0.4],\n",
              "       [4.6, 3.6, 1. , 0.2],\n",
              "       [5.1, 3.3, 1.7, 0.5],\n",
              "       [4.8, 3.4, 1.9, 0.2],\n",
              "       [5. , 3. , 1.6, 0.2],\n",
              "       [5. , 3.4, 1.6, 0.4],\n",
              "       [5.2, 3.5, 1.5, 0.2],\n",
              "       [5.2, 3.4, 1.4, 0.2],\n",
              "       [4.7, 3.2, 1.6, 0.2],\n",
              "       [4.8, 3.1, 1.6, 0.2],\n",
              "       [5.4, 3.4, 1.5, 0.4],\n",
              "       [5.2, 4.1, 1.5, 0.1],\n",
              "       [5.5, 4.2, 1.4, 0.2],\n",
              "       [4.9, 3.1, 1.5, 0.2],\n",
              "       [5. , 3.2, 1.2, 0.2],\n",
              "       [5.5, 3.5, 1.3, 0.2],\n",
              "       [4.9, 3.6, 1.4, 0.1],\n",
              "       [4.4, 3. , 1.3, 0.2],\n",
              "       [5.1, 3.4, 1.5, 0.2],\n",
              "       [5. , 3.5, 1.3, 0.3],\n",
              "       [4.5, 2.3, 1.3, 0.3],\n",
              "       [4.4, 3.2, 1.3, 0.2],\n",
              "       [5. , 3.5, 1.6, 0.6],\n",
              "       [5.1, 3.8, 1.9, 0.4],\n",
              "       [4.8, 3. , 1.4, 0.3],\n",
              "       [5.1, 3.8, 1.6, 0.2],\n",
              "       [4.6, 3.2, 1.4, 0.2],\n",
              "       [5.3, 3.7, 1.5, 0.2],\n",
              "       [5. , 3.3, 1.4, 0.2],\n",
              "       [7. , 3.2, 4.7, 1.4],\n",
              "       [6.4, 3.2, 4.5, 1.5],\n",
              "       [6.9, 3.1, 4.9, 1.5],\n",
              "       [5.5, 2.3, 4. , 1.3],\n",
              "       [6.5, 2.8, 4.6, 1.5],\n",
              "       [5.7, 2.8, 4.5, 1.3],\n",
              "       [6.3, 3.3, 4.7, 1.6],\n",
              "       [4.9, 2.4, 3.3, 1. ],\n",
              "       [6.6, 2.9, 4.6, 1.3],\n",
              "       [5.2, 2.7, 3.9, 1.4],\n",
              "       [5. , 2. , 3.5, 1. ],\n",
              "       [5.9, 3. , 4.2, 1.5],\n",
              "       [6. , 2.2, 4. , 1. ],\n",
              "       [6.1, 2.9, 4.7, 1.4],\n",
              "       [5.6, 2.9, 3.6, 1.3],\n",
              "       [6.7, 3.1, 4.4, 1.4],\n",
              "       [5.6, 3. , 4.5, 1.5],\n",
              "       [5.8, 2.7, 4.1, 1. ],\n",
              "       [6.2, 2.2, 4.5, 1.5],\n",
              "       [5.6, 2.5, 3.9, 1.1],\n",
              "       [5.9, 3.2, 4.8, 1.8],\n",
              "       [6.1, 2.8, 4. , 1.3],\n",
              "       [6.3, 2.5, 4.9, 1.5],\n",
              "       [6.1, 2.8, 4.7, 1.2],\n",
              "       [6.4, 2.9, 4.3, 1.3],\n",
              "       [6.6, 3. , 4.4, 1.4],\n",
              "       [6.8, 2.8, 4.8, 1.4],\n",
              "       [6.7, 3. , 5. , 1.7],\n",
              "       [6. , 2.9, 4.5, 1.5],\n",
              "       [5.7, 2.6, 3.5, 1. ],\n",
              "       [5.5, 2.4, 3.8, 1.1],\n",
              "       [5.5, 2.4, 3.7, 1. ],\n",
              "       [5.8, 2.7, 3.9, 1.2],\n",
              "       [6. , 2.7, 5.1, 1.6],\n",
              "       [5.4, 3. , 4.5, 1.5],\n",
              "       [6. , 3.4, 4.5, 1.6],\n",
              "       [6.7, 3.1, 4.7, 1.5],\n",
              "       [6.3, 2.3, 4.4, 1.3],\n",
              "       [5.6, 3. , 4.1, 1.3],\n",
              "       [5.5, 2.5, 4. , 1.3],\n",
              "       [5.5, 2.6, 4.4, 1.2],\n",
              "       [6.1, 3. , 4.6, 1.4],\n",
              "       [5.8, 2.6, 4. , 1.2],\n",
              "       [5. , 2.3, 3.3, 1. ],\n",
              "       [5.6, 2.7, 4.2, 1.3],\n",
              "       [5.7, 3. , 4.2, 1.2],\n",
              "       [5.7, 2.9, 4.2, 1.3],\n",
              "       [6.2, 2.9, 4.3, 1.3],\n",
              "       [5.1, 2.5, 3. , 1.1],\n",
              "       [5.7, 2.8, 4.1, 1.3],\n",
              "       [6.3, 3.3, 6. , 2.5],\n",
              "       [5.8, 2.7, 5.1, 1.9],\n",
              "       [7.1, 3. , 5.9, 2.1],\n",
              "       [6.3, 2.9, 5.6, 1.8],\n",
              "       [6.5, 3. , 5.8, 2.2],\n",
              "       [7.6, 3. , 6.6, 2.1],\n",
              "       [4.9, 2.5, 4.5, 1.7],\n",
              "       [7.3, 2.9, 6.3, 1.8],\n",
              "       [6.7, 2.5, 5.8, 1.8],\n",
              "       [7.2, 3.6, 6.1, 2.5],\n",
              "       [6.5, 3.2, 5.1, 2. ],\n",
              "       [6.4, 2.7, 5.3, 1.9],\n",
              "       [6.8, 3. , 5.5, 2.1],\n",
              "       [5.7, 2.5, 5. , 2. ],\n",
              "       [5.8, 2.8, 5.1, 2.4],\n",
              "       [6.4, 3.2, 5.3, 2.3],\n",
              "       [6.5, 3. , 5.5, 1.8],\n",
              "       [7.7, 3.8, 6.7, 2.2],\n",
              "       [7.7, 2.6, 6.9, 2.3],\n",
              "       [6. , 2.2, 5. , 1.5],\n",
              "       [6.9, 3.2, 5.7, 2.3],\n",
              "       [5.6, 2.8, 4.9, 2. ],\n",
              "       [7.7, 2.8, 6.7, 2. ],\n",
              "       [6.3, 2.7, 4.9, 1.8],\n",
              "       [6.7, 3.3, 5.7, 2.1],\n",
              "       [7.2, 3.2, 6. , 1.8],\n",
              "       [6.2, 2.8, 4.8, 1.8],\n",
              "       [6.1, 3. , 4.9, 1.8],\n",
              "       [6.4, 2.8, 5.6, 2.1],\n",
              "       [7.2, 3. , 5.8, 1.6],\n",
              "       [7.4, 2.8, 6.1, 1.9],\n",
              "       [7.9, 3.8, 6.4, 2. ],\n",
              "       [6.4, 2.8, 5.6, 2.2],\n",
              "       [6.3, 2.8, 5.1, 1.5],\n",
              "       [6.1, 2.6, 5.6, 1.4],\n",
              "       [7.7, 3. , 6.1, 2.3],\n",
              "       [6.3, 3.4, 5.6, 2.4],\n",
              "       [6.4, 3.1, 5.5, 1.8],\n",
              "       [6. , 3. , 4.8, 1.8],\n",
              "       [6.9, 3.1, 5.4, 2.1],\n",
              "       [6.7, 3.1, 5.6, 2.4],\n",
              "       [6.9, 3.1, 5.1, 2.3],\n",
              "       [5.8, 2.7, 5.1, 1.9],\n",
              "       [6.8, 3.2, 5.9, 2.3],\n",
              "       [6.7, 3.3, 5.7, 2.5],\n",
              "       [6.7, 3. , 5.2, 2.3],\n",
              "       [6.3, 2.5, 5. , 1.9],\n",
              "       [6.5, 3. , 5.2, 2. ],\n",
              "       [6.2, 3.4, 5.4, 2.3],\n",
              "       [5.9, 3. , 5.1, 1.8]])"
            ]
          },
          "metadata": {},
          "execution_count": 43
        }
      ],
      "source": [
        "iris['data']"
      ]
    },
    {
      "cell_type": "code",
      "execution_count": 44,
      "metadata": {
        "colab": {
          "base_uri": "https://localhost:8080/"
        },
        "id": "jAvrRINTh13Z",
        "outputId": "b5d11e76-112d-4762-9443-163ce93a432a"
      },
      "outputs": [
        {
          "output_type": "execute_result",
          "data": {
            "text/plain": [
              "['sepal length (cm)',\n",
              " 'sepal width (cm)',\n",
              " 'petal length (cm)',\n",
              " 'petal width (cm)']"
            ]
          },
          "metadata": {},
          "execution_count": 44
        }
      ],
      "source": [
        "iris['feature_names']"
      ]
    },
    {
      "cell_type": "code",
      "execution_count": 45,
      "metadata": {
        "colab": {
          "base_uri": "https://localhost:8080/"
        },
        "id": "F9RJG_LwjilB",
        "outputId": "d2ad8335-73e6-4454-e864-038263064123"
      },
      "outputs": [
        {
          "output_type": "stream",
          "name": "stdout",
          "text": [
            ".. _iris_dataset:\n",
            "\n",
            "Iris plants dataset\n",
            "--------------------\n",
            "\n",
            "**Data Set Characteristics:**\n",
            "\n",
            "    :Number of Instances: 150 (50 in each of three classes)\n",
            "    :Number of Attributes: 4 numeric, predictive attributes and the class\n",
            "    :Attribute Information:\n",
            "        - sepal length in cm\n",
            "        - sepal width in cm\n",
            "        - petal length in cm\n",
            "        - petal width in cm\n",
            "        - class:\n",
            "                - Iris-Setosa\n",
            "                - Iris-Versicolour\n",
            "                - Iris-Virginica\n",
            "                \n",
            "    :Summary Statistics:\n",
            "\n",
            "    ============== ==== ==== ======= ===== ====================\n",
            "                    Min  Max   Mean    SD   Class Correlation\n",
            "    ============== ==== ==== ======= ===== ====================\n",
            "    sepal length:   4.3  7.9   5.84   0.83    0.7826\n",
            "    sepal width:    2.0  4.4   3.05   0.43   -0.4194\n",
            "    petal length:   1.0  6.9   3.76   1.76    0.9490  (high!)\n",
            "    petal width:    0.1  2.5   1.20   0.76    0.9565  (high!)\n",
            "    ============== ==== ==== ======= ===== ====================\n",
            "\n",
            "    :Missing Attribute Values: None\n",
            "    :Class Distribution: 33.3% for each of 3 classes.\n",
            "    :Creator: R.A. Fisher\n",
            "    :Donor: Michael Marshall (MARSHALL%PLU@io.arc.nasa.gov)\n",
            "    :Date: July, 1988\n",
            "\n",
            "The famous Iris database, first used by Sir R.A. Fisher. The dataset is taken\n",
            "from Fisher's paper. Note that it's the same as in R, but not as in the UCI\n",
            "Machine Learning Repository, which has two wrong data points.\n",
            "\n",
            "This is perhaps the best known database to be found in the\n",
            "pattern recognition literature.  Fisher's paper is a classic in the field and\n",
            "is referenced frequently to this day.  (See Duda & Hart, for example.)  The\n",
            "data set contains 3 classes of 50 instances each, where each class refers to a\n",
            "type of iris plant.  One class is linearly separable from the other 2; the\n",
            "latter are NOT linearly separable from each other.\n",
            "\n",
            ".. topic:: References\n",
            "\n",
            "   - Fisher, R.A. \"The use of multiple measurements in taxonomic problems\"\n",
            "     Annual Eugenics, 7, Part II, 179-188 (1936); also in \"Contributions to\n",
            "     Mathematical Statistics\" (John Wiley, NY, 1950).\n",
            "   - Duda, R.O., & Hart, P.E. (1973) Pattern Classification and Scene Analysis.\n",
            "     (Q327.D83) John Wiley & Sons.  ISBN 0-471-22361-1.  See page 218.\n",
            "   - Dasarathy, B.V. (1980) \"Nosing Around the Neighborhood: A New System\n",
            "     Structure and Classification Rule for Recognition in Partially Exposed\n",
            "     Environments\".  IEEE Transactions on Pattern Analysis and Machine\n",
            "     Intelligence, Vol. PAMI-2, No. 1, 67-71.\n",
            "   - Gates, G.W. (1972) \"The Reduced Nearest Neighbor Rule\".  IEEE Transactions\n",
            "     on Information Theory, May 1972, 431-433.\n",
            "   - See also: 1988 MLC Proceedings, 54-64.  Cheeseman et al\"s AUTOCLASS II\n",
            "     conceptual clustering system finds 3 classes in the data.\n",
            "   - Many, many more ...\n"
          ]
        }
      ],
      "source": [
        "print(iris['DESCR'])"
      ]
    },
    {
      "cell_type": "code",
      "execution_count": 46,
      "metadata": {
        "id": "sOx8DNnfjinc"
      },
      "outputs": [],
      "source": [
        "import pandas as pd"
      ]
    },
    {
      "cell_type": "code",
      "execution_count": 47,
      "metadata": {
        "colab": {
          "base_uri": "https://localhost:8080/",
          "height": 419
        },
        "id": "kL8kMrkfjipQ",
        "outputId": "6731324d-b5df-42f0-eede-84d2d5880dfb"
      },
      "outputs": [
        {
          "output_type": "execute_result",
          "data": {
            "text/plain": [
              "     id  꽃받침 길이   꽃받침 너비   꽃잎 길이   꽃잎 너비                품종\n",
              "0     1      5.1      3.5     1.4     0.2      Iris-setosa\n",
              "1     2      4.9      3.0     1.4     0.2      Iris-setosa\n",
              "2     3      4.7      3.2     1.3     0.2      Iris-setosa\n",
              "3     4      4.6      3.1     1.5     0.2      Iris-setosa\n",
              "4     5      5.0      3.6     1.4     0.2      Iris-setosa\n",
              "..  ...      ...      ...     ...     ...              ...\n",
              "95   96      5.7      3.0     4.2     1.2  Iris-versicolor\n",
              "96   97      5.7      2.9     4.2     1.3  Iris-versicolor\n",
              "97   98      6.2      2.9     4.3     1.3  Iris-versicolor\n",
              "98   99      5.1      2.5     3.0     1.1  Iris-versicolor\n",
              "99  100      5.7      2.8     4.1     1.3  Iris-versicolor\n",
              "\n",
              "[100 rows x 6 columns]"
            ],
            "text/html": [
              "\n",
              "  <div id=\"df-8f91d1e2-ab53-41d5-b6e9-c8b5cdf2db1c\">\n",
              "    <div class=\"colab-df-container\">\n",
              "      <div>\n",
              "<style scoped>\n",
              "    .dataframe tbody tr th:only-of-type {\n",
              "        vertical-align: middle;\n",
              "    }\n",
              "\n",
              "    .dataframe tbody tr th {\n",
              "        vertical-align: top;\n",
              "    }\n",
              "\n",
              "    .dataframe thead th {\n",
              "        text-align: right;\n",
              "    }\n",
              "</style>\n",
              "<table border=\"1\" class=\"dataframe\">\n",
              "  <thead>\n",
              "    <tr style=\"text-align: right;\">\n",
              "      <th></th>\n",
              "      <th>id</th>\n",
              "      <th>꽃받침 길이</th>\n",
              "      <th>꽃받침 너비</th>\n",
              "      <th>꽃잎 길이</th>\n",
              "      <th>꽃잎 너비</th>\n",
              "      <th>품종</th>\n",
              "    </tr>\n",
              "  </thead>\n",
              "  <tbody>\n",
              "    <tr>\n",
              "      <th>0</th>\n",
              "      <td>1</td>\n",
              "      <td>5.1</td>\n",
              "      <td>3.5</td>\n",
              "      <td>1.4</td>\n",
              "      <td>0.2</td>\n",
              "      <td>Iris-setosa</td>\n",
              "    </tr>\n",
              "    <tr>\n",
              "      <th>1</th>\n",
              "      <td>2</td>\n",
              "      <td>4.9</td>\n",
              "      <td>3.0</td>\n",
              "      <td>1.4</td>\n",
              "      <td>0.2</td>\n",
              "      <td>Iris-setosa</td>\n",
              "    </tr>\n",
              "    <tr>\n",
              "      <th>2</th>\n",
              "      <td>3</td>\n",
              "      <td>4.7</td>\n",
              "      <td>3.2</td>\n",
              "      <td>1.3</td>\n",
              "      <td>0.2</td>\n",
              "      <td>Iris-setosa</td>\n",
              "    </tr>\n",
              "    <tr>\n",
              "      <th>3</th>\n",
              "      <td>4</td>\n",
              "      <td>4.6</td>\n",
              "      <td>3.1</td>\n",
              "      <td>1.5</td>\n",
              "      <td>0.2</td>\n",
              "      <td>Iris-setosa</td>\n",
              "    </tr>\n",
              "    <tr>\n",
              "      <th>4</th>\n",
              "      <td>5</td>\n",
              "      <td>5.0</td>\n",
              "      <td>3.6</td>\n",
              "      <td>1.4</td>\n",
              "      <td>0.2</td>\n",
              "      <td>Iris-setosa</td>\n",
              "    </tr>\n",
              "    <tr>\n",
              "      <th>...</th>\n",
              "      <td>...</td>\n",
              "      <td>...</td>\n",
              "      <td>...</td>\n",
              "      <td>...</td>\n",
              "      <td>...</td>\n",
              "      <td>...</td>\n",
              "    </tr>\n",
              "    <tr>\n",
              "      <th>95</th>\n",
              "      <td>96</td>\n",
              "      <td>5.7</td>\n",
              "      <td>3.0</td>\n",
              "      <td>4.2</td>\n",
              "      <td>1.2</td>\n",
              "      <td>Iris-versicolor</td>\n",
              "    </tr>\n",
              "    <tr>\n",
              "      <th>96</th>\n",
              "      <td>97</td>\n",
              "      <td>5.7</td>\n",
              "      <td>2.9</td>\n",
              "      <td>4.2</td>\n",
              "      <td>1.3</td>\n",
              "      <td>Iris-versicolor</td>\n",
              "    </tr>\n",
              "    <tr>\n",
              "      <th>97</th>\n",
              "      <td>98</td>\n",
              "      <td>6.2</td>\n",
              "      <td>2.9</td>\n",
              "      <td>4.3</td>\n",
              "      <td>1.3</td>\n",
              "      <td>Iris-versicolor</td>\n",
              "    </tr>\n",
              "    <tr>\n",
              "      <th>98</th>\n",
              "      <td>99</td>\n",
              "      <td>5.1</td>\n",
              "      <td>2.5</td>\n",
              "      <td>3.0</td>\n",
              "      <td>1.1</td>\n",
              "      <td>Iris-versicolor</td>\n",
              "    </tr>\n",
              "    <tr>\n",
              "      <th>99</th>\n",
              "      <td>100</td>\n",
              "      <td>5.7</td>\n",
              "      <td>2.8</td>\n",
              "      <td>4.1</td>\n",
              "      <td>1.3</td>\n",
              "      <td>Iris-versicolor</td>\n",
              "    </tr>\n",
              "  </tbody>\n",
              "</table>\n",
              "<p>100 rows × 6 columns</p>\n",
              "</div>\n",
              "      <button class=\"colab-df-convert\" onclick=\"convertToInteractive('df-8f91d1e2-ab53-41d5-b6e9-c8b5cdf2db1c')\"\n",
              "              title=\"Convert this dataframe to an interactive table.\"\n",
              "              style=\"display:none;\">\n",
              "        \n",
              "  <svg xmlns=\"http://www.w3.org/2000/svg\" height=\"24px\"viewBox=\"0 0 24 24\"\n",
              "       width=\"24px\">\n",
              "    <path d=\"M0 0h24v24H0V0z\" fill=\"none\"/>\n",
              "    <path d=\"M18.56 5.44l.94 2.06.94-2.06 2.06-.94-2.06-.94-.94-2.06-.94 2.06-2.06.94zm-11 1L8.5 8.5l.94-2.06 2.06-.94-2.06-.94L8.5 2.5l-.94 2.06-2.06.94zm10 10l.94 2.06.94-2.06 2.06-.94-2.06-.94-.94-2.06-.94 2.06-2.06.94z\"/><path d=\"M17.41 7.96l-1.37-1.37c-.4-.4-.92-.59-1.43-.59-.52 0-1.04.2-1.43.59L10.3 9.45l-7.72 7.72c-.78.78-.78 2.05 0 2.83L4 21.41c.39.39.9.59 1.41.59.51 0 1.02-.2 1.41-.59l7.78-7.78 2.81-2.81c.8-.78.8-2.07 0-2.86zM5.41 20L4 18.59l7.72-7.72 1.47 1.35L5.41 20z\"/>\n",
              "  </svg>\n",
              "      </button>\n",
              "      \n",
              "  <style>\n",
              "    .colab-df-container {\n",
              "      display:flex;\n",
              "      flex-wrap:wrap;\n",
              "      gap: 12px;\n",
              "    }\n",
              "\n",
              "    .colab-df-convert {\n",
              "      background-color: #E8F0FE;\n",
              "      border: none;\n",
              "      border-radius: 50%;\n",
              "      cursor: pointer;\n",
              "      display: none;\n",
              "      fill: #1967D2;\n",
              "      height: 32px;\n",
              "      padding: 0 0 0 0;\n",
              "      width: 32px;\n",
              "    }\n",
              "\n",
              "    .colab-df-convert:hover {\n",
              "      background-color: #E2EBFA;\n",
              "      box-shadow: 0px 1px 2px rgba(60, 64, 67, 0.3), 0px 1px 3px 1px rgba(60, 64, 67, 0.15);\n",
              "      fill: #174EA6;\n",
              "    }\n",
              "\n",
              "    [theme=dark] .colab-df-convert {\n",
              "      background-color: #3B4455;\n",
              "      fill: #D2E3FC;\n",
              "    }\n",
              "\n",
              "    [theme=dark] .colab-df-convert:hover {\n",
              "      background-color: #434B5C;\n",
              "      box-shadow: 0px 1px 3px 1px rgba(0, 0, 0, 0.15);\n",
              "      filter: drop-shadow(0px 1px 2px rgba(0, 0, 0, 0.3));\n",
              "      fill: #FFFFFF;\n",
              "    }\n",
              "  </style>\n",
              "\n",
              "      <script>\n",
              "        const buttonEl =\n",
              "          document.querySelector('#df-8f91d1e2-ab53-41d5-b6e9-c8b5cdf2db1c button.colab-df-convert');\n",
              "        buttonEl.style.display =\n",
              "          google.colab.kernel.accessAllowed ? 'block' : 'none';\n",
              "\n",
              "        async function convertToInteractive(key) {\n",
              "          const element = document.querySelector('#df-8f91d1e2-ab53-41d5-b6e9-c8b5cdf2db1c');\n",
              "          const dataTable =\n",
              "            await google.colab.kernel.invokeFunction('convertToInteractive',\n",
              "                                                     [key], {});\n",
              "          if (!dataTable) return;\n",
              "\n",
              "          const docLinkHtml = 'Like what you see? Visit the ' +\n",
              "            '<a target=\"_blank\" href=https://colab.research.google.com/notebooks/data_table.ipynb>data table notebook</a>'\n",
              "            + ' to learn more about interactive tables.';\n",
              "          element.innerHTML = '';\n",
              "          dataTable['output_type'] = 'display_data';\n",
              "          await google.colab.output.renderOutput(dataTable, element);\n",
              "          const docLink = document.createElement('div');\n",
              "          docLink.innerHTML = docLinkHtml;\n",
              "          element.appendChild(docLink);\n",
              "        }\n",
              "      </script>\n",
              "    </div>\n",
              "  </div>\n",
              "  "
            ]
          },
          "metadata": {},
          "execution_count": 47
        }
      ],
      "source": [
        "df = pd.read_csv('iris.csv', header=0)\n",
        "df.columns = ['id', '꽃받침 길이 ', '꽃받침 너비 ', '꽃잎 길이 ', '꽃잎 너비 ', '품종']\n",
        "df.head(100)"
      ]
    },
    {
      "cell_type": "code",
      "execution_count": 48,
      "metadata": {
        "id": "QwVhBZ-ljirU",
        "colab": {
          "base_uri": "https://localhost:8080/",
          "height": 419
        },
        "outputId": "ba78d1b2-956f-40b7-8e55-5c671d4c9c0c"
      },
      "outputs": [
        {
          "output_type": "execute_result",
          "data": {
            "text/plain": [
              "     sepal length (cm)  sepal width (cm)  petal length (cm)  petal width (cm)  \\\n",
              "0                  5.1               3.5                1.4               0.2   \n",
              "1                  4.9               3.0                1.4               0.2   \n",
              "2                  4.7               3.2                1.3               0.2   \n",
              "3                  4.6               3.1                1.5               0.2   \n",
              "4                  5.0               3.6                1.4               0.2   \n",
              "..                 ...               ...                ...               ...   \n",
              "145                6.7               3.0                5.2               2.3   \n",
              "146                6.3               2.5                5.0               1.9   \n",
              "147                6.5               3.0                5.2               2.0   \n",
              "148                6.2               3.4                5.4               2.3   \n",
              "149                5.9               3.0                5.1               1.8   \n",
              "\n",
              "     species  \n",
              "0          0  \n",
              "1          0  \n",
              "2          0  \n",
              "3          0  \n",
              "4          0  \n",
              "..       ...  \n",
              "145        2  \n",
              "146        2  \n",
              "147        2  \n",
              "148        2  \n",
              "149        2  \n",
              "\n",
              "[150 rows x 5 columns]"
            ],
            "text/html": [
              "\n",
              "  <div id=\"df-5653da8f-7eeb-4bb6-a15a-de88ae92b89b\">\n",
              "    <div class=\"colab-df-container\">\n",
              "      <div>\n",
              "<style scoped>\n",
              "    .dataframe tbody tr th:only-of-type {\n",
              "        vertical-align: middle;\n",
              "    }\n",
              "\n",
              "    .dataframe tbody tr th {\n",
              "        vertical-align: top;\n",
              "    }\n",
              "\n",
              "    .dataframe thead th {\n",
              "        text-align: right;\n",
              "    }\n",
              "</style>\n",
              "<table border=\"1\" class=\"dataframe\">\n",
              "  <thead>\n",
              "    <tr style=\"text-align: right;\">\n",
              "      <th></th>\n",
              "      <th>sepal length (cm)</th>\n",
              "      <th>sepal width (cm)</th>\n",
              "      <th>petal length (cm)</th>\n",
              "      <th>petal width (cm)</th>\n",
              "      <th>species</th>\n",
              "    </tr>\n",
              "  </thead>\n",
              "  <tbody>\n",
              "    <tr>\n",
              "      <th>0</th>\n",
              "      <td>5.1</td>\n",
              "      <td>3.5</td>\n",
              "      <td>1.4</td>\n",
              "      <td>0.2</td>\n",
              "      <td>0</td>\n",
              "    </tr>\n",
              "    <tr>\n",
              "      <th>1</th>\n",
              "      <td>4.9</td>\n",
              "      <td>3.0</td>\n",
              "      <td>1.4</td>\n",
              "      <td>0.2</td>\n",
              "      <td>0</td>\n",
              "    </tr>\n",
              "    <tr>\n",
              "      <th>2</th>\n",
              "      <td>4.7</td>\n",
              "      <td>3.2</td>\n",
              "      <td>1.3</td>\n",
              "      <td>0.2</td>\n",
              "      <td>0</td>\n",
              "    </tr>\n",
              "    <tr>\n",
              "      <th>3</th>\n",
              "      <td>4.6</td>\n",
              "      <td>3.1</td>\n",
              "      <td>1.5</td>\n",
              "      <td>0.2</td>\n",
              "      <td>0</td>\n",
              "    </tr>\n",
              "    <tr>\n",
              "      <th>4</th>\n",
              "      <td>5.0</td>\n",
              "      <td>3.6</td>\n",
              "      <td>1.4</td>\n",
              "      <td>0.2</td>\n",
              "      <td>0</td>\n",
              "    </tr>\n",
              "    <tr>\n",
              "      <th>...</th>\n",
              "      <td>...</td>\n",
              "      <td>...</td>\n",
              "      <td>...</td>\n",
              "      <td>...</td>\n",
              "      <td>...</td>\n",
              "    </tr>\n",
              "    <tr>\n",
              "      <th>145</th>\n",
              "      <td>6.7</td>\n",
              "      <td>3.0</td>\n",
              "      <td>5.2</td>\n",
              "      <td>2.3</td>\n",
              "      <td>2</td>\n",
              "    </tr>\n",
              "    <tr>\n",
              "      <th>146</th>\n",
              "      <td>6.3</td>\n",
              "      <td>2.5</td>\n",
              "      <td>5.0</td>\n",
              "      <td>1.9</td>\n",
              "      <td>2</td>\n",
              "    </tr>\n",
              "    <tr>\n",
              "      <th>147</th>\n",
              "      <td>6.5</td>\n",
              "      <td>3.0</td>\n",
              "      <td>5.2</td>\n",
              "      <td>2.0</td>\n",
              "      <td>2</td>\n",
              "    </tr>\n",
              "    <tr>\n",
              "      <th>148</th>\n",
              "      <td>6.2</td>\n",
              "      <td>3.4</td>\n",
              "      <td>5.4</td>\n",
              "      <td>2.3</td>\n",
              "      <td>2</td>\n",
              "    </tr>\n",
              "    <tr>\n",
              "      <th>149</th>\n",
              "      <td>5.9</td>\n",
              "      <td>3.0</td>\n",
              "      <td>5.1</td>\n",
              "      <td>1.8</td>\n",
              "      <td>2</td>\n",
              "    </tr>\n",
              "  </tbody>\n",
              "</table>\n",
              "<p>150 rows × 5 columns</p>\n",
              "</div>\n",
              "      <button class=\"colab-df-convert\" onclick=\"convertToInteractive('df-5653da8f-7eeb-4bb6-a15a-de88ae92b89b')\"\n",
              "              title=\"Convert this dataframe to an interactive table.\"\n",
              "              style=\"display:none;\">\n",
              "        \n",
              "  <svg xmlns=\"http://www.w3.org/2000/svg\" height=\"24px\"viewBox=\"0 0 24 24\"\n",
              "       width=\"24px\">\n",
              "    <path d=\"M0 0h24v24H0V0z\" fill=\"none\"/>\n",
              "    <path d=\"M18.56 5.44l.94 2.06.94-2.06 2.06-.94-2.06-.94-.94-2.06-.94 2.06-2.06.94zm-11 1L8.5 8.5l.94-2.06 2.06-.94-2.06-.94L8.5 2.5l-.94 2.06-2.06.94zm10 10l.94 2.06.94-2.06 2.06-.94-2.06-.94-.94-2.06-.94 2.06-2.06.94z\"/><path d=\"M17.41 7.96l-1.37-1.37c-.4-.4-.92-.59-1.43-.59-.52 0-1.04.2-1.43.59L10.3 9.45l-7.72 7.72c-.78.78-.78 2.05 0 2.83L4 21.41c.39.39.9.59 1.41.59.51 0 1.02-.2 1.41-.59l7.78-7.78 2.81-2.81c.8-.78.8-2.07 0-2.86zM5.41 20L4 18.59l7.72-7.72 1.47 1.35L5.41 20z\"/>\n",
              "  </svg>\n",
              "      </button>\n",
              "      \n",
              "  <style>\n",
              "    .colab-df-container {\n",
              "      display:flex;\n",
              "      flex-wrap:wrap;\n",
              "      gap: 12px;\n",
              "    }\n",
              "\n",
              "    .colab-df-convert {\n",
              "      background-color: #E8F0FE;\n",
              "      border: none;\n",
              "      border-radius: 50%;\n",
              "      cursor: pointer;\n",
              "      display: none;\n",
              "      fill: #1967D2;\n",
              "      height: 32px;\n",
              "      padding: 0 0 0 0;\n",
              "      width: 32px;\n",
              "    }\n",
              "\n",
              "    .colab-df-convert:hover {\n",
              "      background-color: #E2EBFA;\n",
              "      box-shadow: 0px 1px 2px rgba(60, 64, 67, 0.3), 0px 1px 3px 1px rgba(60, 64, 67, 0.15);\n",
              "      fill: #174EA6;\n",
              "    }\n",
              "\n",
              "    [theme=dark] .colab-df-convert {\n",
              "      background-color: #3B4455;\n",
              "      fill: #D2E3FC;\n",
              "    }\n",
              "\n",
              "    [theme=dark] .colab-df-convert:hover {\n",
              "      background-color: #434B5C;\n",
              "      box-shadow: 0px 1px 3px 1px rgba(0, 0, 0, 0.15);\n",
              "      filter: drop-shadow(0px 1px 2px rgba(0, 0, 0, 0.3));\n",
              "      fill: #FFFFFF;\n",
              "    }\n",
              "  </style>\n",
              "\n",
              "      <script>\n",
              "        const buttonEl =\n",
              "          document.querySelector('#df-5653da8f-7eeb-4bb6-a15a-de88ae92b89b button.colab-df-convert');\n",
              "        buttonEl.style.display =\n",
              "          google.colab.kernel.accessAllowed ? 'block' : 'none';\n",
              "\n",
              "        async function convertToInteractive(key) {\n",
              "          const element = document.querySelector('#df-5653da8f-7eeb-4bb6-a15a-de88ae92b89b');\n",
              "          const dataTable =\n",
              "            await google.colab.kernel.invokeFunction('convertToInteractive',\n",
              "                                                     [key], {});\n",
              "          if (!dataTable) return;\n",
              "\n",
              "          const docLinkHtml = 'Like what you see? Visit the ' +\n",
              "            '<a target=\"_blank\" href=https://colab.research.google.com/notebooks/data_table.ipynb>data table notebook</a>'\n",
              "            + ' to learn more about interactive tables.';\n",
              "          element.innerHTML = '';\n",
              "          dataTable['output_type'] = 'display_data';\n",
              "          await google.colab.output.renderOutput(dataTable, element);\n",
              "          const docLink = document.createElement('div');\n",
              "          docLink.innerHTML = docLinkHtml;\n",
              "          element.appendChild(docLink);\n",
              "        }\n",
              "      </script>\n",
              "    </div>\n",
              "  </div>\n",
              "  "
            ]
          },
          "metadata": {},
          "execution_count": 48
        }
      ],
      "source": [
        "iris_df = pd.DataFrame(iris['data'], columns=iris['feature_names'])\n",
        "iris_df['species'] = iris['target']\n",
        "iris_df"
      ]
    },
    {
      "cell_type": "markdown",
      "metadata": {
        "id": "eVUedGyMUbMr"
      },
      "source": [
        "# New Section"
      ]
    },
    {
      "cell_type": "markdown",
      "metadata": {
        "id": "DX8dEFopUbkA"
      },
      "source": [
        "# New Section"
      ]
    },
    {
      "cell_type": "code",
      "execution_count": 49,
      "metadata": {
        "id": "jUhuh0y4jit-",
        "colab": {
          "base_uri": "https://localhost:8080/"
        },
        "outputId": "661509b1-55e5-4d25-b05a-e425b17e290c"
      },
      "outputs": [
        {
          "output_type": "execute_result",
          "data": {
            "text/plain": [
              "(150, 5)"
            ]
          },
          "metadata": {},
          "execution_count": 49
        }
      ],
      "source": [
        "iris_df.shape"
      ]
    },
    {
      "cell_type": "code",
      "execution_count": 50,
      "metadata": {
        "id": "rnzewK_xh16M",
        "colab": {
          "base_uri": "https://localhost:8080/"
        },
        "outputId": "6f6988d6-67e2-4300-8732-9e672d0758fa"
      },
      "outputs": [
        {
          "output_type": "stream",
          "name": "stdout",
          "text": [
            "<class 'pandas.core.frame.DataFrame'>\n",
            "RangeIndex: 150 entries, 0 to 149\n",
            "Data columns (total 5 columns):\n",
            " #   Column             Non-Null Count  Dtype  \n",
            "---  ------             --------------  -----  \n",
            " 0   sepal length (cm)  150 non-null    float64\n",
            " 1   sepal width (cm)   150 non-null    float64\n",
            " 2   petal length (cm)  150 non-null    float64\n",
            " 3   petal width (cm)   150 non-null    float64\n",
            " 4   species            150 non-null    int64  \n",
            "dtypes: float64(4), int64(1)\n",
            "memory usage: 6.0 KB\n"
          ]
        }
      ],
      "source": [
        "iris_df.info()"
      ]
    },
    {
      "cell_type": "code",
      "execution_count": 51,
      "metadata": {
        "id": "Ucj4fgvTh18t",
        "colab": {
          "base_uri": "https://localhost:8080/",
          "height": 49
        },
        "outputId": "225b35b7-f2f4-4f93-846c-da13fcd72b4e"
      },
      "outputs": [
        {
          "output_type": "execute_result",
          "data": {
            "text/plain": [
              "Empty DataFrame\n",
              "Columns: [sepal length (cm), sepal width (cm), petal length (cm), petal width (cm), species]\n",
              "Index: []"
            ],
            "text/html": [
              "\n",
              "  <div id=\"df-d14cc450-9919-4af3-9777-f59a05002a55\">\n",
              "    <div class=\"colab-df-container\">\n",
              "      <div>\n",
              "<style scoped>\n",
              "    .dataframe tbody tr th:only-of-type {\n",
              "        vertical-align: middle;\n",
              "    }\n",
              "\n",
              "    .dataframe tbody tr th {\n",
              "        vertical-align: top;\n",
              "    }\n",
              "\n",
              "    .dataframe thead th {\n",
              "        text-align: right;\n",
              "    }\n",
              "</style>\n",
              "<table border=\"1\" class=\"dataframe\">\n",
              "  <thead>\n",
              "    <tr style=\"text-align: right;\">\n",
              "      <th></th>\n",
              "      <th>sepal length (cm)</th>\n",
              "      <th>sepal width (cm)</th>\n",
              "      <th>petal length (cm)</th>\n",
              "      <th>petal width (cm)</th>\n",
              "      <th>species</th>\n",
              "    </tr>\n",
              "  </thead>\n",
              "  <tbody>\n",
              "  </tbody>\n",
              "</table>\n",
              "</div>\n",
              "      <button class=\"colab-df-convert\" onclick=\"convertToInteractive('df-d14cc450-9919-4af3-9777-f59a05002a55')\"\n",
              "              title=\"Convert this dataframe to an interactive table.\"\n",
              "              style=\"display:none;\">\n",
              "        \n",
              "  <svg xmlns=\"http://www.w3.org/2000/svg\" height=\"24px\"viewBox=\"0 0 24 24\"\n",
              "       width=\"24px\">\n",
              "    <path d=\"M0 0h24v24H0V0z\" fill=\"none\"/>\n",
              "    <path d=\"M18.56 5.44l.94 2.06.94-2.06 2.06-.94-2.06-.94-.94-2.06-.94 2.06-2.06.94zm-11 1L8.5 8.5l.94-2.06 2.06-.94-2.06-.94L8.5 2.5l-.94 2.06-2.06.94zm10 10l.94 2.06.94-2.06 2.06-.94-2.06-.94-.94-2.06-.94 2.06-2.06.94z\"/><path d=\"M17.41 7.96l-1.37-1.37c-.4-.4-.92-.59-1.43-.59-.52 0-1.04.2-1.43.59L10.3 9.45l-7.72 7.72c-.78.78-.78 2.05 0 2.83L4 21.41c.39.39.9.59 1.41.59.51 0 1.02-.2 1.41-.59l7.78-7.78 2.81-2.81c.8-.78.8-2.07 0-2.86zM5.41 20L4 18.59l7.72-7.72 1.47 1.35L5.41 20z\"/>\n",
              "  </svg>\n",
              "      </button>\n",
              "      \n",
              "  <style>\n",
              "    .colab-df-container {\n",
              "      display:flex;\n",
              "      flex-wrap:wrap;\n",
              "      gap: 12px;\n",
              "    }\n",
              "\n",
              "    .colab-df-convert {\n",
              "      background-color: #E8F0FE;\n",
              "      border: none;\n",
              "      border-radius: 50%;\n",
              "      cursor: pointer;\n",
              "      display: none;\n",
              "      fill: #1967D2;\n",
              "      height: 32px;\n",
              "      padding: 0 0 0 0;\n",
              "      width: 32px;\n",
              "    }\n",
              "\n",
              "    .colab-df-convert:hover {\n",
              "      background-color: #E2EBFA;\n",
              "      box-shadow: 0px 1px 2px rgba(60, 64, 67, 0.3), 0px 1px 3px 1px rgba(60, 64, 67, 0.15);\n",
              "      fill: #174EA6;\n",
              "    }\n",
              "\n",
              "    [theme=dark] .colab-df-convert {\n",
              "      background-color: #3B4455;\n",
              "      fill: #D2E3FC;\n",
              "    }\n",
              "\n",
              "    [theme=dark] .colab-df-convert:hover {\n",
              "      background-color: #434B5C;\n",
              "      box-shadow: 0px 1px 3px 1px rgba(0, 0, 0, 0.15);\n",
              "      filter: drop-shadow(0px 1px 2px rgba(0, 0, 0, 0.3));\n",
              "      fill: #FFFFFF;\n",
              "    }\n",
              "  </style>\n",
              "\n",
              "      <script>\n",
              "        const buttonEl =\n",
              "          document.querySelector('#df-d14cc450-9919-4af3-9777-f59a05002a55 button.colab-df-convert');\n",
              "        buttonEl.style.display =\n",
              "          google.colab.kernel.accessAllowed ? 'block' : 'none';\n",
              "\n",
              "        async function convertToInteractive(key) {\n",
              "          const element = document.querySelector('#df-d14cc450-9919-4af3-9777-f59a05002a55');\n",
              "          const dataTable =\n",
              "            await google.colab.kernel.invokeFunction('convertToInteractive',\n",
              "                                                     [key], {});\n",
              "          if (!dataTable) return;\n",
              "\n",
              "          const docLinkHtml = 'Like what you see? Visit the ' +\n",
              "            '<a target=\"_blank\" href=https://colab.research.google.com/notebooks/data_table.ipynb>data table notebook</a>'\n",
              "            + ' to learn more about interactive tables.';\n",
              "          element.innerHTML = '';\n",
              "          dataTable['output_type'] = 'display_data';\n",
              "          await google.colab.output.renderOutput(dataTable, element);\n",
              "          const docLink = document.createElement('div');\n",
              "          docLink.innerHTML = docLinkHtml;\n",
              "          element.appendChild(docLink);\n",
              "        }\n",
              "      </script>\n",
              "    </div>\n",
              "  </div>\n",
              "  "
            ]
          },
          "metadata": {},
          "execution_count": 51
        }
      ],
      "source": [
        "iris_df[(iris_df['sepal length (cm)'] == 5) &\n",
        "        (iris_df['sepal width (cm)'] == 3.5) &\n",
        "        (iris_df['petal length (cm)'] == 1.4) &\n",
        "        (iris_df['petal width (cm)'] == 0.25) \n",
        "        ]"
      ]
    },
    {
      "cell_type": "code",
      "execution_count": 52,
      "metadata": {
        "id": "JqS9XuCJh1_a",
        "colab": {
          "base_uri": "https://localhost:8080/",
          "height": 37
        },
        "outputId": "231365dc-e8c8-4864-dd05-841b269ebe31"
      },
      "outputs": [
        {
          "output_type": "execute_result",
          "data": {
            "text/plain": [
              "'setosa'"
            ],
            "application/vnd.google.colaboratory.intrinsic+json": {
              "type": "string"
            }
          },
          "metadata": {},
          "execution_count": 52
        }
      ],
      "source": [
        "iris['target_names'][0]\n",
        "# 우리가 찾은 df의 타겟네임 (한개니까 0, 여러개면 [0, 1, 2, ...])"
      ]
    },
    {
      "cell_type": "code",
      "execution_count": 53,
      "metadata": {
        "id": "Klpc1ylVzXjE",
        "colab": {
          "base_uri": "https://localhost:8080/"
        },
        "outputId": "632a00df-d45f-444a-fc41-11a8ff286c98"
      },
      "outputs": [
        {
          "output_type": "execute_result",
          "data": {
            "text/plain": [
              "DecisionTreeClassifier(random_state=1)"
            ]
          },
          "metadata": {},
          "execution_count": 53
        }
      ],
      "source": [
        "iris = load_iris()\n",
        "from sklearn.tree import DecisionTreeClassifier\n",
        "\n",
        "tree = DecisionTreeClassifier(random_state=1)\n",
        "# 나중에\n",
        "\n",
        "tree.fit(iris['data'], iris['target'])\n",
        "# data 는 데이터고 target 은 아웃풋 "
      ]
    },
    {
      "cell_type": "code",
      "execution_count": 54,
      "metadata": {
        "id": "ZDkLzUYSzXnZ",
        "colab": {
          "base_uri": "https://localhost:8080/"
        },
        "outputId": "7af771e0-54f2-4792-c5c2-b2d54684a492"
      },
      "outputs": [
        {
          "output_type": "execute_result",
          "data": {
            "text/plain": [
              "[5, 3.5, 1.4, 0.25]"
            ]
          },
          "metadata": {},
          "execution_count": 54
        }
      ],
      "source": [
        "[5, 3.5, 1.4, 0.25]"
      ]
    },
    {
      "cell_type": "code",
      "execution_count": 55,
      "metadata": {
        "id": "UnknQOolzXqS",
        "colab": {
          "base_uri": "https://localhost:8080/"
        },
        "outputId": "833223da-ffd0-4ecd-e443-0085294db71e"
      },
      "outputs": [
        {
          "output_type": "stream",
          "name": "stdout",
          "text": [
            "[0]\n"
          ]
        }
      ],
      "source": [
        "pred = tree.predict([[5, 3.5, 1.4, 0.25]])\n",
        "#예측을 해서 이 데이터가 뭐냐 \n",
        "\n",
        "print(pred)\n",
        "# setosa 는 0번째 타겟이므로 0이 나옴"
      ]
    },
    {
      "cell_type": "code",
      "execution_count": 56,
      "metadata": {
        "id": "cr1ctnuXzXs2",
        "colab": {
          "base_uri": "https://localhost:8080/"
        },
        "outputId": "d1bf6191-524b-46ea-9c33-514516f3d4d0"
      },
      "outputs": [
        {
          "output_type": "stream",
          "name": "stdout",
          "text": [
            "['setosa' 'versicolor' 'virginica']\n"
          ]
        }
      ],
      "source": [
        "print(iris['target_names'])"
      ]
    },
    {
      "cell_type": "code",
      "execution_count": 57,
      "metadata": {
        "id": "QBuokCaBzXvQ",
        "colab": {
          "base_uri": "https://localhost:8080/"
        },
        "outputId": "b290c4b9-d37f-4cf6-ad53-657e220da960"
      },
      "outputs": [
        {
          "output_type": "stream",
          "name": "stdout",
          "text": [
            "[0 2 0]\n"
          ]
        }
      ],
      "source": [
        "my_iris = [\n",
        "           [5, 3.5, 1.4, 0.25],\n",
        "           [5.9, 3. , 5.1, 1.8],\n",
        "           [40, 300, 1.2, 0.4]\n",
        "]\n",
        "\n",
        "pred2 = tree.predict(my_iris)\n",
        "print(pred2)"
      ]
    },
    {
      "cell_type": "code",
      "execution_count": 58,
      "metadata": {
        "id": "DYxCzD0hzXx3",
        "colab": {
          "base_uri": "https://localhost:8080/"
        },
        "outputId": "d07f75ab-b23e-4e24-d9ef-4a4a6ed6e495"
      },
      "outputs": [
        {
          "output_type": "execute_result",
          "data": {
            "text/plain": [
              "array(['setosa', 'virginica', 'setosa'], dtype='<U10')"
            ]
          },
          "metadata": {},
          "execution_count": 58
        }
      ],
      "source": [
        "iris['target_names'][pred2]"
      ]
    },
    {
      "cell_type": "code",
      "execution_count": 59,
      "metadata": {
        "id": "BcWwR8AKzX0q",
        "colab": {
          "base_uri": "https://localhost:8080/"
        },
        "outputId": "107ae483-1b8c-4f24-c70b-d8cba10bc726"
      },
      "outputs": [
        {
          "output_type": "execute_result",
          "data": {
            "text/plain": [
              "array([[5.1, 3.5, 1.4, 0.2],\n",
              "       [4.9, 3. , 1.4, 0.2],\n",
              "       [4.7, 3.2, 1.3, 0.2],\n",
              "       [4.6, 3.1, 1.5, 0.2],\n",
              "       [5. , 3.6, 1.4, 0.2],\n",
              "       [5.4, 3.9, 1.7, 0.4],\n",
              "       [4.6, 3.4, 1.4, 0.3],\n",
              "       [5. , 3.4, 1.5, 0.2],\n",
              "       [4.4, 2.9, 1.4, 0.2],\n",
              "       [4.9, 3.1, 1.5, 0.1],\n",
              "       [5.4, 3.7, 1.5, 0.2],\n",
              "       [4.8, 3.4, 1.6, 0.2],\n",
              "       [4.8, 3. , 1.4, 0.1],\n",
              "       [4.3, 3. , 1.1, 0.1],\n",
              "       [5.8, 4. , 1.2, 0.2],\n",
              "       [5.7, 4.4, 1.5, 0.4],\n",
              "       [5.4, 3.9, 1.3, 0.4],\n",
              "       [5.1, 3.5, 1.4, 0.3],\n",
              "       [5.7, 3.8, 1.7, 0.3],\n",
              "       [5.1, 3.8, 1.5, 0.3],\n",
              "       [5.4, 3.4, 1.7, 0.2],\n",
              "       [5.1, 3.7, 1.5, 0.4],\n",
              "       [4.6, 3.6, 1. , 0.2],\n",
              "       [5.1, 3.3, 1.7, 0.5],\n",
              "       [4.8, 3.4, 1.9, 0.2],\n",
              "       [5. , 3. , 1.6, 0.2],\n",
              "       [5. , 3.4, 1.6, 0.4],\n",
              "       [5.2, 3.5, 1.5, 0.2],\n",
              "       [5.2, 3.4, 1.4, 0.2],\n",
              "       [4.7, 3.2, 1.6, 0.2],\n",
              "       [4.8, 3.1, 1.6, 0.2],\n",
              "       [5.4, 3.4, 1.5, 0.4],\n",
              "       [5.2, 4.1, 1.5, 0.1],\n",
              "       [5.5, 4.2, 1.4, 0.2],\n",
              "       [4.9, 3.1, 1.5, 0.2],\n",
              "       [5. , 3.2, 1.2, 0.2],\n",
              "       [5.5, 3.5, 1.3, 0.2],\n",
              "       [4.9, 3.6, 1.4, 0.1],\n",
              "       [4.4, 3. , 1.3, 0.2],\n",
              "       [5.1, 3.4, 1.5, 0.2],\n",
              "       [5. , 3.5, 1.3, 0.3],\n",
              "       [4.5, 2.3, 1.3, 0.3],\n",
              "       [4.4, 3.2, 1.3, 0.2],\n",
              "       [5. , 3.5, 1.6, 0.6],\n",
              "       [5.1, 3.8, 1.9, 0.4],\n",
              "       [4.8, 3. , 1.4, 0.3],\n",
              "       [5.1, 3.8, 1.6, 0.2],\n",
              "       [4.6, 3.2, 1.4, 0.2],\n",
              "       [5.3, 3.7, 1.5, 0.2],\n",
              "       [5. , 3.3, 1.4, 0.2],\n",
              "       [7. , 3.2, 4.7, 1.4],\n",
              "       [6.4, 3.2, 4.5, 1.5],\n",
              "       [6.9, 3.1, 4.9, 1.5],\n",
              "       [5.5, 2.3, 4. , 1.3],\n",
              "       [6.5, 2.8, 4.6, 1.5],\n",
              "       [5.7, 2.8, 4.5, 1.3],\n",
              "       [6.3, 3.3, 4.7, 1.6],\n",
              "       [4.9, 2.4, 3.3, 1. ],\n",
              "       [6.6, 2.9, 4.6, 1.3],\n",
              "       [5.2, 2.7, 3.9, 1.4],\n",
              "       [5. , 2. , 3.5, 1. ],\n",
              "       [5.9, 3. , 4.2, 1.5],\n",
              "       [6. , 2.2, 4. , 1. ],\n",
              "       [6.1, 2.9, 4.7, 1.4],\n",
              "       [5.6, 2.9, 3.6, 1.3],\n",
              "       [6.7, 3.1, 4.4, 1.4],\n",
              "       [5.6, 3. , 4.5, 1.5],\n",
              "       [5.8, 2.7, 4.1, 1. ],\n",
              "       [6.2, 2.2, 4.5, 1.5],\n",
              "       [5.6, 2.5, 3.9, 1.1],\n",
              "       [5.9, 3.2, 4.8, 1.8],\n",
              "       [6.1, 2.8, 4. , 1.3],\n",
              "       [6.3, 2.5, 4.9, 1.5],\n",
              "       [6.1, 2.8, 4.7, 1.2],\n",
              "       [6.4, 2.9, 4.3, 1.3],\n",
              "       [6.6, 3. , 4.4, 1.4],\n",
              "       [6.8, 2.8, 4.8, 1.4],\n",
              "       [6.7, 3. , 5. , 1.7],\n",
              "       [6. , 2.9, 4.5, 1.5],\n",
              "       [5.7, 2.6, 3.5, 1. ],\n",
              "       [5.5, 2.4, 3.8, 1.1],\n",
              "       [5.5, 2.4, 3.7, 1. ],\n",
              "       [5.8, 2.7, 3.9, 1.2],\n",
              "       [6. , 2.7, 5.1, 1.6],\n",
              "       [5.4, 3. , 4.5, 1.5],\n",
              "       [6. , 3.4, 4.5, 1.6],\n",
              "       [6.7, 3.1, 4.7, 1.5],\n",
              "       [6.3, 2.3, 4.4, 1.3],\n",
              "       [5.6, 3. , 4.1, 1.3],\n",
              "       [5.5, 2.5, 4. , 1.3],\n",
              "       [5.5, 2.6, 4.4, 1.2],\n",
              "       [6.1, 3. , 4.6, 1.4],\n",
              "       [5.8, 2.6, 4. , 1.2],\n",
              "       [5. , 2.3, 3.3, 1. ],\n",
              "       [5.6, 2.7, 4.2, 1.3],\n",
              "       [5.7, 3. , 4.2, 1.2],\n",
              "       [5.7, 2.9, 4.2, 1.3],\n",
              "       [6.2, 2.9, 4.3, 1.3],\n",
              "       [5.1, 2.5, 3. , 1.1],\n",
              "       [5.7, 2.8, 4.1, 1.3],\n",
              "       [6.3, 3.3, 6. , 2.5],\n",
              "       [5.8, 2.7, 5.1, 1.9],\n",
              "       [7.1, 3. , 5.9, 2.1],\n",
              "       [6.3, 2.9, 5.6, 1.8],\n",
              "       [6.5, 3. , 5.8, 2.2],\n",
              "       [7.6, 3. , 6.6, 2.1],\n",
              "       [4.9, 2.5, 4.5, 1.7],\n",
              "       [7.3, 2.9, 6.3, 1.8],\n",
              "       [6.7, 2.5, 5.8, 1.8],\n",
              "       [7.2, 3.6, 6.1, 2.5],\n",
              "       [6.5, 3.2, 5.1, 2. ],\n",
              "       [6.4, 2.7, 5.3, 1.9],\n",
              "       [6.8, 3. , 5.5, 2.1],\n",
              "       [5.7, 2.5, 5. , 2. ],\n",
              "       [5.8, 2.8, 5.1, 2.4],\n",
              "       [6.4, 3.2, 5.3, 2.3],\n",
              "       [6.5, 3. , 5.5, 1.8],\n",
              "       [7.7, 3.8, 6.7, 2.2],\n",
              "       [7.7, 2.6, 6.9, 2.3],\n",
              "       [6. , 2.2, 5. , 1.5],\n",
              "       [6.9, 3.2, 5.7, 2.3],\n",
              "       [5.6, 2.8, 4.9, 2. ],\n",
              "       [7.7, 2.8, 6.7, 2. ],\n",
              "       [6.3, 2.7, 4.9, 1.8],\n",
              "       [6.7, 3.3, 5.7, 2.1],\n",
              "       [7.2, 3.2, 6. , 1.8],\n",
              "       [6.2, 2.8, 4.8, 1.8],\n",
              "       [6.1, 3. , 4.9, 1.8],\n",
              "       [6.4, 2.8, 5.6, 2.1],\n",
              "       [7.2, 3. , 5.8, 1.6],\n",
              "       [7.4, 2.8, 6.1, 1.9],\n",
              "       [7.9, 3.8, 6.4, 2. ],\n",
              "       [6.4, 2.8, 5.6, 2.2],\n",
              "       [6.3, 2.8, 5.1, 1.5],\n",
              "       [6.1, 2.6, 5.6, 1.4],\n",
              "       [7.7, 3. , 6.1, 2.3],\n",
              "       [6.3, 3.4, 5.6, 2.4],\n",
              "       [6.4, 3.1, 5.5, 1.8],\n",
              "       [6. , 3. , 4.8, 1.8],\n",
              "       [6.9, 3.1, 5.4, 2.1],\n",
              "       [6.7, 3.1, 5.6, 2.4],\n",
              "       [6.9, 3.1, 5.1, 2.3],\n",
              "       [5.8, 2.7, 5.1, 1.9],\n",
              "       [6.8, 3.2, 5.9, 2.3],\n",
              "       [6.7, 3.3, 5.7, 2.5],\n",
              "       [6.7, 3. , 5.2, 2.3],\n",
              "       [6.3, 2.5, 5. , 1.9],\n",
              "       [6.5, 3. , 5.2, 2. ],\n",
              "       [6.2, 3.4, 5.4, 2.3],\n",
              "       [5.9, 3. , 5.1, 1.8]])"
            ]
          },
          "metadata": {},
          "execution_count": 59
        }
      ],
      "source": [
        "# 데이터 분할 (단계 1)\n",
        "iris['data']\n"
      ]
    },
    {
      "cell_type": "code",
      "execution_count": 60,
      "metadata": {
        "id": "mc2zngcuzX3G",
        "colab": {
          "base_uri": "https://localhost:8080/"
        },
        "outputId": "969b52d6-868c-41a9-d36d-db6e0315bd94"
      },
      "outputs": [
        {
          "output_type": "execute_result",
          "data": {
            "text/plain": [
              "array([0, 0, 0, 0, 0, 0, 0, 0, 0, 0, 0, 0, 0, 0, 0, 0, 0, 0, 0, 0, 0, 0,\n",
              "       0, 0, 0, 0, 0, 0, 0, 0, 0, 0, 0, 0, 0, 0, 0, 0, 0, 0, 0, 0, 0, 0,\n",
              "       0, 0, 0, 0, 0, 0, 1, 1, 1, 1, 1, 1, 1, 1, 1, 1, 1, 1, 1, 1, 1, 1,\n",
              "       1, 1, 1, 1, 1, 1, 1, 1, 1, 1, 1, 1, 1, 1, 1, 1, 1, 1, 1, 1, 1, 1,\n",
              "       1, 1, 1, 1, 1, 1, 1, 1, 1, 1, 1, 1, 2, 2, 2, 2, 2, 2, 2, 2, 2, 2,\n",
              "       2, 2, 2, 2, 2, 2, 2, 2, 2, 2, 2, 2, 2, 2, 2, 2, 2, 2, 2, 2, 2, 2,\n",
              "       2, 2, 2, 2, 2, 2, 2, 2, 2, 2, 2, 2, 2, 2, 2, 2, 2, 2])"
            ]
          },
          "metadata": {},
          "execution_count": 60
        }
      ],
      "source": [
        "iris['target']"
      ]
    },
    {
      "cell_type": "code",
      "execution_count": 61,
      "metadata": {
        "id": "wBPmNowvzX5m"
      },
      "outputs": [],
      "source": [
        "from sklearn.model_selection import train_test_split\n",
        "\n",
        "# 4분할\n",
        "# X는 train set, y는 test set\n",
        "X_train, X_test, y_train, y_test = train_test_split(iris['data'],\n",
        "                                                    iris['target'],\n",
        "                                                    test_size = 0.2,\n",
        "                                                    stratify=iris['target'],\n",
        "                                                    random_state=1) # random seed\n",
        "\n",
        "# fitting 시킬 때, 데이터와 데이터에 대한 답\n",
        "# X는 테스트"
      ]
    },
    {
      "cell_type": "code",
      "execution_count": 62,
      "metadata": {
        "id": "CJFFFyRZzX8d",
        "colab": {
          "base_uri": "https://localhost:8080/"
        },
        "outputId": "21049c2b-8df8-42e9-c66a-5106c2c6cc97"
      },
      "outputs": [
        {
          "output_type": "execute_result",
          "data": {
            "text/plain": [
              "((120, 4), (30, 4), (120,), (30,))"
            ]
          },
          "metadata": {},
          "execution_count": 62
        }
      ],
      "source": [
        "X_train.shape, X_test.shape, y_train.shape, y_test.shape"
      ]
    },
    {
      "cell_type": "code",
      "execution_count": 63,
      "metadata": {
        "id": "28G6kM2T7kcy",
        "colab": {
          "base_uri": "https://localhost:8080/"
        },
        "outputId": "6ad2d58f-4c1f-49b4-e473-e195c8cc8938"
      },
      "outputs": [
        {
          "output_type": "stream",
          "name": "stdout",
          "text": [
            "[[5.1 3.7 1.5 0.4]\n",
            " [4.6 3.2 1.4 0.2]\n",
            " [6.9 3.1 5.1 2.3]\n",
            " [5.5 2.6 4.4 1.2]\n",
            " [5.6 2.9 3.6 1.3]\n",
            " [6.  3.4 4.5 1.6]\n",
            " [6.3 2.3 4.4 1.3]\n",
            " [6.  2.2 5.  1.5]\n",
            " [6.3 3.4 5.6 2.4]\n",
            " [6.9 3.1 4.9 1.5]\n",
            " [6.7 3.  5.2 2.3]\n",
            " [5.  3.2 1.2 0.2]\n",
            " [5.4 3.  4.5 1.5]\n",
            " [6.  2.7 5.1 1.6]\n",
            " [6.3 2.9 5.6 1.8]\n",
            " [4.8 3.4 1.9 0.2]\n",
            " [6.7 2.5 5.8 1.8]\n",
            " [6.2 2.2 4.5 1.5]\n",
            " [5.6 2.7 4.2 1.3]\n",
            " [5.  3.4 1.5 0.2]\n",
            " [4.7 3.2 1.3 0.2]\n",
            " [6.3 2.7 4.9 1.8]\n",
            " [6.8 3.2 5.9 2.3]\n",
            " [5.7 2.8 4.5 1.3]\n",
            " [5.8 2.7 5.1 1.9]\n",
            " [6.4 2.8 5.6 2.2]\n",
            " [4.4 3.  1.3 0.2]\n",
            " [4.7 3.2 1.6 0.2]\n",
            " [6.7 3.1 5.6 2.4]\n",
            " [5.1 3.4 1.5 0.2]\n",
            " [5.5 4.2 1.4 0.2]\n",
            " [5.4 3.4 1.7 0.2]\n",
            " [4.9 3.  1.4 0.2]\n",
            " [6.5 3.  5.5 1.8]\n",
            " [5.8 4.  1.2 0.2]\n",
            " [5.5 2.4 3.7 1. ]\n",
            " [6.7 3.3 5.7 2.5]\n",
            " [5.9 3.  4.2 1.5]\n",
            " [6.3 2.5 5.  1.9]\n",
            " [7.7 2.8 6.7 2. ]\n",
            " [6.3 2.5 4.9 1.5]\n",
            " [6.  2.9 4.5 1.5]\n",
            " [6.3 2.8 5.1 1.5]\n",
            " [7.7 3.  6.1 2.3]\n",
            " [6.2 2.9 4.3 1.3]\n",
            " [6.7 3.1 4.4 1.4]\n",
            " [5.8 2.8 5.1 2.4]\n",
            " [5.8 2.7 3.9 1.2]\n",
            " [5.7 2.8 4.1 1.3]\n",
            " [5.1 3.8 1.6 0.2]\n",
            " [6.3 3.3 6.  2.5]\n",
            " [5.2 3.4 1.4 0.2]\n",
            " [6.5 3.2 5.1 2. ]\n",
            " [5.1 3.8 1.9 0.4]\n",
            " [4.6 3.6 1.  0.2]\n",
            " [6.1 2.8 4.7 1.2]\n",
            " [4.9 3.1 1.5 0.2]\n",
            " [5.6 3.  4.1 1.3]\n",
            " [7.4 2.8 6.1 1.9]\n",
            " [4.3 3.  1.1 0.1]\n",
            " [6.9 3.2 5.7 2.3]\n",
            " [5.  3.5 1.3 0.3]\n",
            " [5.7 3.8 1.7 0.3]\n",
            " [6.1 2.6 5.6 1.4]\n",
            " [6.  3.  4.8 1.8]\n",
            " [5.  3.  1.6 0.2]\n",
            " [6.7 3.1 4.7 1.5]\n",
            " [5.4 3.7 1.5 0.2]\n",
            " [5.2 3.5 1.5 0.2]\n",
            " [6.4 3.2 4.5 1.5]\n",
            " [7.2 3.  5.8 1.6]\n",
            " [5.2 2.7 3.9 1.4]\n",
            " [6.6 3.  4.4 1.4]\n",
            " [4.8 3.1 1.6 0.2]\n",
            " [5.  3.3 1.4 0.2]\n",
            " [5.9 3.2 4.8 1.8]\n",
            " [6.4 3.2 5.3 2.3]\n",
            " [5.8 2.6 4.  1.2]\n",
            " [5.5 2.5 4.  1.3]\n",
            " [6.7 3.3 5.7 2.1]\n",
            " [5.8 2.7 4.1 1. ]\n",
            " [6.5 3.  5.8 2.2]\n",
            " [4.6 3.4 1.4 0.3]\n",
            " [6.6 2.9 4.6 1.3]\n",
            " [6.4 2.8 5.6 2.1]\n",
            " [6.1 3.  4.6 1.4]\n",
            " [5.7 3.  4.2 1.2]\n",
            " [5.4 3.4 1.5 0.4]\n",
            " [5.1 3.3 1.7 0.5]\n",
            " [5.9 3.  5.1 1.8]\n",
            " [5.7 2.6 3.5 1. ]\n",
            " [7.7 3.8 6.7 2.2]\n",
            " [7.  3.2 4.7 1.4]\n",
            " [5.3 3.7 1.5 0.2]\n",
            " [6.1 2.9 4.7 1.4]\n",
            " [7.7 2.6 6.9 2.3]\n",
            " [7.2 3.2 6.  1.8]\n",
            " [5.1 3.8 1.5 0.3]\n",
            " [5.  3.6 1.4 0.2]\n",
            " [6.2 2.8 4.8 1.8]\n",
            " [6.9 3.1 5.4 2.1]\n",
            " [5.1 3.5 1.4 0.3]\n",
            " [6.4 3.1 5.5 1.8]\n",
            " [5.  2.  3.5 1. ]\n",
            " [5.6 2.5 3.9 1.1]\n",
            " [5.5 2.4 3.8 1.1]\n",
            " [7.2 3.6 6.1 2.5]\n",
            " [5.2 4.1 1.5 0.1]\n",
            " [7.6 3.  6.6 2.1]\n",
            " [6.7 3.  5.  1.7]\n",
            " [5.8 2.7 5.1 1.9]\n",
            " [5.5 3.5 1.3 0.2]\n",
            " [7.9 3.8 6.4 2. ]\n",
            " [4.8 3.  1.4 0.3]\n",
            " [5.7 2.9 4.2 1.3]\n",
            " [4.5 2.3 1.3 0.3]\n",
            " [5.  2.3 3.3 1. ]\n",
            " [5.  3.4 1.6 0.4]\n",
            " [4.6 3.1 1.5 0.2]\n",
            " [4.4 3.2 1.3 0.2]]\n"
          ]
        }
      ],
      "source": [
        "print(X_train)"
      ]
    },
    {
      "cell_type": "code",
      "execution_count": 64,
      "metadata": {
        "id": "eptvwWi87kfn"
      },
      "outputs": [],
      "source": [
        "import numpy as np"
      ]
    },
    {
      "cell_type": "code",
      "execution_count": 65,
      "metadata": {
        "id": "A0s8KznD7kh-",
        "colab": {
          "base_uri": "https://localhost:8080/"
        },
        "outputId": "88debb68-e1da-4872-be68-6aa00da9db09"
      },
      "outputs": [
        {
          "output_type": "execute_result",
          "data": {
            "text/plain": [
              "(array([0, 1, 2]), array([10, 10, 10]))"
            ]
          },
          "metadata": {},
          "execution_count": 65
        }
      ],
      "source": [
        "np.unique(y_test, return_counts=True)"
      ]
    },
    {
      "cell_type": "code",
      "execution_count": 66,
      "metadata": {
        "id": "YfMI_klP7kkQ"
      },
      "outputs": [],
      "source": [
        "tree = DecisionTreeClassifier()"
      ]
    },
    {
      "cell_type": "code",
      "execution_count": 67,
      "metadata": {
        "id": "6JWmh9l97kmW",
        "colab": {
          "base_uri": "https://localhost:8080/"
        },
        "outputId": "ca394f28-18b3-4d9b-bb0c-25b4ce7ebf45"
      },
      "outputs": [
        {
          "output_type": "execute_result",
          "data": {
            "text/plain": [
              "DecisionTreeClassifier()"
            ]
          },
          "metadata": {},
          "execution_count": 67
        }
      ],
      "source": [
        "tree.fit(X_train, y_train) # 분할해서 fit"
      ]
    },
    {
      "cell_type": "code",
      "execution_count": 68,
      "metadata": {
        "id": "rUavYzOJ7koY",
        "colab": {
          "base_uri": "https://localhost:8080/"
        },
        "outputId": "2a2a8665-7b0f-4836-cdef-7da66917bd00"
      },
      "outputs": [
        {
          "output_type": "execute_result",
          "data": {
            "text/plain": [
              "array([7.3, 2.9, 6.3, 1.8])"
            ]
          },
          "metadata": {},
          "execution_count": 68
        }
      ],
      "source": [
        "X_test[0]"
      ]
    },
    {
      "cell_type": "code",
      "execution_count": 69,
      "metadata": {
        "id": "doZn3bP_-m73",
        "colab": {
          "base_uri": "https://localhost:8080/"
        },
        "outputId": "0955da2d-1cec-4a17-8363-3263a2cf3f8e"
      },
      "outputs": [
        {
          "output_type": "execute_result",
          "data": {
            "text/plain": [
              "2"
            ]
          },
          "metadata": {},
          "execution_count": 69
        }
      ],
      "source": [
        "y_test[0]"
      ]
    },
    {
      "cell_type": "code",
      "execution_count": 70,
      "metadata": {
        "id": "RbfzXU4T-m-T",
        "colab": {
          "base_uri": "https://localhost:8080/"
        },
        "outputId": "7255fe32-d4b1-4b2c-83d3-0c126a316300"
      },
      "outputs": [
        {
          "output_type": "stream",
          "name": "stdout",
          "text": [
            "[2]\n"
          ]
        }
      ],
      "source": [
        "p = tree.predict([[7.3, 2.9, 6.3, 1.8]])\n",
        "print(p)"
      ]
    },
    {
      "cell_type": "code",
      "execution_count": 71,
      "metadata": {
        "id": "cJCwo8kj-nAl",
        "colab": {
          "base_uri": "https://localhost:8080/"
        },
        "outputId": "3d0f03d0-b5ef-498e-82c3-4c84934e4765"
      },
      "outputs": [
        {
          "output_type": "stream",
          "name": "stdout",
          "text": [
            "[0 0 2 1 1 1 1 2 2 1 2 0 1 1 2 0 2 1 1 0 0 2 2 1 2 2 0 0 2 0 0 0 0 2 0 1 2\n",
            " 1 2 2 1 1 2 2 1 1 2 1 1 0 2 0 2 0 0 1 0 1 2 0 2 0 0 2 2 0 1 0 0 1 2 1 1 0\n",
            " 0 1 2 1 1 2 1 2 0 1 2 1 1 0 0 2 1 2 1 0 1 2 2 0 0 2 2 0 2 1 1 1 2 0 2 1 2\n",
            " 0 2 0 1 0 1 0 0 0]\n"
          ]
        }
      ],
      "source": [
        "# \n",
        "pred_train = tree.predict(X_train)\n",
        "print(pred_train) #"
      ]
    },
    {
      "cell_type": "markdown",
      "metadata": {
        "id": "JZEcUrAW_WFz"
      },
      "source": []
    },
    {
      "cell_type": "code",
      "execution_count": 72,
      "metadata": {
        "id": "-RD2-W-V-nC0",
        "colab": {
          "base_uri": "https://localhost:8080/"
        },
        "outputId": "bdc3e3f8-03e4-4071-ad53-1cf79b18a406"
      },
      "outputs": [
        {
          "output_type": "stream",
          "name": "stdout",
          "text": [
            "[2 0 1 0 0 0 2 2 2 1 0 1 2 1 2 0 2 1 1 2 1 1 0 0 2 1 0 0 1 1]\n"
          ]
        }
      ],
      "source": [
        "pred_test = tree.predict(X_test)\n",
        "print(pred_test)"
      ]
    },
    {
      "cell_type": "code",
      "execution_count": 73,
      "metadata": {
        "id": "ex9PegXm-nFW"
      },
      "outputs": [],
      "source": [
        "from sklearn.metrics import accuracy_score"
      ]
    },
    {
      "cell_type": "code",
      "execution_count": 74,
      "metadata": {
        "id": "VKxwQIB9-nHV",
        "colab": {
          "base_uri": "https://localhost:8080/"
        },
        "outputId": "78c96d74-3153-46fa-8e43-1b18c7dabc8e"
      },
      "outputs": [
        {
          "output_type": "stream",
          "name": "stdout",
          "text": [
            "1.0\n",
            "0.9666666666666667\n"
          ]
        }
      ],
      "source": [
        "acc_train_score = accuracy_score(y_train, pred_train)\n",
        "acc_test_score = accuracy_score(y_test, pred_test)\n",
        "\n",
        "print(acc_train_score)\n",
        "print(acc_test_score)\n",
        "\n"
      ]
    },
    {
      "cell_type": "markdown",
      "metadata": {
        "id": "TlBlZKisBEAa"
      },
      "source": []
    },
    {
      "cell_type": "code",
      "execution_count": 75,
      "metadata": {
        "id": "tOY-KOkY-nJe"
      },
      "outputs": [],
      "source": [
        "# + confusion matrix(평가지표)\n",
        "\n",
        "from sklearn.metrics import confusion_matrix\n",
        "\n",
        "cm_train = confusion_matrix(y_train, pred_train)\n",
        "cm_test = confusion_matrix(y_test, pred_test)"
      ]
    },
    {
      "cell_type": "code",
      "execution_count": 76,
      "metadata": {
        "id": "dW3O4NcQ-nLr",
        "colab": {
          "base_uri": "https://localhost:8080/"
        },
        "outputId": "7ce187dc-7f38-47c1-9943-42e1cb6a4815"
      },
      "outputs": [
        {
          "output_type": "execute_result",
          "data": {
            "text/plain": [
              "array([[40,  0,  0],\n",
              "       [ 0, 40,  0],\n",
              "       [ 0,  0, 40]])"
            ]
          },
          "metadata": {},
          "execution_count": 76
        }
      ],
      "source": [
        "cm_train"
      ]
    },
    {
      "cell_type": "code",
      "execution_count": 77,
      "metadata": {
        "id": "RV5WNE8N-nOV",
        "colab": {
          "base_uri": "https://localhost:8080/"
        },
        "outputId": "f334b513-f7e6-4b60-e288-4f5df7247702"
      },
      "outputs": [
        {
          "output_type": "execute_result",
          "data": {
            "text/plain": [
              "array([[10,  0,  0],\n",
              "       [ 0, 10,  0],\n",
              "       [ 0,  1,  9]])"
            ]
          },
          "metadata": {},
          "execution_count": 77
        }
      ],
      "source": [
        "cm_test"
      ]
    },
    {
      "cell_type": "code",
      "execution_count": 78,
      "metadata": {
        "id": "Hn_5RA1f7kqz"
      },
      "outputs": [],
      "source": [
        "# 01/30 train validation test (hold out)"
      ]
    },
    {
      "cell_type": "markdown",
      "metadata": {
        "id": "2Hx_KfbdVHBE"
      },
      "source": []
    },
    {
      "cell_type": "code",
      "execution_count": 79,
      "metadata": {
        "id": "xVtRyHGKEjYg"
      },
      "outputs": [],
      "source": [
        "from sklearn.tree import DecisionTreeClassifier\n",
        "from sklearn.metrics import accuracy_score\n",
        "from sklearn.datasets import load_iris\n",
        "from sklearn.model_selection import train_test_split"
      ]
    },
    {
      "cell_type": "code",
      "execution_count": 80,
      "metadata": {
        "id": "9O8_sdFLEjcJ",
        "colab": {
          "base_uri": "https://localhost:8080/"
        },
        "outputId": "226486fc-a927-4570-a280-69ebe4d5cbec"
      },
      "outputs": [
        {
          "output_type": "execute_result",
          "data": {
            "text/plain": [
              "((150, 4), (150,))"
            ]
          },
          "metadata": {},
          "execution_count": 80
        }
      ],
      "source": [
        "iris = load_iris() #변수화\n",
        "X, y = iris['data'], iris['target']\n",
        "X.shape, y.shape"
      ]
    },
    {
      "cell_type": "code",
      "execution_count": 81,
      "metadata": {
        "id": "Pa3QeqDREjgp",
        "colab": {
          "base_uri": "https://localhost:8080/"
        },
        "outputId": "54e3e73d-f534-46a2-fa1a-b58b7cd55f9d"
      },
      "outputs": [
        {
          "output_type": "execute_result",
          "data": {
            "text/plain": [
              "((96,), (24,), (30,))"
            ]
          },
          "metadata": {},
          "execution_count": 81
        }
      ],
      "source": [
        "X_train, X_test, y_train, y_test = train_test_split(X, y,\n",
        "                                                    test_size = 0.2,\n",
        "                                                    stratify = y,\n",
        "                                                    random_state = 1)\n",
        "\n",
        "X_train, X_val, y_train, y_val = train_test_split(X_train, y_train,\n",
        "                                                  test_size = 0.2,\n",
        "                                                  stratify = y_train,\n",
        "                                                  random_state = 1\n",
        "                                                  )\n",
        "\n",
        "y_train.shape, y_val.shape, y_test.shape"
      ]
    },
    {
      "cell_type": "code",
      "execution_count": 82,
      "metadata": {
        "id": "jD1PoHJQEjkg",
        "colab": {
          "base_uri": "https://localhost:8080/"
        },
        "outputId": "4babda88-9beb-4f87-9082-e54b8754c882"
      },
      "outputs": [
        {
          "output_type": "execute_result",
          "data": {
            "text/plain": [
              "DecisionTreeClassifier(max_depth=2, random_state=1)"
            ]
          },
          "metadata": {},
          "execution_count": 82
        }
      ],
      "source": [
        "tree = DecisionTreeClassifier(max_depth = 2, random_state=1)\n",
        "tree.fit(X_train, y_train)"
      ]
    },
    {
      "cell_type": "code",
      "execution_count": 83,
      "metadata": {
        "id": "0YFmVnNOEjn5",
        "colab": {
          "base_uri": "https://localhost:8080/"
        },
        "outputId": "769eff06-1ca0-48f3-d287-f00dae6feb60"
      },
      "outputs": [
        {
          "output_type": "stream",
          "name": "stdout",
          "text": [
            "0.96875\n",
            "0.9166666666666666\n"
          ]
        }
      ],
      "source": [
        "pred_train = tree.predict(X_train)\n",
        "pred_val = tree.predict(X_val)\n",
        "\n",
        "acc_train = accuracy_score(y_train, pred_train)\n",
        "acc_val = accuracy_score(y_val, pred_val)\n",
        "\n",
        "print(acc_train)\n",
        "print(acc_val)"
      ]
    },
    {
      "cell_type": "code",
      "execution_count": 84,
      "metadata": {
        "id": "dcNcqpvDbMPE",
        "colab": {
          "base_uri": "https://localhost:8080/"
        },
        "outputId": "a573b2eb-1fe7-4ff7-c2e8-7d6295b351e5"
      },
      "outputs": [
        {
          "output_type": "stream",
          "name": "stdout",
          "text": [
            "0.9333333333333333\n"
          ]
        }
      ],
      "source": [
        "pred_test = tree.predict(X_test)\n",
        "acc_test = accuracy_score(y_test, pred_test)\n",
        "print(acc_test)"
      ]
    },
    {
      "cell_type": "code",
      "execution_count": 85,
      "metadata": {
        "id": "JTinYhMobMkf"
      },
      "outputs": [],
      "source": [
        "# k-fold\n",
        "from sklearn.tree import DecisionTreeClassifier\n",
        "from sklearn.metrics import accuracy_score\n",
        "from sklearn.datasets import load_iris\n",
        "from sklearn.model_selection import KFold"
      ]
    },
    {
      "cell_type": "code",
      "execution_count": 86,
      "metadata": {
        "id": "IwdaGEVMbM9U"
      },
      "outputs": [],
      "source": [
        "iris = load_iris()\n",
        "X, y = iris['data'], iris['target']"
      ]
    },
    {
      "cell_type": "markdown",
      "metadata": {
        "id": "pyjCUW0VkgI3"
      },
      "source": []
    },
    {
      "cell_type": "code",
      "execution_count": 87,
      "metadata": {
        "id": "L2gAfaDcbNM0"
      },
      "outputs": [],
      "source": [
        "k_fold = KFold(n_splits = 5)"
      ]
    },
    {
      "cell_type": "code",
      "execution_count": 88,
      "metadata": {
        "id": "CF1MA3smkjmP",
        "colab": {
          "base_uri": "https://localhost:8080/"
        },
        "outputId": "478b3cd5-df58-4e09-bd71-63fd15efa33f"
      },
      "outputs": [
        {
          "output_type": "stream",
          "name": "stdout",
          "text": [
            "<class 'generator'>\n"
          ]
        }
      ],
      "source": [
        "#gen은 input\n",
        "gen = k_fold.split(X)\n",
        "print(type(gen))"
      ]
    },
    {
      "cell_type": "code",
      "execution_count": 89,
      "metadata": {
        "id": "WqTnIoUakjod"
      },
      "outputs": [],
      "source": [
        "acc_train_list = []\n",
        "acc_test_list = []\n",
        "\n",
        "for train_index, test_index in gen:\n",
        "  X_train, y_train = X[train_index], y[train_index]\n",
        "  X_test, y_test = X[test_index], y[test_index]\n",
        "\n",
        "  tree = DecisionTreeClassifier(max_depth=2)\n",
        "\n",
        "  tree.fit(X_train, y_train)\n",
        "\n",
        "  pred_train = tree.predict(X_train)\n",
        "  pred_test = tree.predict(X_test)\n",
        "\n",
        "  acc_train = accuracy_score(y_train, pred_train)\n",
        "  acc_test = accuracy_score(y_test, pred_test)\n",
        "\n",
        "  acc_train_list.append(acc_train)\n",
        "  acc_test_list.append(acc_test)"
      ]
    },
    {
      "cell_type": "code",
      "execution_count": 90,
      "metadata": {
        "id": "oKdG0OXukjqw",
        "colab": {
          "base_uri": "https://localhost:8080/"
        },
        "outputId": "e4df98fe-d088-442c-cd3c-9f5591416748"
      },
      "outputs": [
        {
          "output_type": "stream",
          "name": "stdout",
          "text": [
            "[0.95, 0.95, 0.9833333333333333, 0.9666666666666667, 0.975]\n",
            "[1.0, 1.0, 0.8333333333333334, 0.9333333333333333, 0.9]\n"
          ]
        }
      ],
      "source": [
        "print(acc_train_list)\n",
        "print(acc_test_list)"
      ]
    },
    {
      "cell_type": "code",
      "execution_count": 91,
      "metadata": {
        "id": "ImbH4De9kjtP",
        "colab": {
          "base_uri": "https://localhost:8080/"
        },
        "outputId": "452c6459-065e-4449-c745-d7fc959b4c2f"
      },
      "outputs": [
        {
          "output_type": "stream",
          "name": "stdout",
          "text": [
            "0.9650000000000001\n",
            "0.9333333333333333\n"
          ]
        }
      ],
      "source": [
        "import numpy as np\n",
        "\n",
        "print(np.mean(acc_train_list))\n",
        "print(np.mean(acc_test_list))"
      ]
    },
    {
      "cell_type": "code",
      "execution_count": 91,
      "metadata": {
        "id": "FI2CH01XtqbM"
      },
      "outputs": [],
      "source": []
    },
    {
      "cell_type": "markdown",
      "metadata": {
        "id": "bj5NWZU3q3vf"
      },
      "source": []
    },
    {
      "cell_type": "code",
      "execution_count": 92,
      "metadata": {
        "id": "5PFLelPakju-"
      },
      "outputs": [],
      "source": [
        "from sklearn.model_selection import StratifiedKFold\n",
        "\n",
        "s_fold = StratifiedKFold(n_splits=5)"
      ]
    },
    {
      "cell_type": "code",
      "execution_count": 93,
      "metadata": {
        "id": "VnFF7dE2q9TZ",
        "colab": {
          "base_uri": "https://localhost:8080/"
        },
        "outputId": "964fb9c4-5d31-4c4f-ffcf-8b272eeb8fb8"
      },
      "outputs": [
        {
          "output_type": "stream",
          "name": "stdout",
          "text": [
            "<class 'generator'>\n"
          ]
        }
      ],
      "source": [
        "gen = s_fold.split(X, y)\n",
        "print(type(gen))"
      ]
    },
    {
      "cell_type": "code",
      "execution_count": 94,
      "metadata": {
        "id": "eBxO6-5Qq9Vt"
      },
      "outputs": [],
      "source": [
        "acc_train_list = []\n",
        "acc_test_list = []\n",
        "\n",
        "for train_index, test_index in s_fold.split(X, y):\n",
        "  X_train, y_train = X[train_index], y[train_index]\n",
        "  X_test, y_test = X[test_index], y[test_index]\n",
        "\n",
        "  tree = DecisionTreeClassifier(max_depth=2)\n",
        "\n",
        "  tree.fit(X_train, y_train)\n",
        "\n",
        "  pred_train = tree.predict(X_train)\n",
        "  pred_test = tree.predict(X_test)\n",
        "\n",
        "  acc_train = accuracy_score(y_train, pred_train)\n",
        "  acc_test = accuracy_score(y_test, pred_test)\n",
        "\n",
        "  acc_train_list.append(acc_train)\n",
        "  acc_test_list.append(acc_test)"
      ]
    },
    {
      "cell_type": "code",
      "execution_count": 95,
      "metadata": {
        "id": "DSa1bbQUq9ZM",
        "colab": {
          "base_uri": "https://localhost:8080/"
        },
        "outputId": "944e7a43-f2e5-44ef-b54b-6a13e8ebfd1c"
      },
      "outputs": [
        {
          "output_type": "stream",
          "name": "stdout",
          "text": [
            "[0.9583333333333334, 0.9583333333333334, 0.975, 0.9666666666666667, 0.95]\n",
            "[0.9333333333333333, 0.9666666666666667, 0.9, 0.8666666666666667, 1.0]\n"
          ]
        }
      ],
      "source": [
        "print(acc_train_list)\n",
        "print(acc_test_list)"
      ]
    },
    {
      "cell_type": "code",
      "execution_count": 96,
      "metadata": {
        "id": "dS2WTTt6q9bk",
        "colab": {
          "base_uri": "https://localhost:8080/"
        },
        "outputId": "3f7820ff-8cad-4e76-807a-641161cdd607"
      },
      "outputs": [
        {
          "output_type": "stream",
          "name": "stdout",
          "text": [
            "0.9616666666666667\n",
            "0.9333333333333332\n"
          ]
        }
      ],
      "source": [
        "import numpy as np\n",
        "\n",
        "print(np.mean(acc_train_list))\n",
        "print(np.mean(acc_test_list))"
      ]
    },
    {
      "cell_type": "code",
      "execution_count": 97,
      "metadata": {
        "id": "FifbDRAJq9e1"
      },
      "outputs": [],
      "source": [
        "# 2/3"
      ]
    },
    {
      "cell_type": "code",
      "execution_count": 98,
      "metadata": {
        "id": "6d4LASA5q9hh"
      },
      "outputs": [],
      "source": [
        "from sklearn.model_selection import cross_val_score"
      ]
    },
    {
      "cell_type": "code",
      "execution_count": 99,
      "metadata": {
        "id": "qhmOuOw7q9kT"
      },
      "outputs": [],
      "source": [
        "tree = DecisionTreeClassifier(max_depth = 3)\n",
        "scores = cross_val_score(\n",
        "    # hyperparameter\n",
        "    estimator = tree,\n",
        "    X = X,\n",
        "    y = y,\n",
        "    scoring = 'accuracy',\n",
        "    cv = 5\n",
        ")"
      ]
    },
    {
      "cell_type": "code",
      "execution_count": 100,
      "metadata": {
        "id": "quWYu42wq9nV",
        "colab": {
          "base_uri": "https://localhost:8080/"
        },
        "outputId": "51ccd612-ba8e-4591-88cc-812bc0c23f71"
      },
      "outputs": [
        {
          "output_type": "stream",
          "name": "stdout",
          "text": [
            "[0.96666667 0.96666667 0.93333333 1.         1.        ]\n",
            "0.9733333333333334\n"
          ]
        }
      ],
      "source": [
        "print(scores)\n",
        "print(np.mean(scores))"
      ]
    },
    {
      "cell_type": "code",
      "execution_count": 101,
      "metadata": {
        "id": "R2at08qKkjxW"
      },
      "outputs": [],
      "source": [
        "# preprocessing"
      ]
    },
    {
      "cell_type": "code",
      "execution_count": 102,
      "metadata": {
        "id": "D8qqOos75XgM",
        "colab": {
          "base_uri": "https://localhost:8080/"
        },
        "outputId": "fa4ebabc-d25d-480a-a4d2-80992539d7f5"
      },
      "outputs": [
        {
          "output_type": "stream",
          "name": "stdout",
          "text": [
            "[3 1 2 2 0 4 3]\n"
          ]
        }
      ],
      "source": [
        "from sklearn.preprocessing import LabelEncoder\n",
        "\n",
        "items = ['입생','메이크업포에버','빅시','빅시','맥','페리페라','입생']\n",
        "\n",
        "label_encoder = LabelEncoder()\n",
        "label_encoder.fit(items)\n",
        "labels = label_encoder.transform(items)\n",
        "print(labels)"
      ]
    },
    {
      "cell_type": "code",
      "execution_count": 103,
      "metadata": {
        "id": "4nfFBewx5XjM",
        "colab": {
          "base_uri": "https://localhost:8080/"
        },
        "outputId": "d63e2e67-f13b-4066-8598-9cc3aca3ed60"
      },
      "outputs": [
        {
          "output_type": "execute_result",
          "data": {
            "text/plain": [
              "array(['맥', '메이크업포에버', '빅시', '입생', '페리페라'], dtype='<U7')"
            ]
          },
          "metadata": {},
          "execution_count": 103
        }
      ],
      "source": [
        "# np.unique 랑 비슷\n",
        "label_encoder.classes_"
      ]
    },
    {
      "cell_type": "code",
      "execution_count": 104,
      "metadata": {
        "id": "XtvkXHzZ5Xlh",
        "colab": {
          "base_uri": "https://localhost:8080/"
        },
        "outputId": "c977eeee-7a5e-47dd-9ad6-70d91e1fd2a7"
      },
      "outputs": [
        {
          "output_type": "stream",
          "name": "stdout",
          "text": [
            "['메이크업포에버' '빅시' '페리페라' '맥' '빅시' '입생' '페리페라']\n"
          ]
        }
      ],
      "source": [
        "inverse = label_encoder.inverse_transform([1, 2, 4, 0, 2, 3, 4])\n",
        "print(inverse)"
      ]
    },
    {
      "cell_type": "code",
      "execution_count": 105,
      "metadata": {
        "id": "DkyHxrOE5Xqr",
        "colab": {
          "base_uri": "https://localhost:8080/"
        },
        "outputId": "9c1a4c9b-e61a-4eed-ecee-ba059005150c"
      },
      "outputs": [
        {
          "output_type": "stream",
          "name": "stdout",
          "text": [
            "[3 1 2 2 0 4 3]\n"
          ]
        }
      ],
      "source": [
        "label_encoder2 = LabelEncoder()\n",
        "labels2 = label_encoder2.fit_transform(items)\n",
        "print(labels2)"
      ]
    },
    {
      "cell_type": "code",
      "execution_count": 106,
      "metadata": {
        "id": "bHNBvmxPWlG8"
      },
      "outputs": [],
      "source": [
        "cols = ['age', 'workclass', 'fnlwgt', 'education','education-num','marital-status', 'occupation','relationship','race','sex','capital-gain','capital-loss','hours-per-week','native-country','income']"
      ]
    },
    {
      "cell_type": "code",
      "execution_count": 107,
      "metadata": {
        "id": "bl08LJnD5XtB"
      },
      "outputs": [],
      "source": [
        "import pandas as pd\n",
        "adult = pd.read_csv('/content/adult.data',\n",
        "                    header=None,\n",
        "                    names=cols,\n",
        "                    na_values='?')\n",
        "cols = ['age', 'workclass', 'fnlwgt', 'education','education-num','marital-status', 'occupation','relationship','race','sex','capital-gain','capital-loss','hours-per-week','native-country','income']"
      ]
    },
    {
      "cell_type": "code",
      "execution_count": 108,
      "metadata": {
        "id": "x95YQzr4CZpv",
        "colab": {
          "base_uri": "https://localhost:8080/"
        },
        "outputId": "34820b3e-504b-439c-cdd3-72780283f512"
      },
      "outputs": [
        {
          "output_type": "stream",
          "name": "stdout",
          "text": [
            "<class 'pandas.core.frame.DataFrame'>\n",
            "RangeIndex: 17189 entries, 0 to 17188\n",
            "Data columns (total 15 columns):\n",
            " #   Column          Non-Null Count  Dtype \n",
            "---  ------          --------------  ----- \n",
            " 0   age             17189 non-null  int64 \n",
            " 1   workclass       17189 non-null  object\n",
            " 2   fnlwgt          17189 non-null  int64 \n",
            " 3   education       17189 non-null  object\n",
            " 4   education-num   17189 non-null  int64 \n",
            " 5   marital-status  17189 non-null  object\n",
            " 6   occupation      17189 non-null  object\n",
            " 7   relationship    17189 non-null  object\n",
            " 8   race            17189 non-null  object\n",
            " 9   sex             17189 non-null  object\n",
            " 10  capital-gain    17189 non-null  int64 \n",
            " 11  capital-loss    17189 non-null  int64 \n",
            " 12  hours-per-week  17189 non-null  int64 \n",
            " 13  native-country  17189 non-null  object\n",
            " 14  income          17188 non-null  object\n",
            "dtypes: int64(6), object(9)\n",
            "memory usage: 2.0+ MB\n"
          ]
        }
      ],
      "source": [
        "adult.info()"
      ]
    },
    {
      "cell_type": "code",
      "execution_count": 109,
      "metadata": {
        "id": "I7FrfzDn5Xxy",
        "colab": {
          "base_uri": "https://localhost:8080/",
          "height": 387
        },
        "outputId": "98e0d4e7-a467-499c-d6da-fe43f9908285"
      },
      "outputs": [
        {
          "output_type": "execute_result",
          "data": {
            "text/plain": [
              "   age          workclass  fnlwgt   education  education-num  \\\n",
              "0   39          State-gov   77516   Bachelors             13   \n",
              "1   50   Self-emp-not-inc   83311   Bachelors             13   \n",
              "2   38            Private  215646     HS-grad              9   \n",
              "3   53            Private  234721        11th              7   \n",
              "4   28            Private  338409   Bachelors             13   \n",
              "\n",
              "        marital-status          occupation    relationship    race      sex  \\\n",
              "0        Never-married        Adm-clerical   Not-in-family   White     Male   \n",
              "1   Married-civ-spouse     Exec-managerial         Husband   White     Male   \n",
              "2             Divorced   Handlers-cleaners   Not-in-family   White     Male   \n",
              "3   Married-civ-spouse   Handlers-cleaners         Husband   Black     Male   \n",
              "4   Married-civ-spouse      Prof-specialty            Wife   Black   Female   \n",
              "\n",
              "   capital-gain  capital-loss  hours-per-week  native-country  income  \n",
              "0          2174             0              40   United-States   <=50K  \n",
              "1             0             0              13   United-States   <=50K  \n",
              "2             0             0              40   United-States   <=50K  \n",
              "3             0             0              40   United-States   <=50K  \n",
              "4             0             0              40            Cuba   <=50K  "
            ],
            "text/html": [
              "\n",
              "  <div id=\"df-041918c1-ac2d-43f2-8e22-f3fe599f670c\">\n",
              "    <div class=\"colab-df-container\">\n",
              "      <div>\n",
              "<style scoped>\n",
              "    .dataframe tbody tr th:only-of-type {\n",
              "        vertical-align: middle;\n",
              "    }\n",
              "\n",
              "    .dataframe tbody tr th {\n",
              "        vertical-align: top;\n",
              "    }\n",
              "\n",
              "    .dataframe thead th {\n",
              "        text-align: right;\n",
              "    }\n",
              "</style>\n",
              "<table border=\"1\" class=\"dataframe\">\n",
              "  <thead>\n",
              "    <tr style=\"text-align: right;\">\n",
              "      <th></th>\n",
              "      <th>age</th>\n",
              "      <th>workclass</th>\n",
              "      <th>fnlwgt</th>\n",
              "      <th>education</th>\n",
              "      <th>education-num</th>\n",
              "      <th>marital-status</th>\n",
              "      <th>occupation</th>\n",
              "      <th>relationship</th>\n",
              "      <th>race</th>\n",
              "      <th>sex</th>\n",
              "      <th>capital-gain</th>\n",
              "      <th>capital-loss</th>\n",
              "      <th>hours-per-week</th>\n",
              "      <th>native-country</th>\n",
              "      <th>income</th>\n",
              "    </tr>\n",
              "  </thead>\n",
              "  <tbody>\n",
              "    <tr>\n",
              "      <th>0</th>\n",
              "      <td>39</td>\n",
              "      <td>State-gov</td>\n",
              "      <td>77516</td>\n",
              "      <td>Bachelors</td>\n",
              "      <td>13</td>\n",
              "      <td>Never-married</td>\n",
              "      <td>Adm-clerical</td>\n",
              "      <td>Not-in-family</td>\n",
              "      <td>White</td>\n",
              "      <td>Male</td>\n",
              "      <td>2174</td>\n",
              "      <td>0</td>\n",
              "      <td>40</td>\n",
              "      <td>United-States</td>\n",
              "      <td>&lt;=50K</td>\n",
              "    </tr>\n",
              "    <tr>\n",
              "      <th>1</th>\n",
              "      <td>50</td>\n",
              "      <td>Self-emp-not-inc</td>\n",
              "      <td>83311</td>\n",
              "      <td>Bachelors</td>\n",
              "      <td>13</td>\n",
              "      <td>Married-civ-spouse</td>\n",
              "      <td>Exec-managerial</td>\n",
              "      <td>Husband</td>\n",
              "      <td>White</td>\n",
              "      <td>Male</td>\n",
              "      <td>0</td>\n",
              "      <td>0</td>\n",
              "      <td>13</td>\n",
              "      <td>United-States</td>\n",
              "      <td>&lt;=50K</td>\n",
              "    </tr>\n",
              "    <tr>\n",
              "      <th>2</th>\n",
              "      <td>38</td>\n",
              "      <td>Private</td>\n",
              "      <td>215646</td>\n",
              "      <td>HS-grad</td>\n",
              "      <td>9</td>\n",
              "      <td>Divorced</td>\n",
              "      <td>Handlers-cleaners</td>\n",
              "      <td>Not-in-family</td>\n",
              "      <td>White</td>\n",
              "      <td>Male</td>\n",
              "      <td>0</td>\n",
              "      <td>0</td>\n",
              "      <td>40</td>\n",
              "      <td>United-States</td>\n",
              "      <td>&lt;=50K</td>\n",
              "    </tr>\n",
              "    <tr>\n",
              "      <th>3</th>\n",
              "      <td>53</td>\n",
              "      <td>Private</td>\n",
              "      <td>234721</td>\n",
              "      <td>11th</td>\n",
              "      <td>7</td>\n",
              "      <td>Married-civ-spouse</td>\n",
              "      <td>Handlers-cleaners</td>\n",
              "      <td>Husband</td>\n",
              "      <td>Black</td>\n",
              "      <td>Male</td>\n",
              "      <td>0</td>\n",
              "      <td>0</td>\n",
              "      <td>40</td>\n",
              "      <td>United-States</td>\n",
              "      <td>&lt;=50K</td>\n",
              "    </tr>\n",
              "    <tr>\n",
              "      <th>4</th>\n",
              "      <td>28</td>\n",
              "      <td>Private</td>\n",
              "      <td>338409</td>\n",
              "      <td>Bachelors</td>\n",
              "      <td>13</td>\n",
              "      <td>Married-civ-spouse</td>\n",
              "      <td>Prof-specialty</td>\n",
              "      <td>Wife</td>\n",
              "      <td>Black</td>\n",
              "      <td>Female</td>\n",
              "      <td>0</td>\n",
              "      <td>0</td>\n",
              "      <td>40</td>\n",
              "      <td>Cuba</td>\n",
              "      <td>&lt;=50K</td>\n",
              "    </tr>\n",
              "  </tbody>\n",
              "</table>\n",
              "</div>\n",
              "      <button class=\"colab-df-convert\" onclick=\"convertToInteractive('df-041918c1-ac2d-43f2-8e22-f3fe599f670c')\"\n",
              "              title=\"Convert this dataframe to an interactive table.\"\n",
              "              style=\"display:none;\">\n",
              "        \n",
              "  <svg xmlns=\"http://www.w3.org/2000/svg\" height=\"24px\"viewBox=\"0 0 24 24\"\n",
              "       width=\"24px\">\n",
              "    <path d=\"M0 0h24v24H0V0z\" fill=\"none\"/>\n",
              "    <path d=\"M18.56 5.44l.94 2.06.94-2.06 2.06-.94-2.06-.94-.94-2.06-.94 2.06-2.06.94zm-11 1L8.5 8.5l.94-2.06 2.06-.94-2.06-.94L8.5 2.5l-.94 2.06-2.06.94zm10 10l.94 2.06.94-2.06 2.06-.94-2.06-.94-.94-2.06-.94 2.06-2.06.94z\"/><path d=\"M17.41 7.96l-1.37-1.37c-.4-.4-.92-.59-1.43-.59-.52 0-1.04.2-1.43.59L10.3 9.45l-7.72 7.72c-.78.78-.78 2.05 0 2.83L4 21.41c.39.39.9.59 1.41.59.51 0 1.02-.2 1.41-.59l7.78-7.78 2.81-2.81c.8-.78.8-2.07 0-2.86zM5.41 20L4 18.59l7.72-7.72 1.47 1.35L5.41 20z\"/>\n",
              "  </svg>\n",
              "      </button>\n",
              "      \n",
              "  <style>\n",
              "    .colab-df-container {\n",
              "      display:flex;\n",
              "      flex-wrap:wrap;\n",
              "      gap: 12px;\n",
              "    }\n",
              "\n",
              "    .colab-df-convert {\n",
              "      background-color: #E8F0FE;\n",
              "      border: none;\n",
              "      border-radius: 50%;\n",
              "      cursor: pointer;\n",
              "      display: none;\n",
              "      fill: #1967D2;\n",
              "      height: 32px;\n",
              "      padding: 0 0 0 0;\n",
              "      width: 32px;\n",
              "    }\n",
              "\n",
              "    .colab-df-convert:hover {\n",
              "      background-color: #E2EBFA;\n",
              "      box-shadow: 0px 1px 2px rgba(60, 64, 67, 0.3), 0px 1px 3px 1px rgba(60, 64, 67, 0.15);\n",
              "      fill: #174EA6;\n",
              "    }\n",
              "\n",
              "    [theme=dark] .colab-df-convert {\n",
              "      background-color: #3B4455;\n",
              "      fill: #D2E3FC;\n",
              "    }\n",
              "\n",
              "    [theme=dark] .colab-df-convert:hover {\n",
              "      background-color: #434B5C;\n",
              "      box-shadow: 0px 1px 3px 1px rgba(0, 0, 0, 0.15);\n",
              "      filter: drop-shadow(0px 1px 2px rgba(0, 0, 0, 0.3));\n",
              "      fill: #FFFFFF;\n",
              "    }\n",
              "  </style>\n",
              "\n",
              "      <script>\n",
              "        const buttonEl =\n",
              "          document.querySelector('#df-041918c1-ac2d-43f2-8e22-f3fe599f670c button.colab-df-convert');\n",
              "        buttonEl.style.display =\n",
              "          google.colab.kernel.accessAllowed ? 'block' : 'none';\n",
              "\n",
              "        async function convertToInteractive(key) {\n",
              "          const element = document.querySelector('#df-041918c1-ac2d-43f2-8e22-f3fe599f670c');\n",
              "          const dataTable =\n",
              "            await google.colab.kernel.invokeFunction('convertToInteractive',\n",
              "                                                     [key], {});\n",
              "          if (!dataTable) return;\n",
              "\n",
              "          const docLinkHtml = 'Like what you see? Visit the ' +\n",
              "            '<a target=\"_blank\" href=https://colab.research.google.com/notebooks/data_table.ipynb>data table notebook</a>'\n",
              "            + ' to learn more about interactive tables.';\n",
              "          element.innerHTML = '';\n",
              "          dataTable['output_type'] = 'display_data';\n",
              "          await google.colab.output.renderOutput(dataTable, element);\n",
              "          const docLink = document.createElement('div');\n",
              "          docLink.innerHTML = docLinkHtml;\n",
              "          element.appendChild(docLink);\n",
              "        }\n",
              "      </script>\n",
              "    </div>\n",
              "  </div>\n",
              "  "
            ]
          },
          "metadata": {},
          "execution_count": 109
        }
      ],
      "source": [
        "adult.head(5)"
      ]
    },
    {
      "cell_type": "code",
      "execution_count": 110,
      "metadata": {
        "id": "yEDXueONYAz8",
        "colab": {
          "base_uri": "https://localhost:8080/"
        },
        "outputId": "5ce5ac08-923f-46bc-9f39-8d0761ec2454"
      },
      "outputs": [
        {
          "output_type": "execute_result",
          "data": {
            "text/plain": [
              " <=50K    13078\n",
              " >50K      4110\n",
              "Name: income, dtype: int64"
            ]
          },
          "metadata": {},
          "execution_count": 110
        }
      ],
      "source": [
        "adult['income'].value_counts().sort_index()\n",
        "# ()가 있는 건 내장함수"
      ]
    },
    {
      "cell_type": "code",
      "execution_count": 111,
      "metadata": {
        "id": "dkiYim-W5X2S"
      },
      "outputs": [],
      "source": [
        "cols = ['age', 'workclass', 'fnlwgt', 'education','education-num','marital-status', 'occupation','relationship','race','sex','capital-gain','capital-loss','hours-per-week','native-country','income']"
      ]
    },
    {
      "cell_type": "code",
      "execution_count": 112,
      "metadata": {
        "id": "xAo4STuGb3dx"
      },
      "outputs": [],
      "source": [
        "encoding_columns = ['workclass','education','marital-status','occupation','relationship','race','sex','native-country','income']\n",
        "not_encoding_columns = ['age','fnlwgt','education-num','capital-gain','capital-loss','hours-per-week']"
      ]
    },
    {
      "cell_type": "code",
      "execution_count": 113,
      "metadata": {
        "id": "VfL8b6Vab3jI"
      },
      "outputs": [],
      "source": [
        "from sklearn.preprocessing import LabelEncoder\n",
        "\n",
        "enc_dict = {}\n",
        "\n",
        "def encoding_label(x):\n",
        "\n",
        "  le = LabelEncoder()\n",
        "  r = le.fit_transform(x)\n",
        "  enc_dict[x.name] = le.classes_\n",
        "  return r"
      ]
    },
    {
      "cell_type": "code",
      "execution_count": 114,
      "metadata": {
        "id": "iMtIHyDTb3me",
        "colab": {
          "base_uri": "https://localhost:8080/",
          "height": 463
        },
        "outputId": "ea016a3d-3df4-4d76-9227-2a35df207218"
      },
      "outputs": [
        {
          "output_type": "execute_result",
          "data": {
            "text/plain": [
              "       workclass  education  marital-status  occupation  relationship  race  \\\n",
              "0              7          9               4           1             1     4   \n",
              "1              6          9               2           4             0     4   \n",
              "2              4         11               0           6             1     4   \n",
              "3              4          1               2           6             0     2   \n",
              "4              4          9               2          10             5     2   \n",
              "...          ...        ...             ...         ...           ...   ...   \n",
              "17184          4          9               4          12             3     2   \n",
              "17185          4          8               2           8             0     4   \n",
              "17186          4         15               0           4             1     4   \n",
              "17187          1         11               0           1             4     2   \n",
              "17188          4          0               6           5             4     4   \n",
              "\n",
              "       sex  native-country  income  \n",
              "0        1              39       0  \n",
              "1        1              39       0  \n",
              "2        1              39       0  \n",
              "3        1              39       0  \n",
              "4        0               5       0  \n",
              "...    ...             ...     ...  \n",
              "17184    1              39       0  \n",
              "17185    1              39       0  \n",
              "17186    0              39       1  \n",
              "17187    0              39       0  \n",
              "17188    1              38       2  \n",
              "\n",
              "[17189 rows x 9 columns]"
            ],
            "text/html": [
              "\n",
              "  <div id=\"df-af7d0efd-bbb2-4c1a-a839-686bde25f028\">\n",
              "    <div class=\"colab-df-container\">\n",
              "      <div>\n",
              "<style scoped>\n",
              "    .dataframe tbody tr th:only-of-type {\n",
              "        vertical-align: middle;\n",
              "    }\n",
              "\n",
              "    .dataframe tbody tr th {\n",
              "        vertical-align: top;\n",
              "    }\n",
              "\n",
              "    .dataframe thead th {\n",
              "        text-align: right;\n",
              "    }\n",
              "</style>\n",
              "<table border=\"1\" class=\"dataframe\">\n",
              "  <thead>\n",
              "    <tr style=\"text-align: right;\">\n",
              "      <th></th>\n",
              "      <th>workclass</th>\n",
              "      <th>education</th>\n",
              "      <th>marital-status</th>\n",
              "      <th>occupation</th>\n",
              "      <th>relationship</th>\n",
              "      <th>race</th>\n",
              "      <th>sex</th>\n",
              "      <th>native-country</th>\n",
              "      <th>income</th>\n",
              "    </tr>\n",
              "  </thead>\n",
              "  <tbody>\n",
              "    <tr>\n",
              "      <th>0</th>\n",
              "      <td>7</td>\n",
              "      <td>9</td>\n",
              "      <td>4</td>\n",
              "      <td>1</td>\n",
              "      <td>1</td>\n",
              "      <td>4</td>\n",
              "      <td>1</td>\n",
              "      <td>39</td>\n",
              "      <td>0</td>\n",
              "    </tr>\n",
              "    <tr>\n",
              "      <th>1</th>\n",
              "      <td>6</td>\n",
              "      <td>9</td>\n",
              "      <td>2</td>\n",
              "      <td>4</td>\n",
              "      <td>0</td>\n",
              "      <td>4</td>\n",
              "      <td>1</td>\n",
              "      <td>39</td>\n",
              "      <td>0</td>\n",
              "    </tr>\n",
              "    <tr>\n",
              "      <th>2</th>\n",
              "      <td>4</td>\n",
              "      <td>11</td>\n",
              "      <td>0</td>\n",
              "      <td>6</td>\n",
              "      <td>1</td>\n",
              "      <td>4</td>\n",
              "      <td>1</td>\n",
              "      <td>39</td>\n",
              "      <td>0</td>\n",
              "    </tr>\n",
              "    <tr>\n",
              "      <th>3</th>\n",
              "      <td>4</td>\n",
              "      <td>1</td>\n",
              "      <td>2</td>\n",
              "      <td>6</td>\n",
              "      <td>0</td>\n",
              "      <td>2</td>\n",
              "      <td>1</td>\n",
              "      <td>39</td>\n",
              "      <td>0</td>\n",
              "    </tr>\n",
              "    <tr>\n",
              "      <th>4</th>\n",
              "      <td>4</td>\n",
              "      <td>9</td>\n",
              "      <td>2</td>\n",
              "      <td>10</td>\n",
              "      <td>5</td>\n",
              "      <td>2</td>\n",
              "      <td>0</td>\n",
              "      <td>5</td>\n",
              "      <td>0</td>\n",
              "    </tr>\n",
              "    <tr>\n",
              "      <th>...</th>\n",
              "      <td>...</td>\n",
              "      <td>...</td>\n",
              "      <td>...</td>\n",
              "      <td>...</td>\n",
              "      <td>...</td>\n",
              "      <td>...</td>\n",
              "      <td>...</td>\n",
              "      <td>...</td>\n",
              "      <td>...</td>\n",
              "    </tr>\n",
              "    <tr>\n",
              "      <th>17184</th>\n",
              "      <td>4</td>\n",
              "      <td>9</td>\n",
              "      <td>4</td>\n",
              "      <td>12</td>\n",
              "      <td>3</td>\n",
              "      <td>2</td>\n",
              "      <td>1</td>\n",
              "      <td>39</td>\n",
              "      <td>0</td>\n",
              "    </tr>\n",
              "    <tr>\n",
              "      <th>17185</th>\n",
              "      <td>4</td>\n",
              "      <td>8</td>\n",
              "      <td>2</td>\n",
              "      <td>8</td>\n",
              "      <td>0</td>\n",
              "      <td>4</td>\n",
              "      <td>1</td>\n",
              "      <td>39</td>\n",
              "      <td>0</td>\n",
              "    </tr>\n",
              "    <tr>\n",
              "      <th>17186</th>\n",
              "      <td>4</td>\n",
              "      <td>15</td>\n",
              "      <td>0</td>\n",
              "      <td>4</td>\n",
              "      <td>1</td>\n",
              "      <td>4</td>\n",
              "      <td>0</td>\n",
              "      <td>39</td>\n",
              "      <td>1</td>\n",
              "    </tr>\n",
              "    <tr>\n",
              "      <th>17187</th>\n",
              "      <td>1</td>\n",
              "      <td>11</td>\n",
              "      <td>0</td>\n",
              "      <td>1</td>\n",
              "      <td>4</td>\n",
              "      <td>2</td>\n",
              "      <td>0</td>\n",
              "      <td>39</td>\n",
              "      <td>0</td>\n",
              "    </tr>\n",
              "    <tr>\n",
              "      <th>17188</th>\n",
              "      <td>4</td>\n",
              "      <td>0</td>\n",
              "      <td>6</td>\n",
              "      <td>5</td>\n",
              "      <td>4</td>\n",
              "      <td>4</td>\n",
              "      <td>1</td>\n",
              "      <td>38</td>\n",
              "      <td>2</td>\n",
              "    </tr>\n",
              "  </tbody>\n",
              "</table>\n",
              "<p>17189 rows × 9 columns</p>\n",
              "</div>\n",
              "      <button class=\"colab-df-convert\" onclick=\"convertToInteractive('df-af7d0efd-bbb2-4c1a-a839-686bde25f028')\"\n",
              "              title=\"Convert this dataframe to an interactive table.\"\n",
              "              style=\"display:none;\">\n",
              "        \n",
              "  <svg xmlns=\"http://www.w3.org/2000/svg\" height=\"24px\"viewBox=\"0 0 24 24\"\n",
              "       width=\"24px\">\n",
              "    <path d=\"M0 0h24v24H0V0z\" fill=\"none\"/>\n",
              "    <path d=\"M18.56 5.44l.94 2.06.94-2.06 2.06-.94-2.06-.94-.94-2.06-.94 2.06-2.06.94zm-11 1L8.5 8.5l.94-2.06 2.06-.94-2.06-.94L8.5 2.5l-.94 2.06-2.06.94zm10 10l.94 2.06.94-2.06 2.06-.94-2.06-.94-.94-2.06-.94 2.06-2.06.94z\"/><path d=\"M17.41 7.96l-1.37-1.37c-.4-.4-.92-.59-1.43-.59-.52 0-1.04.2-1.43.59L10.3 9.45l-7.72 7.72c-.78.78-.78 2.05 0 2.83L4 21.41c.39.39.9.59 1.41.59.51 0 1.02-.2 1.41-.59l7.78-7.78 2.81-2.81c.8-.78.8-2.07 0-2.86zM5.41 20L4 18.59l7.72-7.72 1.47 1.35L5.41 20z\"/>\n",
              "  </svg>\n",
              "      </button>\n",
              "      \n",
              "  <style>\n",
              "    .colab-df-container {\n",
              "      display:flex;\n",
              "      flex-wrap:wrap;\n",
              "      gap: 12px;\n",
              "    }\n",
              "\n",
              "    .colab-df-convert {\n",
              "      background-color: #E8F0FE;\n",
              "      border: none;\n",
              "      border-radius: 50%;\n",
              "      cursor: pointer;\n",
              "      display: none;\n",
              "      fill: #1967D2;\n",
              "      height: 32px;\n",
              "      padding: 0 0 0 0;\n",
              "      width: 32px;\n",
              "    }\n",
              "\n",
              "    .colab-df-convert:hover {\n",
              "      background-color: #E2EBFA;\n",
              "      box-shadow: 0px 1px 2px rgba(60, 64, 67, 0.3), 0px 1px 3px 1px rgba(60, 64, 67, 0.15);\n",
              "      fill: #174EA6;\n",
              "    }\n",
              "\n",
              "    [theme=dark] .colab-df-convert {\n",
              "      background-color: #3B4455;\n",
              "      fill: #D2E3FC;\n",
              "    }\n",
              "\n",
              "    [theme=dark] .colab-df-convert:hover {\n",
              "      background-color: #434B5C;\n",
              "      box-shadow: 0px 1px 3px 1px rgba(0, 0, 0, 0.15);\n",
              "      filter: drop-shadow(0px 1px 2px rgba(0, 0, 0, 0.3));\n",
              "      fill: #FFFFFF;\n",
              "    }\n",
              "  </style>\n",
              "\n",
              "      <script>\n",
              "        const buttonEl =\n",
              "          document.querySelector('#df-af7d0efd-bbb2-4c1a-a839-686bde25f028 button.colab-df-convert');\n",
              "        buttonEl.style.display =\n",
              "          google.colab.kernel.accessAllowed ? 'block' : 'none';\n",
              "\n",
              "        async function convertToInteractive(key) {\n",
              "          const element = document.querySelector('#df-af7d0efd-bbb2-4c1a-a839-686bde25f028');\n",
              "          const dataTable =\n",
              "            await google.colab.kernel.invokeFunction('convertToInteractive',\n",
              "                                                     [key], {});\n",
              "          if (!dataTable) return;\n",
              "\n",
              "          const docLinkHtml = 'Like what you see? Visit the ' +\n",
              "            '<a target=\"_blank\" href=https://colab.research.google.com/notebooks/data_table.ipynb>data table notebook</a>'\n",
              "            + ' to learn more about interactive tables.';\n",
              "          element.innerHTML = '';\n",
              "          dataTable['output_type'] = 'display_data';\n",
              "          await google.colab.output.renderOutput(dataTable, element);\n",
              "          const docLink = document.createElement('div');\n",
              "          docLink.innerHTML = docLinkHtml;\n",
              "          element.appendChild(docLink);\n",
              "        }\n",
              "      </script>\n",
              "    </div>\n",
              "  </div>\n",
              "  "
            ]
          },
          "metadata": {},
          "execution_count": 114
        }
      ],
      "source": [
        "adult_enc_df = adult[encoding_columns].apply(encoding_label)\n",
        "adult_enc_df"
      ]
    },
    {
      "cell_type": "code",
      "execution_count": 115,
      "metadata": {
        "id": "hKc6RMgMb3oj",
        "colab": {
          "base_uri": "https://localhost:8080/"
        },
        "outputId": "c35531d7-7645-4d2d-bcf2-680d071eeaa5"
      },
      "outputs": [
        {
          "output_type": "execute_result",
          "data": {
            "text/plain": [
              "{'workclass': array([' ?', ' Federal-gov', ' Local-gov', ' Never-worked', ' Private',\n",
              "        ' Self-emp-inc', ' Self-emp-not-inc', ' State-gov', ' Without-pay'],\n",
              "       dtype=object),\n",
              " 'education': array([' 10th', ' 11th', ' 12th', ' 1st-4th', ' 5th-6th', ' 7th-8th',\n",
              "        ' 9th', ' Assoc-acdm', ' Assoc-voc', ' Bachelors', ' Doctorate',\n",
              "        ' HS-grad', ' Masters', ' Preschool', ' Prof-school',\n",
              "        ' Some-college'], dtype=object),\n",
              " 'marital-status': array([' Divorced', ' Married-AF-spouse', ' Married-civ-spouse',\n",
              "        ' Married-spouse-absent', ' Never-married', ' Separated',\n",
              "        ' Widowed'], dtype=object),\n",
              " 'occupation': array([' ?', ' Adm-clerical', ' Armed-Forces', ' Craft-repair',\n",
              "        ' Exec-managerial', ' Farming-fishing', ' Handlers-cleaners',\n",
              "        ' Machine-op-inspct', ' Other-service', ' Priv-house-serv',\n",
              "        ' Prof-specialty', ' Protective-serv', ' Sales', ' Tech-support',\n",
              "        ' Transport-moving'], dtype=object),\n",
              " 'relationship': array([' Husband', ' Not-in-family', ' Other-relative', ' Own-child',\n",
              "        ' Unmarried', ' Wife'], dtype=object),\n",
              " 'race': array([' Amer-Indian-Eskimo', ' Asian-Pac-Islander', ' Black', ' Other',\n",
              "        ' White'], dtype=object),\n",
              " 'sex': array([' Female', ' Male'], dtype=object),\n",
              " 'native-country': array([' ?', ' Cambodia', ' Canada', ' China', ' Columbia', ' Cuba',\n",
              "        ' Dominican-Republic', ' Ecuador', ' El-Salvador', ' England',\n",
              "        ' France', ' Germany', ' Greece', ' Guatemala', ' Haiti',\n",
              "        ' Honduras', ' Hong', ' Hungary', ' India', ' Iran', ' Ireland',\n",
              "        ' Italy', ' Jamaica', ' Japan', ' Laos', ' Mexico', ' Nicaragua',\n",
              "        ' Outlying-US(Guam-USVI-etc)', ' Peru', ' Philippines', ' Poland',\n",
              "        ' Portugal', ' Puerto-Rico', ' Scotland', ' South', ' Taiwan',\n",
              "        ' Thailand', ' Trinadad&Tobago', ' United-Sta', ' United-States',\n",
              "        ' Vietnam', ' Yugoslavia'], dtype=object),\n",
              " 'income': array([' <=50K', ' >50K', nan], dtype=object)}"
            ]
          },
          "metadata": {},
          "execution_count": 115
        }
      ],
      "source": [
        "enc_dict"
      ]
    },
    {
      "cell_type": "code",
      "execution_count": 116,
      "metadata": {
        "id": "B3xePgEBb3q3",
        "colab": {
          "base_uri": "https://localhost:8080/",
          "height": 37
        },
        "outputId": "679ef0b6-381b-4a65-ed3a-43410494d706"
      },
      "outputs": [
        {
          "output_type": "execute_result",
          "data": {
            "text/plain": [
              "' Armed-Forces'"
            ],
            "application/vnd.google.colaboratory.intrinsic+json": {
              "type": "string"
            }
          },
          "metadata": {},
          "execution_count": 116
        }
      ],
      "source": [
        "enc_dict['occupation'][2]"
      ]
    },
    {
      "cell_type": "code",
      "execution_count": 117,
      "metadata": {
        "id": "j_hJplgSb3to",
        "colab": {
          "base_uri": "https://localhost:8080/",
          "height": 302
        },
        "outputId": "4df641eb-01ea-430e-8f2a-c91eaf3f90b1"
      },
      "outputs": [
        {
          "output_type": "execute_result",
          "data": {
            "text/plain": [
              "   workclass  education  marital-status  occupation  relationship  race  sex  \\\n",
              "0          7          9               4           1             1     4    1   \n",
              "1          6          9               2           4             0     4    1   \n",
              "2          4         11               0           6             1     4    1   \n",
              "3          4          1               2           6             0     2    1   \n",
              "4          4          9               2          10             5     2    0   \n",
              "\n",
              "   native-country  income  age  fnlwgt  education-num  capital-gain  \\\n",
              "0              39       0   39   77516             13          2174   \n",
              "1              39       0   50   83311             13             0   \n",
              "2              39       0   38  215646              9             0   \n",
              "3              39       0   53  234721              7             0   \n",
              "4               5       0   28  338409             13             0   \n",
              "\n",
              "   capital-loss  hours-per-week  \n",
              "0             0              40  \n",
              "1             0              13  \n",
              "2             0              40  \n",
              "3             0              40  \n",
              "4             0              40  "
            ],
            "text/html": [
              "\n",
              "  <div id=\"df-ac99eb20-156e-408a-8d10-7c412d9683fa\">\n",
              "    <div class=\"colab-df-container\">\n",
              "      <div>\n",
              "<style scoped>\n",
              "    .dataframe tbody tr th:only-of-type {\n",
              "        vertical-align: middle;\n",
              "    }\n",
              "\n",
              "    .dataframe tbody tr th {\n",
              "        vertical-align: top;\n",
              "    }\n",
              "\n",
              "    .dataframe thead th {\n",
              "        text-align: right;\n",
              "    }\n",
              "</style>\n",
              "<table border=\"1\" class=\"dataframe\">\n",
              "  <thead>\n",
              "    <tr style=\"text-align: right;\">\n",
              "      <th></th>\n",
              "      <th>workclass</th>\n",
              "      <th>education</th>\n",
              "      <th>marital-status</th>\n",
              "      <th>occupation</th>\n",
              "      <th>relationship</th>\n",
              "      <th>race</th>\n",
              "      <th>sex</th>\n",
              "      <th>native-country</th>\n",
              "      <th>income</th>\n",
              "      <th>age</th>\n",
              "      <th>fnlwgt</th>\n",
              "      <th>education-num</th>\n",
              "      <th>capital-gain</th>\n",
              "      <th>capital-loss</th>\n",
              "      <th>hours-per-week</th>\n",
              "    </tr>\n",
              "  </thead>\n",
              "  <tbody>\n",
              "    <tr>\n",
              "      <th>0</th>\n",
              "      <td>7</td>\n",
              "      <td>9</td>\n",
              "      <td>4</td>\n",
              "      <td>1</td>\n",
              "      <td>1</td>\n",
              "      <td>4</td>\n",
              "      <td>1</td>\n",
              "      <td>39</td>\n",
              "      <td>0</td>\n",
              "      <td>39</td>\n",
              "      <td>77516</td>\n",
              "      <td>13</td>\n",
              "      <td>2174</td>\n",
              "      <td>0</td>\n",
              "      <td>40</td>\n",
              "    </tr>\n",
              "    <tr>\n",
              "      <th>1</th>\n",
              "      <td>6</td>\n",
              "      <td>9</td>\n",
              "      <td>2</td>\n",
              "      <td>4</td>\n",
              "      <td>0</td>\n",
              "      <td>4</td>\n",
              "      <td>1</td>\n",
              "      <td>39</td>\n",
              "      <td>0</td>\n",
              "      <td>50</td>\n",
              "      <td>83311</td>\n",
              "      <td>13</td>\n",
              "      <td>0</td>\n",
              "      <td>0</td>\n",
              "      <td>13</td>\n",
              "    </tr>\n",
              "    <tr>\n",
              "      <th>2</th>\n",
              "      <td>4</td>\n",
              "      <td>11</td>\n",
              "      <td>0</td>\n",
              "      <td>6</td>\n",
              "      <td>1</td>\n",
              "      <td>4</td>\n",
              "      <td>1</td>\n",
              "      <td>39</td>\n",
              "      <td>0</td>\n",
              "      <td>38</td>\n",
              "      <td>215646</td>\n",
              "      <td>9</td>\n",
              "      <td>0</td>\n",
              "      <td>0</td>\n",
              "      <td>40</td>\n",
              "    </tr>\n",
              "    <tr>\n",
              "      <th>3</th>\n",
              "      <td>4</td>\n",
              "      <td>1</td>\n",
              "      <td>2</td>\n",
              "      <td>6</td>\n",
              "      <td>0</td>\n",
              "      <td>2</td>\n",
              "      <td>1</td>\n",
              "      <td>39</td>\n",
              "      <td>0</td>\n",
              "      <td>53</td>\n",
              "      <td>234721</td>\n",
              "      <td>7</td>\n",
              "      <td>0</td>\n",
              "      <td>0</td>\n",
              "      <td>40</td>\n",
              "    </tr>\n",
              "    <tr>\n",
              "      <th>4</th>\n",
              "      <td>4</td>\n",
              "      <td>9</td>\n",
              "      <td>2</td>\n",
              "      <td>10</td>\n",
              "      <td>5</td>\n",
              "      <td>2</td>\n",
              "      <td>0</td>\n",
              "      <td>5</td>\n",
              "      <td>0</td>\n",
              "      <td>28</td>\n",
              "      <td>338409</td>\n",
              "      <td>13</td>\n",
              "      <td>0</td>\n",
              "      <td>0</td>\n",
              "      <td>40</td>\n",
              "    </tr>\n",
              "  </tbody>\n",
              "</table>\n",
              "</div>\n",
              "      <button class=\"colab-df-convert\" onclick=\"convertToInteractive('df-ac99eb20-156e-408a-8d10-7c412d9683fa')\"\n",
              "              title=\"Convert this dataframe to an interactive table.\"\n",
              "              style=\"display:none;\">\n",
              "        \n",
              "  <svg xmlns=\"http://www.w3.org/2000/svg\" height=\"24px\"viewBox=\"0 0 24 24\"\n",
              "       width=\"24px\">\n",
              "    <path d=\"M0 0h24v24H0V0z\" fill=\"none\"/>\n",
              "    <path d=\"M18.56 5.44l.94 2.06.94-2.06 2.06-.94-2.06-.94-.94-2.06-.94 2.06-2.06.94zm-11 1L8.5 8.5l.94-2.06 2.06-.94-2.06-.94L8.5 2.5l-.94 2.06-2.06.94zm10 10l.94 2.06.94-2.06 2.06-.94-2.06-.94-.94-2.06-.94 2.06-2.06.94z\"/><path d=\"M17.41 7.96l-1.37-1.37c-.4-.4-.92-.59-1.43-.59-.52 0-1.04.2-1.43.59L10.3 9.45l-7.72 7.72c-.78.78-.78 2.05 0 2.83L4 21.41c.39.39.9.59 1.41.59.51 0 1.02-.2 1.41-.59l7.78-7.78 2.81-2.81c.8-.78.8-2.07 0-2.86zM5.41 20L4 18.59l7.72-7.72 1.47 1.35L5.41 20z\"/>\n",
              "  </svg>\n",
              "      </button>\n",
              "      \n",
              "  <style>\n",
              "    .colab-df-container {\n",
              "      display:flex;\n",
              "      flex-wrap:wrap;\n",
              "      gap: 12px;\n",
              "    }\n",
              "\n",
              "    .colab-df-convert {\n",
              "      background-color: #E8F0FE;\n",
              "      border: none;\n",
              "      border-radius: 50%;\n",
              "      cursor: pointer;\n",
              "      display: none;\n",
              "      fill: #1967D2;\n",
              "      height: 32px;\n",
              "      padding: 0 0 0 0;\n",
              "      width: 32px;\n",
              "    }\n",
              "\n",
              "    .colab-df-convert:hover {\n",
              "      background-color: #E2EBFA;\n",
              "      box-shadow: 0px 1px 2px rgba(60, 64, 67, 0.3), 0px 1px 3px 1px rgba(60, 64, 67, 0.15);\n",
              "      fill: #174EA6;\n",
              "    }\n",
              "\n",
              "    [theme=dark] .colab-df-convert {\n",
              "      background-color: #3B4455;\n",
              "      fill: #D2E3FC;\n",
              "    }\n",
              "\n",
              "    [theme=dark] .colab-df-convert:hover {\n",
              "      background-color: #434B5C;\n",
              "      box-shadow: 0px 1px 3px 1px rgba(0, 0, 0, 0.15);\n",
              "      filter: drop-shadow(0px 1px 2px rgba(0, 0, 0, 0.3));\n",
              "      fill: #FFFFFF;\n",
              "    }\n",
              "  </style>\n",
              "\n",
              "      <script>\n",
              "        const buttonEl =\n",
              "          document.querySelector('#df-ac99eb20-156e-408a-8d10-7c412d9683fa button.colab-df-convert');\n",
              "        buttonEl.style.display =\n",
              "          google.colab.kernel.accessAllowed ? 'block' : 'none';\n",
              "\n",
              "        async function convertToInteractive(key) {\n",
              "          const element = document.querySelector('#df-ac99eb20-156e-408a-8d10-7c412d9683fa');\n",
              "          const dataTable =\n",
              "            await google.colab.kernel.invokeFunction('convertToInteractive',\n",
              "                                                     [key], {});\n",
              "          if (!dataTable) return;\n",
              "\n",
              "          const docLinkHtml = 'Like what you see? Visit the ' +\n",
              "            '<a target=\"_blank\" href=https://colab.research.google.com/notebooks/data_table.ipynb>data table notebook</a>'\n",
              "            + ' to learn more about interactive tables.';\n",
              "          element.innerHTML = '';\n",
              "          dataTable['output_type'] = 'display_data';\n",
              "          await google.colab.output.renderOutput(dataTable, element);\n",
              "          const docLink = document.createElement('div');\n",
              "          docLink.innerHTML = docLinkHtml;\n",
              "          element.appendChild(docLink);\n",
              "        }\n",
              "      </script>\n",
              "    </div>\n",
              "  </div>\n",
              "  "
            ]
          },
          "metadata": {},
          "execution_count": 117
        }
      ],
      "source": [
        "adult_df = pd.concat([adult_enc_df, adult[not_encoding_columns]],axis=1)\n",
        "adult_df.head()"
      ]
    },
    {
      "cell_type": "code",
      "execution_count": 118,
      "metadata": {
        "id": "-bWuRcpXb3vx",
        "colab": {
          "base_uri": "https://localhost:8080/"
        },
        "outputId": "96de4115-686f-4e09-aa82-5c0fdff54eea"
      },
      "outputs": [
        {
          "output_type": "execute_result",
          "data": {
            "text/plain": [
              "((17189, 14), (17189,))"
            ]
          },
          "metadata": {},
          "execution_count": 118
        }
      ],
      "source": [
        "y = adult_df['income']\n",
        "x = adult_df.drop(columns = 'income')\n",
        "x.shape, y.shape"
      ]
    },
    {
      "cell_type": "code",
      "execution_count": 119,
      "metadata": {
        "id": "yfM0vIWxb3yI",
        "colab": {
          "base_uri": "https://localhost:8080/"
        },
        "outputId": "a63b39a8-c9bb-4538-fb10-d747dd1c26bb"
      },
      "outputs": [
        {
          "output_type": "execute_result",
          "data": {
            "text/plain": [
              "Index(['workclass', 'education', 'marital-status', 'occupation',\n",
              "       'relationship', 'race', 'sex', 'native-country', 'age', 'fnlwgt',\n",
              "       'education-num', 'capital-gain', 'capital-loss', 'hours-per-week'],\n",
              "      dtype='object')"
            ]
          },
          "metadata": {},
          "execution_count": 119
        }
      ],
      "source": [
        "x.columns"
      ]
    },
    {
      "cell_type": "code",
      "execution_count": 122,
      "metadata": {
        "id": "-3Rjqt6znRqS",
        "colab": {
          "base_uri": "https://localhost:8080/"
        },
        "outputId": "de16214d-7e5f-48f2-c9a9-54165401d8a3"
      },
      "outputs": [
        {
          "output_type": "execute_result",
          "data": {
            "text/plain": [
              "((10313,), (3438,), (3438,))"
            ]
          },
          "metadata": {},
          "execution_count": 122
        }
      ],
      "source": [
        "from sklearn.model_selection import train_test_split\n",
        "\n",
        "x_train, x_test, y_train, y_test = train_test_split(x,y, test_size = 0.2, random_state = 1)\n",
        "\n",
        "x_train, x_val, y_train, y_val = train_test_split(x_train, y_train, test_size = 0.25, random_state =1)\n",
        "y_train.shape, y_val.shape, y_test.shape"
      ]
    },
    {
      "cell_type": "code",
      "execution_count": 123,
      "metadata": {
        "id": "YkWZ1C-E5X40",
        "colab": {
          "base_uri": "https://localhost:8080/"
        },
        "outputId": "3c9db995-091e-44a3-c95f-d6879bcc3ba7"
      },
      "outputs": [
        {
          "output_type": "execute_result",
          "data": {
            "text/plain": [
              "DecisionTreeClassifier(max_depth=7, random_state=1)"
            ]
          },
          "metadata": {},
          "execution_count": 123
        }
      ],
      "source": [
        "from sklearn.tree import DecisionTreeClassifier\n",
        "tree=DecisionTreeClassifier(max_depth=7, random_state=1)\n",
        "tree.fit(x_train, y_train)"
      ]
    },
    {
      "cell_type": "code",
      "execution_count": 124,
      "metadata": {
        "id": "sswCeUpe5X84",
        "colab": {
          "base_uri": "https://localhost:8080/"
        },
        "outputId": "696ab4f5-34a2-40c1-c59a-5cb1309e2d51"
      },
      "outputs": [
        {
          "output_type": "execute_result",
          "data": {
            "text/plain": [
              "array([[   4,   12,    6, ...,    0,    0,   40],\n",
              "       [   4,    9,    3, ...,    0,    0,   40],\n",
              "       [   0,   11,    2, ...,    0,    0,   24],\n",
              "       ...,\n",
              "       [   4,   11,    4, ...,    0, 2001,   40],\n",
              "       [   4,    0,    0, ...,    0,    0,   40],\n",
              "       [   4,   15,    2, ...,    0,    0,   49]])"
            ]
          },
          "metadata": {},
          "execution_count": 124
        }
      ],
      "source": [
        "x_train.values"
      ]
    },
    {
      "cell_type": "code",
      "execution_count": 125,
      "metadata": {
        "id": "OWAAwhg4kjzl",
        "colab": {
          "base_uri": "https://localhost:8080/"
        },
        "outputId": "85f6e2d2-4323-4b2d-a7d5-e81cc0921ff1"
      },
      "outputs": [
        {
          "output_type": "stream",
          "name": "stdout",
          "text": [
            "0.8618248812178804\n",
            "0.840023269342641\n"
          ]
        }
      ],
      "source": [
        "from sklearn.metrics import accuracy_score\n",
        "\n",
        "pred_train = tree.predict(x_train)\n",
        "pred_val = tree.predict(x_val)\n",
        "\n",
        "print(accuracy_score(y_train, pred_train))\n",
        "print(accuracy_score(y_val, pred_val))\n"
      ]
    },
    {
      "cell_type": "code",
      "execution_count": 126,
      "metadata": {
        "id": "gwuaAnMZsLD0",
        "colab": {
          "base_uri": "https://localhost:8080/"
        },
        "outputId": "c4b97940-f33c-4151-814f-afd9f8714d97"
      },
      "outputs": [
        {
          "output_type": "stream",
          "name": "stdout",
          "text": [
            "0.8534031413612565\n"
          ]
        }
      ],
      "source": [
        "pred_test = tree.predict(x_test)\n",
        "print(accuracy_score(y_test, pred_test))"
      ]
    },
    {
      "cell_type": "code",
      "execution_count": 127,
      "metadata": {
        "id": "6ZrTFaHJsLGM"
      },
      "outputs": [],
      "source": [
        "# 02/10 one hot encoding"
      ]
    },
    {
      "cell_type": "code",
      "execution_count": 128,
      "metadata": {
        "id": "_0es1PAksLI2"
      },
      "outputs": [],
      "source": [
        "import numpy as np\n",
        "import pandas as pd\n",
        "from sklearn.preprocessing import OneHotEncoder\n"
      ]
    },
    {
      "cell_type": "code",
      "execution_count": 129,
      "metadata": {
        "id": "ubbcXp2asLLI",
        "colab": {
          "base_uri": "https://localhost:8080/"
        },
        "outputId": "06a6238f-fd0a-47b4-f0ba-4799fa3f90f1"
      },
      "outputs": [
        {
          "output_type": "execute_result",
          "data": {
            "text/plain": [
              "(10,)"
            ]
          },
          "metadata": {},
          "execution_count": 129
        }
      ],
      "source": [
        "items = np.array(['입생','빅시','메이크업포에버','입생','빅시','맥','페리페라','페리페라','페리페라','맥'])\n",
        "items.shape"
      ]
    },
    {
      "cell_type": "code",
      "execution_count": 130,
      "metadata": {
        "id": "daWTCSQksLNr",
        "colab": {
          "base_uri": "https://localhost:8080/"
        },
        "outputId": "79de919d-a00b-40b7-a93a-1ff8c32511af"
      },
      "outputs": [
        {
          "output_type": "execute_result",
          "data": {
            "text/plain": [
              "(10, 1)"
            ]
          },
          "metadata": {},
          "execution_count": 130
        }
      ],
      "source": [
        "items.reshape(-1,1).shape"
      ]
    },
    {
      "cell_type": "code",
      "execution_count": 131,
      "metadata": {
        "id": "P7-DfsR9sLPe",
        "colab": {
          "base_uri": "https://localhost:8080/"
        },
        "outputId": "6bec24a1-46e0-46a7-d487-5ba2be33d068"
      },
      "outputs": [
        {
          "output_type": "execute_result",
          "data": {
            "text/plain": [
              "array([['입생'],\n",
              "       ['빅시'],\n",
              "       ['메이크업포에버'],\n",
              "       ['입생'],\n",
              "       ['빅시'],\n",
              "       ['맥'],\n",
              "       ['페리페라'],\n",
              "       ['페리페라'],\n",
              "       ['페리페라'],\n",
              "       ['맥']], dtype='<U7')"
            ]
          },
          "metadata": {},
          "execution_count": 131
        }
      ],
      "source": [
        "items[...,np.newaxis]"
      ]
    },
    {
      "cell_type": "code",
      "execution_count": 132,
      "metadata": {
        "id": "GgztuWCssLSA",
        "colab": {
          "base_uri": "https://localhost:8080/"
        },
        "outputId": "d5179dd7-0898-47cb-c9cd-7d79d88671f1"
      },
      "outputs": [
        {
          "output_type": "execute_result",
          "data": {
            "text/plain": [
              "OneHotEncoder()"
            ]
          },
          "metadata": {},
          "execution_count": 132
        }
      ],
      "source": [
        "ohe = OneHotEncoder()\n",
        "ohe.fit(items.reshape(-1,1))"
      ]
    },
    {
      "cell_type": "code",
      "execution_count": 133,
      "metadata": {
        "id": "c0PCGwNTEjq-"
      },
      "outputs": [],
      "source": [
        "items_ohe = ohe.transform(items.reshape(-1,1)) # 희소행렬"
      ]
    },
    {
      "cell_type": "code",
      "execution_count": 134,
      "metadata": {
        "id": "_VyBJLPvEjuY",
        "colab": {
          "base_uri": "https://localhost:8080/"
        },
        "outputId": "d5ebcc0e-9539-4b8a-e44f-085ea2b31190"
      },
      "outputs": [
        {
          "output_type": "execute_result",
          "data": {
            "text/plain": [
              "<10x5 sparse matrix of type '<class 'numpy.float64'>'\n",
              "\twith 10 stored elements in Compressed Sparse Row format>"
            ]
          },
          "metadata": {},
          "execution_count": 134
        }
      ],
      "source": [
        "items_ohe"
      ]
    },
    {
      "cell_type": "code",
      "execution_count": 135,
      "metadata": {
        "id": "8bX4brCU8dH4",
        "colab": {
          "base_uri": "https://localhost:8080/"
        },
        "outputId": "4b8702ad-02d3-4ef0-f328-f72e33b873f5"
      },
      "outputs": [
        {
          "output_type": "execute_result",
          "data": {
            "text/plain": [
              "array([[0., 0., 0., 1., 0.],\n",
              "       [0., 0., 1., 0., 0.],\n",
              "       [0., 1., 0., 0., 0.],\n",
              "       [0., 0., 0., 1., 0.],\n",
              "       [0., 0., 1., 0., 0.],\n",
              "       [1., 0., 0., 0., 0.],\n",
              "       [0., 0., 0., 0., 1.],\n",
              "       [0., 0., 0., 0., 1.],\n",
              "       [0., 0., 0., 0., 1.],\n",
              "       [1., 0., 0., 0., 0.]])"
            ]
          },
          "metadata": {},
          "execution_count": 135
        }
      ],
      "source": [
        "items_ohe.toarray()"
      ]
    },
    {
      "cell_type": "code",
      "execution_count": 136,
      "metadata": {
        "id": "Pbsw1Y6Q8dKr"
      },
      "outputs": [],
      "source": [
        "items_ohe = items_ohe.toarray() # 변수 덮덮"
      ]
    },
    {
      "cell_type": "code",
      "execution_count": 137,
      "metadata": {
        "id": "V7eUFmVN8dNq",
        "colab": {
          "base_uri": "https://localhost:8080/"
        },
        "outputId": "117a35c8-cc81-47a0-c25e-67bbb9d9f06d"
      },
      "outputs": [
        {
          "output_type": "execute_result",
          "data": {
            "text/plain": [
              "array([[0., 0., 0., 1., 0.],\n",
              "       [0., 0., 1., 0., 0.],\n",
              "       [0., 1., 0., 0., 0.],\n",
              "       [0., 0., 0., 1., 0.],\n",
              "       [0., 0., 1., 0., 0.],\n",
              "       [1., 0., 0., 0., 0.],\n",
              "       [0., 0., 0., 0., 1.],\n",
              "       [0., 0., 0., 0., 1.],\n",
              "       [0., 0., 0., 0., 1.],\n",
              "       [1., 0., 0., 0., 0.]])"
            ]
          },
          "metadata": {},
          "execution_count": 137
        }
      ],
      "source": [
        "items_ohe"
      ]
    },
    {
      "cell_type": "code",
      "execution_count": 138,
      "metadata": {
        "id": "pskW09rd8dQG",
        "colab": {
          "base_uri": "https://localhost:8080/"
        },
        "outputId": "88a91bef-7dc2-4135-94f0-1a7eb358fd80"
      },
      "outputs": [
        {
          "output_type": "stream",
          "name": "stderr",
          "text": [
            "/usr/local/lib/python3.8/dist-packages/sklearn/utils/deprecation.py:87: FutureWarning: Function get_feature_names is deprecated; get_feature_names is deprecated in 1.0 and will be removed in 1.2. Please use get_feature_names_out instead.\n",
            "  warnings.warn(msg, category=FutureWarning)\n"
          ]
        }
      ],
      "source": [
        "cols = ohe.get_feature_names()"
      ]
    },
    {
      "cell_type": "code",
      "execution_count": 139,
      "metadata": {
        "id": "3YkvNNUB8dSs",
        "colab": {
          "base_uri": "https://localhost:8080/"
        },
        "outputId": "30de14e7-fe06-4376-f539-8521df6c1c36"
      },
      "outputs": [
        {
          "output_type": "execute_result",
          "data": {
            "text/plain": [
              "array(['x0_맥', 'x0_메이크업포에버', 'x0_빅시', 'x0_입생', 'x0_페리페라'], dtype=object)"
            ]
          },
          "metadata": {},
          "execution_count": 139
        }
      ],
      "source": [
        "cols"
      ]
    },
    {
      "cell_type": "code",
      "execution_count": 140,
      "metadata": {
        "id": "pqKivqgl8dU9",
        "colab": {
          "base_uri": "https://localhost:8080/",
          "height": 359
        },
        "outputId": "8b7e1cd6-18fe-4d60-ae02-ea560d386700"
      },
      "outputs": [
        {
          "output_type": "execute_result",
          "data": {
            "text/plain": [
              "   x0_맥  x0_메이크업포에버  x0_빅시  x0_입생  x0_페리페라\n",
              "0   0.0         0.0    0.0    1.0      0.0\n",
              "1   0.0         0.0    1.0    0.0      0.0\n",
              "2   0.0         1.0    0.0    0.0      0.0\n",
              "3   0.0         0.0    0.0    1.0      0.0\n",
              "4   0.0         0.0    1.0    0.0      0.0\n",
              "5   1.0         0.0    0.0    0.0      0.0\n",
              "6   0.0         0.0    0.0    0.0      1.0\n",
              "7   0.0         0.0    0.0    0.0      1.0\n",
              "8   0.0         0.0    0.0    0.0      1.0\n",
              "9   1.0         0.0    0.0    0.0      0.0"
            ],
            "text/html": [
              "\n",
              "  <div id=\"df-1013e6ec-42dc-458f-aa34-e377a563627d\">\n",
              "    <div class=\"colab-df-container\">\n",
              "      <div>\n",
              "<style scoped>\n",
              "    .dataframe tbody tr th:only-of-type {\n",
              "        vertical-align: middle;\n",
              "    }\n",
              "\n",
              "    .dataframe tbody tr th {\n",
              "        vertical-align: top;\n",
              "    }\n",
              "\n",
              "    .dataframe thead th {\n",
              "        text-align: right;\n",
              "    }\n",
              "</style>\n",
              "<table border=\"1\" class=\"dataframe\">\n",
              "  <thead>\n",
              "    <tr style=\"text-align: right;\">\n",
              "      <th></th>\n",
              "      <th>x0_맥</th>\n",
              "      <th>x0_메이크업포에버</th>\n",
              "      <th>x0_빅시</th>\n",
              "      <th>x0_입생</th>\n",
              "      <th>x0_페리페라</th>\n",
              "    </tr>\n",
              "  </thead>\n",
              "  <tbody>\n",
              "    <tr>\n",
              "      <th>0</th>\n",
              "      <td>0.0</td>\n",
              "      <td>0.0</td>\n",
              "      <td>0.0</td>\n",
              "      <td>1.0</td>\n",
              "      <td>0.0</td>\n",
              "    </tr>\n",
              "    <tr>\n",
              "      <th>1</th>\n",
              "      <td>0.0</td>\n",
              "      <td>0.0</td>\n",
              "      <td>1.0</td>\n",
              "      <td>0.0</td>\n",
              "      <td>0.0</td>\n",
              "    </tr>\n",
              "    <tr>\n",
              "      <th>2</th>\n",
              "      <td>0.0</td>\n",
              "      <td>1.0</td>\n",
              "      <td>0.0</td>\n",
              "      <td>0.0</td>\n",
              "      <td>0.0</td>\n",
              "    </tr>\n",
              "    <tr>\n",
              "      <th>3</th>\n",
              "      <td>0.0</td>\n",
              "      <td>0.0</td>\n",
              "      <td>0.0</td>\n",
              "      <td>1.0</td>\n",
              "      <td>0.0</td>\n",
              "    </tr>\n",
              "    <tr>\n",
              "      <th>4</th>\n",
              "      <td>0.0</td>\n",
              "      <td>0.0</td>\n",
              "      <td>1.0</td>\n",
              "      <td>0.0</td>\n",
              "      <td>0.0</td>\n",
              "    </tr>\n",
              "    <tr>\n",
              "      <th>5</th>\n",
              "      <td>1.0</td>\n",
              "      <td>0.0</td>\n",
              "      <td>0.0</td>\n",
              "      <td>0.0</td>\n",
              "      <td>0.0</td>\n",
              "    </tr>\n",
              "    <tr>\n",
              "      <th>6</th>\n",
              "      <td>0.0</td>\n",
              "      <td>0.0</td>\n",
              "      <td>0.0</td>\n",
              "      <td>0.0</td>\n",
              "      <td>1.0</td>\n",
              "    </tr>\n",
              "    <tr>\n",
              "      <th>7</th>\n",
              "      <td>0.0</td>\n",
              "      <td>0.0</td>\n",
              "      <td>0.0</td>\n",
              "      <td>0.0</td>\n",
              "      <td>1.0</td>\n",
              "    </tr>\n",
              "    <tr>\n",
              "      <th>8</th>\n",
              "      <td>0.0</td>\n",
              "      <td>0.0</td>\n",
              "      <td>0.0</td>\n",
              "      <td>0.0</td>\n",
              "      <td>1.0</td>\n",
              "    </tr>\n",
              "    <tr>\n",
              "      <th>9</th>\n",
              "      <td>1.0</td>\n",
              "      <td>0.0</td>\n",
              "      <td>0.0</td>\n",
              "      <td>0.0</td>\n",
              "      <td>0.0</td>\n",
              "    </tr>\n",
              "  </tbody>\n",
              "</table>\n",
              "</div>\n",
              "      <button class=\"colab-df-convert\" onclick=\"convertToInteractive('df-1013e6ec-42dc-458f-aa34-e377a563627d')\"\n",
              "              title=\"Convert this dataframe to an interactive table.\"\n",
              "              style=\"display:none;\">\n",
              "        \n",
              "  <svg xmlns=\"http://www.w3.org/2000/svg\" height=\"24px\"viewBox=\"0 0 24 24\"\n",
              "       width=\"24px\">\n",
              "    <path d=\"M0 0h24v24H0V0z\" fill=\"none\"/>\n",
              "    <path d=\"M18.56 5.44l.94 2.06.94-2.06 2.06-.94-2.06-.94-.94-2.06-.94 2.06-2.06.94zm-11 1L8.5 8.5l.94-2.06 2.06-.94-2.06-.94L8.5 2.5l-.94 2.06-2.06.94zm10 10l.94 2.06.94-2.06 2.06-.94-2.06-.94-.94-2.06-.94 2.06-2.06.94z\"/><path d=\"M17.41 7.96l-1.37-1.37c-.4-.4-.92-.59-1.43-.59-.52 0-1.04.2-1.43.59L10.3 9.45l-7.72 7.72c-.78.78-.78 2.05 0 2.83L4 21.41c.39.39.9.59 1.41.59.51 0 1.02-.2 1.41-.59l7.78-7.78 2.81-2.81c.8-.78.8-2.07 0-2.86zM5.41 20L4 18.59l7.72-7.72 1.47 1.35L5.41 20z\"/>\n",
              "  </svg>\n",
              "      </button>\n",
              "      \n",
              "  <style>\n",
              "    .colab-df-container {\n",
              "      display:flex;\n",
              "      flex-wrap:wrap;\n",
              "      gap: 12px;\n",
              "    }\n",
              "\n",
              "    .colab-df-convert {\n",
              "      background-color: #E8F0FE;\n",
              "      border: none;\n",
              "      border-radius: 50%;\n",
              "      cursor: pointer;\n",
              "      display: none;\n",
              "      fill: #1967D2;\n",
              "      height: 32px;\n",
              "      padding: 0 0 0 0;\n",
              "      width: 32px;\n",
              "    }\n",
              "\n",
              "    .colab-df-convert:hover {\n",
              "      background-color: #E2EBFA;\n",
              "      box-shadow: 0px 1px 2px rgba(60, 64, 67, 0.3), 0px 1px 3px 1px rgba(60, 64, 67, 0.15);\n",
              "      fill: #174EA6;\n",
              "    }\n",
              "\n",
              "    [theme=dark] .colab-df-convert {\n",
              "      background-color: #3B4455;\n",
              "      fill: #D2E3FC;\n",
              "    }\n",
              "\n",
              "    [theme=dark] .colab-df-convert:hover {\n",
              "      background-color: #434B5C;\n",
              "      box-shadow: 0px 1px 3px 1px rgba(0, 0, 0, 0.15);\n",
              "      filter: drop-shadow(0px 1px 2px rgba(0, 0, 0, 0.3));\n",
              "      fill: #FFFFFF;\n",
              "    }\n",
              "  </style>\n",
              "\n",
              "      <script>\n",
              "        const buttonEl =\n",
              "          document.querySelector('#df-1013e6ec-42dc-458f-aa34-e377a563627d button.colab-df-convert');\n",
              "        buttonEl.style.display =\n",
              "          google.colab.kernel.accessAllowed ? 'block' : 'none';\n",
              "\n",
              "        async function convertToInteractive(key) {\n",
              "          const element = document.querySelector('#df-1013e6ec-42dc-458f-aa34-e377a563627d');\n",
              "          const dataTable =\n",
              "            await google.colab.kernel.invokeFunction('convertToInteractive',\n",
              "                                                     [key], {});\n",
              "          if (!dataTable) return;\n",
              "\n",
              "          const docLinkHtml = 'Like what you see? Visit the ' +\n",
              "            '<a target=\"_blank\" href=https://colab.research.google.com/notebooks/data_table.ipynb>data table notebook</a>'\n",
              "            + ' to learn more about interactive tables.';\n",
              "          element.innerHTML = '';\n",
              "          dataTable['output_type'] = 'display_data';\n",
              "          await google.colab.output.renderOutput(dataTable, element);\n",
              "          const docLink = document.createElement('div');\n",
              "          docLink.innerHTML = docLinkHtml;\n",
              "          element.appendChild(docLink);\n",
              "        }\n",
              "      </script>\n",
              "    </div>\n",
              "  </div>\n",
              "  "
            ]
          },
          "metadata": {},
          "execution_count": 140
        }
      ],
      "source": [
        "pd.DataFrame(items_ohe, columns=cols)"
      ]
    },
    {
      "cell_type": "code",
      "execution_count": 141,
      "metadata": {
        "id": "KMgtVvm78dXi",
        "colab": {
          "base_uri": "https://localhost:8080/"
        },
        "outputId": "d70e0845-51f1-4682-f7e2-e3c58fede7e7"
      },
      "outputs": [
        {
          "output_type": "execute_result",
          "data": {
            "text/plain": [
              "array([[0., 0., 0., 1., 0.],\n",
              "       [0., 0., 1., 0., 0.],\n",
              "       [0., 1., 0., 0., 0.],\n",
              "       [0., 0., 0., 1., 0.],\n",
              "       [0., 0., 1., 0., 0.],\n",
              "       [1., 0., 0., 0., 0.],\n",
              "       [0., 0., 0., 0., 1.],\n",
              "       [0., 0., 0., 0., 1.],\n",
              "       [0., 0., 0., 0., 1.],\n",
              "       [1., 0., 0., 0., 0.]])"
            ]
          },
          "metadata": {},
          "execution_count": 141
        }
      ],
      "source": [
        "ohe2 = OneHotEncoder(sparse=False)\n",
        "items_ohe2 = ohe2.fit_transform(items[..., np.newaxis])\n",
        "items_ohe2 # 반환값을 array로 # 윗 과정을 한 번에"
      ]
    },
    {
      "cell_type": "code",
      "execution_count": 142,
      "metadata": {
        "id": "SLG4tZkvA6ct",
        "colab": {
          "base_uri": "https://localhost:8080/"
        },
        "outputId": "bef45553-ff52-4e43-d38e-a312f3c8fe40"
      },
      "outputs": [
        {
          "output_type": "execute_result",
          "data": {
            "text/plain": [
              "array([1, 1, 1, 1, 1, 0, 0, 0, 1, 1])"
            ]
          },
          "metadata": {},
          "execution_count": 142
        }
      ],
      "source": [
        "gender = np.random.randint(0, 2, size=10)\n",
        "gender"
      ]
    },
    {
      "cell_type": "code",
      "execution_count": 143,
      "metadata": {
        "id": "1uQ-0_mPA6ft",
        "colab": {
          "base_uri": "https://localhost:8080/",
          "height": 359
        },
        "outputId": "68baef9e-3396-4b60-ba72-61108144366a"
      },
      "outputs": [
        {
          "output_type": "execute_result",
          "data": {
            "text/plain": [
              "   gender    items  price\n",
              "0       1       입생  31505\n",
              "1       1       빅시  85642\n",
              "2       1  메이크업포에버  21351\n",
              "3       1       입생  70105\n",
              "4       1       빅시  80896\n",
              "5       0        맥  37477\n",
              "6       0     페리페라  64665\n",
              "7       0     페리페라  74094\n",
              "8       1     페리페라  32008\n",
              "9       1        맥  48848"
            ],
            "text/html": [
              "\n",
              "  <div id=\"df-319a736b-f64c-4cb2-84de-0e4c80268e69\">\n",
              "    <div class=\"colab-df-container\">\n",
              "      <div>\n",
              "<style scoped>\n",
              "    .dataframe tbody tr th:only-of-type {\n",
              "        vertical-align: middle;\n",
              "    }\n",
              "\n",
              "    .dataframe tbody tr th {\n",
              "        vertical-align: top;\n",
              "    }\n",
              "\n",
              "    .dataframe thead th {\n",
              "        text-align: right;\n",
              "    }\n",
              "</style>\n",
              "<table border=\"1\" class=\"dataframe\">\n",
              "  <thead>\n",
              "    <tr style=\"text-align: right;\">\n",
              "      <th></th>\n",
              "      <th>gender</th>\n",
              "      <th>items</th>\n",
              "      <th>price</th>\n",
              "    </tr>\n",
              "  </thead>\n",
              "  <tbody>\n",
              "    <tr>\n",
              "      <th>0</th>\n",
              "      <td>1</td>\n",
              "      <td>입생</td>\n",
              "      <td>31505</td>\n",
              "    </tr>\n",
              "    <tr>\n",
              "      <th>1</th>\n",
              "      <td>1</td>\n",
              "      <td>빅시</td>\n",
              "      <td>85642</td>\n",
              "    </tr>\n",
              "    <tr>\n",
              "      <th>2</th>\n",
              "      <td>1</td>\n",
              "      <td>메이크업포에버</td>\n",
              "      <td>21351</td>\n",
              "    </tr>\n",
              "    <tr>\n",
              "      <th>3</th>\n",
              "      <td>1</td>\n",
              "      <td>입생</td>\n",
              "      <td>70105</td>\n",
              "    </tr>\n",
              "    <tr>\n",
              "      <th>4</th>\n",
              "      <td>1</td>\n",
              "      <td>빅시</td>\n",
              "      <td>80896</td>\n",
              "    </tr>\n",
              "    <tr>\n",
              "      <th>5</th>\n",
              "      <td>0</td>\n",
              "      <td>맥</td>\n",
              "      <td>37477</td>\n",
              "    </tr>\n",
              "    <tr>\n",
              "      <th>6</th>\n",
              "      <td>0</td>\n",
              "      <td>페리페라</td>\n",
              "      <td>64665</td>\n",
              "    </tr>\n",
              "    <tr>\n",
              "      <th>7</th>\n",
              "      <td>0</td>\n",
              "      <td>페리페라</td>\n",
              "      <td>74094</td>\n",
              "    </tr>\n",
              "    <tr>\n",
              "      <th>8</th>\n",
              "      <td>1</td>\n",
              "      <td>페리페라</td>\n",
              "      <td>32008</td>\n",
              "    </tr>\n",
              "    <tr>\n",
              "      <th>9</th>\n",
              "      <td>1</td>\n",
              "      <td>맥</td>\n",
              "      <td>48848</td>\n",
              "    </tr>\n",
              "  </tbody>\n",
              "</table>\n",
              "</div>\n",
              "      <button class=\"colab-df-convert\" onclick=\"convertToInteractive('df-319a736b-f64c-4cb2-84de-0e4c80268e69')\"\n",
              "              title=\"Convert this dataframe to an interactive table.\"\n",
              "              style=\"display:none;\">\n",
              "        \n",
              "  <svg xmlns=\"http://www.w3.org/2000/svg\" height=\"24px\"viewBox=\"0 0 24 24\"\n",
              "       width=\"24px\">\n",
              "    <path d=\"M0 0h24v24H0V0z\" fill=\"none\"/>\n",
              "    <path d=\"M18.56 5.44l.94 2.06.94-2.06 2.06-.94-2.06-.94-.94-2.06-.94 2.06-2.06.94zm-11 1L8.5 8.5l.94-2.06 2.06-.94-2.06-.94L8.5 2.5l-.94 2.06-2.06.94zm10 10l.94 2.06.94-2.06 2.06-.94-2.06-.94-.94-2.06-.94 2.06-2.06.94z\"/><path d=\"M17.41 7.96l-1.37-1.37c-.4-.4-.92-.59-1.43-.59-.52 0-1.04.2-1.43.59L10.3 9.45l-7.72 7.72c-.78.78-.78 2.05 0 2.83L4 21.41c.39.39.9.59 1.41.59.51 0 1.02-.2 1.41-.59l7.78-7.78 2.81-2.81c.8-.78.8-2.07 0-2.86zM5.41 20L4 18.59l7.72-7.72 1.47 1.35L5.41 20z\"/>\n",
              "  </svg>\n",
              "      </button>\n",
              "      \n",
              "  <style>\n",
              "    .colab-df-container {\n",
              "      display:flex;\n",
              "      flex-wrap:wrap;\n",
              "      gap: 12px;\n",
              "    }\n",
              "\n",
              "    .colab-df-convert {\n",
              "      background-color: #E8F0FE;\n",
              "      border: none;\n",
              "      border-radius: 50%;\n",
              "      cursor: pointer;\n",
              "      display: none;\n",
              "      fill: #1967D2;\n",
              "      height: 32px;\n",
              "      padding: 0 0 0 0;\n",
              "      width: 32px;\n",
              "    }\n",
              "\n",
              "    .colab-df-convert:hover {\n",
              "      background-color: #E2EBFA;\n",
              "      box-shadow: 0px 1px 2px rgba(60, 64, 67, 0.3), 0px 1px 3px 1px rgba(60, 64, 67, 0.15);\n",
              "      fill: #174EA6;\n",
              "    }\n",
              "\n",
              "    [theme=dark] .colab-df-convert {\n",
              "      background-color: #3B4455;\n",
              "      fill: #D2E3FC;\n",
              "    }\n",
              "\n",
              "    [theme=dark] .colab-df-convert:hover {\n",
              "      background-color: #434B5C;\n",
              "      box-shadow: 0px 1px 3px 1px rgba(0, 0, 0, 0.15);\n",
              "      filter: drop-shadow(0px 1px 2px rgba(0, 0, 0, 0.3));\n",
              "      fill: #FFFFFF;\n",
              "    }\n",
              "  </style>\n",
              "\n",
              "      <script>\n",
              "        const buttonEl =\n",
              "          document.querySelector('#df-319a736b-f64c-4cb2-84de-0e4c80268e69 button.colab-df-convert');\n",
              "        buttonEl.style.display =\n",
              "          google.colab.kernel.accessAllowed ? 'block' : 'none';\n",
              "\n",
              "        async function convertToInteractive(key) {\n",
              "          const element = document.querySelector('#df-319a736b-f64c-4cb2-84de-0e4c80268e69');\n",
              "          const dataTable =\n",
              "            await google.colab.kernel.invokeFunction('convertToInteractive',\n",
              "                                                     [key], {});\n",
              "          if (!dataTable) return;\n",
              "\n",
              "          const docLinkHtml = 'Like what you see? Visit the ' +\n",
              "            '<a target=\"_blank\" href=https://colab.research.google.com/notebooks/data_table.ipynb>data table notebook</a>'\n",
              "            + ' to learn more about interactive tables.';\n",
              "          element.innerHTML = '';\n",
              "          dataTable['output_type'] = 'display_data';\n",
              "          await google.colab.output.renderOutput(dataTable, element);\n",
              "          const docLink = document.createElement('div');\n",
              "          docLink.innerHTML = docLinkHtml;\n",
              "          element.appendChild(docLink);\n",
              "        }\n",
              "      </script>\n",
              "    </div>\n",
              "  </div>\n",
              "  "
            ]
          },
          "metadata": {},
          "execution_count": 143
        }
      ],
      "source": [
        "df = pd.DataFrame({'gender': gender, 'items': items, 'price': np.random.randint(5000, 100000, size = 10)})\n",
        "df"
      ]
    },
    {
      "cell_type": "code",
      "execution_count": 144,
      "metadata": {
        "id": "LP-fbicqA6is",
        "colab": {
          "base_uri": "https://localhost:8080/"
        },
        "outputId": "942b3a14-55bb-4e28-8e88-d97187de4b52"
      },
      "outputs": [
        {
          "output_type": "execute_result",
          "data": {
            "text/plain": [
              "array([[0., 1., 0., 0., 0., 1., 0.],\n",
              "       [0., 1., 0., 0., 1., 0., 0.],\n",
              "       [0., 1., 0., 1., 0., 0., 0.],\n",
              "       [0., 1., 0., 0., 0., 1., 0.],\n",
              "       [0., 1., 0., 0., 1., 0., 0.],\n",
              "       [1., 0., 1., 0., 0., 0., 0.],\n",
              "       [1., 0., 0., 0., 0., 0., 1.],\n",
              "       [1., 0., 0., 0., 0., 0., 1.],\n",
              "       [0., 1., 0., 0., 0., 0., 1.],\n",
              "       [0., 1., 1., 0., 0., 0., 0.]])"
            ]
          },
          "metadata": {},
          "execution_count": 144
        }
      ],
      "source": [
        "ohe3 = OneHotEncoder(sparse = False)\n",
        "result = ohe3.fit_transform(df[['gender','items']])\n",
        "result"
      ]
    },
    {
      "cell_type": "code",
      "execution_count": 145,
      "metadata": {
        "id": "j-D6NbpIA6lj",
        "colab": {
          "base_uri": "https://localhost:8080/"
        },
        "outputId": "5243175e-0b7a-4530-f6bb-edf20684c593"
      },
      "outputs": [
        {
          "output_type": "stream",
          "name": "stderr",
          "text": [
            "/usr/local/lib/python3.8/dist-packages/sklearn/utils/deprecation.py:87: FutureWarning: Function get_feature_names is deprecated; get_feature_names is deprecated in 1.0 and will be removed in 1.2. Please use get_feature_names_out instead.\n",
            "  warnings.warn(msg, category=FutureWarning)\n"
          ]
        },
        {
          "output_type": "execute_result",
          "data": {
            "text/plain": [
              "array(['x0_0', 'x0_1', 'x1_맥', 'x1_메이크업포에버', 'x1_빅시', 'x1_입생', 'x1_페리페라'],\n",
              "      dtype=object)"
            ]
          },
          "metadata": {},
          "execution_count": 145
        }
      ],
      "source": [
        "cols = ohe3.get_feature_names()\n",
        "cols"
      ]
    },
    {
      "cell_type": "code",
      "execution_count": 146,
      "metadata": {
        "id": "dj5YIQvqA6oE",
        "colab": {
          "base_uri": "https://localhost:8080/",
          "height": 359
        },
        "outputId": "4719edb6-ddf9-48ae-faac-aa4eda233f74"
      },
      "outputs": [
        {
          "output_type": "execute_result",
          "data": {
            "text/plain": [
              "   x0_0  x0_1  x1_맥  x1_메이크업포에버  x1_빅시  x1_입생  x1_페리페라\n",
              "0   0.0   1.0   0.0         0.0    0.0    1.0      0.0\n",
              "1   0.0   1.0   0.0         0.0    1.0    0.0      0.0\n",
              "2   0.0   1.0   0.0         1.0    0.0    0.0      0.0\n",
              "3   0.0   1.0   0.0         0.0    0.0    1.0      0.0\n",
              "4   0.0   1.0   0.0         0.0    1.0    0.0      0.0\n",
              "5   1.0   0.0   1.0         0.0    0.0    0.0      0.0\n",
              "6   1.0   0.0   0.0         0.0    0.0    0.0      1.0\n",
              "7   1.0   0.0   0.0         0.0    0.0    0.0      1.0\n",
              "8   0.0   1.0   0.0         0.0    0.0    0.0      1.0\n",
              "9   0.0   1.0   1.0         0.0    0.0    0.0      0.0"
            ],
            "text/html": [
              "\n",
              "  <div id=\"df-f11a77dc-94ec-4a90-a342-a99db397238e\">\n",
              "    <div class=\"colab-df-container\">\n",
              "      <div>\n",
              "<style scoped>\n",
              "    .dataframe tbody tr th:only-of-type {\n",
              "        vertical-align: middle;\n",
              "    }\n",
              "\n",
              "    .dataframe tbody tr th {\n",
              "        vertical-align: top;\n",
              "    }\n",
              "\n",
              "    .dataframe thead th {\n",
              "        text-align: right;\n",
              "    }\n",
              "</style>\n",
              "<table border=\"1\" class=\"dataframe\">\n",
              "  <thead>\n",
              "    <tr style=\"text-align: right;\">\n",
              "      <th></th>\n",
              "      <th>x0_0</th>\n",
              "      <th>x0_1</th>\n",
              "      <th>x1_맥</th>\n",
              "      <th>x1_메이크업포에버</th>\n",
              "      <th>x1_빅시</th>\n",
              "      <th>x1_입생</th>\n",
              "      <th>x1_페리페라</th>\n",
              "    </tr>\n",
              "  </thead>\n",
              "  <tbody>\n",
              "    <tr>\n",
              "      <th>0</th>\n",
              "      <td>0.0</td>\n",
              "      <td>1.0</td>\n",
              "      <td>0.0</td>\n",
              "      <td>0.0</td>\n",
              "      <td>0.0</td>\n",
              "      <td>1.0</td>\n",
              "      <td>0.0</td>\n",
              "    </tr>\n",
              "    <tr>\n",
              "      <th>1</th>\n",
              "      <td>0.0</td>\n",
              "      <td>1.0</td>\n",
              "      <td>0.0</td>\n",
              "      <td>0.0</td>\n",
              "      <td>1.0</td>\n",
              "      <td>0.0</td>\n",
              "      <td>0.0</td>\n",
              "    </tr>\n",
              "    <tr>\n",
              "      <th>2</th>\n",
              "      <td>0.0</td>\n",
              "      <td>1.0</td>\n",
              "      <td>0.0</td>\n",
              "      <td>1.0</td>\n",
              "      <td>0.0</td>\n",
              "      <td>0.0</td>\n",
              "      <td>0.0</td>\n",
              "    </tr>\n",
              "    <tr>\n",
              "      <th>3</th>\n",
              "      <td>0.0</td>\n",
              "      <td>1.0</td>\n",
              "      <td>0.0</td>\n",
              "      <td>0.0</td>\n",
              "      <td>0.0</td>\n",
              "      <td>1.0</td>\n",
              "      <td>0.0</td>\n",
              "    </tr>\n",
              "    <tr>\n",
              "      <th>4</th>\n",
              "      <td>0.0</td>\n",
              "      <td>1.0</td>\n",
              "      <td>0.0</td>\n",
              "      <td>0.0</td>\n",
              "      <td>1.0</td>\n",
              "      <td>0.0</td>\n",
              "      <td>0.0</td>\n",
              "    </tr>\n",
              "    <tr>\n",
              "      <th>5</th>\n",
              "      <td>1.0</td>\n",
              "      <td>0.0</td>\n",
              "      <td>1.0</td>\n",
              "      <td>0.0</td>\n",
              "      <td>0.0</td>\n",
              "      <td>0.0</td>\n",
              "      <td>0.0</td>\n",
              "    </tr>\n",
              "    <tr>\n",
              "      <th>6</th>\n",
              "      <td>1.0</td>\n",
              "      <td>0.0</td>\n",
              "      <td>0.0</td>\n",
              "      <td>0.0</td>\n",
              "      <td>0.0</td>\n",
              "      <td>0.0</td>\n",
              "      <td>1.0</td>\n",
              "    </tr>\n",
              "    <tr>\n",
              "      <th>7</th>\n",
              "      <td>1.0</td>\n",
              "      <td>0.0</td>\n",
              "      <td>0.0</td>\n",
              "      <td>0.0</td>\n",
              "      <td>0.0</td>\n",
              "      <td>0.0</td>\n",
              "      <td>1.0</td>\n",
              "    </tr>\n",
              "    <tr>\n",
              "      <th>8</th>\n",
              "      <td>0.0</td>\n",
              "      <td>1.0</td>\n",
              "      <td>0.0</td>\n",
              "      <td>0.0</td>\n",
              "      <td>0.0</td>\n",
              "      <td>0.0</td>\n",
              "      <td>1.0</td>\n",
              "    </tr>\n",
              "    <tr>\n",
              "      <th>9</th>\n",
              "      <td>0.0</td>\n",
              "      <td>1.0</td>\n",
              "      <td>1.0</td>\n",
              "      <td>0.0</td>\n",
              "      <td>0.0</td>\n",
              "      <td>0.0</td>\n",
              "      <td>0.0</td>\n",
              "    </tr>\n",
              "  </tbody>\n",
              "</table>\n",
              "</div>\n",
              "      <button class=\"colab-df-convert\" onclick=\"convertToInteractive('df-f11a77dc-94ec-4a90-a342-a99db397238e')\"\n",
              "              title=\"Convert this dataframe to an interactive table.\"\n",
              "              style=\"display:none;\">\n",
              "        \n",
              "  <svg xmlns=\"http://www.w3.org/2000/svg\" height=\"24px\"viewBox=\"0 0 24 24\"\n",
              "       width=\"24px\">\n",
              "    <path d=\"M0 0h24v24H0V0z\" fill=\"none\"/>\n",
              "    <path d=\"M18.56 5.44l.94 2.06.94-2.06 2.06-.94-2.06-.94-.94-2.06-.94 2.06-2.06.94zm-11 1L8.5 8.5l.94-2.06 2.06-.94-2.06-.94L8.5 2.5l-.94 2.06-2.06.94zm10 10l.94 2.06.94-2.06 2.06-.94-2.06-.94-.94-2.06-.94 2.06-2.06.94z\"/><path d=\"M17.41 7.96l-1.37-1.37c-.4-.4-.92-.59-1.43-.59-.52 0-1.04.2-1.43.59L10.3 9.45l-7.72 7.72c-.78.78-.78 2.05 0 2.83L4 21.41c.39.39.9.59 1.41.59.51 0 1.02-.2 1.41-.59l7.78-7.78 2.81-2.81c.8-.78.8-2.07 0-2.86zM5.41 20L4 18.59l7.72-7.72 1.47 1.35L5.41 20z\"/>\n",
              "  </svg>\n",
              "      </button>\n",
              "      \n",
              "  <style>\n",
              "    .colab-df-container {\n",
              "      display:flex;\n",
              "      flex-wrap:wrap;\n",
              "      gap: 12px;\n",
              "    }\n",
              "\n",
              "    .colab-df-convert {\n",
              "      background-color: #E8F0FE;\n",
              "      border: none;\n",
              "      border-radius: 50%;\n",
              "      cursor: pointer;\n",
              "      display: none;\n",
              "      fill: #1967D2;\n",
              "      height: 32px;\n",
              "      padding: 0 0 0 0;\n",
              "      width: 32px;\n",
              "    }\n",
              "\n",
              "    .colab-df-convert:hover {\n",
              "      background-color: #E2EBFA;\n",
              "      box-shadow: 0px 1px 2px rgba(60, 64, 67, 0.3), 0px 1px 3px 1px rgba(60, 64, 67, 0.15);\n",
              "      fill: #174EA6;\n",
              "    }\n",
              "\n",
              "    [theme=dark] .colab-df-convert {\n",
              "      background-color: #3B4455;\n",
              "      fill: #D2E3FC;\n",
              "    }\n",
              "\n",
              "    [theme=dark] .colab-df-convert:hover {\n",
              "      background-color: #434B5C;\n",
              "      box-shadow: 0px 1px 3px 1px rgba(0, 0, 0, 0.15);\n",
              "      filter: drop-shadow(0px 1px 2px rgba(0, 0, 0, 0.3));\n",
              "      fill: #FFFFFF;\n",
              "    }\n",
              "  </style>\n",
              "\n",
              "      <script>\n",
              "        const buttonEl =\n",
              "          document.querySelector('#df-f11a77dc-94ec-4a90-a342-a99db397238e button.colab-df-convert');\n",
              "        buttonEl.style.display =\n",
              "          google.colab.kernel.accessAllowed ? 'block' : 'none';\n",
              "\n",
              "        async function convertToInteractive(key) {\n",
              "          const element = document.querySelector('#df-f11a77dc-94ec-4a90-a342-a99db397238e');\n",
              "          const dataTable =\n",
              "            await google.colab.kernel.invokeFunction('convertToInteractive',\n",
              "                                                     [key], {});\n",
              "          if (!dataTable) return;\n",
              "\n",
              "          const docLinkHtml = 'Like what you see? Visit the ' +\n",
              "            '<a target=\"_blank\" href=https://colab.research.google.com/notebooks/data_table.ipynb>data table notebook</a>'\n",
              "            + ' to learn more about interactive tables.';\n",
              "          element.innerHTML = '';\n",
              "          dataTable['output_type'] = 'display_data';\n",
              "          await google.colab.output.renderOutput(dataTable, element);\n",
              "          const docLink = document.createElement('div');\n",
              "          docLink.innerHTML = docLinkHtml;\n",
              "          element.appendChild(docLink);\n",
              "        }\n",
              "      </script>\n",
              "    </div>\n",
              "  </div>\n",
              "  "
            ]
          },
          "metadata": {},
          "execution_count": 146
        }
      ],
      "source": [
        "result_df = pd.DataFrame(result, columns=cols)\n",
        "result_df"
      ]
    },
    {
      "cell_type": "code",
      "execution_count": 147,
      "metadata": {
        "id": "wLHwGaD-A6q8"
      },
      "outputs": [],
      "source": [
        "result_df['price']= df['price']"
      ]
    },
    {
      "cell_type": "code",
      "execution_count": 148,
      "metadata": {
        "id": "Y1Dasyd_A6uj",
        "colab": {
          "base_uri": "https://localhost:8080/",
          "height": 359
        },
        "outputId": "69f57796-16de-4a7a-c640-2e843b686ca4"
      },
      "outputs": [
        {
          "output_type": "execute_result",
          "data": {
            "text/plain": [
              "   x0_0  x0_1  x1_맥  x1_메이크업포에버  x1_빅시  x1_입생  x1_페리페라  price\n",
              "0   0.0   1.0   0.0         0.0    0.0    1.0      0.0  31505\n",
              "1   0.0   1.0   0.0         0.0    1.0    0.0      0.0  85642\n",
              "2   0.0   1.0   0.0         1.0    0.0    0.0      0.0  21351\n",
              "3   0.0   1.0   0.0         0.0    0.0    1.0      0.0  70105\n",
              "4   0.0   1.0   0.0         0.0    1.0    0.0      0.0  80896\n",
              "5   1.0   0.0   1.0         0.0    0.0    0.0      0.0  37477\n",
              "6   1.0   0.0   0.0         0.0    0.0    0.0      1.0  64665\n",
              "7   1.0   0.0   0.0         0.0    0.0    0.0      1.0  74094\n",
              "8   0.0   1.0   0.0         0.0    0.0    0.0      1.0  32008\n",
              "9   0.0   1.0   1.0         0.0    0.0    0.0      0.0  48848"
            ],
            "text/html": [
              "\n",
              "  <div id=\"df-110d3912-b9a5-424f-9ff9-9ef091dba752\">\n",
              "    <div class=\"colab-df-container\">\n",
              "      <div>\n",
              "<style scoped>\n",
              "    .dataframe tbody tr th:only-of-type {\n",
              "        vertical-align: middle;\n",
              "    }\n",
              "\n",
              "    .dataframe tbody tr th {\n",
              "        vertical-align: top;\n",
              "    }\n",
              "\n",
              "    .dataframe thead th {\n",
              "        text-align: right;\n",
              "    }\n",
              "</style>\n",
              "<table border=\"1\" class=\"dataframe\">\n",
              "  <thead>\n",
              "    <tr style=\"text-align: right;\">\n",
              "      <th></th>\n",
              "      <th>x0_0</th>\n",
              "      <th>x0_1</th>\n",
              "      <th>x1_맥</th>\n",
              "      <th>x1_메이크업포에버</th>\n",
              "      <th>x1_빅시</th>\n",
              "      <th>x1_입생</th>\n",
              "      <th>x1_페리페라</th>\n",
              "      <th>price</th>\n",
              "    </tr>\n",
              "  </thead>\n",
              "  <tbody>\n",
              "    <tr>\n",
              "      <th>0</th>\n",
              "      <td>0.0</td>\n",
              "      <td>1.0</td>\n",
              "      <td>0.0</td>\n",
              "      <td>0.0</td>\n",
              "      <td>0.0</td>\n",
              "      <td>1.0</td>\n",
              "      <td>0.0</td>\n",
              "      <td>31505</td>\n",
              "    </tr>\n",
              "    <tr>\n",
              "      <th>1</th>\n",
              "      <td>0.0</td>\n",
              "      <td>1.0</td>\n",
              "      <td>0.0</td>\n",
              "      <td>0.0</td>\n",
              "      <td>1.0</td>\n",
              "      <td>0.0</td>\n",
              "      <td>0.0</td>\n",
              "      <td>85642</td>\n",
              "    </tr>\n",
              "    <tr>\n",
              "      <th>2</th>\n",
              "      <td>0.0</td>\n",
              "      <td>1.0</td>\n",
              "      <td>0.0</td>\n",
              "      <td>1.0</td>\n",
              "      <td>0.0</td>\n",
              "      <td>0.0</td>\n",
              "      <td>0.0</td>\n",
              "      <td>21351</td>\n",
              "    </tr>\n",
              "    <tr>\n",
              "      <th>3</th>\n",
              "      <td>0.0</td>\n",
              "      <td>1.0</td>\n",
              "      <td>0.0</td>\n",
              "      <td>0.0</td>\n",
              "      <td>0.0</td>\n",
              "      <td>1.0</td>\n",
              "      <td>0.0</td>\n",
              "      <td>70105</td>\n",
              "    </tr>\n",
              "    <tr>\n",
              "      <th>4</th>\n",
              "      <td>0.0</td>\n",
              "      <td>1.0</td>\n",
              "      <td>0.0</td>\n",
              "      <td>0.0</td>\n",
              "      <td>1.0</td>\n",
              "      <td>0.0</td>\n",
              "      <td>0.0</td>\n",
              "      <td>80896</td>\n",
              "    </tr>\n",
              "    <tr>\n",
              "      <th>5</th>\n",
              "      <td>1.0</td>\n",
              "      <td>0.0</td>\n",
              "      <td>1.0</td>\n",
              "      <td>0.0</td>\n",
              "      <td>0.0</td>\n",
              "      <td>0.0</td>\n",
              "      <td>0.0</td>\n",
              "      <td>37477</td>\n",
              "    </tr>\n",
              "    <tr>\n",
              "      <th>6</th>\n",
              "      <td>1.0</td>\n",
              "      <td>0.0</td>\n",
              "      <td>0.0</td>\n",
              "      <td>0.0</td>\n",
              "      <td>0.0</td>\n",
              "      <td>0.0</td>\n",
              "      <td>1.0</td>\n",
              "      <td>64665</td>\n",
              "    </tr>\n",
              "    <tr>\n",
              "      <th>7</th>\n",
              "      <td>1.0</td>\n",
              "      <td>0.0</td>\n",
              "      <td>0.0</td>\n",
              "      <td>0.0</td>\n",
              "      <td>0.0</td>\n",
              "      <td>0.0</td>\n",
              "      <td>1.0</td>\n",
              "      <td>74094</td>\n",
              "    </tr>\n",
              "    <tr>\n",
              "      <th>8</th>\n",
              "      <td>0.0</td>\n",
              "      <td>1.0</td>\n",
              "      <td>0.0</td>\n",
              "      <td>0.0</td>\n",
              "      <td>0.0</td>\n",
              "      <td>0.0</td>\n",
              "      <td>1.0</td>\n",
              "      <td>32008</td>\n",
              "    </tr>\n",
              "    <tr>\n",
              "      <th>9</th>\n",
              "      <td>0.0</td>\n",
              "      <td>1.0</td>\n",
              "      <td>1.0</td>\n",
              "      <td>0.0</td>\n",
              "      <td>0.0</td>\n",
              "      <td>0.0</td>\n",
              "      <td>0.0</td>\n",
              "      <td>48848</td>\n",
              "    </tr>\n",
              "  </tbody>\n",
              "</table>\n",
              "</div>\n",
              "      <button class=\"colab-df-convert\" onclick=\"convertToInteractive('df-110d3912-b9a5-424f-9ff9-9ef091dba752')\"\n",
              "              title=\"Convert this dataframe to an interactive table.\"\n",
              "              style=\"display:none;\">\n",
              "        \n",
              "  <svg xmlns=\"http://www.w3.org/2000/svg\" height=\"24px\"viewBox=\"0 0 24 24\"\n",
              "       width=\"24px\">\n",
              "    <path d=\"M0 0h24v24H0V0z\" fill=\"none\"/>\n",
              "    <path d=\"M18.56 5.44l.94 2.06.94-2.06 2.06-.94-2.06-.94-.94-2.06-.94 2.06-2.06.94zm-11 1L8.5 8.5l.94-2.06 2.06-.94-2.06-.94L8.5 2.5l-.94 2.06-2.06.94zm10 10l.94 2.06.94-2.06 2.06-.94-2.06-.94-.94-2.06-.94 2.06-2.06.94z\"/><path d=\"M17.41 7.96l-1.37-1.37c-.4-.4-.92-.59-1.43-.59-.52 0-1.04.2-1.43.59L10.3 9.45l-7.72 7.72c-.78.78-.78 2.05 0 2.83L4 21.41c.39.39.9.59 1.41.59.51 0 1.02-.2 1.41-.59l7.78-7.78 2.81-2.81c.8-.78.8-2.07 0-2.86zM5.41 20L4 18.59l7.72-7.72 1.47 1.35L5.41 20z\"/>\n",
              "  </svg>\n",
              "      </button>\n",
              "      \n",
              "  <style>\n",
              "    .colab-df-container {\n",
              "      display:flex;\n",
              "      flex-wrap:wrap;\n",
              "      gap: 12px;\n",
              "    }\n",
              "\n",
              "    .colab-df-convert {\n",
              "      background-color: #E8F0FE;\n",
              "      border: none;\n",
              "      border-radius: 50%;\n",
              "      cursor: pointer;\n",
              "      display: none;\n",
              "      fill: #1967D2;\n",
              "      height: 32px;\n",
              "      padding: 0 0 0 0;\n",
              "      width: 32px;\n",
              "    }\n",
              "\n",
              "    .colab-df-convert:hover {\n",
              "      background-color: #E2EBFA;\n",
              "      box-shadow: 0px 1px 2px rgba(60, 64, 67, 0.3), 0px 1px 3px 1px rgba(60, 64, 67, 0.15);\n",
              "      fill: #174EA6;\n",
              "    }\n",
              "\n",
              "    [theme=dark] .colab-df-convert {\n",
              "      background-color: #3B4455;\n",
              "      fill: #D2E3FC;\n",
              "    }\n",
              "\n",
              "    [theme=dark] .colab-df-convert:hover {\n",
              "      background-color: #434B5C;\n",
              "      box-shadow: 0px 1px 3px 1px rgba(0, 0, 0, 0.15);\n",
              "      filter: drop-shadow(0px 1px 2px rgba(0, 0, 0, 0.3));\n",
              "      fill: #FFFFFF;\n",
              "    }\n",
              "  </style>\n",
              "\n",
              "      <script>\n",
              "        const buttonEl =\n",
              "          document.querySelector('#df-110d3912-b9a5-424f-9ff9-9ef091dba752 button.colab-df-convert');\n",
              "        buttonEl.style.display =\n",
              "          google.colab.kernel.accessAllowed ? 'block' : 'none';\n",
              "\n",
              "        async function convertToInteractive(key) {\n",
              "          const element = document.querySelector('#df-110d3912-b9a5-424f-9ff9-9ef091dba752');\n",
              "          const dataTable =\n",
              "            await google.colab.kernel.invokeFunction('convertToInteractive',\n",
              "                                                     [key], {});\n",
              "          if (!dataTable) return;\n",
              "\n",
              "          const docLinkHtml = 'Like what you see? Visit the ' +\n",
              "            '<a target=\"_blank\" href=https://colab.research.google.com/notebooks/data_table.ipynb>data table notebook</a>'\n",
              "            + ' to learn more about interactive tables.';\n",
              "          element.innerHTML = '';\n",
              "          dataTable['output_type'] = 'display_data';\n",
              "          await google.colab.output.renderOutput(dataTable, element);\n",
              "          const docLink = document.createElement('div');\n",
              "          docLink.innerHTML = docLinkHtml;\n",
              "          element.appendChild(docLink);\n",
              "        }\n",
              "      </script>\n",
              "    </div>\n",
              "  </div>\n",
              "  "
            ]
          },
          "metadata": {},
          "execution_count": 148
        }
      ],
      "source": [
        "result_df"
      ]
    },
    {
      "cell_type": "code",
      "execution_count": 149,
      "metadata": {
        "id": "ahaFRIRtA6w-",
        "colab": {
          "base_uri": "https://localhost:8080/"
        },
        "outputId": "3f0cfaa0-2845-4e21-e206-c0b20f46ca8c"
      },
      "outputs": [
        {
          "output_type": "stream",
          "name": "stdout",
          "text": [
            "<class 'pandas.core.frame.DataFrame'>\n",
            "RangeIndex: 10 entries, 0 to 9\n",
            "Data columns (total 8 columns):\n",
            " #   Column      Non-Null Count  Dtype  \n",
            "---  ------      --------------  -----  \n",
            " 0   x0_0        10 non-null     float64\n",
            " 1   x0_1        10 non-null     float64\n",
            " 2   x1_맥        10 non-null     float64\n",
            " 3   x1_메이크업포에버  10 non-null     float64\n",
            " 4   x1_빅시       10 non-null     float64\n",
            " 5   x1_입생       10 non-null     float64\n",
            " 6   x1_페리페라     10 non-null     float64\n",
            " 7   price       10 non-null     int64  \n",
            "dtypes: float64(7), int64(1)\n",
            "memory usage: 768.0 bytes\n"
          ]
        }
      ],
      "source": [
        "result_df.info()"
      ]
    },
    {
      "cell_type": "code",
      "execution_count": 150,
      "metadata": {
        "id": "j-Y4uD5EA6zi",
        "colab": {
          "base_uri": "https://localhost:8080/",
          "height": 359
        },
        "outputId": "cc65cbfc-7fa3-4f81-f08f-5aa0739f54da"
      },
      "outputs": [
        {
          "output_type": "execute_result",
          "data": {
            "text/plain": [
              "   gender  price  items_맥  items_메이크업포에버  items_빅시  items_입생  items_페리페라\n",
              "0       1  31505        0              0         0         1           0\n",
              "1       1  85642        0              0         1         0           0\n",
              "2       1  21351        0              1         0         0           0\n",
              "3       1  70105        0              0         0         1           0\n",
              "4       1  80896        0              0         1         0           0\n",
              "5       0  37477        1              0         0         0           0\n",
              "6       0  64665        0              0         0         0           1\n",
              "7       0  74094        0              0         0         0           1\n",
              "8       1  32008        0              0         0         0           1\n",
              "9       1  48848        1              0         0         0           0"
            ],
            "text/html": [
              "\n",
              "  <div id=\"df-10eb5c92-401f-4711-b945-f816a2dd9a66\">\n",
              "    <div class=\"colab-df-container\">\n",
              "      <div>\n",
              "<style scoped>\n",
              "    .dataframe tbody tr th:only-of-type {\n",
              "        vertical-align: middle;\n",
              "    }\n",
              "\n",
              "    .dataframe tbody tr th {\n",
              "        vertical-align: top;\n",
              "    }\n",
              "\n",
              "    .dataframe thead th {\n",
              "        text-align: right;\n",
              "    }\n",
              "</style>\n",
              "<table border=\"1\" class=\"dataframe\">\n",
              "  <thead>\n",
              "    <tr style=\"text-align: right;\">\n",
              "      <th></th>\n",
              "      <th>gender</th>\n",
              "      <th>price</th>\n",
              "      <th>items_맥</th>\n",
              "      <th>items_메이크업포에버</th>\n",
              "      <th>items_빅시</th>\n",
              "      <th>items_입생</th>\n",
              "      <th>items_페리페라</th>\n",
              "    </tr>\n",
              "  </thead>\n",
              "  <tbody>\n",
              "    <tr>\n",
              "      <th>0</th>\n",
              "      <td>1</td>\n",
              "      <td>31505</td>\n",
              "      <td>0</td>\n",
              "      <td>0</td>\n",
              "      <td>0</td>\n",
              "      <td>1</td>\n",
              "      <td>0</td>\n",
              "    </tr>\n",
              "    <tr>\n",
              "      <th>1</th>\n",
              "      <td>1</td>\n",
              "      <td>85642</td>\n",
              "      <td>0</td>\n",
              "      <td>0</td>\n",
              "      <td>1</td>\n",
              "      <td>0</td>\n",
              "      <td>0</td>\n",
              "    </tr>\n",
              "    <tr>\n",
              "      <th>2</th>\n",
              "      <td>1</td>\n",
              "      <td>21351</td>\n",
              "      <td>0</td>\n",
              "      <td>1</td>\n",
              "      <td>0</td>\n",
              "      <td>0</td>\n",
              "      <td>0</td>\n",
              "    </tr>\n",
              "    <tr>\n",
              "      <th>3</th>\n",
              "      <td>1</td>\n",
              "      <td>70105</td>\n",
              "      <td>0</td>\n",
              "      <td>0</td>\n",
              "      <td>0</td>\n",
              "      <td>1</td>\n",
              "      <td>0</td>\n",
              "    </tr>\n",
              "    <tr>\n",
              "      <th>4</th>\n",
              "      <td>1</td>\n",
              "      <td>80896</td>\n",
              "      <td>0</td>\n",
              "      <td>0</td>\n",
              "      <td>1</td>\n",
              "      <td>0</td>\n",
              "      <td>0</td>\n",
              "    </tr>\n",
              "    <tr>\n",
              "      <th>5</th>\n",
              "      <td>0</td>\n",
              "      <td>37477</td>\n",
              "      <td>1</td>\n",
              "      <td>0</td>\n",
              "      <td>0</td>\n",
              "      <td>0</td>\n",
              "      <td>0</td>\n",
              "    </tr>\n",
              "    <tr>\n",
              "      <th>6</th>\n",
              "      <td>0</td>\n",
              "      <td>64665</td>\n",
              "      <td>0</td>\n",
              "      <td>0</td>\n",
              "      <td>0</td>\n",
              "      <td>0</td>\n",
              "      <td>1</td>\n",
              "    </tr>\n",
              "    <tr>\n",
              "      <th>7</th>\n",
              "      <td>0</td>\n",
              "      <td>74094</td>\n",
              "      <td>0</td>\n",
              "      <td>0</td>\n",
              "      <td>0</td>\n",
              "      <td>0</td>\n",
              "      <td>1</td>\n",
              "    </tr>\n",
              "    <tr>\n",
              "      <th>8</th>\n",
              "      <td>1</td>\n",
              "      <td>32008</td>\n",
              "      <td>0</td>\n",
              "      <td>0</td>\n",
              "      <td>0</td>\n",
              "      <td>0</td>\n",
              "      <td>1</td>\n",
              "    </tr>\n",
              "    <tr>\n",
              "      <th>9</th>\n",
              "      <td>1</td>\n",
              "      <td>48848</td>\n",
              "      <td>1</td>\n",
              "      <td>0</td>\n",
              "      <td>0</td>\n",
              "      <td>0</td>\n",
              "      <td>0</td>\n",
              "    </tr>\n",
              "  </tbody>\n",
              "</table>\n",
              "</div>\n",
              "      <button class=\"colab-df-convert\" onclick=\"convertToInteractive('df-10eb5c92-401f-4711-b945-f816a2dd9a66')\"\n",
              "              title=\"Convert this dataframe to an interactive table.\"\n",
              "              style=\"display:none;\">\n",
              "        \n",
              "  <svg xmlns=\"http://www.w3.org/2000/svg\" height=\"24px\"viewBox=\"0 0 24 24\"\n",
              "       width=\"24px\">\n",
              "    <path d=\"M0 0h24v24H0V0z\" fill=\"none\"/>\n",
              "    <path d=\"M18.56 5.44l.94 2.06.94-2.06 2.06-.94-2.06-.94-.94-2.06-.94 2.06-2.06.94zm-11 1L8.5 8.5l.94-2.06 2.06-.94-2.06-.94L8.5 2.5l-.94 2.06-2.06.94zm10 10l.94 2.06.94-2.06 2.06-.94-2.06-.94-.94-2.06-.94 2.06-2.06.94z\"/><path d=\"M17.41 7.96l-1.37-1.37c-.4-.4-.92-.59-1.43-.59-.52 0-1.04.2-1.43.59L10.3 9.45l-7.72 7.72c-.78.78-.78 2.05 0 2.83L4 21.41c.39.39.9.59 1.41.59.51 0 1.02-.2 1.41-.59l7.78-7.78 2.81-2.81c.8-.78.8-2.07 0-2.86zM5.41 20L4 18.59l7.72-7.72 1.47 1.35L5.41 20z\"/>\n",
              "  </svg>\n",
              "      </button>\n",
              "      \n",
              "  <style>\n",
              "    .colab-df-container {\n",
              "      display:flex;\n",
              "      flex-wrap:wrap;\n",
              "      gap: 12px;\n",
              "    }\n",
              "\n",
              "    .colab-df-convert {\n",
              "      background-color: #E8F0FE;\n",
              "      border: none;\n",
              "      border-radius: 50%;\n",
              "      cursor: pointer;\n",
              "      display: none;\n",
              "      fill: #1967D2;\n",
              "      height: 32px;\n",
              "      padding: 0 0 0 0;\n",
              "      width: 32px;\n",
              "    }\n",
              "\n",
              "    .colab-df-convert:hover {\n",
              "      background-color: #E2EBFA;\n",
              "      box-shadow: 0px 1px 2px rgba(60, 64, 67, 0.3), 0px 1px 3px 1px rgba(60, 64, 67, 0.15);\n",
              "      fill: #174EA6;\n",
              "    }\n",
              "\n",
              "    [theme=dark] .colab-df-convert {\n",
              "      background-color: #3B4455;\n",
              "      fill: #D2E3FC;\n",
              "    }\n",
              "\n",
              "    [theme=dark] .colab-df-convert:hover {\n",
              "      background-color: #434B5C;\n",
              "      box-shadow: 0px 1px 3px 1px rgba(0, 0, 0, 0.15);\n",
              "      filter: drop-shadow(0px 1px 2px rgba(0, 0, 0, 0.3));\n",
              "      fill: #FFFFFF;\n",
              "    }\n",
              "  </style>\n",
              "\n",
              "      <script>\n",
              "        const buttonEl =\n",
              "          document.querySelector('#df-10eb5c92-401f-4711-b945-f816a2dd9a66 button.colab-df-convert');\n",
              "        buttonEl.style.display =\n",
              "          google.colab.kernel.accessAllowed ? 'block' : 'none';\n",
              "\n",
              "        async function convertToInteractive(key) {\n",
              "          const element = document.querySelector('#df-10eb5c92-401f-4711-b945-f816a2dd9a66');\n",
              "          const dataTable =\n",
              "            await google.colab.kernel.invokeFunction('convertToInteractive',\n",
              "                                                     [key], {});\n",
              "          if (!dataTable) return;\n",
              "\n",
              "          const docLinkHtml = 'Like what you see? Visit the ' +\n",
              "            '<a target=\"_blank\" href=https://colab.research.google.com/notebooks/data_table.ipynb>data table notebook</a>'\n",
              "            + ' to learn more about interactive tables.';\n",
              "          element.innerHTML = '';\n",
              "          dataTable['output_type'] = 'display_data';\n",
              "          await google.colab.output.renderOutput(dataTable, element);\n",
              "          const docLink = document.createElement('div');\n",
              "          docLink.innerHTML = docLinkHtml;\n",
              "          element.appendChild(docLink);\n",
              "        }\n",
              "      </script>\n",
              "    </div>\n",
              "  </div>\n",
              "  "
            ]
          },
          "metadata": {},
          "execution_count": 150
        }
      ],
      "source": [
        "# result_df/ df\n",
        "pd.get_dummies(df)"
      ]
    },
    {
      "cell_type": "code",
      "execution_count": 151,
      "metadata": {
        "id": "euuXNUq8F9kV",
        "colab": {
          "base_uri": "https://localhost:8080/",
          "height": 359
        },
        "outputId": "57946127-2a2c-4838-8dc0-f696bd3b91bd"
      },
      "outputs": [
        {
          "output_type": "execute_result",
          "data": {
            "text/plain": [
              "   price  gender_0  gender_1  items_맥  items_메이크업포에버  items_빅시  items_입생  \\\n",
              "0  31505         0         1        0              0         0         1   \n",
              "1  85642         0         1        0              0         1         0   \n",
              "2  21351         0         1        0              1         0         0   \n",
              "3  70105         0         1        0              0         0         1   \n",
              "4  80896         0         1        0              0         1         0   \n",
              "5  37477         1         0        1              0         0         0   \n",
              "6  64665         1         0        0              0         0         0   \n",
              "7  74094         1         0        0              0         0         0   \n",
              "8  32008         0         1        0              0         0         0   \n",
              "9  48848         0         1        1              0         0         0   \n",
              "\n",
              "   items_페리페라  \n",
              "0           0  \n",
              "1           0  \n",
              "2           0  \n",
              "3           0  \n",
              "4           0  \n",
              "5           0  \n",
              "6           1  \n",
              "7           1  \n",
              "8           1  \n",
              "9           0  "
            ],
            "text/html": [
              "\n",
              "  <div id=\"df-b384030d-8083-4518-8869-9a79f39502ae\">\n",
              "    <div class=\"colab-df-container\">\n",
              "      <div>\n",
              "<style scoped>\n",
              "    .dataframe tbody tr th:only-of-type {\n",
              "        vertical-align: middle;\n",
              "    }\n",
              "\n",
              "    .dataframe tbody tr th {\n",
              "        vertical-align: top;\n",
              "    }\n",
              "\n",
              "    .dataframe thead th {\n",
              "        text-align: right;\n",
              "    }\n",
              "</style>\n",
              "<table border=\"1\" class=\"dataframe\">\n",
              "  <thead>\n",
              "    <tr style=\"text-align: right;\">\n",
              "      <th></th>\n",
              "      <th>price</th>\n",
              "      <th>gender_0</th>\n",
              "      <th>gender_1</th>\n",
              "      <th>items_맥</th>\n",
              "      <th>items_메이크업포에버</th>\n",
              "      <th>items_빅시</th>\n",
              "      <th>items_입생</th>\n",
              "      <th>items_페리페라</th>\n",
              "    </tr>\n",
              "  </thead>\n",
              "  <tbody>\n",
              "    <tr>\n",
              "      <th>0</th>\n",
              "      <td>31505</td>\n",
              "      <td>0</td>\n",
              "      <td>1</td>\n",
              "      <td>0</td>\n",
              "      <td>0</td>\n",
              "      <td>0</td>\n",
              "      <td>1</td>\n",
              "      <td>0</td>\n",
              "    </tr>\n",
              "    <tr>\n",
              "      <th>1</th>\n",
              "      <td>85642</td>\n",
              "      <td>0</td>\n",
              "      <td>1</td>\n",
              "      <td>0</td>\n",
              "      <td>0</td>\n",
              "      <td>1</td>\n",
              "      <td>0</td>\n",
              "      <td>0</td>\n",
              "    </tr>\n",
              "    <tr>\n",
              "      <th>2</th>\n",
              "      <td>21351</td>\n",
              "      <td>0</td>\n",
              "      <td>1</td>\n",
              "      <td>0</td>\n",
              "      <td>1</td>\n",
              "      <td>0</td>\n",
              "      <td>0</td>\n",
              "      <td>0</td>\n",
              "    </tr>\n",
              "    <tr>\n",
              "      <th>3</th>\n",
              "      <td>70105</td>\n",
              "      <td>0</td>\n",
              "      <td>1</td>\n",
              "      <td>0</td>\n",
              "      <td>0</td>\n",
              "      <td>0</td>\n",
              "      <td>1</td>\n",
              "      <td>0</td>\n",
              "    </tr>\n",
              "    <tr>\n",
              "      <th>4</th>\n",
              "      <td>80896</td>\n",
              "      <td>0</td>\n",
              "      <td>1</td>\n",
              "      <td>0</td>\n",
              "      <td>0</td>\n",
              "      <td>1</td>\n",
              "      <td>0</td>\n",
              "      <td>0</td>\n",
              "    </tr>\n",
              "    <tr>\n",
              "      <th>5</th>\n",
              "      <td>37477</td>\n",
              "      <td>1</td>\n",
              "      <td>0</td>\n",
              "      <td>1</td>\n",
              "      <td>0</td>\n",
              "      <td>0</td>\n",
              "      <td>0</td>\n",
              "      <td>0</td>\n",
              "    </tr>\n",
              "    <tr>\n",
              "      <th>6</th>\n",
              "      <td>64665</td>\n",
              "      <td>1</td>\n",
              "      <td>0</td>\n",
              "      <td>0</td>\n",
              "      <td>0</td>\n",
              "      <td>0</td>\n",
              "      <td>0</td>\n",
              "      <td>1</td>\n",
              "    </tr>\n",
              "    <tr>\n",
              "      <th>7</th>\n",
              "      <td>74094</td>\n",
              "      <td>1</td>\n",
              "      <td>0</td>\n",
              "      <td>0</td>\n",
              "      <td>0</td>\n",
              "      <td>0</td>\n",
              "      <td>0</td>\n",
              "      <td>1</td>\n",
              "    </tr>\n",
              "    <tr>\n",
              "      <th>8</th>\n",
              "      <td>32008</td>\n",
              "      <td>0</td>\n",
              "      <td>1</td>\n",
              "      <td>0</td>\n",
              "      <td>0</td>\n",
              "      <td>0</td>\n",
              "      <td>0</td>\n",
              "      <td>1</td>\n",
              "    </tr>\n",
              "    <tr>\n",
              "      <th>9</th>\n",
              "      <td>48848</td>\n",
              "      <td>0</td>\n",
              "      <td>1</td>\n",
              "      <td>1</td>\n",
              "      <td>0</td>\n",
              "      <td>0</td>\n",
              "      <td>0</td>\n",
              "      <td>0</td>\n",
              "    </tr>\n",
              "  </tbody>\n",
              "</table>\n",
              "</div>\n",
              "      <button class=\"colab-df-convert\" onclick=\"convertToInteractive('df-b384030d-8083-4518-8869-9a79f39502ae')\"\n",
              "              title=\"Convert this dataframe to an interactive table.\"\n",
              "              style=\"display:none;\">\n",
              "        \n",
              "  <svg xmlns=\"http://www.w3.org/2000/svg\" height=\"24px\"viewBox=\"0 0 24 24\"\n",
              "       width=\"24px\">\n",
              "    <path d=\"M0 0h24v24H0V0z\" fill=\"none\"/>\n",
              "    <path d=\"M18.56 5.44l.94 2.06.94-2.06 2.06-.94-2.06-.94-.94-2.06-.94 2.06-2.06.94zm-11 1L8.5 8.5l.94-2.06 2.06-.94-2.06-.94L8.5 2.5l-.94 2.06-2.06.94zm10 10l.94 2.06.94-2.06 2.06-.94-2.06-.94-.94-2.06-.94 2.06-2.06.94z\"/><path d=\"M17.41 7.96l-1.37-1.37c-.4-.4-.92-.59-1.43-.59-.52 0-1.04.2-1.43.59L10.3 9.45l-7.72 7.72c-.78.78-.78 2.05 0 2.83L4 21.41c.39.39.9.59 1.41.59.51 0 1.02-.2 1.41-.59l7.78-7.78 2.81-2.81c.8-.78.8-2.07 0-2.86zM5.41 20L4 18.59l7.72-7.72 1.47 1.35L5.41 20z\"/>\n",
              "  </svg>\n",
              "      </button>\n",
              "      \n",
              "  <style>\n",
              "    .colab-df-container {\n",
              "      display:flex;\n",
              "      flex-wrap:wrap;\n",
              "      gap: 12px;\n",
              "    }\n",
              "\n",
              "    .colab-df-convert {\n",
              "      background-color: #E8F0FE;\n",
              "      border: none;\n",
              "      border-radius: 50%;\n",
              "      cursor: pointer;\n",
              "      display: none;\n",
              "      fill: #1967D2;\n",
              "      height: 32px;\n",
              "      padding: 0 0 0 0;\n",
              "      width: 32px;\n",
              "    }\n",
              "\n",
              "    .colab-df-convert:hover {\n",
              "      background-color: #E2EBFA;\n",
              "      box-shadow: 0px 1px 2px rgba(60, 64, 67, 0.3), 0px 1px 3px 1px rgba(60, 64, 67, 0.15);\n",
              "      fill: #174EA6;\n",
              "    }\n",
              "\n",
              "    [theme=dark] .colab-df-convert {\n",
              "      background-color: #3B4455;\n",
              "      fill: #D2E3FC;\n",
              "    }\n",
              "\n",
              "    [theme=dark] .colab-df-convert:hover {\n",
              "      background-color: #434B5C;\n",
              "      box-shadow: 0px 1px 3px 1px rgba(0, 0, 0, 0.15);\n",
              "      filter: drop-shadow(0px 1px 2px rgba(0, 0, 0, 0.3));\n",
              "      fill: #FFFFFF;\n",
              "    }\n",
              "  </style>\n",
              "\n",
              "      <script>\n",
              "        const buttonEl =\n",
              "          document.querySelector('#df-b384030d-8083-4518-8869-9a79f39502ae button.colab-df-convert');\n",
              "        buttonEl.style.display =\n",
              "          google.colab.kernel.accessAllowed ? 'block' : 'none';\n",
              "\n",
              "        async function convertToInteractive(key) {\n",
              "          const element = document.querySelector('#df-b384030d-8083-4518-8869-9a79f39502ae');\n",
              "          const dataTable =\n",
              "            await google.colab.kernel.invokeFunction('convertToInteractive',\n",
              "                                                     [key], {});\n",
              "          if (!dataTable) return;\n",
              "\n",
              "          const docLinkHtml = 'Like what you see? Visit the ' +\n",
              "            '<a target=\"_blank\" href=https://colab.research.google.com/notebooks/data_table.ipynb>data table notebook</a>'\n",
              "            + ' to learn more about interactive tables.';\n",
              "          element.innerHTML = '';\n",
              "          dataTable['output_type'] = 'display_data';\n",
              "          await google.colab.output.renderOutput(dataTable, element);\n",
              "          const docLink = document.createElement('div');\n",
              "          docLink.innerHTML = docLinkHtml;\n",
              "          element.appendChild(docLink);\n",
              "        }\n",
              "      </script>\n",
              "    </div>\n",
              "  </div>\n",
              "  "
            ]
          },
          "metadata": {},
          "execution_count": 151
        }
      ],
      "source": [
        "pd.get_dummies(df, columns=['gender', 'items'])"
      ]
    },
    {
      "cell_type": "code",
      "execution_count": 152,
      "metadata": {
        "id": "TLZCf2HLA62H"
      },
      "outputs": [],
      "source": [
        "import pandas as pd\n",
        "ab = pd.read_csv('/content/adult.data',\n",
        "                    header=None,\n",
        "                    names=cols,\n",
        "                    na_values='?',\n",
        "                 skipinitialspace = True)\n",
        "cols = ['age', 'workclass', 'fnlwgt', 'education','education-num','marital-status', 'occupation','relationship','race','sex','capital-gain','capital-loss','hours-per-week','native-country','income']"
      ]
    },
    {
      "cell_type": "code",
      "execution_count": 153,
      "metadata": {
        "id": "vFse4-S0J0xv",
        "colab": {
          "base_uri": "https://localhost:8080/",
          "height": 1000
        },
        "outputId": "6f2599d5-d239-4dc4-e068-b46179544491"
      },
      "outputs": [
        {
          "output_type": "execute_result",
          "data": {
            "text/plain": [
              "                                                                                                                x0_0  \\\n",
              "39 State-gov        77516  Bachelors    13 Never-married         Adm-clerical      Not-in-family               White   \n",
              "50 Self-emp-not-inc 83311  Bachelors    13 Married-civ-spouse    Exec-managerial   Husband                     White   \n",
              "38 Private          215646 HS-grad      9  Divorced              Handlers-cleaners Not-in-family               White   \n",
              "53 Private          234721 11th         7  Married-civ-spouse    Handlers-cleaners Husband                     Black   \n",
              "28 Private          338409 Bachelors    13 Married-civ-spouse    Prof-specialty    Wife                        Black   \n",
              "37 Private          284582 Masters      14 Married-civ-spouse    Exec-managerial   Wife                        White   \n",
              "49 Private          160187 9th          5  Married-spouse-absent Other-service     Not-in-family               Black   \n",
              "52 Self-emp-not-inc 209642 HS-grad      9  Married-civ-spouse    Exec-managerial   Husband                     White   \n",
              "31 Private          45781  Masters      14 Never-married         Prof-specialty    Not-in-family               White   \n",
              "42 Private          159449 Bachelors    13 Married-civ-spouse    Exec-managerial   Husband                     White   \n",
              "37 Private          280464 Some-college 10 Married-civ-spouse    Exec-managerial   Husband                     Black   \n",
              "30 State-gov        141297 Bachelors    13 Married-civ-spouse    Prof-specialty    Husband        Asian-Pac-Islander   \n",
              "23 Private          122272 Bachelors    13 Never-married         Adm-clerical      Own-child                   White   \n",
              "32 Private          205019 Assoc-acdm   12 Never-married         Sales             Not-in-family               Black   \n",
              "40 Private          121772 Assoc-voc    11 Married-civ-spouse    Craft-repair      Husband        Asian-Pac-Islander   \n",
              "34 Private          245487 7th-8th      4  Married-civ-spouse    Transport-moving  Husband        Amer-Indian-Eskimo   \n",
              "25 Self-emp-not-inc 176756 HS-grad      9  Never-married         Farming-fishing   Own-child                   White   \n",
              "32 Private          186824 HS-grad      9  Never-married         Machine-op-inspct Unmarried                   White   \n",
              "38 Private          28887  11th         7  Married-civ-spouse    Sales             Husband                     White   \n",
              "43 Self-emp-not-inc 292175 Masters      14 Divorced              Exec-managerial   Unmarried                   White   \n",
              "\n",
              "                                                                                                    x0_1  \\\n",
              "39 State-gov        77516  Bachelors    13 Never-married         Adm-clerical      Not-in-family    Male   \n",
              "50 Self-emp-not-inc 83311  Bachelors    13 Married-civ-spouse    Exec-managerial   Husband          Male   \n",
              "38 Private          215646 HS-grad      9  Divorced              Handlers-cleaners Not-in-family    Male   \n",
              "53 Private          234721 11th         7  Married-civ-spouse    Handlers-cleaners Husband          Male   \n",
              "28 Private          338409 Bachelors    13 Married-civ-spouse    Prof-specialty    Wife           Female   \n",
              "37 Private          284582 Masters      14 Married-civ-spouse    Exec-managerial   Wife           Female   \n",
              "49 Private          160187 9th          5  Married-spouse-absent Other-service     Not-in-family  Female   \n",
              "52 Self-emp-not-inc 209642 HS-grad      9  Married-civ-spouse    Exec-managerial   Husband          Male   \n",
              "31 Private          45781  Masters      14 Never-married         Prof-specialty    Not-in-family  Female   \n",
              "42 Private          159449 Bachelors    13 Married-civ-spouse    Exec-managerial   Husband          Male   \n",
              "37 Private          280464 Some-college 10 Married-civ-spouse    Exec-managerial   Husband          Male   \n",
              "30 State-gov        141297 Bachelors    13 Married-civ-spouse    Prof-specialty    Husband          Male   \n",
              "23 Private          122272 Bachelors    13 Never-married         Adm-clerical      Own-child      Female   \n",
              "32 Private          205019 Assoc-acdm   12 Never-married         Sales             Not-in-family    Male   \n",
              "40 Private          121772 Assoc-voc    11 Married-civ-spouse    Craft-repair      Husband          Male   \n",
              "34 Private          245487 7th-8th      4  Married-civ-spouse    Transport-moving  Husband          Male   \n",
              "25 Self-emp-not-inc 176756 HS-grad      9  Never-married         Farming-fishing   Own-child        Male   \n",
              "32 Private          186824 HS-grad      9  Never-married         Machine-op-inspct Unmarried        Male   \n",
              "38 Private          28887  11th         7  Married-civ-spouse    Sales             Husband          Male   \n",
              "43 Self-emp-not-inc 292175 Masters      14 Divorced              Exec-managerial   Unmarried      Female   \n",
              "\n",
              "                                                                                                   x1_맥  \\\n",
              "39 State-gov        77516  Bachelors    13 Never-married         Adm-clerical      Not-in-family   2174   \n",
              "50 Self-emp-not-inc 83311  Bachelors    13 Married-civ-spouse    Exec-managerial   Husband            0   \n",
              "38 Private          215646 HS-grad      9  Divorced              Handlers-cleaners Not-in-family      0   \n",
              "53 Private          234721 11th         7  Married-civ-spouse    Handlers-cleaners Husband            0   \n",
              "28 Private          338409 Bachelors    13 Married-civ-spouse    Prof-specialty    Wife               0   \n",
              "37 Private          284582 Masters      14 Married-civ-spouse    Exec-managerial   Wife               0   \n",
              "49 Private          160187 9th          5  Married-spouse-absent Other-service     Not-in-family      0   \n",
              "52 Self-emp-not-inc 209642 HS-grad      9  Married-civ-spouse    Exec-managerial   Husband            0   \n",
              "31 Private          45781  Masters      14 Never-married         Prof-specialty    Not-in-family  14084   \n",
              "42 Private          159449 Bachelors    13 Married-civ-spouse    Exec-managerial   Husband         5178   \n",
              "37 Private          280464 Some-college 10 Married-civ-spouse    Exec-managerial   Husband            0   \n",
              "30 State-gov        141297 Bachelors    13 Married-civ-spouse    Prof-specialty    Husband            0   \n",
              "23 Private          122272 Bachelors    13 Never-married         Adm-clerical      Own-child          0   \n",
              "32 Private          205019 Assoc-acdm   12 Never-married         Sales             Not-in-family      0   \n",
              "40 Private          121772 Assoc-voc    11 Married-civ-spouse    Craft-repair      Husband            0   \n",
              "34 Private          245487 7th-8th      4  Married-civ-spouse    Transport-moving  Husband            0   \n",
              "25 Self-emp-not-inc 176756 HS-grad      9  Never-married         Farming-fishing   Own-child          0   \n",
              "32 Private          186824 HS-grad      9  Never-married         Machine-op-inspct Unmarried          0   \n",
              "38 Private          28887  11th         7  Married-civ-spouse    Sales             Husband            0   \n",
              "43 Self-emp-not-inc 292175 Masters      14 Divorced              Exec-managerial   Unmarried          0   \n",
              "\n",
              "                                                                                                  x1_메이크업포에버  \\\n",
              "39 State-gov        77516  Bachelors    13 Never-married         Adm-clerical      Not-in-family           0   \n",
              "50 Self-emp-not-inc 83311  Bachelors    13 Married-civ-spouse    Exec-managerial   Husband                 0   \n",
              "38 Private          215646 HS-grad      9  Divorced              Handlers-cleaners Not-in-family           0   \n",
              "53 Private          234721 11th         7  Married-civ-spouse    Handlers-cleaners Husband                 0   \n",
              "28 Private          338409 Bachelors    13 Married-civ-spouse    Prof-specialty    Wife                    0   \n",
              "37 Private          284582 Masters      14 Married-civ-spouse    Exec-managerial   Wife                    0   \n",
              "49 Private          160187 9th          5  Married-spouse-absent Other-service     Not-in-family           0   \n",
              "52 Self-emp-not-inc 209642 HS-grad      9  Married-civ-spouse    Exec-managerial   Husband                 0   \n",
              "31 Private          45781  Masters      14 Never-married         Prof-specialty    Not-in-family           0   \n",
              "42 Private          159449 Bachelors    13 Married-civ-spouse    Exec-managerial   Husband                 0   \n",
              "37 Private          280464 Some-college 10 Married-civ-spouse    Exec-managerial   Husband                 0   \n",
              "30 State-gov        141297 Bachelors    13 Married-civ-spouse    Prof-specialty    Husband                 0   \n",
              "23 Private          122272 Bachelors    13 Never-married         Adm-clerical      Own-child               0   \n",
              "32 Private          205019 Assoc-acdm   12 Never-married         Sales             Not-in-family           0   \n",
              "40 Private          121772 Assoc-voc    11 Married-civ-spouse    Craft-repair      Husband                 0   \n",
              "34 Private          245487 7th-8th      4  Married-civ-spouse    Transport-moving  Husband                 0   \n",
              "25 Self-emp-not-inc 176756 HS-grad      9  Never-married         Farming-fishing   Own-child               0   \n",
              "32 Private          186824 HS-grad      9  Never-married         Machine-op-inspct Unmarried               0   \n",
              "38 Private          28887  11th         7  Married-civ-spouse    Sales             Husband                 0   \n",
              "43 Self-emp-not-inc 292175 Masters      14 Divorced              Exec-managerial   Unmarried               0   \n",
              "\n",
              "                                                                                                  x1_빅시  \\\n",
              "39 State-gov        77516  Bachelors    13 Never-married         Adm-clerical      Not-in-family     40   \n",
              "50 Self-emp-not-inc 83311  Bachelors    13 Married-civ-spouse    Exec-managerial   Husband           13   \n",
              "38 Private          215646 HS-grad      9  Divorced              Handlers-cleaners Not-in-family     40   \n",
              "53 Private          234721 11th         7  Married-civ-spouse    Handlers-cleaners Husband           40   \n",
              "28 Private          338409 Bachelors    13 Married-civ-spouse    Prof-specialty    Wife              40   \n",
              "37 Private          284582 Masters      14 Married-civ-spouse    Exec-managerial   Wife              40   \n",
              "49 Private          160187 9th          5  Married-spouse-absent Other-service     Not-in-family     16   \n",
              "52 Self-emp-not-inc 209642 HS-grad      9  Married-civ-spouse    Exec-managerial   Husband           45   \n",
              "31 Private          45781  Masters      14 Never-married         Prof-specialty    Not-in-family     50   \n",
              "42 Private          159449 Bachelors    13 Married-civ-spouse    Exec-managerial   Husband           40   \n",
              "37 Private          280464 Some-college 10 Married-civ-spouse    Exec-managerial   Husband           80   \n",
              "30 State-gov        141297 Bachelors    13 Married-civ-spouse    Prof-specialty    Husband           40   \n",
              "23 Private          122272 Bachelors    13 Never-married         Adm-clerical      Own-child         30   \n",
              "32 Private          205019 Assoc-acdm   12 Never-married         Sales             Not-in-family     50   \n",
              "40 Private          121772 Assoc-voc    11 Married-civ-spouse    Craft-repair      Husband           40   \n",
              "34 Private          245487 7th-8th      4  Married-civ-spouse    Transport-moving  Husband           45   \n",
              "25 Self-emp-not-inc 176756 HS-grad      9  Never-married         Farming-fishing   Own-child         35   \n",
              "32 Private          186824 HS-grad      9  Never-married         Machine-op-inspct Unmarried         40   \n",
              "38 Private          28887  11th         7  Married-civ-spouse    Sales             Husband           50   \n",
              "43 Self-emp-not-inc 292175 Masters      14 Divorced              Exec-managerial   Unmarried         45   \n",
              "\n",
              "                                                                                                          x1_입생  \\\n",
              "39 State-gov        77516  Bachelors    13 Never-married         Adm-clerical      Not-in-family  United-States   \n",
              "50 Self-emp-not-inc 83311  Bachelors    13 Married-civ-spouse    Exec-managerial   Husband        United-States   \n",
              "38 Private          215646 HS-grad      9  Divorced              Handlers-cleaners Not-in-family  United-States   \n",
              "53 Private          234721 11th         7  Married-civ-spouse    Handlers-cleaners Husband        United-States   \n",
              "28 Private          338409 Bachelors    13 Married-civ-spouse    Prof-specialty    Wife                    Cuba   \n",
              "37 Private          284582 Masters      14 Married-civ-spouse    Exec-managerial   Wife           United-States   \n",
              "49 Private          160187 9th          5  Married-spouse-absent Other-service     Not-in-family        Jamaica   \n",
              "52 Self-emp-not-inc 209642 HS-grad      9  Married-civ-spouse    Exec-managerial   Husband        United-States   \n",
              "31 Private          45781  Masters      14 Never-married         Prof-specialty    Not-in-family  United-States   \n",
              "42 Private          159449 Bachelors    13 Married-civ-spouse    Exec-managerial   Husband        United-States   \n",
              "37 Private          280464 Some-college 10 Married-civ-spouse    Exec-managerial   Husband        United-States   \n",
              "30 State-gov        141297 Bachelors    13 Married-civ-spouse    Prof-specialty    Husband                India   \n",
              "23 Private          122272 Bachelors    13 Never-married         Adm-clerical      Own-child      United-States   \n",
              "32 Private          205019 Assoc-acdm   12 Never-married         Sales             Not-in-family  United-States   \n",
              "40 Private          121772 Assoc-voc    11 Married-civ-spouse    Craft-repair      Husband                  NaN   \n",
              "34 Private          245487 7th-8th      4  Married-civ-spouse    Transport-moving  Husband               Mexico   \n",
              "25 Self-emp-not-inc 176756 HS-grad      9  Never-married         Farming-fishing   Own-child      United-States   \n",
              "32 Private          186824 HS-grad      9  Never-married         Machine-op-inspct Unmarried      United-States   \n",
              "38 Private          28887  11th         7  Married-civ-spouse    Sales             Husband        United-States   \n",
              "43 Self-emp-not-inc 292175 Masters      14 Divorced              Exec-managerial   Unmarried      United-States   \n",
              "\n",
              "                                                                                                 x1_페리페라  \n",
              "39 State-gov        77516  Bachelors    13 Never-married         Adm-clerical      Not-in-family   <=50K  \n",
              "50 Self-emp-not-inc 83311  Bachelors    13 Married-civ-spouse    Exec-managerial   Husband         <=50K  \n",
              "38 Private          215646 HS-grad      9  Divorced              Handlers-cleaners Not-in-family   <=50K  \n",
              "53 Private          234721 11th         7  Married-civ-spouse    Handlers-cleaners Husband         <=50K  \n",
              "28 Private          338409 Bachelors    13 Married-civ-spouse    Prof-specialty    Wife            <=50K  \n",
              "37 Private          284582 Masters      14 Married-civ-spouse    Exec-managerial   Wife            <=50K  \n",
              "49 Private          160187 9th          5  Married-spouse-absent Other-service     Not-in-family   <=50K  \n",
              "52 Self-emp-not-inc 209642 HS-grad      9  Married-civ-spouse    Exec-managerial   Husband          >50K  \n",
              "31 Private          45781  Masters      14 Never-married         Prof-specialty    Not-in-family    >50K  \n",
              "42 Private          159449 Bachelors    13 Married-civ-spouse    Exec-managerial   Husband          >50K  \n",
              "37 Private          280464 Some-college 10 Married-civ-spouse    Exec-managerial   Husband          >50K  \n",
              "30 State-gov        141297 Bachelors    13 Married-civ-spouse    Prof-specialty    Husband          >50K  \n",
              "23 Private          122272 Bachelors    13 Never-married         Adm-clerical      Own-child       <=50K  \n",
              "32 Private          205019 Assoc-acdm   12 Never-married         Sales             Not-in-family   <=50K  \n",
              "40 Private          121772 Assoc-voc    11 Married-civ-spouse    Craft-repair      Husband          >50K  \n",
              "34 Private          245487 7th-8th      4  Married-civ-spouse    Transport-moving  Husband         <=50K  \n",
              "25 Self-emp-not-inc 176756 HS-grad      9  Never-married         Farming-fishing   Own-child       <=50K  \n",
              "32 Private          186824 HS-grad      9  Never-married         Machine-op-inspct Unmarried       <=50K  \n",
              "38 Private          28887  11th         7  Married-civ-spouse    Sales             Husband         <=50K  \n",
              "43 Self-emp-not-inc 292175 Masters      14 Divorced              Exec-managerial   Unmarried        >50K  "
            ],
            "text/html": [
              "\n",
              "  <div id=\"df-87589b53-9d09-4f85-89c1-83bcba6c0c99\">\n",
              "    <div class=\"colab-df-container\">\n",
              "      <div>\n",
              "<style scoped>\n",
              "    .dataframe tbody tr th:only-of-type {\n",
              "        vertical-align: middle;\n",
              "    }\n",
              "\n",
              "    .dataframe tbody tr th {\n",
              "        vertical-align: top;\n",
              "    }\n",
              "\n",
              "    .dataframe thead th {\n",
              "        text-align: right;\n",
              "    }\n",
              "</style>\n",
              "<table border=\"1\" class=\"dataframe\">\n",
              "  <thead>\n",
              "    <tr style=\"text-align: right;\">\n",
              "      <th></th>\n",
              "      <th></th>\n",
              "      <th></th>\n",
              "      <th></th>\n",
              "      <th></th>\n",
              "      <th></th>\n",
              "      <th></th>\n",
              "      <th></th>\n",
              "      <th>x0_0</th>\n",
              "      <th>x0_1</th>\n",
              "      <th>x1_맥</th>\n",
              "      <th>x1_메이크업포에버</th>\n",
              "      <th>x1_빅시</th>\n",
              "      <th>x1_입생</th>\n",
              "      <th>x1_페리페라</th>\n",
              "    </tr>\n",
              "  </thead>\n",
              "  <tbody>\n",
              "    <tr>\n",
              "      <th>39</th>\n",
              "      <th>State-gov</th>\n",
              "      <th>77516</th>\n",
              "      <th>Bachelors</th>\n",
              "      <th>13</th>\n",
              "      <th>Never-married</th>\n",
              "      <th>Adm-clerical</th>\n",
              "      <th>Not-in-family</th>\n",
              "      <td>White</td>\n",
              "      <td>Male</td>\n",
              "      <td>2174</td>\n",
              "      <td>0</td>\n",
              "      <td>40</td>\n",
              "      <td>United-States</td>\n",
              "      <td>&lt;=50K</td>\n",
              "    </tr>\n",
              "    <tr>\n",
              "      <th>50</th>\n",
              "      <th>Self-emp-not-inc</th>\n",
              "      <th>83311</th>\n",
              "      <th>Bachelors</th>\n",
              "      <th>13</th>\n",
              "      <th>Married-civ-spouse</th>\n",
              "      <th>Exec-managerial</th>\n",
              "      <th>Husband</th>\n",
              "      <td>White</td>\n",
              "      <td>Male</td>\n",
              "      <td>0</td>\n",
              "      <td>0</td>\n",
              "      <td>13</td>\n",
              "      <td>United-States</td>\n",
              "      <td>&lt;=50K</td>\n",
              "    </tr>\n",
              "    <tr>\n",
              "      <th>38</th>\n",
              "      <th>Private</th>\n",
              "      <th>215646</th>\n",
              "      <th>HS-grad</th>\n",
              "      <th>9</th>\n",
              "      <th>Divorced</th>\n",
              "      <th>Handlers-cleaners</th>\n",
              "      <th>Not-in-family</th>\n",
              "      <td>White</td>\n",
              "      <td>Male</td>\n",
              "      <td>0</td>\n",
              "      <td>0</td>\n",
              "      <td>40</td>\n",
              "      <td>United-States</td>\n",
              "      <td>&lt;=50K</td>\n",
              "    </tr>\n",
              "    <tr>\n",
              "      <th>53</th>\n",
              "      <th>Private</th>\n",
              "      <th>234721</th>\n",
              "      <th>11th</th>\n",
              "      <th>7</th>\n",
              "      <th>Married-civ-spouse</th>\n",
              "      <th>Handlers-cleaners</th>\n",
              "      <th>Husband</th>\n",
              "      <td>Black</td>\n",
              "      <td>Male</td>\n",
              "      <td>0</td>\n",
              "      <td>0</td>\n",
              "      <td>40</td>\n",
              "      <td>United-States</td>\n",
              "      <td>&lt;=50K</td>\n",
              "    </tr>\n",
              "    <tr>\n",
              "      <th>28</th>\n",
              "      <th>Private</th>\n",
              "      <th>338409</th>\n",
              "      <th>Bachelors</th>\n",
              "      <th>13</th>\n",
              "      <th>Married-civ-spouse</th>\n",
              "      <th>Prof-specialty</th>\n",
              "      <th>Wife</th>\n",
              "      <td>Black</td>\n",
              "      <td>Female</td>\n",
              "      <td>0</td>\n",
              "      <td>0</td>\n",
              "      <td>40</td>\n",
              "      <td>Cuba</td>\n",
              "      <td>&lt;=50K</td>\n",
              "    </tr>\n",
              "    <tr>\n",
              "      <th>37</th>\n",
              "      <th>Private</th>\n",
              "      <th>284582</th>\n",
              "      <th>Masters</th>\n",
              "      <th>14</th>\n",
              "      <th>Married-civ-spouse</th>\n",
              "      <th>Exec-managerial</th>\n",
              "      <th>Wife</th>\n",
              "      <td>White</td>\n",
              "      <td>Female</td>\n",
              "      <td>0</td>\n",
              "      <td>0</td>\n",
              "      <td>40</td>\n",
              "      <td>United-States</td>\n",
              "      <td>&lt;=50K</td>\n",
              "    </tr>\n",
              "    <tr>\n",
              "      <th>49</th>\n",
              "      <th>Private</th>\n",
              "      <th>160187</th>\n",
              "      <th>9th</th>\n",
              "      <th>5</th>\n",
              "      <th>Married-spouse-absent</th>\n",
              "      <th>Other-service</th>\n",
              "      <th>Not-in-family</th>\n",
              "      <td>Black</td>\n",
              "      <td>Female</td>\n",
              "      <td>0</td>\n",
              "      <td>0</td>\n",
              "      <td>16</td>\n",
              "      <td>Jamaica</td>\n",
              "      <td>&lt;=50K</td>\n",
              "    </tr>\n",
              "    <tr>\n",
              "      <th>52</th>\n",
              "      <th>Self-emp-not-inc</th>\n",
              "      <th>209642</th>\n",
              "      <th>HS-grad</th>\n",
              "      <th>9</th>\n",
              "      <th>Married-civ-spouse</th>\n",
              "      <th>Exec-managerial</th>\n",
              "      <th>Husband</th>\n",
              "      <td>White</td>\n",
              "      <td>Male</td>\n",
              "      <td>0</td>\n",
              "      <td>0</td>\n",
              "      <td>45</td>\n",
              "      <td>United-States</td>\n",
              "      <td>&gt;50K</td>\n",
              "    </tr>\n",
              "    <tr>\n",
              "      <th>31</th>\n",
              "      <th>Private</th>\n",
              "      <th>45781</th>\n",
              "      <th>Masters</th>\n",
              "      <th>14</th>\n",
              "      <th>Never-married</th>\n",
              "      <th>Prof-specialty</th>\n",
              "      <th>Not-in-family</th>\n",
              "      <td>White</td>\n",
              "      <td>Female</td>\n",
              "      <td>14084</td>\n",
              "      <td>0</td>\n",
              "      <td>50</td>\n",
              "      <td>United-States</td>\n",
              "      <td>&gt;50K</td>\n",
              "    </tr>\n",
              "    <tr>\n",
              "      <th>42</th>\n",
              "      <th>Private</th>\n",
              "      <th>159449</th>\n",
              "      <th>Bachelors</th>\n",
              "      <th>13</th>\n",
              "      <th>Married-civ-spouse</th>\n",
              "      <th>Exec-managerial</th>\n",
              "      <th>Husband</th>\n",
              "      <td>White</td>\n",
              "      <td>Male</td>\n",
              "      <td>5178</td>\n",
              "      <td>0</td>\n",
              "      <td>40</td>\n",
              "      <td>United-States</td>\n",
              "      <td>&gt;50K</td>\n",
              "    </tr>\n",
              "    <tr>\n",
              "      <th>37</th>\n",
              "      <th>Private</th>\n",
              "      <th>280464</th>\n",
              "      <th>Some-college</th>\n",
              "      <th>10</th>\n",
              "      <th>Married-civ-spouse</th>\n",
              "      <th>Exec-managerial</th>\n",
              "      <th>Husband</th>\n",
              "      <td>Black</td>\n",
              "      <td>Male</td>\n",
              "      <td>0</td>\n",
              "      <td>0</td>\n",
              "      <td>80</td>\n",
              "      <td>United-States</td>\n",
              "      <td>&gt;50K</td>\n",
              "    </tr>\n",
              "    <tr>\n",
              "      <th>30</th>\n",
              "      <th>State-gov</th>\n",
              "      <th>141297</th>\n",
              "      <th>Bachelors</th>\n",
              "      <th>13</th>\n",
              "      <th>Married-civ-spouse</th>\n",
              "      <th>Prof-specialty</th>\n",
              "      <th>Husband</th>\n",
              "      <td>Asian-Pac-Islander</td>\n",
              "      <td>Male</td>\n",
              "      <td>0</td>\n",
              "      <td>0</td>\n",
              "      <td>40</td>\n",
              "      <td>India</td>\n",
              "      <td>&gt;50K</td>\n",
              "    </tr>\n",
              "    <tr>\n",
              "      <th>23</th>\n",
              "      <th>Private</th>\n",
              "      <th>122272</th>\n",
              "      <th>Bachelors</th>\n",
              "      <th>13</th>\n",
              "      <th>Never-married</th>\n",
              "      <th>Adm-clerical</th>\n",
              "      <th>Own-child</th>\n",
              "      <td>White</td>\n",
              "      <td>Female</td>\n",
              "      <td>0</td>\n",
              "      <td>0</td>\n",
              "      <td>30</td>\n",
              "      <td>United-States</td>\n",
              "      <td>&lt;=50K</td>\n",
              "    </tr>\n",
              "    <tr>\n",
              "      <th>32</th>\n",
              "      <th>Private</th>\n",
              "      <th>205019</th>\n",
              "      <th>Assoc-acdm</th>\n",
              "      <th>12</th>\n",
              "      <th>Never-married</th>\n",
              "      <th>Sales</th>\n",
              "      <th>Not-in-family</th>\n",
              "      <td>Black</td>\n",
              "      <td>Male</td>\n",
              "      <td>0</td>\n",
              "      <td>0</td>\n",
              "      <td>50</td>\n",
              "      <td>United-States</td>\n",
              "      <td>&lt;=50K</td>\n",
              "    </tr>\n",
              "    <tr>\n",
              "      <th>40</th>\n",
              "      <th>Private</th>\n",
              "      <th>121772</th>\n",
              "      <th>Assoc-voc</th>\n",
              "      <th>11</th>\n",
              "      <th>Married-civ-spouse</th>\n",
              "      <th>Craft-repair</th>\n",
              "      <th>Husband</th>\n",
              "      <td>Asian-Pac-Islander</td>\n",
              "      <td>Male</td>\n",
              "      <td>0</td>\n",
              "      <td>0</td>\n",
              "      <td>40</td>\n",
              "      <td>NaN</td>\n",
              "      <td>&gt;50K</td>\n",
              "    </tr>\n",
              "    <tr>\n",
              "      <th>34</th>\n",
              "      <th>Private</th>\n",
              "      <th>245487</th>\n",
              "      <th>7th-8th</th>\n",
              "      <th>4</th>\n",
              "      <th>Married-civ-spouse</th>\n",
              "      <th>Transport-moving</th>\n",
              "      <th>Husband</th>\n",
              "      <td>Amer-Indian-Eskimo</td>\n",
              "      <td>Male</td>\n",
              "      <td>0</td>\n",
              "      <td>0</td>\n",
              "      <td>45</td>\n",
              "      <td>Mexico</td>\n",
              "      <td>&lt;=50K</td>\n",
              "    </tr>\n",
              "    <tr>\n",
              "      <th>25</th>\n",
              "      <th>Self-emp-not-inc</th>\n",
              "      <th>176756</th>\n",
              "      <th>HS-grad</th>\n",
              "      <th>9</th>\n",
              "      <th>Never-married</th>\n",
              "      <th>Farming-fishing</th>\n",
              "      <th>Own-child</th>\n",
              "      <td>White</td>\n",
              "      <td>Male</td>\n",
              "      <td>0</td>\n",
              "      <td>0</td>\n",
              "      <td>35</td>\n",
              "      <td>United-States</td>\n",
              "      <td>&lt;=50K</td>\n",
              "    </tr>\n",
              "    <tr>\n",
              "      <th>32</th>\n",
              "      <th>Private</th>\n",
              "      <th>186824</th>\n",
              "      <th>HS-grad</th>\n",
              "      <th>9</th>\n",
              "      <th>Never-married</th>\n",
              "      <th>Machine-op-inspct</th>\n",
              "      <th>Unmarried</th>\n",
              "      <td>White</td>\n",
              "      <td>Male</td>\n",
              "      <td>0</td>\n",
              "      <td>0</td>\n",
              "      <td>40</td>\n",
              "      <td>United-States</td>\n",
              "      <td>&lt;=50K</td>\n",
              "    </tr>\n",
              "    <tr>\n",
              "      <th>38</th>\n",
              "      <th>Private</th>\n",
              "      <th>28887</th>\n",
              "      <th>11th</th>\n",
              "      <th>7</th>\n",
              "      <th>Married-civ-spouse</th>\n",
              "      <th>Sales</th>\n",
              "      <th>Husband</th>\n",
              "      <td>White</td>\n",
              "      <td>Male</td>\n",
              "      <td>0</td>\n",
              "      <td>0</td>\n",
              "      <td>50</td>\n",
              "      <td>United-States</td>\n",
              "      <td>&lt;=50K</td>\n",
              "    </tr>\n",
              "    <tr>\n",
              "      <th>43</th>\n",
              "      <th>Self-emp-not-inc</th>\n",
              "      <th>292175</th>\n",
              "      <th>Masters</th>\n",
              "      <th>14</th>\n",
              "      <th>Divorced</th>\n",
              "      <th>Exec-managerial</th>\n",
              "      <th>Unmarried</th>\n",
              "      <td>White</td>\n",
              "      <td>Female</td>\n",
              "      <td>0</td>\n",
              "      <td>0</td>\n",
              "      <td>45</td>\n",
              "      <td>United-States</td>\n",
              "      <td>&gt;50K</td>\n",
              "    </tr>\n",
              "  </tbody>\n",
              "</table>\n",
              "</div>\n",
              "      <button class=\"colab-df-convert\" onclick=\"convertToInteractive('df-87589b53-9d09-4f85-89c1-83bcba6c0c99')\"\n",
              "              title=\"Convert this dataframe to an interactive table.\"\n",
              "              style=\"display:none;\">\n",
              "        \n",
              "  <svg xmlns=\"http://www.w3.org/2000/svg\" height=\"24px\"viewBox=\"0 0 24 24\"\n",
              "       width=\"24px\">\n",
              "    <path d=\"M0 0h24v24H0V0z\" fill=\"none\"/>\n",
              "    <path d=\"M18.56 5.44l.94 2.06.94-2.06 2.06-.94-2.06-.94-.94-2.06-.94 2.06-2.06.94zm-11 1L8.5 8.5l.94-2.06 2.06-.94-2.06-.94L8.5 2.5l-.94 2.06-2.06.94zm10 10l.94 2.06.94-2.06 2.06-.94-2.06-.94-.94-2.06-.94 2.06-2.06.94z\"/><path d=\"M17.41 7.96l-1.37-1.37c-.4-.4-.92-.59-1.43-.59-.52 0-1.04.2-1.43.59L10.3 9.45l-7.72 7.72c-.78.78-.78 2.05 0 2.83L4 21.41c.39.39.9.59 1.41.59.51 0 1.02-.2 1.41-.59l7.78-7.78 2.81-2.81c.8-.78.8-2.07 0-2.86zM5.41 20L4 18.59l7.72-7.72 1.47 1.35L5.41 20z\"/>\n",
              "  </svg>\n",
              "      </button>\n",
              "      \n",
              "  <style>\n",
              "    .colab-df-container {\n",
              "      display:flex;\n",
              "      flex-wrap:wrap;\n",
              "      gap: 12px;\n",
              "    }\n",
              "\n",
              "    .colab-df-convert {\n",
              "      background-color: #E8F0FE;\n",
              "      border: none;\n",
              "      border-radius: 50%;\n",
              "      cursor: pointer;\n",
              "      display: none;\n",
              "      fill: #1967D2;\n",
              "      height: 32px;\n",
              "      padding: 0 0 0 0;\n",
              "      width: 32px;\n",
              "    }\n",
              "\n",
              "    .colab-df-convert:hover {\n",
              "      background-color: #E2EBFA;\n",
              "      box-shadow: 0px 1px 2px rgba(60, 64, 67, 0.3), 0px 1px 3px 1px rgba(60, 64, 67, 0.15);\n",
              "      fill: #174EA6;\n",
              "    }\n",
              "\n",
              "    [theme=dark] .colab-df-convert {\n",
              "      background-color: #3B4455;\n",
              "      fill: #D2E3FC;\n",
              "    }\n",
              "\n",
              "    [theme=dark] .colab-df-convert:hover {\n",
              "      background-color: #434B5C;\n",
              "      box-shadow: 0px 1px 3px 1px rgba(0, 0, 0, 0.15);\n",
              "      filter: drop-shadow(0px 1px 2px rgba(0, 0, 0, 0.3));\n",
              "      fill: #FFFFFF;\n",
              "    }\n",
              "  </style>\n",
              "\n",
              "      <script>\n",
              "        const buttonEl =\n",
              "          document.querySelector('#df-87589b53-9d09-4f85-89c1-83bcba6c0c99 button.colab-df-convert');\n",
              "        buttonEl.style.display =\n",
              "          google.colab.kernel.accessAllowed ? 'block' : 'none';\n",
              "\n",
              "        async function convertToInteractive(key) {\n",
              "          const element = document.querySelector('#df-87589b53-9d09-4f85-89c1-83bcba6c0c99');\n",
              "          const dataTable =\n",
              "            await google.colab.kernel.invokeFunction('convertToInteractive',\n",
              "                                                     [key], {});\n",
              "          if (!dataTable) return;\n",
              "\n",
              "          const docLinkHtml = 'Like what you see? Visit the ' +\n",
              "            '<a target=\"_blank\" href=https://colab.research.google.com/notebooks/data_table.ipynb>data table notebook</a>'\n",
              "            + ' to learn more about interactive tables.';\n",
              "          element.innerHTML = '';\n",
              "          dataTable['output_type'] = 'display_data';\n",
              "          await google.colab.output.renderOutput(dataTable, element);\n",
              "          const docLink = document.createElement('div');\n",
              "          docLink.innerHTML = docLinkHtml;\n",
              "          element.appendChild(docLink);\n",
              "        }\n",
              "      </script>\n",
              "    </div>\n",
              "  </div>\n",
              "  "
            ]
          },
          "metadata": {},
          "execution_count": 153
        }
      ],
      "source": [
        "ab.head(20) "
      ]
    },
    {
      "cell_type": "code",
      "execution_count": 154,
      "metadata": {
        "id": "yhkRqFVHA65N",
        "colab": {
          "base_uri": "https://localhost:8080/"
        },
        "outputId": "265e301e-cfcb-4e88-e655-d35b8a28d0a5"
      },
      "outputs": [
        {
          "output_type": "stream",
          "name": "stdout",
          "text": [
            "<class 'pandas.core.frame.DataFrame'>\n",
            "MultiIndex: 32561 entries, (39, 'State-gov', 77516, 'Bachelors', 13, 'Never-married', 'Adm-clerical', 'Not-in-family') to (52, 'Self-emp-inc', 287927, 'HS-grad', 9, 'Married-civ-spouse', 'Exec-managerial', 'Wife')\n",
            "Data columns (total 7 columns):\n",
            " #   Column      Non-Null Count  Dtype \n",
            "---  ------      --------------  ----- \n",
            " 0   x0_0        32561 non-null  object\n",
            " 1   x0_1        32561 non-null  object\n",
            " 2   x1_맥        32561 non-null  int64 \n",
            " 3   x1_메이크업포에버  32561 non-null  int64 \n",
            " 4   x1_빅시       32561 non-null  int64 \n",
            " 5   x1_입생       31978 non-null  object\n",
            " 6   x1_페리페라     32561 non-null  object\n",
            "dtypes: int64(3), object(4)\n",
            "memory usage: 2.7+ MB\n"
          ]
        }
      ],
      "source": [
        "ab.info()"
      ]
    },
    {
      "cell_type": "code",
      "execution_count": 155,
      "metadata": {
        "id": "K77grxOuJzVQ",
        "colab": {
          "base_uri": "https://localhost:8080/"
        },
        "outputId": "a2bfa6b3-f054-40ae-88e5-9e5e7d41e986"
      },
      "outputs": [
        {
          "output_type": "stream",
          "name": "stdout",
          "text": [
            "<class 'pandas.core.frame.DataFrame'>\n",
            "MultiIndex: 31978 entries, (39, 'State-gov', 77516, 'Bachelors', 13, 'Never-married', 'Adm-clerical', 'Not-in-family') to (52, 'Self-emp-inc', 287927, 'HS-grad', 9, 'Married-civ-spouse', 'Exec-managerial', 'Wife')\n",
            "Data columns (total 7 columns):\n",
            " #   Column      Non-Null Count  Dtype \n",
            "---  ------      --------------  ----- \n",
            " 0   x0_0        31978 non-null  object\n",
            " 1   x0_1        31978 non-null  object\n",
            " 2   x1_맥        31978 non-null  int64 \n",
            " 3   x1_메이크업포에버  31978 non-null  int64 \n",
            " 4   x1_빅시       31978 non-null  int64 \n",
            " 5   x1_입생       31978 non-null  object\n",
            " 6   x1_페리페라     31978 non-null  object\n",
            "dtypes: int64(3), object(4)\n",
            "memory usage: 2.7+ MB\n"
          ]
        }
      ],
      "source": [
        "ab.dropna(inplace =True)\n",
        "ab.info()"
      ]
    },
    {
      "cell_type": "code",
      "execution_count": 156,
      "metadata": {
        "id": "uU3t3OS9JzYG"
      },
      "outputs": [],
      "source": [
        "# standard scaler"
      ]
    },
    {
      "cell_type": "code",
      "execution_count": 157,
      "metadata": {
        "id": "0A-XScAXJzag"
      },
      "outputs": [],
      "source": [
        "from sklearn.datasets import load_iris\n",
        "from sklearn.preprocessing import StandardScaler"
      ]
    },
    {
      "cell_type": "code",
      "execution_count": 158,
      "metadata": {
        "id": "gDP7UjytJzdI"
      },
      "outputs": [],
      "source": [
        "iris= load_iris()\n",
        "X, y = iris['data'], iris['target']"
      ]
    },
    {
      "cell_type": "code",
      "execution_count": 159,
      "metadata": {
        "id": "spoAJ20pJzf1",
        "colab": {
          "base_uri": "https://localhost:8080/",
          "height": 204
        },
        "outputId": "eed46b96-24de-4f1a-f62c-f52f2c6ce8e1"
      },
      "outputs": [
        {
          "output_type": "execute_result",
          "data": {
            "text/plain": [
              "   sepal length (cm)  sepal width (cm)  petal length (cm)  petal width (cm)\n",
              "0                5.1               3.5                1.4               0.2\n",
              "1                4.9               3.0                1.4               0.2\n",
              "2                4.7               3.2                1.3               0.2\n",
              "3                4.6               3.1                1.5               0.2\n",
              "4                5.0               3.6                1.4               0.2"
            ],
            "text/html": [
              "\n",
              "  <div id=\"df-41dd60ad-7882-4848-8b5b-440b3e8d5c59\">\n",
              "    <div class=\"colab-df-container\">\n",
              "      <div>\n",
              "<style scoped>\n",
              "    .dataframe tbody tr th:only-of-type {\n",
              "        vertical-align: middle;\n",
              "    }\n",
              "\n",
              "    .dataframe tbody tr th {\n",
              "        vertical-align: top;\n",
              "    }\n",
              "\n",
              "    .dataframe thead th {\n",
              "        text-align: right;\n",
              "    }\n",
              "</style>\n",
              "<table border=\"1\" class=\"dataframe\">\n",
              "  <thead>\n",
              "    <tr style=\"text-align: right;\">\n",
              "      <th></th>\n",
              "      <th>sepal length (cm)</th>\n",
              "      <th>sepal width (cm)</th>\n",
              "      <th>petal length (cm)</th>\n",
              "      <th>petal width (cm)</th>\n",
              "    </tr>\n",
              "  </thead>\n",
              "  <tbody>\n",
              "    <tr>\n",
              "      <th>0</th>\n",
              "      <td>5.1</td>\n",
              "      <td>3.5</td>\n",
              "      <td>1.4</td>\n",
              "      <td>0.2</td>\n",
              "    </tr>\n",
              "    <tr>\n",
              "      <th>1</th>\n",
              "      <td>4.9</td>\n",
              "      <td>3.0</td>\n",
              "      <td>1.4</td>\n",
              "      <td>0.2</td>\n",
              "    </tr>\n",
              "    <tr>\n",
              "      <th>2</th>\n",
              "      <td>4.7</td>\n",
              "      <td>3.2</td>\n",
              "      <td>1.3</td>\n",
              "      <td>0.2</td>\n",
              "    </tr>\n",
              "    <tr>\n",
              "      <th>3</th>\n",
              "      <td>4.6</td>\n",
              "      <td>3.1</td>\n",
              "      <td>1.5</td>\n",
              "      <td>0.2</td>\n",
              "    </tr>\n",
              "    <tr>\n",
              "      <th>4</th>\n",
              "      <td>5.0</td>\n",
              "      <td>3.6</td>\n",
              "      <td>1.4</td>\n",
              "      <td>0.2</td>\n",
              "    </tr>\n",
              "  </tbody>\n",
              "</table>\n",
              "</div>\n",
              "      <button class=\"colab-df-convert\" onclick=\"convertToInteractive('df-41dd60ad-7882-4848-8b5b-440b3e8d5c59')\"\n",
              "              title=\"Convert this dataframe to an interactive table.\"\n",
              "              style=\"display:none;\">\n",
              "        \n",
              "  <svg xmlns=\"http://www.w3.org/2000/svg\" height=\"24px\"viewBox=\"0 0 24 24\"\n",
              "       width=\"24px\">\n",
              "    <path d=\"M0 0h24v24H0V0z\" fill=\"none\"/>\n",
              "    <path d=\"M18.56 5.44l.94 2.06.94-2.06 2.06-.94-2.06-.94-.94-2.06-.94 2.06-2.06.94zm-11 1L8.5 8.5l.94-2.06 2.06-.94-2.06-.94L8.5 2.5l-.94 2.06-2.06.94zm10 10l.94 2.06.94-2.06 2.06-.94-2.06-.94-.94-2.06-.94 2.06-2.06.94z\"/><path d=\"M17.41 7.96l-1.37-1.37c-.4-.4-.92-.59-1.43-.59-.52 0-1.04.2-1.43.59L10.3 9.45l-7.72 7.72c-.78.78-.78 2.05 0 2.83L4 21.41c.39.39.9.59 1.41.59.51 0 1.02-.2 1.41-.59l7.78-7.78 2.81-2.81c.8-.78.8-2.07 0-2.86zM5.41 20L4 18.59l7.72-7.72 1.47 1.35L5.41 20z\"/>\n",
              "  </svg>\n",
              "      </button>\n",
              "      \n",
              "  <style>\n",
              "    .colab-df-container {\n",
              "      display:flex;\n",
              "      flex-wrap:wrap;\n",
              "      gap: 12px;\n",
              "    }\n",
              "\n",
              "    .colab-df-convert {\n",
              "      background-color: #E8F0FE;\n",
              "      border: none;\n",
              "      border-radius: 50%;\n",
              "      cursor: pointer;\n",
              "      display: none;\n",
              "      fill: #1967D2;\n",
              "      height: 32px;\n",
              "      padding: 0 0 0 0;\n",
              "      width: 32px;\n",
              "    }\n",
              "\n",
              "    .colab-df-convert:hover {\n",
              "      background-color: #E2EBFA;\n",
              "      box-shadow: 0px 1px 2px rgba(60, 64, 67, 0.3), 0px 1px 3px 1px rgba(60, 64, 67, 0.15);\n",
              "      fill: #174EA6;\n",
              "    }\n",
              "\n",
              "    [theme=dark] .colab-df-convert {\n",
              "      background-color: #3B4455;\n",
              "      fill: #D2E3FC;\n",
              "    }\n",
              "\n",
              "    [theme=dark] .colab-df-convert:hover {\n",
              "      background-color: #434B5C;\n",
              "      box-shadow: 0px 1px 3px 1px rgba(0, 0, 0, 0.15);\n",
              "      filter: drop-shadow(0px 1px 2px rgba(0, 0, 0, 0.3));\n",
              "      fill: #FFFFFF;\n",
              "    }\n",
              "  </style>\n",
              "\n",
              "      <script>\n",
              "        const buttonEl =\n",
              "          document.querySelector('#df-41dd60ad-7882-4848-8b5b-440b3e8d5c59 button.colab-df-convert');\n",
              "        buttonEl.style.display =\n",
              "          google.colab.kernel.accessAllowed ? 'block' : 'none';\n",
              "\n",
              "        async function convertToInteractive(key) {\n",
              "          const element = document.querySelector('#df-41dd60ad-7882-4848-8b5b-440b3e8d5c59');\n",
              "          const dataTable =\n",
              "            await google.colab.kernel.invokeFunction('convertToInteractive',\n",
              "                                                     [key], {});\n",
              "          if (!dataTable) return;\n",
              "\n",
              "          const docLinkHtml = 'Like what you see? Visit the ' +\n",
              "            '<a target=\"_blank\" href=https://colab.research.google.com/notebooks/data_table.ipynb>data table notebook</a>'\n",
              "            + ' to learn more about interactive tables.';\n",
              "          element.innerHTML = '';\n",
              "          dataTable['output_type'] = 'display_data';\n",
              "          await google.colab.output.renderOutput(dataTable, element);\n",
              "          const docLink = document.createElement('div');\n",
              "          docLink.innerHTML = docLinkHtml;\n",
              "          element.appendChild(docLink);\n",
              "        }\n",
              "      </script>\n",
              "    </div>\n",
              "  </div>\n",
              "  "
            ]
          },
          "metadata": {},
          "execution_count": 159
        }
      ],
      "source": [
        "iris_df = pd.DataFrame(X, columns= iris['feature_names'])\n",
        "iris_df.head()"
      ]
    },
    {
      "cell_type": "code",
      "execution_count": 160,
      "metadata": {
        "id": "QnBB8X4bJziT",
        "colab": {
          "base_uri": "https://localhost:8080/"
        },
        "outputId": "079b818d-25d6-438b-d1aa-2abfc1502ca2"
      },
      "outputs": [
        {
          "output_type": "stream",
          "name": "stdout",
          "text": [
            "sepal length (cm)    5.843333\n",
            "sepal width (cm)     3.057333\n",
            "petal length (cm)    3.758000\n",
            "petal width (cm)     1.199333\n",
            "dtype: float64\n"
          ]
        }
      ],
      "source": [
        "print(iris_df.mean())"
      ]
    },
    {
      "cell_type": "code",
      "execution_count": 161,
      "metadata": {
        "id": "ZcDOh2J2Jzk8",
        "colab": {
          "base_uri": "https://localhost:8080/"
        },
        "outputId": "7da40d2d-2d7d-4e88-ef4b-4cc8fb7c535b"
      },
      "outputs": [
        {
          "output_type": "stream",
          "name": "stdout",
          "text": [
            "sepal length (cm)    0.828066\n",
            "sepal width (cm)     0.435866\n",
            "petal length (cm)    1.765298\n",
            "petal width (cm)     0.762238\n",
            "dtype: float64\n"
          ]
        }
      ],
      "source": [
        "print(iris_df.std())"
      ]
    },
    {
      "cell_type": "code",
      "execution_count": 162,
      "metadata": {
        "id": "xDzzMG60Jznc"
      },
      "outputs": [],
      "source": [
        "scaler = StandardScaler()\n",
        "scaler.fit(iris_df)\n",
        "iris_scaled = scaler.transform(iris_df)\n",
        "iris_scaled_df = pd.DataFrame(iris_scaled, columns = iris['feature_names'])"
      ]
    },
    {
      "cell_type": "code",
      "execution_count": 163,
      "metadata": {
        "id": "nilyQuWZJzqW",
        "colab": {
          "base_uri": "https://localhost:8080/",
          "height": 204
        },
        "outputId": "833ce633-9369-4cad-9bdf-0b11d849cd40"
      },
      "outputs": [
        {
          "output_type": "execute_result",
          "data": {
            "text/plain": [
              "   sepal length (cm)  sepal width (cm)  petal length (cm)  petal width (cm)\n",
              "0          -0.900681          1.019004          -1.340227         -1.315444\n",
              "1          -1.143017         -0.131979          -1.340227         -1.315444\n",
              "2          -1.385353          0.328414          -1.397064         -1.315444\n",
              "3          -1.506521          0.098217          -1.283389         -1.315444\n",
              "4          -1.021849          1.249201          -1.340227         -1.315444"
            ],
            "text/html": [
              "\n",
              "  <div id=\"df-18980f74-97c8-4b3f-b959-a78e763da0ee\">\n",
              "    <div class=\"colab-df-container\">\n",
              "      <div>\n",
              "<style scoped>\n",
              "    .dataframe tbody tr th:only-of-type {\n",
              "        vertical-align: middle;\n",
              "    }\n",
              "\n",
              "    .dataframe tbody tr th {\n",
              "        vertical-align: top;\n",
              "    }\n",
              "\n",
              "    .dataframe thead th {\n",
              "        text-align: right;\n",
              "    }\n",
              "</style>\n",
              "<table border=\"1\" class=\"dataframe\">\n",
              "  <thead>\n",
              "    <tr style=\"text-align: right;\">\n",
              "      <th></th>\n",
              "      <th>sepal length (cm)</th>\n",
              "      <th>sepal width (cm)</th>\n",
              "      <th>petal length (cm)</th>\n",
              "      <th>petal width (cm)</th>\n",
              "    </tr>\n",
              "  </thead>\n",
              "  <tbody>\n",
              "    <tr>\n",
              "      <th>0</th>\n",
              "      <td>-0.900681</td>\n",
              "      <td>1.019004</td>\n",
              "      <td>-1.340227</td>\n",
              "      <td>-1.315444</td>\n",
              "    </tr>\n",
              "    <tr>\n",
              "      <th>1</th>\n",
              "      <td>-1.143017</td>\n",
              "      <td>-0.131979</td>\n",
              "      <td>-1.340227</td>\n",
              "      <td>-1.315444</td>\n",
              "    </tr>\n",
              "    <tr>\n",
              "      <th>2</th>\n",
              "      <td>-1.385353</td>\n",
              "      <td>0.328414</td>\n",
              "      <td>-1.397064</td>\n",
              "      <td>-1.315444</td>\n",
              "    </tr>\n",
              "    <tr>\n",
              "      <th>3</th>\n",
              "      <td>-1.506521</td>\n",
              "      <td>0.098217</td>\n",
              "      <td>-1.283389</td>\n",
              "      <td>-1.315444</td>\n",
              "    </tr>\n",
              "    <tr>\n",
              "      <th>4</th>\n",
              "      <td>-1.021849</td>\n",
              "      <td>1.249201</td>\n",
              "      <td>-1.340227</td>\n",
              "      <td>-1.315444</td>\n",
              "    </tr>\n",
              "  </tbody>\n",
              "</table>\n",
              "</div>\n",
              "      <button class=\"colab-df-convert\" onclick=\"convertToInteractive('df-18980f74-97c8-4b3f-b959-a78e763da0ee')\"\n",
              "              title=\"Convert this dataframe to an interactive table.\"\n",
              "              style=\"display:none;\">\n",
              "        \n",
              "  <svg xmlns=\"http://www.w3.org/2000/svg\" height=\"24px\"viewBox=\"0 0 24 24\"\n",
              "       width=\"24px\">\n",
              "    <path d=\"M0 0h24v24H0V0z\" fill=\"none\"/>\n",
              "    <path d=\"M18.56 5.44l.94 2.06.94-2.06 2.06-.94-2.06-.94-.94-2.06-.94 2.06-2.06.94zm-11 1L8.5 8.5l.94-2.06 2.06-.94-2.06-.94L8.5 2.5l-.94 2.06-2.06.94zm10 10l.94 2.06.94-2.06 2.06-.94-2.06-.94-.94-2.06-.94 2.06-2.06.94z\"/><path d=\"M17.41 7.96l-1.37-1.37c-.4-.4-.92-.59-1.43-.59-.52 0-1.04.2-1.43.59L10.3 9.45l-7.72 7.72c-.78.78-.78 2.05 0 2.83L4 21.41c.39.39.9.59 1.41.59.51 0 1.02-.2 1.41-.59l7.78-7.78 2.81-2.81c.8-.78.8-2.07 0-2.86zM5.41 20L4 18.59l7.72-7.72 1.47 1.35L5.41 20z\"/>\n",
              "  </svg>\n",
              "      </button>\n",
              "      \n",
              "  <style>\n",
              "    .colab-df-container {\n",
              "      display:flex;\n",
              "      flex-wrap:wrap;\n",
              "      gap: 12px;\n",
              "    }\n",
              "\n",
              "    .colab-df-convert {\n",
              "      background-color: #E8F0FE;\n",
              "      border: none;\n",
              "      border-radius: 50%;\n",
              "      cursor: pointer;\n",
              "      display: none;\n",
              "      fill: #1967D2;\n",
              "      height: 32px;\n",
              "      padding: 0 0 0 0;\n",
              "      width: 32px;\n",
              "    }\n",
              "\n",
              "    .colab-df-convert:hover {\n",
              "      background-color: #E2EBFA;\n",
              "      box-shadow: 0px 1px 2px rgba(60, 64, 67, 0.3), 0px 1px 3px 1px rgba(60, 64, 67, 0.15);\n",
              "      fill: #174EA6;\n",
              "    }\n",
              "\n",
              "    [theme=dark] .colab-df-convert {\n",
              "      background-color: #3B4455;\n",
              "      fill: #D2E3FC;\n",
              "    }\n",
              "\n",
              "    [theme=dark] .colab-df-convert:hover {\n",
              "      background-color: #434B5C;\n",
              "      box-shadow: 0px 1px 3px 1px rgba(0, 0, 0, 0.15);\n",
              "      filter: drop-shadow(0px 1px 2px rgba(0, 0, 0, 0.3));\n",
              "      fill: #FFFFFF;\n",
              "    }\n",
              "  </style>\n",
              "\n",
              "      <script>\n",
              "        const buttonEl =\n",
              "          document.querySelector('#df-18980f74-97c8-4b3f-b959-a78e763da0ee button.colab-df-convert');\n",
              "        buttonEl.style.display =\n",
              "          google.colab.kernel.accessAllowed ? 'block' : 'none';\n",
              "\n",
              "        async function convertToInteractive(key) {\n",
              "          const element = document.querySelector('#df-18980f74-97c8-4b3f-b959-a78e763da0ee');\n",
              "          const dataTable =\n",
              "            await google.colab.kernel.invokeFunction('convertToInteractive',\n",
              "                                                     [key], {});\n",
              "          if (!dataTable) return;\n",
              "\n",
              "          const docLinkHtml = 'Like what you see? Visit the ' +\n",
              "            '<a target=\"_blank\" href=https://colab.research.google.com/notebooks/data_table.ipynb>data table notebook</a>'\n",
              "            + ' to learn more about interactive tables.';\n",
              "          element.innerHTML = '';\n",
              "          dataTable['output_type'] = 'display_data';\n",
              "          await google.colab.output.renderOutput(dataTable, element);\n",
              "          const docLink = document.createElement('div');\n",
              "          docLink.innerHTML = docLinkHtml;\n",
              "          element.appendChild(docLink);\n",
              "        }\n",
              "      </script>\n",
              "    </div>\n",
              "  </div>\n",
              "  "
            ]
          },
          "metadata": {},
          "execution_count": 163
        }
      ],
      "source": [
        "iris_scaled_df.head()"
      ]
    },
    {
      "cell_type": "code",
      "execution_count": 164,
      "metadata": {
        "id": "xIJM_aorA67Z",
        "colab": {
          "base_uri": "https://localhost:8080/"
        },
        "outputId": "8caf954b-4962-4196-802e-4de33b792100"
      },
      "outputs": [
        {
          "output_type": "stream",
          "name": "stdout",
          "text": [
            "sepal length (cm)   -1.690315e-15\n",
            "sepal width (cm)    -1.842970e-15\n",
            "petal length (cm)   -1.698641e-15\n",
            "petal width (cm)    -1.409243e-15\n",
            "dtype: float64\n"
          ]
        }
      ],
      "source": [
        "print(iris_scaled_df.mean())"
      ]
    },
    {
      "cell_type": "code",
      "execution_count": 165,
      "metadata": {
        "id": "DTC-OcAwA6-P",
        "colab": {
          "base_uri": "https://localhost:8080/"
        },
        "outputId": "04942539-f82f-45ab-8267-1b05042c092e"
      },
      "outputs": [
        {
          "output_type": "stream",
          "name": "stdout",
          "text": [
            "sepal length (cm)    1.00335\n",
            "sepal width (cm)     1.00335\n",
            "petal length (cm)    1.00335\n",
            "petal width (cm)     1.00335\n",
            "dtype: float64\n"
          ]
        }
      ],
      "source": [
        "print(iris_scaled_df.std())"
      ]
    },
    {
      "cell_type": "code",
      "execution_count": 166,
      "metadata": {
        "id": "9kaZBgZMPif7",
        "colab": {
          "base_uri": "https://localhost:8080/"
        },
        "outputId": "5bdd4fa3-0e96-4f64-a17f-124722e6393b"
      },
      "outputs": [
        {
          "output_type": "execute_result",
          "data": {
            "text/plain": [
              "array([[0.22222222, 0.625     , 0.06779661, 0.04166667],\n",
              "       [0.16666667, 0.41666667, 0.06779661, 0.04166667],\n",
              "       [0.11111111, 0.5       , 0.05084746, 0.04166667],\n",
              "       [0.08333333, 0.45833333, 0.08474576, 0.04166667],\n",
              "       [0.19444444, 0.66666667, 0.06779661, 0.04166667],\n",
              "       [0.30555556, 0.79166667, 0.11864407, 0.125     ],\n",
              "       [0.08333333, 0.58333333, 0.06779661, 0.08333333],\n",
              "       [0.19444444, 0.58333333, 0.08474576, 0.04166667],\n",
              "       [0.02777778, 0.375     , 0.06779661, 0.04166667],\n",
              "       [0.16666667, 0.45833333, 0.08474576, 0.        ],\n",
              "       [0.30555556, 0.70833333, 0.08474576, 0.04166667],\n",
              "       [0.13888889, 0.58333333, 0.10169492, 0.04166667],\n",
              "       [0.13888889, 0.41666667, 0.06779661, 0.        ],\n",
              "       [0.        , 0.41666667, 0.01694915, 0.        ],\n",
              "       [0.41666667, 0.83333333, 0.03389831, 0.04166667],\n",
              "       [0.38888889, 1.        , 0.08474576, 0.125     ],\n",
              "       [0.30555556, 0.79166667, 0.05084746, 0.125     ],\n",
              "       [0.22222222, 0.625     , 0.06779661, 0.08333333],\n",
              "       [0.38888889, 0.75      , 0.11864407, 0.08333333],\n",
              "       [0.22222222, 0.75      , 0.08474576, 0.08333333],\n",
              "       [0.30555556, 0.58333333, 0.11864407, 0.04166667],\n",
              "       [0.22222222, 0.70833333, 0.08474576, 0.125     ],\n",
              "       [0.08333333, 0.66666667, 0.        , 0.04166667],\n",
              "       [0.22222222, 0.54166667, 0.11864407, 0.16666667],\n",
              "       [0.13888889, 0.58333333, 0.15254237, 0.04166667],\n",
              "       [0.19444444, 0.41666667, 0.10169492, 0.04166667],\n",
              "       [0.19444444, 0.58333333, 0.10169492, 0.125     ],\n",
              "       [0.25      , 0.625     , 0.08474576, 0.04166667],\n",
              "       [0.25      , 0.58333333, 0.06779661, 0.04166667],\n",
              "       [0.11111111, 0.5       , 0.10169492, 0.04166667],\n",
              "       [0.13888889, 0.45833333, 0.10169492, 0.04166667],\n",
              "       [0.30555556, 0.58333333, 0.08474576, 0.125     ],\n",
              "       [0.25      , 0.875     , 0.08474576, 0.        ],\n",
              "       [0.33333333, 0.91666667, 0.06779661, 0.04166667],\n",
              "       [0.16666667, 0.45833333, 0.08474576, 0.04166667],\n",
              "       [0.19444444, 0.5       , 0.03389831, 0.04166667],\n",
              "       [0.33333333, 0.625     , 0.05084746, 0.04166667],\n",
              "       [0.16666667, 0.66666667, 0.06779661, 0.        ],\n",
              "       [0.02777778, 0.41666667, 0.05084746, 0.04166667],\n",
              "       [0.22222222, 0.58333333, 0.08474576, 0.04166667],\n",
              "       [0.19444444, 0.625     , 0.05084746, 0.08333333],\n",
              "       [0.05555556, 0.125     , 0.05084746, 0.08333333],\n",
              "       [0.02777778, 0.5       , 0.05084746, 0.04166667],\n",
              "       [0.19444444, 0.625     , 0.10169492, 0.20833333],\n",
              "       [0.22222222, 0.75      , 0.15254237, 0.125     ],\n",
              "       [0.13888889, 0.41666667, 0.06779661, 0.08333333],\n",
              "       [0.22222222, 0.75      , 0.10169492, 0.04166667],\n",
              "       [0.08333333, 0.5       , 0.06779661, 0.04166667],\n",
              "       [0.27777778, 0.70833333, 0.08474576, 0.04166667],\n",
              "       [0.19444444, 0.54166667, 0.06779661, 0.04166667],\n",
              "       [0.75      , 0.5       , 0.62711864, 0.54166667],\n",
              "       [0.58333333, 0.5       , 0.59322034, 0.58333333],\n",
              "       [0.72222222, 0.45833333, 0.66101695, 0.58333333],\n",
              "       [0.33333333, 0.125     , 0.50847458, 0.5       ],\n",
              "       [0.61111111, 0.33333333, 0.61016949, 0.58333333],\n",
              "       [0.38888889, 0.33333333, 0.59322034, 0.5       ],\n",
              "       [0.55555556, 0.54166667, 0.62711864, 0.625     ],\n",
              "       [0.16666667, 0.16666667, 0.38983051, 0.375     ],\n",
              "       [0.63888889, 0.375     , 0.61016949, 0.5       ],\n",
              "       [0.25      , 0.29166667, 0.49152542, 0.54166667],\n",
              "       [0.19444444, 0.        , 0.42372881, 0.375     ],\n",
              "       [0.44444444, 0.41666667, 0.54237288, 0.58333333],\n",
              "       [0.47222222, 0.08333333, 0.50847458, 0.375     ],\n",
              "       [0.5       , 0.375     , 0.62711864, 0.54166667],\n",
              "       [0.36111111, 0.375     , 0.44067797, 0.5       ],\n",
              "       [0.66666667, 0.45833333, 0.57627119, 0.54166667],\n",
              "       [0.36111111, 0.41666667, 0.59322034, 0.58333333],\n",
              "       [0.41666667, 0.29166667, 0.52542373, 0.375     ],\n",
              "       [0.52777778, 0.08333333, 0.59322034, 0.58333333],\n",
              "       [0.36111111, 0.20833333, 0.49152542, 0.41666667],\n",
              "       [0.44444444, 0.5       , 0.6440678 , 0.70833333],\n",
              "       [0.5       , 0.33333333, 0.50847458, 0.5       ],\n",
              "       [0.55555556, 0.20833333, 0.66101695, 0.58333333],\n",
              "       [0.5       , 0.33333333, 0.62711864, 0.45833333],\n",
              "       [0.58333333, 0.375     , 0.55932203, 0.5       ],\n",
              "       [0.63888889, 0.41666667, 0.57627119, 0.54166667],\n",
              "       [0.69444444, 0.33333333, 0.6440678 , 0.54166667],\n",
              "       [0.66666667, 0.41666667, 0.6779661 , 0.66666667],\n",
              "       [0.47222222, 0.375     , 0.59322034, 0.58333333],\n",
              "       [0.38888889, 0.25      , 0.42372881, 0.375     ],\n",
              "       [0.33333333, 0.16666667, 0.47457627, 0.41666667],\n",
              "       [0.33333333, 0.16666667, 0.45762712, 0.375     ],\n",
              "       [0.41666667, 0.29166667, 0.49152542, 0.45833333],\n",
              "       [0.47222222, 0.29166667, 0.69491525, 0.625     ],\n",
              "       [0.30555556, 0.41666667, 0.59322034, 0.58333333],\n",
              "       [0.47222222, 0.58333333, 0.59322034, 0.625     ],\n",
              "       [0.66666667, 0.45833333, 0.62711864, 0.58333333],\n",
              "       [0.55555556, 0.125     , 0.57627119, 0.5       ],\n",
              "       [0.36111111, 0.41666667, 0.52542373, 0.5       ],\n",
              "       [0.33333333, 0.20833333, 0.50847458, 0.5       ],\n",
              "       [0.33333333, 0.25      , 0.57627119, 0.45833333],\n",
              "       [0.5       , 0.41666667, 0.61016949, 0.54166667],\n",
              "       [0.41666667, 0.25      , 0.50847458, 0.45833333],\n",
              "       [0.19444444, 0.125     , 0.38983051, 0.375     ],\n",
              "       [0.36111111, 0.29166667, 0.54237288, 0.5       ],\n",
              "       [0.38888889, 0.41666667, 0.54237288, 0.45833333],\n",
              "       [0.38888889, 0.375     , 0.54237288, 0.5       ],\n",
              "       [0.52777778, 0.375     , 0.55932203, 0.5       ],\n",
              "       [0.22222222, 0.20833333, 0.33898305, 0.41666667],\n",
              "       [0.38888889, 0.33333333, 0.52542373, 0.5       ],\n",
              "       [0.55555556, 0.54166667, 0.84745763, 1.        ],\n",
              "       [0.41666667, 0.29166667, 0.69491525, 0.75      ],\n",
              "       [0.77777778, 0.41666667, 0.83050847, 0.83333333],\n",
              "       [0.55555556, 0.375     , 0.77966102, 0.70833333],\n",
              "       [0.61111111, 0.41666667, 0.81355932, 0.875     ],\n",
              "       [0.91666667, 0.41666667, 0.94915254, 0.83333333],\n",
              "       [0.16666667, 0.20833333, 0.59322034, 0.66666667],\n",
              "       [0.83333333, 0.375     , 0.89830508, 0.70833333],\n",
              "       [0.66666667, 0.20833333, 0.81355932, 0.70833333],\n",
              "       [0.80555556, 0.66666667, 0.86440678, 1.        ],\n",
              "       [0.61111111, 0.5       , 0.69491525, 0.79166667],\n",
              "       [0.58333333, 0.29166667, 0.72881356, 0.75      ],\n",
              "       [0.69444444, 0.41666667, 0.76271186, 0.83333333],\n",
              "       [0.38888889, 0.20833333, 0.6779661 , 0.79166667],\n",
              "       [0.41666667, 0.33333333, 0.69491525, 0.95833333],\n",
              "       [0.58333333, 0.5       , 0.72881356, 0.91666667],\n",
              "       [0.61111111, 0.41666667, 0.76271186, 0.70833333],\n",
              "       [0.94444444, 0.75      , 0.96610169, 0.875     ],\n",
              "       [0.94444444, 0.25      , 1.        , 0.91666667],\n",
              "       [0.47222222, 0.08333333, 0.6779661 , 0.58333333],\n",
              "       [0.72222222, 0.5       , 0.79661017, 0.91666667],\n",
              "       [0.36111111, 0.33333333, 0.66101695, 0.79166667],\n",
              "       [0.94444444, 0.33333333, 0.96610169, 0.79166667],\n",
              "       [0.55555556, 0.29166667, 0.66101695, 0.70833333],\n",
              "       [0.66666667, 0.54166667, 0.79661017, 0.83333333],\n",
              "       [0.80555556, 0.5       , 0.84745763, 0.70833333],\n",
              "       [0.52777778, 0.33333333, 0.6440678 , 0.70833333],\n",
              "       [0.5       , 0.41666667, 0.66101695, 0.70833333],\n",
              "       [0.58333333, 0.33333333, 0.77966102, 0.83333333],\n",
              "       [0.80555556, 0.41666667, 0.81355932, 0.625     ],\n",
              "       [0.86111111, 0.33333333, 0.86440678, 0.75      ],\n",
              "       [1.        , 0.75      , 0.91525424, 0.79166667],\n",
              "       [0.58333333, 0.33333333, 0.77966102, 0.875     ],\n",
              "       [0.55555556, 0.33333333, 0.69491525, 0.58333333],\n",
              "       [0.5       , 0.25      , 0.77966102, 0.54166667],\n",
              "       [0.94444444, 0.41666667, 0.86440678, 0.91666667],\n",
              "       [0.55555556, 0.58333333, 0.77966102, 0.95833333],\n",
              "       [0.58333333, 0.45833333, 0.76271186, 0.70833333],\n",
              "       [0.47222222, 0.41666667, 0.6440678 , 0.70833333],\n",
              "       [0.72222222, 0.45833333, 0.74576271, 0.83333333],\n",
              "       [0.66666667, 0.45833333, 0.77966102, 0.95833333],\n",
              "       [0.72222222, 0.45833333, 0.69491525, 0.91666667],\n",
              "       [0.41666667, 0.29166667, 0.69491525, 0.75      ],\n",
              "       [0.69444444, 0.5       , 0.83050847, 0.91666667],\n",
              "       [0.66666667, 0.54166667, 0.79661017, 1.        ],\n",
              "       [0.66666667, 0.41666667, 0.71186441, 0.91666667],\n",
              "       [0.55555556, 0.20833333, 0.6779661 , 0.75      ],\n",
              "       [0.61111111, 0.41666667, 0.71186441, 0.79166667],\n",
              "       [0.52777778, 0.58333333, 0.74576271, 0.91666667],\n",
              "       [0.44444444, 0.41666667, 0.69491525, 0.70833333]])"
            ]
          },
          "metadata": {},
          "execution_count": 166
        }
      ],
      "source": [
        "from sklearn.preprocessing import MinMaxScaler\n",
        "\n",
        "mm_scaler = MinMaxScaler()\n",
        "mm_scaler.fit(iris_df)\n",
        "iris_mm_scaled = mm_scaler.transform(iris_df)\n",
        "iris_mm_scaled "
      ]
    },
    {
      "cell_type": "code",
      "execution_count": 167,
      "metadata": {
        "id": "BHyZUqYKPiic",
        "colab": {
          "base_uri": "https://localhost:8080/",
          "height": 419
        },
        "outputId": "f11e4a5f-b052-4f67-93be-0b6043aecf08"
      },
      "outputs": [
        {
          "output_type": "execute_result",
          "data": {
            "text/plain": [
              "     sepal length (cm)  sepal width (cm)  petal length (cm)  petal width (cm)\n",
              "0             0.222222          0.625000           0.067797          0.041667\n",
              "1             0.166667          0.416667           0.067797          0.041667\n",
              "2             0.111111          0.500000           0.050847          0.041667\n",
              "3             0.083333          0.458333           0.084746          0.041667\n",
              "4             0.194444          0.666667           0.067797          0.041667\n",
              "..                 ...               ...                ...               ...\n",
              "145           0.666667          0.416667           0.711864          0.916667\n",
              "146           0.555556          0.208333           0.677966          0.750000\n",
              "147           0.611111          0.416667           0.711864          0.791667\n",
              "148           0.527778          0.583333           0.745763          0.916667\n",
              "149           0.444444          0.416667           0.694915          0.708333\n",
              "\n",
              "[150 rows x 4 columns]"
            ],
            "text/html": [
              "\n",
              "  <div id=\"df-560b006d-3000-4899-a28e-25a2d7c162fc\">\n",
              "    <div class=\"colab-df-container\">\n",
              "      <div>\n",
              "<style scoped>\n",
              "    .dataframe tbody tr th:only-of-type {\n",
              "        vertical-align: middle;\n",
              "    }\n",
              "\n",
              "    .dataframe tbody tr th {\n",
              "        vertical-align: top;\n",
              "    }\n",
              "\n",
              "    .dataframe thead th {\n",
              "        text-align: right;\n",
              "    }\n",
              "</style>\n",
              "<table border=\"1\" class=\"dataframe\">\n",
              "  <thead>\n",
              "    <tr style=\"text-align: right;\">\n",
              "      <th></th>\n",
              "      <th>sepal length (cm)</th>\n",
              "      <th>sepal width (cm)</th>\n",
              "      <th>petal length (cm)</th>\n",
              "      <th>petal width (cm)</th>\n",
              "    </tr>\n",
              "  </thead>\n",
              "  <tbody>\n",
              "    <tr>\n",
              "      <th>0</th>\n",
              "      <td>0.222222</td>\n",
              "      <td>0.625000</td>\n",
              "      <td>0.067797</td>\n",
              "      <td>0.041667</td>\n",
              "    </tr>\n",
              "    <tr>\n",
              "      <th>1</th>\n",
              "      <td>0.166667</td>\n",
              "      <td>0.416667</td>\n",
              "      <td>0.067797</td>\n",
              "      <td>0.041667</td>\n",
              "    </tr>\n",
              "    <tr>\n",
              "      <th>2</th>\n",
              "      <td>0.111111</td>\n",
              "      <td>0.500000</td>\n",
              "      <td>0.050847</td>\n",
              "      <td>0.041667</td>\n",
              "    </tr>\n",
              "    <tr>\n",
              "      <th>3</th>\n",
              "      <td>0.083333</td>\n",
              "      <td>0.458333</td>\n",
              "      <td>0.084746</td>\n",
              "      <td>0.041667</td>\n",
              "    </tr>\n",
              "    <tr>\n",
              "      <th>4</th>\n",
              "      <td>0.194444</td>\n",
              "      <td>0.666667</td>\n",
              "      <td>0.067797</td>\n",
              "      <td>0.041667</td>\n",
              "    </tr>\n",
              "    <tr>\n",
              "      <th>...</th>\n",
              "      <td>...</td>\n",
              "      <td>...</td>\n",
              "      <td>...</td>\n",
              "      <td>...</td>\n",
              "    </tr>\n",
              "    <tr>\n",
              "      <th>145</th>\n",
              "      <td>0.666667</td>\n",
              "      <td>0.416667</td>\n",
              "      <td>0.711864</td>\n",
              "      <td>0.916667</td>\n",
              "    </tr>\n",
              "    <tr>\n",
              "      <th>146</th>\n",
              "      <td>0.555556</td>\n",
              "      <td>0.208333</td>\n",
              "      <td>0.677966</td>\n",
              "      <td>0.750000</td>\n",
              "    </tr>\n",
              "    <tr>\n",
              "      <th>147</th>\n",
              "      <td>0.611111</td>\n",
              "      <td>0.416667</td>\n",
              "      <td>0.711864</td>\n",
              "      <td>0.791667</td>\n",
              "    </tr>\n",
              "    <tr>\n",
              "      <th>148</th>\n",
              "      <td>0.527778</td>\n",
              "      <td>0.583333</td>\n",
              "      <td>0.745763</td>\n",
              "      <td>0.916667</td>\n",
              "    </tr>\n",
              "    <tr>\n",
              "      <th>149</th>\n",
              "      <td>0.444444</td>\n",
              "      <td>0.416667</td>\n",
              "      <td>0.694915</td>\n",
              "      <td>0.708333</td>\n",
              "    </tr>\n",
              "  </tbody>\n",
              "</table>\n",
              "<p>150 rows × 4 columns</p>\n",
              "</div>\n",
              "      <button class=\"colab-df-convert\" onclick=\"convertToInteractive('df-560b006d-3000-4899-a28e-25a2d7c162fc')\"\n",
              "              title=\"Convert this dataframe to an interactive table.\"\n",
              "              style=\"display:none;\">\n",
              "        \n",
              "  <svg xmlns=\"http://www.w3.org/2000/svg\" height=\"24px\"viewBox=\"0 0 24 24\"\n",
              "       width=\"24px\">\n",
              "    <path d=\"M0 0h24v24H0V0z\" fill=\"none\"/>\n",
              "    <path d=\"M18.56 5.44l.94 2.06.94-2.06 2.06-.94-2.06-.94-.94-2.06-.94 2.06-2.06.94zm-11 1L8.5 8.5l.94-2.06 2.06-.94-2.06-.94L8.5 2.5l-.94 2.06-2.06.94zm10 10l.94 2.06.94-2.06 2.06-.94-2.06-.94-.94-2.06-.94 2.06-2.06.94z\"/><path d=\"M17.41 7.96l-1.37-1.37c-.4-.4-.92-.59-1.43-.59-.52 0-1.04.2-1.43.59L10.3 9.45l-7.72 7.72c-.78.78-.78 2.05 0 2.83L4 21.41c.39.39.9.59 1.41.59.51 0 1.02-.2 1.41-.59l7.78-7.78 2.81-2.81c.8-.78.8-2.07 0-2.86zM5.41 20L4 18.59l7.72-7.72 1.47 1.35L5.41 20z\"/>\n",
              "  </svg>\n",
              "      </button>\n",
              "      \n",
              "  <style>\n",
              "    .colab-df-container {\n",
              "      display:flex;\n",
              "      flex-wrap:wrap;\n",
              "      gap: 12px;\n",
              "    }\n",
              "\n",
              "    .colab-df-convert {\n",
              "      background-color: #E8F0FE;\n",
              "      border: none;\n",
              "      border-radius: 50%;\n",
              "      cursor: pointer;\n",
              "      display: none;\n",
              "      fill: #1967D2;\n",
              "      height: 32px;\n",
              "      padding: 0 0 0 0;\n",
              "      width: 32px;\n",
              "    }\n",
              "\n",
              "    .colab-df-convert:hover {\n",
              "      background-color: #E2EBFA;\n",
              "      box-shadow: 0px 1px 2px rgba(60, 64, 67, 0.3), 0px 1px 3px 1px rgba(60, 64, 67, 0.15);\n",
              "      fill: #174EA6;\n",
              "    }\n",
              "\n",
              "    [theme=dark] .colab-df-convert {\n",
              "      background-color: #3B4455;\n",
              "      fill: #D2E3FC;\n",
              "    }\n",
              "\n",
              "    [theme=dark] .colab-df-convert:hover {\n",
              "      background-color: #434B5C;\n",
              "      box-shadow: 0px 1px 3px 1px rgba(0, 0, 0, 0.15);\n",
              "      filter: drop-shadow(0px 1px 2px rgba(0, 0, 0, 0.3));\n",
              "      fill: #FFFFFF;\n",
              "    }\n",
              "  </style>\n",
              "\n",
              "      <script>\n",
              "        const buttonEl =\n",
              "          document.querySelector('#df-560b006d-3000-4899-a28e-25a2d7c162fc button.colab-df-convert');\n",
              "        buttonEl.style.display =\n",
              "          google.colab.kernel.accessAllowed ? 'block' : 'none';\n",
              "\n",
              "        async function convertToInteractive(key) {\n",
              "          const element = document.querySelector('#df-560b006d-3000-4899-a28e-25a2d7c162fc');\n",
              "          const dataTable =\n",
              "            await google.colab.kernel.invokeFunction('convertToInteractive',\n",
              "                                                     [key], {});\n",
              "          if (!dataTable) return;\n",
              "\n",
              "          const docLinkHtml = 'Like what you see? Visit the ' +\n",
              "            '<a target=\"_blank\" href=https://colab.research.google.com/notebooks/data_table.ipynb>data table notebook</a>'\n",
              "            + ' to learn more about interactive tables.';\n",
              "          element.innerHTML = '';\n",
              "          dataTable['output_type'] = 'display_data';\n",
              "          await google.colab.output.renderOutput(dataTable, element);\n",
              "          const docLink = document.createElement('div');\n",
              "          docLink.innerHTML = docLinkHtml;\n",
              "          element.appendChild(docLink);\n",
              "        }\n",
              "      </script>\n",
              "    </div>\n",
              "  </div>\n",
              "  "
            ]
          },
          "metadata": {},
          "execution_count": 167
        }
      ],
      "source": [
        "iris_mm_scaled_df = pd.DataFrame(iris_mm_scaled, columns = iris['feature_names'])\n",
        "iris_mm_scaled_df"
      ]
    },
    {
      "cell_type": "code",
      "execution_count": 168,
      "metadata": {
        "id": "Zcy7E-HhPime",
        "colab": {
          "base_uri": "https://localhost:8080/",
          "height": 204
        },
        "outputId": "9ad25a16-c37b-4d7c-b7d8-ca49a8d63a50"
      },
      "outputs": [
        {
          "output_type": "execute_result",
          "data": {
            "text/plain": [
              "   sepal length (cm)  sepal width (cm)  petal length (cm)  petal width (cm)\n",
              "0           0.222222          0.625000           0.067797          0.041667\n",
              "1           0.166667          0.416667           0.067797          0.041667\n",
              "2           0.111111          0.500000           0.050847          0.041667\n",
              "3           0.083333          0.458333           0.084746          0.041667\n",
              "4           0.194444          0.666667           0.067797          0.041667"
            ],
            "text/html": [
              "\n",
              "  <div id=\"df-7ff80ab0-fe7f-4950-88d6-f754068fc68a\">\n",
              "    <div class=\"colab-df-container\">\n",
              "      <div>\n",
              "<style scoped>\n",
              "    .dataframe tbody tr th:only-of-type {\n",
              "        vertical-align: middle;\n",
              "    }\n",
              "\n",
              "    .dataframe tbody tr th {\n",
              "        vertical-align: top;\n",
              "    }\n",
              "\n",
              "    .dataframe thead th {\n",
              "        text-align: right;\n",
              "    }\n",
              "</style>\n",
              "<table border=\"1\" class=\"dataframe\">\n",
              "  <thead>\n",
              "    <tr style=\"text-align: right;\">\n",
              "      <th></th>\n",
              "      <th>sepal length (cm)</th>\n",
              "      <th>sepal width (cm)</th>\n",
              "      <th>petal length (cm)</th>\n",
              "      <th>petal width (cm)</th>\n",
              "    </tr>\n",
              "  </thead>\n",
              "  <tbody>\n",
              "    <tr>\n",
              "      <th>0</th>\n",
              "      <td>0.222222</td>\n",
              "      <td>0.625000</td>\n",
              "      <td>0.067797</td>\n",
              "      <td>0.041667</td>\n",
              "    </tr>\n",
              "    <tr>\n",
              "      <th>1</th>\n",
              "      <td>0.166667</td>\n",
              "      <td>0.416667</td>\n",
              "      <td>0.067797</td>\n",
              "      <td>0.041667</td>\n",
              "    </tr>\n",
              "    <tr>\n",
              "      <th>2</th>\n",
              "      <td>0.111111</td>\n",
              "      <td>0.500000</td>\n",
              "      <td>0.050847</td>\n",
              "      <td>0.041667</td>\n",
              "    </tr>\n",
              "    <tr>\n",
              "      <th>3</th>\n",
              "      <td>0.083333</td>\n",
              "      <td>0.458333</td>\n",
              "      <td>0.084746</td>\n",
              "      <td>0.041667</td>\n",
              "    </tr>\n",
              "    <tr>\n",
              "      <th>4</th>\n",
              "      <td>0.194444</td>\n",
              "      <td>0.666667</td>\n",
              "      <td>0.067797</td>\n",
              "      <td>0.041667</td>\n",
              "    </tr>\n",
              "  </tbody>\n",
              "</table>\n",
              "</div>\n",
              "      <button class=\"colab-df-convert\" onclick=\"convertToInteractive('df-7ff80ab0-fe7f-4950-88d6-f754068fc68a')\"\n",
              "              title=\"Convert this dataframe to an interactive table.\"\n",
              "              style=\"display:none;\">\n",
              "        \n",
              "  <svg xmlns=\"http://www.w3.org/2000/svg\" height=\"24px\"viewBox=\"0 0 24 24\"\n",
              "       width=\"24px\">\n",
              "    <path d=\"M0 0h24v24H0V0z\" fill=\"none\"/>\n",
              "    <path d=\"M18.56 5.44l.94 2.06.94-2.06 2.06-.94-2.06-.94-.94-2.06-.94 2.06-2.06.94zm-11 1L8.5 8.5l.94-2.06 2.06-.94-2.06-.94L8.5 2.5l-.94 2.06-2.06.94zm10 10l.94 2.06.94-2.06 2.06-.94-2.06-.94-.94-2.06-.94 2.06-2.06.94z\"/><path d=\"M17.41 7.96l-1.37-1.37c-.4-.4-.92-.59-1.43-.59-.52 0-1.04.2-1.43.59L10.3 9.45l-7.72 7.72c-.78.78-.78 2.05 0 2.83L4 21.41c.39.39.9.59 1.41.59.51 0 1.02-.2 1.41-.59l7.78-7.78 2.81-2.81c.8-.78.8-2.07 0-2.86zM5.41 20L4 18.59l7.72-7.72 1.47 1.35L5.41 20z\"/>\n",
              "  </svg>\n",
              "      </button>\n",
              "      \n",
              "  <style>\n",
              "    .colab-df-container {\n",
              "      display:flex;\n",
              "      flex-wrap:wrap;\n",
              "      gap: 12px;\n",
              "    }\n",
              "\n",
              "    .colab-df-convert {\n",
              "      background-color: #E8F0FE;\n",
              "      border: none;\n",
              "      border-radius: 50%;\n",
              "      cursor: pointer;\n",
              "      display: none;\n",
              "      fill: #1967D2;\n",
              "      height: 32px;\n",
              "      padding: 0 0 0 0;\n",
              "      width: 32px;\n",
              "    }\n",
              "\n",
              "    .colab-df-convert:hover {\n",
              "      background-color: #E2EBFA;\n",
              "      box-shadow: 0px 1px 2px rgba(60, 64, 67, 0.3), 0px 1px 3px 1px rgba(60, 64, 67, 0.15);\n",
              "      fill: #174EA6;\n",
              "    }\n",
              "\n",
              "    [theme=dark] .colab-df-convert {\n",
              "      background-color: #3B4455;\n",
              "      fill: #D2E3FC;\n",
              "    }\n",
              "\n",
              "    [theme=dark] .colab-df-convert:hover {\n",
              "      background-color: #434B5C;\n",
              "      box-shadow: 0px 1px 3px 1px rgba(0, 0, 0, 0.15);\n",
              "      filter: drop-shadow(0px 1px 2px rgba(0, 0, 0, 0.3));\n",
              "      fill: #FFFFFF;\n",
              "    }\n",
              "  </style>\n",
              "\n",
              "      <script>\n",
              "        const buttonEl =\n",
              "          document.querySelector('#df-7ff80ab0-fe7f-4950-88d6-f754068fc68a button.colab-df-convert');\n",
              "        buttonEl.style.display =\n",
              "          google.colab.kernel.accessAllowed ? 'block' : 'none';\n",
              "\n",
              "        async function convertToInteractive(key) {\n",
              "          const element = document.querySelector('#df-7ff80ab0-fe7f-4950-88d6-f754068fc68a');\n",
              "          const dataTable =\n",
              "            await google.colab.kernel.invokeFunction('convertToInteractive',\n",
              "                                                     [key], {});\n",
              "          if (!dataTable) return;\n",
              "\n",
              "          const docLinkHtml = 'Like what you see? Visit the ' +\n",
              "            '<a target=\"_blank\" href=https://colab.research.google.com/notebooks/data_table.ipynb>data table notebook</a>'\n",
              "            + ' to learn more about interactive tables.';\n",
              "          element.innerHTML = '';\n",
              "          dataTable['output_type'] = 'display_data';\n",
              "          await google.colab.output.renderOutput(dataTable, element);\n",
              "          const docLink = document.createElement('div');\n",
              "          docLink.innerHTML = docLinkHtml;\n",
              "          element.appendChild(docLink);\n",
              "        }\n",
              "      </script>\n",
              "    </div>\n",
              "  </div>\n",
              "  "
            ]
          },
          "metadata": {},
          "execution_count": 168
        }
      ],
      "source": [
        "iris_mm_scaled_df.head()"
      ]
    },
    {
      "cell_type": "code",
      "execution_count": 169,
      "metadata": {
        "id": "eSTf8B94PipO",
        "colab": {
          "base_uri": "https://localhost:8080/"
        },
        "outputId": "97ab7913-45aa-4e40-c08d-5ed3d121cfac"
      },
      "outputs": [
        {
          "output_type": "stream",
          "name": "stdout",
          "text": [
            "sepal length (cm)    4.3\n",
            "sepal width (cm)     2.0\n",
            "petal length (cm)    1.0\n",
            "petal width (cm)     0.1\n",
            "dtype: float64\n",
            "sepal length (cm)    0.0\n",
            "sepal width (cm)     0.0\n",
            "petal length (cm)    0.0\n",
            "petal width (cm)     0.0\n",
            "dtype: float64\n",
            "sepal length (cm)    7.9\n",
            "sepal width (cm)     4.4\n",
            "petal length (cm)    6.9\n",
            "petal width (cm)     2.5\n",
            "dtype: float64\n",
            "sepal length (cm)    1.0\n",
            "sepal width (cm)     1.0\n",
            "petal length (cm)    1.0\n",
            "petal width (cm)     1.0\n",
            "dtype: float64\n"
          ]
        }
      ],
      "source": [
        "print(iris_df.min())\n",
        "print(iris_mm_scaled_df.min())\n",
        "print(iris_df.max())\n",
        "print(iris_mm_scaled_df.max())"
      ]
    },
    {
      "cell_type": "code",
      "execution_count": 170,
      "metadata": {
        "id": "fezRVSBLPir3"
      },
      "outputs": [],
      "source": [
        "# 02/13/2022"
      ]
    },
    {
      "cell_type": "code",
      "execution_count": 171,
      "metadata": {
        "id": "sgjqswRlPiu3"
      },
      "outputs": [],
      "source": [
        "from sklearn.datasets import load_breast_cancer\n",
        "from sklearn.model_selection import train_test_split\n",
        "from sklearn.preprocessing import StandardScaler, MinMaxScaler\n",
        "from sklearn.svm import SVC\n"
      ]
    },
    {
      "cell_type": "code",
      "execution_count": 172,
      "metadata": {
        "id": "gwmVBntFPixe",
        "colab": {
          "base_uri": "https://localhost:8080/"
        },
        "outputId": "149a9abd-3c44-4438-eb7c-1b9ddfa7cb57"
      },
      "outputs": [
        {
          "output_type": "execute_result",
          "data": {
            "text/plain": [
              "array(['mean radius', 'mean texture', 'mean perimeter', 'mean area',\n",
              "       'mean smoothness', 'mean compactness', 'mean concavity',\n",
              "       'mean concave points', 'mean symmetry', 'mean fractal dimension',\n",
              "       'radius error', 'texture error', 'perimeter error', 'area error',\n",
              "       'smoothness error', 'compactness error', 'concavity error',\n",
              "       'concave points error', 'symmetry error',\n",
              "       'fractal dimension error', 'worst radius', 'worst texture',\n",
              "       'worst perimeter', 'worst area', 'worst smoothness',\n",
              "       'worst compactness', 'worst concavity', 'worst concave points',\n",
              "       'worst symmetry', 'worst fractal dimension'], dtype='<U23')"
            ]
          },
          "metadata": {},
          "execution_count": 172
        }
      ],
      "source": [
        "cancer = load_breast_cancer()\n",
        "cancer['feature_names'] "
      ]
    },
    {
      "cell_type": "code",
      "execution_count": 173,
      "metadata": {
        "id": "9PAys8-hPi0d",
        "colab": {
          "base_uri": "https://localhost:8080/"
        },
        "outputId": "0c9c9e84-2d9b-4de3-e659-f01d7e3072e3"
      },
      "outputs": [
        {
          "output_type": "execute_result",
          "data": {
            "text/plain": [
              "array(['malignant', 'benign'], dtype='<U9')"
            ]
          },
          "metadata": {},
          "execution_count": 173
        }
      ],
      "source": [
        "cancer['target_names']"
      ]
    },
    {
      "cell_type": "code",
      "execution_count": 174,
      "metadata": {
        "id": "aKBIVnI-Vuv0",
        "colab": {
          "base_uri": "https://localhost:8080/"
        },
        "outputId": "3ef5974f-8bf8-40dc-cd1b-4bc3c7d5c3ce"
      },
      "outputs": [
        {
          "output_type": "execute_result",
          "data": {
            "text/plain": [
              "(569, 30)"
            ]
          },
          "metadata": {},
          "execution_count": 174
        }
      ],
      "source": [
        "cancer['data'].shape"
      ]
    },
    {
      "cell_type": "code",
      "execution_count": 175,
      "metadata": {
        "id": "t1xDYNYHVuyd"
      },
      "outputs": [],
      "source": [
        "X, y = cancer['data'], cancer['target']"
      ]
    },
    {
      "cell_type": "code",
      "execution_count": 176,
      "metadata": {
        "id": "N5rHS6YpVu1f"
      },
      "outputs": [],
      "source": [
        "X_train, X_test, y_train, y_test = train_test_split(X, y, stratify = y, random_state = 1)\n",
        "\n",
        "s_scaler = StandardScaler()\n",
        "X_train_scaled = s_scaler.fit_transform(X_train)\n",
        "X_test_scaled = s_scaler.transform(X_test)"
      ]
    },
    {
      "cell_type": "code",
      "execution_count": 177,
      "metadata": {
        "id": "OakgDSbhVu31",
        "colab": {
          "base_uri": "https://localhost:8080/"
        },
        "outputId": "61eb17e8-af06-48f9-deaf-554b07af5564"
      },
      "outputs": [
        {
          "output_type": "execute_result",
          "data": {
            "text/plain": [
              "array([1.40539812e+01, 1.93731690e+01, 9.15216901e+01, 6.47612207e+02,\n",
              "       9.67443427e-02, 1.05091056e-01, 8.95395134e-02, 4.89625352e-02,\n",
              "       1.81680516e-01, 6.29803286e-02, 4.01078873e-01, 1.20948967e+00,\n",
              "       2.84422277e+00, 3.99938357e+01, 6.96325822e-03, 2.55092512e-02,\n",
              "       3.22579310e-02, 1.18612864e-02, 2.04103967e-02, 3.80728451e-03,\n",
              "       1.62056878e+01, 2.58417136e+01, 1.06873850e+02, 8.73719718e+02,\n",
              "       1.32805329e-01, 2.59817840e-01, 2.79571502e-01, 1.16232798e-01,\n",
              "       2.92224883e-01, 8.47238732e-02])"
            ]
          },
          "metadata": {},
          "execution_count": 177
        }
      ],
      "source": [
        "import numpy as np\n",
        "np.mean(X_train, axis=0) # axis=0열 feature // axis=1행 label"
      ]
    },
    {
      "cell_type": "code",
      "execution_count": 178,
      "metadata": {
        "id": "osjC1FmTVu6q",
        "colab": {
          "base_uri": "https://localhost:8080/"
        },
        "outputId": "e7dce1e7-8179-479a-f5c8-fe67225b4199"
      },
      "outputs": [
        {
          "output_type": "execute_result",
          "data": {
            "text/plain": [
              "array([-3.74192070e-15, -7.91489983e-16, -2.18448108e-15,  2.12662439e-16,\n",
              "        5.06741232e-15, -9.49683733e-16, -4.22197488e-16, -4.38355664e-16,\n",
              "        1.48342475e-15,  2.98561384e-15, -1.23323365e-15, -1.38647570e-16,\n",
              "       -1.14827292e-15, -1.78261162e-16, -1.55535470e-15, -3.03877945e-16,\n",
              "        1.12599028e-15, -4.46174136e-16, -2.84852997e-15,  1.36777652e-15,\n",
              "        2.85009366e-15,  1.40784619e-15,  9.30919400e-16, -7.56306859e-16,\n",
              "        2.91681129e-15, -1.38465139e-15, -3.04268869e-17, -5.00382208e-17,\n",
              "       -2.16284997e-15,  1.78313285e-15])"
            ]
          },
          "metadata": {},
          "execution_count": 178
        }
      ],
      "source": [
        "np.mean(X_train_scaled, axis = 0)"
      ]
    },
    {
      "cell_type": "code",
      "execution_count": 179,
      "metadata": {
        "id": "NDryinHHVu8-",
        "colab": {
          "base_uri": "https://localhost:8080/"
        },
        "outputId": "15783d4b-deee-4a4a-9afa-472b62480bdb"
      },
      "outputs": [
        {
          "output_type": "stream",
          "name": "stdout",
          "text": [
            "0.92018779342723\n",
            "0.9230769230769231\n"
          ]
        }
      ],
      "source": [
        "from sklearn.metrics import accuracy_score\n",
        "\n",
        "svc = SVC()\n",
        "\n",
        "svc.fit(X_train, y_train)\n",
        "\n",
        "pred_train = svc.predict(X_train)\n",
        "pred_test = svc.predict(X_test)\n",
        "\n",
        "print(accuracy_score(y_train, pred_train))\n",
        "print(accuracy_score(y_test, pred_test))\n"
      ]
    },
    {
      "cell_type": "code",
      "execution_count": 180,
      "metadata": {
        "id": "S_P2oy3nVu_Q",
        "colab": {
          "base_uri": "https://localhost:8080/"
        },
        "outputId": "9682ba2b-1647-4c84-e710-146ef0b80ed7"
      },
      "outputs": [
        {
          "output_type": "stream",
          "name": "stdout",
          "text": [
            "0.9882629107981221\n",
            "0.9790209790209791\n"
          ]
        }
      ],
      "source": [
        "svc = SVC()\n",
        "\n",
        "svc.fit(X_train_scaled, y_train)\n",
        "\n",
        "pred_train = svc.predict(X_train_scaled)\n",
        "pred_test = svc.predict(X_test_scaled)\n",
        "\n",
        "print(accuracy_score(y_train, pred_train))\n",
        "print(accuracy_score(y_test, pred_test))"
      ]
    },
    {
      "cell_type": "code",
      "execution_count": 181,
      "metadata": {
        "id": "_EtUWlhoVvBz"
      },
      "outputs": [],
      "source": [
        "# 평가 지표"
      ]
    },
    {
      "cell_type": "code",
      "execution_count": 182,
      "metadata": {
        "id": "r2UkcFdMVvEd"
      },
      "outputs": [],
      "source": [
        "import numpy as np\n",
        "import matplotlib.pyplot as plt\n",
        "from sklearn.datasets import load_digits"
      ]
    },
    {
      "cell_type": "code",
      "execution_count": 183,
      "metadata": {
        "id": "-9I2_EsxVvG4",
        "colab": {
          "base_uri": "https://localhost:8080/"
        },
        "outputId": "84cad8a6-6c72-4ddd-ad7d-f219d5754db6"
      },
      "outputs": [
        {
          "output_type": "execute_result",
          "data": {
            "text/plain": [
              "((1797, 64), (1797,))"
            ]
          },
          "metadata": {},
          "execution_count": 183
        }
      ],
      "source": [
        "digits = load_digits()\n",
        "X, y = digits['data'], digits['target']\n",
        "X.shape, y.shape"
      ]
    },
    {
      "cell_type": "code",
      "execution_count": 184,
      "metadata": {
        "id": "iNSzNijEVvJU",
        "colab": {
          "base_uri": "https://localhost:8080/"
        },
        "outputId": "5fdab52d-0de4-4246-fe90-1860712f06d8"
      },
      "outputs": [
        {
          "output_type": "execute_result",
          "data": {
            "text/plain": [
              "(array([0, 1, 2, 3, 4, 5, 6, 7, 8, 9]),\n",
              " array([178, 182, 177, 183, 181, 182, 181, 179, 174, 180]))"
            ]
          },
          "metadata": {},
          "execution_count": 184
        }
      ],
      "source": [
        "np.unique(y, return_counts = True)"
      ]
    },
    {
      "cell_type": "code",
      "execution_count": 185,
      "metadata": {
        "id": "b0MVMxhiguGz",
        "colab": {
          "base_uri": "https://localhost:8080/",
          "height": 265
        },
        "outputId": "0d598d8f-c09d-4b57-e159-361d4b4cc0db"
      },
      "outputs": [
        {
          "output_type": "display_data",
          "data": {
            "text/plain": [
              "<Figure size 432x288 with 1 Axes>"
            ],
            "image/png": "[encoded data removed]"
          },
          "metadata": {
            "needs_background": "light"
          }
        }
      ],
      "source": [
        "cnt = np.unique(y, return_counts = True)\n",
        "plt.bar(cnt[0], cnt[1])\n",
        "plt.show()"
      ]
    },
    {
      "cell_type": "code",
      "execution_count": 186,
      "metadata": {
        "id": "KU7yc8lJguJ1",
        "colab": {
          "base_uri": "https://localhost:8080/"
        },
        "outputId": "67a00e99-93f0-43e4-9831-def4f9cec6e4"
      },
      "outputs": [
        {
          "output_type": "stream",
          "name": "stdout",
          "text": [
            "(64,)\n"
          ]
        },
        {
          "output_type": "execute_result",
          "data": {
            "text/plain": [
              "array([ 0.,  0.,  5., 13.,  9.,  1.,  0.,  0.,  0.,  0., 13., 15., 10.,\n",
              "       15.,  5.,  0.,  0.,  3., 15.,  2.,  0., 11.,  8.,  0.,  0.,  4.,\n",
              "       12.,  0.,  0.,  8.,  8.,  0.,  0.,  5.,  8.,  0.,  0.,  9.,  8.,\n",
              "        0.,  0.,  4., 11.,  0.,  1., 12.,  7.,  0.,  0.,  2., 14.,  5.,\n",
              "       10., 12.,  0.,  0.,  0.,  0.,  6., 13., 10.,  0.,  0.,  0.])"
            ]
          },
          "metadata": {},
          "execution_count": 186
        }
      ],
      "source": [
        "print(X[0].shape)\n",
        "X[0]"
      ]
    },
    {
      "cell_type": "code",
      "execution_count": 187,
      "metadata": {
        "id": "h2N2Q66FguMn",
        "colab": {
          "base_uri": "https://localhost:8080/"
        },
        "outputId": "86cf3356-e35b-4ccc-9c6f-fb46d5aa8f98"
      },
      "outputs": [
        {
          "output_type": "execute_result",
          "data": {
            "text/plain": [
              "array([[ 0.,  0.,  5., 13.,  9.,  1.,  0.,  0.],\n",
              "       [ 0.,  0., 13., 15., 10., 15.,  5.,  0.],\n",
              "       [ 0.,  3., 15.,  2.,  0., 11.,  8.,  0.],\n",
              "       [ 0.,  4., 12.,  0.,  0.,  8.,  8.,  0.],\n",
              "       [ 0.,  5.,  8.,  0.,  0.,  9.,  8.,  0.],\n",
              "       [ 0.,  4., 11.,  0.,  1., 12.,  7.,  0.],\n",
              "       [ 0.,  2., 14.,  5., 10., 12.,  0.,  0.],\n",
              "       [ 0.,  0.,  6., 13., 10.,  0.,  0.,  0.]])"
            ]
          },
          "metadata": {},
          "execution_count": 187
        }
      ],
      "source": [
        "no0 = X[0].reshape(8,8)\n",
        "no0"
      ]
    },
    {
      "cell_type": "code",
      "execution_count": 188,
      "metadata": {
        "id": "IGQAUi4QguO2",
        "colab": {
          "base_uri": "https://localhost:8080/",
          "height": 264
        },
        "outputId": "fff872d2-b864-4e8a-ed9f-14038ef12b86"
      },
      "outputs": [
        {
          "output_type": "display_data",
          "data": {
            "text/plain": [
              "<Figure size 432x288 with 1 Axes>"
            ],
            "image/png": "[encoded data removed]"
          },
          "metadata": {
            "needs_background": "light"
          }
        }
      ],
      "source": [
        "plt.imshow(no0, cmap='Blues')\n",
        "plt.axis('off')\n",
        "plt.title(y[0])\n",
        "plt.show()"
      ]
    },
    {
      "cell_type": "code",
      "execution_count": 189,
      "metadata": {
        "id": "X9-xW_1BguRX",
        "colab": {
          "base_uri": "https://localhost:8080/",
          "height": 320
        },
        "outputId": "65df545a-4661-44d2-e179-33649a0f98db"
      },
      "outputs": [
        {
          "output_type": "display_data",
          "data": {
            "text/plain": [
              "<Figure size 360x360 with 9 Axes>"
            ],
            "image/png": "[encoded data removed]"
          },
          "metadata": {}
        }
      ],
      "source": [
        "plt.figure(figsize = (5,5))\n",
        "for i in range(9):\n",
        "  plt.subplot(3,3,i+1)\n",
        "  plt.imshow(X[i].reshape(8,8), cmap = 'GnBu')\n",
        "\n",
        "  plt.xticks([])\n",
        "  plt.yticks([])\n",
        "  plt.title(y[i], fontdict={'fontsize':10})\n",
        "\n",
        "plt.show()"
      ]
    },
    {
      "cell_type": "code",
      "execution_count": 190,
      "metadata": {
        "id": "BYUDNo8oiXAm",
        "colab": {
          "base_uri": "https://localhost:8080/"
        },
        "outputId": "2ac8d703-2f6e-4c5e-e2cf-d29c664e3367"
      },
      "outputs": [
        {
          "output_type": "execute_result",
          "data": {
            "text/plain": [
              "(array([False,  True]), array([1617,  180]))"
            ]
          },
          "metadata": {},
          "execution_count": 190
        }
      ],
      "source": [
        "y = y == 9\n",
        "cnt2 = np.unique(y, return_counts= True)\n",
        "cnt2"
      ]
    },
    {
      "cell_type": "code",
      "execution_count": 191,
      "metadata": {
        "id": "04_1l3IVk13v",
        "colab": {
          "base_uri": "https://localhost:8080/",
          "height": 265
        },
        "outputId": "14db5a07-f294-42be-8242-68378a4d92a9"
      },
      "outputs": [
        {
          "output_type": "display_data",
          "data": {
            "text/plain": [
              "<Figure size 432x288 with 1 Axes>"
            ],
            "image/png": "[encoded data removed]"
          },
          "metadata": {
            "needs_background": "light"
          }
        }
      ],
      "source": [
        "plt.bar(cnt2[0], cnt2[1])\n",
        "plt.xticks([0,1], labels=['0~8', '9'])\n",
        "plt.show()"
      ]
    },
    {
      "cell_type": "code",
      "execution_count": 192,
      "metadata": {
        "id": "wNzporZ6iXF5"
      },
      "outputs": [],
      "source": [
        "from sklearn.metrics import confusion_matrix, plot_confusion_matrix, recall_score, precision_score, f1_score, accuracy_score"
      ]
    },
    {
      "cell_type": "code",
      "execution_count": 193,
      "metadata": {
        "id": "B-wxu6FkiXJX"
      },
      "outputs": [],
      "source": [
        "# 0217 confusion_matrix + dummy"
      ]
    },
    {
      "cell_type": "code",
      "execution_count": 194,
      "metadata": {
        "id": "BrmRG02JguT7",
        "colab": {
          "base_uri": "https://localhost:8080/"
        },
        "outputId": "4c047d00-0da7-4adc-948c-40f422be59ff"
      },
      "outputs": [
        {
          "output_type": "stream",
          "name": "stdout",
          "text": [
            "[[155   4]\n",
            " [  1 266]]\n",
            "--------------------------------------------------\n",
            "[[50  3]\n",
            " [ 0 90]]\n"
          ]
        }
      ],
      "source": [
        "print(confusion_matrix(y_train, pred_train)) # (정답값, 예측값)\n",
        "print('-'*50)\n",
        "print(confusion_matrix(y_test, pred_test))\n"
      ]
    },
    {
      "cell_type": "code",
      "execution_count": 195,
      "metadata": {
        "id": "-0jW9TBUguWa",
        "colab": {
          "base_uri": "https://localhost:8080/"
        },
        "outputId": "18995ae1-b9ee-4c14-9ca0-ec780a613e40"
      },
      "outputs": [
        {
          "output_type": "execute_result",
          "data": {
            "text/plain": [
              "DummyClassifier(strategy='most_frequent')"
            ]
          },
          "metadata": {},
          "execution_count": 195
        }
      ],
      "source": [
        "from sklearn.dummy import DummyClassifier\n",
        "\n",
        "dummy_model = DummyClassifier(strategy='most_frequent')\n",
        "dummy_model.fit(X_train, y_train)"
      ]
    },
    {
      "cell_type": "code",
      "execution_count": 196,
      "metadata": {
        "id": "BZ0f9clyguYi",
        "colab": {
          "base_uri": "https://localhost:8080/",
          "height": 471
        },
        "outputId": "886b9349-9e40-4afc-b91c-aafa735dc6cc"
      },
      "outputs": [
        {
          "output_type": "stream",
          "name": "stderr",
          "text": [
            "/usr/local/lib/python3.8/dist-packages/sklearn/utils/deprecation.py:87: FutureWarning: Function plot_confusion_matrix is deprecated; Function `plot_confusion_matrix` is deprecated in 1.0 and will be removed in 1.2. Use one of the class methods: ConfusionMatrixDisplay.from_predictions or ConfusionMatrixDisplay.from_estimator.\n",
            "  warnings.warn(msg, category=FutureWarning)\n"
          ]
        },
        {
          "output_type": "display_data",
          "data": {
            "text/plain": [
              "<Figure size 504x504 with 2 Axes>"
            ],
            "image/png": "[encoded data removed]"
          },
          "metadata": {
            "needs_background": "light"
          }
        }
      ],
      "source": [
        "fig, ax = plt.subplots(1,1, figsize=(7,7))\n",
        "\n",
        "# 학습 시킬 모델 , X , Y\n",
        "plot_confusion_matrix(dummy_model, # 학습 시킬 모델\n",
        "                      X_train, \n",
        "                      y_train,\n",
        "                      display_labels = ['N', 'P'],\n",
        "                      cmap = 'Reds',\n",
        "                      ax=ax)\n",
        "plt.show()"
      ]
    },
    {
      "cell_type": "code",
      "execution_count": 197,
      "metadata": {
        "id": "-K0MA8G5VvLy",
        "colab": {
          "base_uri": "https://localhost:8080/"
        },
        "outputId": "d128f7aa-88f4-4f62-a9b0-9e0cbdd8773b"
      },
      "outputs": [
        {
          "output_type": "execute_result",
          "data": {
            "text/plain": [
              "(0.9882629107981221, 0.9790209790209791)"
            ]
          },
          "metadata": {},
          "execution_count": 197
        }
      ],
      "source": [
        "accuracy_score(y_train, pred_train), accuracy_score(y_test, pred_test)"
      ]
    },
    {
      "cell_type": "code",
      "execution_count": 198,
      "metadata": {
        "id": "DoYqt9jUVvOg",
        "colab": {
          "base_uri": "https://localhost:8080/"
        },
        "outputId": "9789f60f-d598-4469-fe73-010f6ae94090"
      },
      "outputs": [
        {
          "output_type": "execute_result",
          "data": {
            "text/plain": [
              "(0.9962546816479401, 1.0)"
            ]
          },
          "metadata": {},
          "execution_count": 198
        }
      ],
      "source": [
        "recall_score(y_train, pred_train), recall_score(y_test, pred_test)"
      ]
    },
    {
      "cell_type": "code",
      "execution_count": 199,
      "metadata": {
        "id": "laqOVBMnPi3L",
        "colab": {
          "base_uri": "https://localhost:8080/"
        },
        "outputId": "8deaf87c-9a42-4f29-ccd9-5cd4332e6370"
      },
      "outputs": [
        {
          "output_type": "execute_result",
          "data": {
            "text/plain": [
              "(0.9851851851851852, 0.967741935483871)"
            ]
          },
          "metadata": {},
          "execution_count": 199
        }
      ],
      "source": [
        "precision_score(y_train, pred_train), precision_score(y_test, pred_test)"
      ]
    },
    {
      "cell_type": "code",
      "execution_count": 200,
      "metadata": {
        "id": "VVM9uxdXPi5W",
        "colab": {
          "base_uri": "https://localhost:8080/"
        },
        "outputId": "e20c430a-ae5f-4f23-b7ce-9688c45390a0"
      },
      "outputs": [
        {
          "output_type": "execute_result",
          "data": {
            "text/plain": [
              "(0.9906890130353817, 0.9836065573770492)"
            ]
          },
          "metadata": {},
          "execution_count": 200
        }
      ],
      "source": [
        "f1_score(y_train, pred_train), f1_score(y_test, pred_test)"
      ]
    },
    {
      "cell_type": "code",
      "execution_count": 201,
      "metadata": {
        "id": "7tWnX56T8daI",
        "colab": {
          "base_uri": "https://localhost:8080/"
        },
        "outputId": "909e3f0c-93a1-46c8-ecf4-ffece311f52e"
      },
      "outputs": [
        {
          "output_type": "execute_result",
          "data": {
            "text/plain": [
              "RandomForestClassifier(n_estimators=200)"
            ]
          },
          "metadata": {},
          "execution_count": 201
        }
      ],
      "source": [
        "from sklearn.tree import DecisionTreeClassifier\n",
        "from sklearn.ensemble import RandomForestClassifier\n",
        "\n",
        "tree = DecisionTreeClassifier(max_depth = 3)\n",
        "rf = RandomForestClassifier(n_estimators= 200) # tree의 개수\n",
        "\n",
        "tree.fit(X_train, y_train)\n",
        "rf.fit(X_train, y_train)"
      ]
    },
    {
      "cell_type": "code",
      "execution_count": 202,
      "metadata": {
        "id": "slN1ZwmSHoxG"
      },
      "outputs": [],
      "source": [
        "pred_train_tree = tree.predict(X_train)\n",
        "pred_test_tree = tree.predict(X_test)\n",
        "\n",
        "pred_train_rf= rf.predict(X_train)\n",
        "pred_test_rf = rf.predict(X_test)\n"
      ]
    },
    {
      "cell_type": "code",
      "execution_count": 203,
      "metadata": {
        "id": "NaRyYINHHozM",
        "colab": {
          "base_uri": "https://localhost:8080/"
        },
        "outputId": "fc492578-4700-4491-ecc4-a36faaa48b73"
      },
      "outputs": [
        {
          "output_type": "stream",
          "name": "stdout",
          "text": [
            "[[149  10]\n",
            " [  2 265]]\n",
            "[[49  4]\n",
            " [ 4 86]]\n",
            "--------------------------------------------------\n",
            "[[159   0]\n",
            " [  0 267]]\n",
            "[[49  4]\n",
            " [ 4 86]]\n"
          ]
        }
      ],
      "source": [
        "print(confusion_matrix(y_train, pred_train_tree))\n",
        "print(confusion_matrix(y_test, pred_test_tree))\n",
        "print('-'*50)\n",
        "print(confusion_matrix(y_train, pred_train_rf))\n",
        "print(confusion_matrix(y_test, pred_test_rf))"
      ]
    },
    {
      "cell_type": "code",
      "execution_count": 204,
      "metadata": {
        "id": "vGdrbOm7Ho12",
        "colab": {
          "base_uri": "https://localhost:8080/"
        },
        "outputId": "12adb812-9160-4c25-9f77-ac1e6cf8c05b"
      },
      "outputs": [
        {
          "output_type": "execute_result",
          "data": {
            "text/plain": [
              "(0.9440559440559441,\n",
              " 0.9555555555555556,\n",
              " 0.9555555555555556,\n",
              " 0.9555555555555556)"
            ]
          },
          "metadata": {},
          "execution_count": 204
        }
      ],
      "source": [
        "accuracy_score(y_test, pred_test_tree), recall_score(y_test, pred_test_tree), precision_score(y_test, pred_test_tree), f1_score(y_test, pred_test_tree)"
      ]
    },
    {
      "cell_type": "code",
      "execution_count": 205,
      "metadata": {
        "id": "qBhrzvtqHo4R",
        "colab": {
          "base_uri": "https://localhost:8080/"
        },
        "outputId": "acfd7991-4b10-43e0-ba5f-ff534117a576"
      },
      "outputs": [
        {
          "output_type": "execute_result",
          "data": {
            "text/plain": [
              "(0.9440559440559441,\n",
              " 0.9555555555555556,\n",
              " 0.9555555555555556,\n",
              " 0.9555555555555556)"
            ]
          },
          "metadata": {},
          "execution_count": 205
        }
      ],
      "source": [
        "accuracy_score(y_test, pred_test_rf), recall_score(y_test, pred_test_rf), precision_score(y_test, pred_test_rf), f1_score(y_test, pred_test_rf)"
      ]
    },
    {
      "cell_type": "code",
      "execution_count": 206,
      "metadata": {
        "id": "jtt8_GOuHo6n",
        "colab": {
          "base_uri": "https://localhost:8080/"
        },
        "outputId": "f0c7d3bf-47ad-49e0-a2c4-a6f8f81667de"
      },
      "outputs": [
        {
          "output_type": "stream",
          "name": "stdout",
          "text": [
            "              precision    recall  f1-score   support\n",
            "\n",
            "    pos(not)       0.92      0.92      0.92        53\n",
            "         pos       0.96      0.96      0.96        90\n",
            "\n",
            "    accuracy                           0.94       143\n",
            "   macro avg       0.94      0.94      0.94       143\n",
            "weighted avg       0.94      0.94      0.94       143\n",
            "\n"
          ]
        }
      ],
      "source": [
        "from sklearn.metrics import classification_report\n",
        "\n",
        "result = classification_report(y_test, pred_test_rf, target_names = ['pos(not)', 'pos'])\n",
        "print(result)"
      ]
    },
    {
      "cell_type": "markdown",
      "metadata": {
        "id": "TT_ZB_baMmim"
      },
      "source": []
    },
    {
      "cell_type": "code",
      "execution_count": 207,
      "metadata": {
        "id": "oOG4WvBCHo9m"
      },
      "outputs": [],
      "source": [
        "# precision 암 환자 example  FN 을 무조건 낮춰야됨 왼쪽 하단\n",
        "# recall    스팸메일 example FP 을 무조건 낮춰야됨 오른쪽 상단"
      ]
    },
    {
      "cell_type": "code",
      "execution_count": 208,
      "metadata": {
        "id": "45TLCdObHo_o"
      },
      "outputs": [],
      "source": [
        "# Threshold 임계값  높아지면 precision 높 rec 낮"
      ]
    },
    {
      "cell_type": "code",
      "execution_count": 209,
      "metadata": {
        "id": "w7ggMTi7HpB4",
        "colab": {
          "base_uri": "https://localhost:8080/"
        },
        "outputId": "7fd39e68-5f4e-464b-b704-5310f6b3c5e0"
      },
      "outputs": [
        {
          "output_type": "execute_result",
          "data": {
            "text/plain": [
              "array([[0., 0., 0., 0., 1.]])"
            ]
          },
          "metadata": {},
          "execution_count": 209
        }
      ],
      "source": [
        "from sklearn.preprocessing import Binarizer\n",
        "\n",
        "example = [[-0.3, 0.6, 0.7, 0.8, 0.9]]\n",
        "bi = Binarizer(threshold=0.8)\n",
        "bi.fit_transform(example)"
      ]
    },
    {
      "cell_type": "code",
      "execution_count": 210,
      "metadata": {
        "id": "3CZbuWX-Ox6F",
        "colab": {
          "base_uri": "https://localhost:8080/"
        },
        "outputId": "634e36e8-205d-4eb4-93f1-76060bea9639"
      },
      "outputs": [
        {
          "output_type": "execute_result",
          "data": {
            "text/plain": [
              "((6,), (6,), (5,), (143,))"
            ]
          },
          "metadata": {},
          "execution_count": 210
        }
      ],
      "source": [
        "# pos_proba = tree.predict_proba(X_test)\n",
        "\n",
        "from sklearn.metrics import precision_recall_curve, plot_precision_recall_curve, average_precision_score\n",
        "\n",
        "pos_proba = tree.predict_proba(X_test)[:,1]\n",
        "\n",
        "precision, recall, thresholds = precision_recall_curve(y_test, pos_proba)\n",
        "precision.shape, recall.shape, thresholds.shape, pos_proba.shape"
      ]
    },
    {
      "cell_type": "code",
      "execution_count": 211,
      "metadata": {
        "id": "8FBLpySEOx8o",
        "colab": {
          "base_uri": "https://localhost:8080/"
        },
        "outputId": "db4c5852-d5d5-481b-f42a-249e5b13095b"
      },
      "outputs": [
        {
          "output_type": "execute_result",
          "data": {
            "text/plain": [
              "array([0.        , 0.01492537, 0.79487179, 0.99130435, 1.        ,\n",
              "       1.        ])"
            ]
          },
          "metadata": {},
          "execution_count": 211
        }
      ],
      "source": [
        "thresholds = np.append(thresholds, 1)\n",
        "thresholds"
      ]
    },
    {
      "cell_type": "code",
      "execution_count": 212,
      "metadata": {
        "id": "uTyXHhKMOx-2",
        "colab": {
          "base_uri": "https://localhost:8080/",
          "height": 235
        },
        "outputId": "80541237-6a71-4555-ae99-1f8be5c4f7d6"
      },
      "outputs": [
        {
          "output_type": "execute_result",
          "data": {
            "text/plain": [
              "   thresholds    recall  precision\n",
              "0    0.000000  1.000000   0.629371\n",
              "1    0.014925  0.977778   0.656716\n",
              "2    0.794872  0.955556   0.955556\n",
              "3    0.991304  0.888889   0.975610\n",
              "4    1.000000  0.022222   1.000000\n",
              "5    1.000000  0.000000   1.000000"
            ],
            "text/html": [
              "\n",
              "  <div id=\"df-75c4a9fb-9352-4bbf-a298-db9325f17e42\">\n",
              "    <div class=\"colab-df-container\">\n",
              "      <div>\n",
              "<style scoped>\n",
              "    .dataframe tbody tr th:only-of-type {\n",
              "        vertical-align: middle;\n",
              "    }\n",
              "\n",
              "    .dataframe tbody tr th {\n",
              "        vertical-align: top;\n",
              "    }\n",
              "\n",
              "    .dataframe thead th {\n",
              "        text-align: right;\n",
              "    }\n",
              "</style>\n",
              "<table border=\"1\" class=\"dataframe\">\n",
              "  <thead>\n",
              "    <tr style=\"text-align: right;\">\n",
              "      <th></th>\n",
              "      <th>thresholds</th>\n",
              "      <th>recall</th>\n",
              "      <th>precision</th>\n",
              "    </tr>\n",
              "  </thead>\n",
              "  <tbody>\n",
              "    <tr>\n",
              "      <th>0</th>\n",
              "      <td>0.000000</td>\n",
              "      <td>1.000000</td>\n",
              "      <td>0.629371</td>\n",
              "    </tr>\n",
              "    <tr>\n",
              "      <th>1</th>\n",
              "      <td>0.014925</td>\n",
              "      <td>0.977778</td>\n",
              "      <td>0.656716</td>\n",
              "    </tr>\n",
              "    <tr>\n",
              "      <th>2</th>\n",
              "      <td>0.794872</td>\n",
              "      <td>0.955556</td>\n",
              "      <td>0.955556</td>\n",
              "    </tr>\n",
              "    <tr>\n",
              "      <th>3</th>\n",
              "      <td>0.991304</td>\n",
              "      <td>0.888889</td>\n",
              "      <td>0.975610</td>\n",
              "    </tr>\n",
              "    <tr>\n",
              "      <th>4</th>\n",
              "      <td>1.000000</td>\n",
              "      <td>0.022222</td>\n",
              "      <td>1.000000</td>\n",
              "    </tr>\n",
              "    <tr>\n",
              "      <th>5</th>\n",
              "      <td>1.000000</td>\n",
              "      <td>0.000000</td>\n",
              "      <td>1.000000</td>\n",
              "    </tr>\n",
              "  </tbody>\n",
              "</table>\n",
              "</div>\n",
              "      <button class=\"colab-df-convert\" onclick=\"convertToInteractive('df-75c4a9fb-9352-4bbf-a298-db9325f17e42')\"\n",
              "              title=\"Convert this dataframe to an interactive table.\"\n",
              "              style=\"display:none;\">\n",
              "        \n",
              "  <svg xmlns=\"http://www.w3.org/2000/svg\" height=\"24px\"viewBox=\"0 0 24 24\"\n",
              "       width=\"24px\">\n",
              "    <path d=\"M0 0h24v24H0V0z\" fill=\"none\"/>\n",
              "    <path d=\"M18.56 5.44l.94 2.06.94-2.06 2.06-.94-2.06-.94-.94-2.06-.94 2.06-2.06.94zm-11 1L8.5 8.5l.94-2.06 2.06-.94-2.06-.94L8.5 2.5l-.94 2.06-2.06.94zm10 10l.94 2.06.94-2.06 2.06-.94-2.06-.94-.94-2.06-.94 2.06-2.06.94z\"/><path d=\"M17.41 7.96l-1.37-1.37c-.4-.4-.92-.59-1.43-.59-.52 0-1.04.2-1.43.59L10.3 9.45l-7.72 7.72c-.78.78-.78 2.05 0 2.83L4 21.41c.39.39.9.59 1.41.59.51 0 1.02-.2 1.41-.59l7.78-7.78 2.81-2.81c.8-.78.8-2.07 0-2.86zM5.41 20L4 18.59l7.72-7.72 1.47 1.35L5.41 20z\"/>\n",
              "  </svg>\n",
              "      </button>\n",
              "      \n",
              "  <style>\n",
              "    .colab-df-container {\n",
              "      display:flex;\n",
              "      flex-wrap:wrap;\n",
              "      gap: 12px;\n",
              "    }\n",
              "\n",
              "    .colab-df-convert {\n",
              "      background-color: #E8F0FE;\n",
              "      border: none;\n",
              "      border-radius: 50%;\n",
              "      cursor: pointer;\n",
              "      display: none;\n",
              "      fill: #1967D2;\n",
              "      height: 32px;\n",
              "      padding: 0 0 0 0;\n",
              "      width: 32px;\n",
              "    }\n",
              "\n",
              "    .colab-df-convert:hover {\n",
              "      background-color: #E2EBFA;\n",
              "      box-shadow: 0px 1px 2px rgba(60, 64, 67, 0.3), 0px 1px 3px 1px rgba(60, 64, 67, 0.15);\n",
              "      fill: #174EA6;\n",
              "    }\n",
              "\n",
              "    [theme=dark] .colab-df-convert {\n",
              "      background-color: #3B4455;\n",
              "      fill: #D2E3FC;\n",
              "    }\n",
              "\n",
              "    [theme=dark] .colab-df-convert:hover {\n",
              "      background-color: #434B5C;\n",
              "      box-shadow: 0px 1px 3px 1px rgba(0, 0, 0, 0.15);\n",
              "      filter: drop-shadow(0px 1px 2px rgba(0, 0, 0, 0.3));\n",
              "      fill: #FFFFFF;\n",
              "    }\n",
              "  </style>\n",
              "\n",
              "      <script>\n",
              "        const buttonEl =\n",
              "          document.querySelector('#df-75c4a9fb-9352-4bbf-a298-db9325f17e42 button.colab-df-convert');\n",
              "        buttonEl.style.display =\n",
              "          google.colab.kernel.accessAllowed ? 'block' : 'none';\n",
              "\n",
              "        async function convertToInteractive(key) {\n",
              "          const element = document.querySelector('#df-75c4a9fb-9352-4bbf-a298-db9325f17e42');\n",
              "          const dataTable =\n",
              "            await google.colab.kernel.invokeFunction('convertToInteractive',\n",
              "                                                     [key], {});\n",
              "          if (!dataTable) return;\n",
              "\n",
              "          const docLinkHtml = 'Like what you see? Visit the ' +\n",
              "            '<a target=\"_blank\" href=https://colab.research.google.com/notebooks/data_table.ipynb>data table notebook</a>'\n",
              "            + ' to learn more about interactive tables.';\n",
              "          element.innerHTML = '';\n",
              "          dataTable['output_type'] = 'display_data';\n",
              "          await google.colab.output.renderOutput(dataTable, element);\n",
              "          const docLink = document.createElement('div');\n",
              "          docLink.innerHTML = docLinkHtml;\n",
              "          element.appendChild(docLink);\n",
              "        }\n",
              "      </script>\n",
              "    </div>\n",
              "  </div>\n",
              "  "
            ]
          },
          "metadata": {},
          "execution_count": 212
        }
      ],
      "source": [
        "pd.DataFrame({\n",
        "    'thresholds' : thresholds,\n",
        "    'recall': recall,\n",
        "    'precision': precision\n",
        "})"
      ]
    },
    {
      "cell_type": "code",
      "execution_count": 213,
      "metadata": {
        "id": "7za_4SnQOyA5",
        "colab": {
          "base_uri": "https://localhost:8080/",
          "height": 442
        },
        "outputId": "b10725aa-b1d7-4714-8828-6f5fe9c30c50"
      },
      "outputs": [
        {
          "output_type": "display_data",
          "data": {
            "text/plain": [
              "<Figure size 504x504 with 1 Axes>"
            ],
            "image/png": "[encoded data removed]"
          },
          "metadata": {
            "needs_background": "light"
          }
        }
      ],
      "source": [
        "plt.figure(figsize=(7,7))\n",
        "plt.plot(recall, precision)\n",
        "plt.xlabel('recall')\n",
        "plt.ylabel('precision')\n",
        "plt.grid(True)\n",
        "plt.show()"
      ]
    },
    {
      "cell_type": "code",
      "execution_count": 214,
      "metadata": {
        "id": "396Xc-rFOyDB",
        "colab": {
          "base_uri": "https://localhost:8080/",
          "height": 496
        },
        "outputId": "41296fca-0d20-44d7-89b4-92af4dbabae9"
      },
      "outputs": [
        {
          "output_type": "stream",
          "name": "stderr",
          "text": [
            "/usr/local/lib/python3.8/dist-packages/sklearn/utils/deprecation.py:87: FutureWarning: Function plot_precision_recall_curve is deprecated; Function `plot_precision_recall_curve` is deprecated in 1.0 and will be removed in 1.2. Use one of the class methods: PrecisionRecallDisplay.from_predictions or PrecisionRecallDisplay.from_estimator.\n",
            "  warnings.warn(msg, category=FutureWarning)\n"
          ]
        },
        {
          "output_type": "display_data",
          "data": {
            "text/plain": [
              "<Figure size 504x504 with 1 Axes>"
            ],
            "image/png": "[encoded data removed]"
          },
          "metadata": {
            "needs_background": "light"
          }
        }
      ],
      "source": [
        "fig, ax = plt.subplots(1,1,figsize=(7,7))\n",
        "plot_precision_recall_curve(tree, X_test, y_test, ax=ax)\n",
        "plt.show()"
      ]
    },
    {
      "cell_type": "code",
      "execution_count": 215,
      "metadata": {
        "id": "Wfs12B41OyVV",
        "colab": {
          "base_uri": "https://localhost:8080/"
        },
        "outputId": "a7b02456-6a15-49e8-e07f-168d8bd6eeb3"
      },
      "outputs": [
        {
          "output_type": "execute_result",
          "data": {
            "text/plain": [
              "(143,)"
            ]
          },
          "metadata": {},
          "execution_count": 215
        }
      ],
      "source": [
        "pos_proba.shape"
      ]
    },
    {
      "cell_type": "code",
      "execution_count": 216,
      "metadata": {
        "id": "76-FAYpmOyX4",
        "colab": {
          "base_uri": "https://localhost:8080/"
        },
        "outputId": "e6016096-1739-43d7-ef86-0cff390d0480"
      },
      "outputs": [
        {
          "output_type": "execute_result",
          "data": {
            "text/plain": [
              "0.9600340933722805"
            ]
          },
          "metadata": {},
          "execution_count": 216
        }
      ],
      "source": [
        "average_precision_score(y_test, pos_proba)"
      ]
    },
    {
      "cell_type": "code",
      "execution_count": 217,
      "metadata": {
        "id": "cs7s4ewJOyZ-"
      },
      "outputs": [],
      "source": [
        "# 0220"
      ]
    },
    {
      "cell_type": "code",
      "execution_count": 218,
      "metadata": {
        "id": "rxpjKOGVcx4W"
      },
      "outputs": [],
      "source": [
        "from sklearn.datasets import load_breast_cancer\n",
        "from sklearn.model_selection import train_test_split"
      ]
    },
    {
      "cell_type": "code",
      "execution_count": 219,
      "metadata": {
        "id": "oMhkGEVPcx68"
      },
      "outputs": [],
      "source": [
        "cancer = load_breast_cancer()\n",
        "X = cancer['data']\n",
        "y = cancer['target']\n",
        "\n",
        "X_train, X_test, y_train, y_test = train_test_split(X, y, stratify = y, random_state=1)"
      ]
    },
    {
      "cell_type": "code",
      "execution_count": 220,
      "metadata": {
        "id": "51sxf_5xcx9V"
      },
      "outputs": [],
      "source": [
        "from sklearn.tree import DecisionTreeClassifier\n",
        "from sklearn.metrics import accuracy_score\n",
        "\n",
        "tree = DecisionTreeClassifier(max_depth = 3, random_state=1)\n",
        "tree.fit(X_train, y_train)\n",
        "\n",
        "pred_train = tree.predict(X_train)\n",
        "pred_test = tree.predict(X_test)"
      ]
    },
    {
      "cell_type": "code",
      "execution_count": 221,
      "metadata": {
        "id": "7UxTYFL_cx_Z",
        "colab": {
          "base_uri": "https://localhost:8080/"
        },
        "outputId": "1e99ab3c-b289-467e-f146-c6b35bced5fb"
      },
      "outputs": [
        {
          "output_type": "stream",
          "name": "stdout",
          "text": [
            "0.971830985915493\n",
            "0.9440559440559441\n"
          ]
        }
      ],
      "source": [
        "print(accuracy_score(y_train, pred_train))\n",
        "print(accuracy_score(y_test, pred_test))"
      ]
    },
    {
      "cell_type": "code",
      "execution_count": 222,
      "metadata": {
        "id": "1yDWkx7TjSzA"
      },
      "outputs": [],
      "source": [
        "from sklearn.tree import DecisionTreeClassifier\n",
        "from sklearn.metrics import accuracy_score\n",
        "\n",
        "tree = DecisionTreeClassifier(max_depth = 30, random_state=1)\n",
        "tree.fit(X_train, y_train)\n",
        "\n",
        "pred_train = tree.predict(X_train)\n",
        "pred_test = tree.predict(X_test)"
      ]
    },
    {
      "cell_type": "code",
      "execution_count": 223,
      "metadata": {
        "id": "wLA9rfDvjS8I",
        "colab": {
          "base_uri": "https://localhost:8080/"
        },
        "outputId": "4b18b667-cffa-443f-bd13-01aa8f8959f9"
      },
      "outputs": [
        {
          "output_type": "stream",
          "name": "stdout",
          "text": [
            "1.0\n",
            "0.9300699300699301\n"
          ]
        }
      ],
      "source": [
        "print(accuracy_score(y_train, pred_train))\n",
        "print(accuracy_score(y_test, pred_test))\n",
        "# overfitting"
      ]
    },
    {
      "cell_type": "code",
      "execution_count": 224,
      "metadata": {
        "id": "sj7Oi_nMcyBy",
        "colab": {
          "base_uri": "https://localhost:8080/"
        },
        "outputId": "2e6a7b73-1492-42fd-a5ba-555e1d900b61"
      },
      "outputs": [
        {
          "output_type": "stream",
          "name": "stdout",
          "text": [
            "0.9225352112676056\n",
            "0.9020979020979021\n"
          ]
        }
      ],
      "source": [
        "from sklearn.tree import DecisionTreeClassifier\n",
        "from sklearn.metrics import accuracy_score\n",
        "\n",
        "tree = DecisionTreeClassifier(max_depth = 1, random_state=1)\n",
        "tree.fit(X_train, y_train)\n",
        "\n",
        "pred_train = tree.predict(X_train)\n",
        "pred_test = tree.predict(X_test)\n",
        "\n",
        "print(accuracy_score(y_train, pred_train))\n",
        "print(accuracy_score(y_test, pred_test))\n",
        "# Generalization: as자체가 높고 비슷할 때"
      ]
    },
    {
      "cell_type": "code",
      "execution_count": 225,
      "metadata": {
        "id": "ABYVvycbcyEr"
      },
      "outputs": [],
      "source": [
        "depth_list = range(1, 10)\n",
        "train_acc_list=[]\n",
        "test_acc_list=[] \n",
        "# 비교"
      ]
    },
    {
      "cell_type": "code",
      "execution_count": 226,
      "metadata": {
        "id": "S8E7p9XXcyGg"
      },
      "outputs": [],
      "source": [
        "for depth in depth_list:\n",
        "  tree = DecisionTreeClassifier(max_depth = depth, random_state=1)\n",
        "  tree.fit(X_train, y_train)\n",
        "\n",
        "  pred_train = tree.predict(X_train)\n",
        "  pred_test = tree.predict(X_test)\n",
        "\n",
        "  train_acc_list.append(accuracy_score(y_train, pred_train))\n",
        "  test_acc_list.append(accuracy_score(y_test, pred_test))\n",
        "\n",
        "# for(int i; i<depth_list.length; i++)"
      ]
    },
    {
      "cell_type": "code",
      "execution_count": 227,
      "metadata": {
        "id": "4A-3IWwScyIy",
        "colab": {
          "base_uri": "https://localhost:8080/",
          "height": 328
        },
        "outputId": "8454dd77-eb1f-4831-c9f0-b08a78b3466a"
      },
      "outputs": [
        {
          "output_type": "execute_result",
          "data": {
            "text/plain": [
              "   max_depth     Train      Test\n",
              "0          1  0.922535  0.902098\n",
              "1          2  0.964789  0.937063\n",
              "2          3  0.971831  0.944056\n",
              "3          4  0.985915  0.930070\n",
              "4          5  0.997653  0.930070\n",
              "5          6  1.000000  0.930070\n",
              "6          7  1.000000  0.930070\n",
              "7          8  1.000000  0.930070\n",
              "8          9  1.000000  0.930070"
            ],
            "text/html": [
              "\n",
              "  <div id=\"df-ead12011-2dac-45b9-ae92-90da53425693\">\n",
              "    <div class=\"colab-df-container\">\n",
              "      <div>\n",
              "<style scoped>\n",
              "    .dataframe tbody tr th:only-of-type {\n",
              "        vertical-align: middle;\n",
              "    }\n",
              "\n",
              "    .dataframe tbody tr th {\n",
              "        vertical-align: top;\n",
              "    }\n",
              "\n",
              "    .dataframe thead th {\n",
              "        text-align: right;\n",
              "    }\n",
              "</style>\n",
              "<table border=\"1\" class=\"dataframe\">\n",
              "  <thead>\n",
              "    <tr style=\"text-align: right;\">\n",
              "      <th></th>\n",
              "      <th>max_depth</th>\n",
              "      <th>Train</th>\n",
              "      <th>Test</th>\n",
              "    </tr>\n",
              "  </thead>\n",
              "  <tbody>\n",
              "    <tr>\n",
              "      <th>0</th>\n",
              "      <td>1</td>\n",
              "      <td>0.922535</td>\n",
              "      <td>0.902098</td>\n",
              "    </tr>\n",
              "    <tr>\n",
              "      <th>1</th>\n",
              "      <td>2</td>\n",
              "      <td>0.964789</td>\n",
              "      <td>0.937063</td>\n",
              "    </tr>\n",
              "    <tr>\n",
              "      <th>2</th>\n",
              "      <td>3</td>\n",
              "      <td>0.971831</td>\n",
              "      <td>0.944056</td>\n",
              "    </tr>\n",
              "    <tr>\n",
              "      <th>3</th>\n",
              "      <td>4</td>\n",
              "      <td>0.985915</td>\n",
              "      <td>0.930070</td>\n",
              "    </tr>\n",
              "    <tr>\n",
              "      <th>4</th>\n",
              "      <td>5</td>\n",
              "      <td>0.997653</td>\n",
              "      <td>0.930070</td>\n",
              "    </tr>\n",
              "    <tr>\n",
              "      <th>5</th>\n",
              "      <td>6</td>\n",
              "      <td>1.000000</td>\n",
              "      <td>0.930070</td>\n",
              "    </tr>\n",
              "    <tr>\n",
              "      <th>6</th>\n",
              "      <td>7</td>\n",
              "      <td>1.000000</td>\n",
              "      <td>0.930070</td>\n",
              "    </tr>\n",
              "    <tr>\n",
              "      <th>7</th>\n",
              "      <td>8</td>\n",
              "      <td>1.000000</td>\n",
              "      <td>0.930070</td>\n",
              "    </tr>\n",
              "    <tr>\n",
              "      <th>8</th>\n",
              "      <td>9</td>\n",
              "      <td>1.000000</td>\n",
              "      <td>0.930070</td>\n",
              "    </tr>\n",
              "  </tbody>\n",
              "</table>\n",
              "</div>\n",
              "      <button class=\"colab-df-convert\" onclick=\"convertToInteractive('df-ead12011-2dac-45b9-ae92-90da53425693')\"\n",
              "              title=\"Convert this dataframe to an interactive table.\"\n",
              "              style=\"display:none;\">\n",
              "        \n",
              "  <svg xmlns=\"http://www.w3.org/2000/svg\" height=\"24px\"viewBox=\"0 0 24 24\"\n",
              "       width=\"24px\">\n",
              "    <path d=\"M0 0h24v24H0V0z\" fill=\"none\"/>\n",
              "    <path d=\"M18.56 5.44l.94 2.06.94-2.06 2.06-.94-2.06-.94-.94-2.06-.94 2.06-2.06.94zm-11 1L8.5 8.5l.94-2.06 2.06-.94-2.06-.94L8.5 2.5l-.94 2.06-2.06.94zm10 10l.94 2.06.94-2.06 2.06-.94-2.06-.94-.94-2.06-.94 2.06-2.06.94z\"/><path d=\"M17.41 7.96l-1.37-1.37c-.4-.4-.92-.59-1.43-.59-.52 0-1.04.2-1.43.59L10.3 9.45l-7.72 7.72c-.78.78-.78 2.05 0 2.83L4 21.41c.39.39.9.59 1.41.59.51 0 1.02-.2 1.41-.59l7.78-7.78 2.81-2.81c.8-.78.8-2.07 0-2.86zM5.41 20L4 18.59l7.72-7.72 1.47 1.35L5.41 20z\"/>\n",
              "  </svg>\n",
              "      </button>\n",
              "      \n",
              "  <style>\n",
              "    .colab-df-container {\n",
              "      display:flex;\n",
              "      flex-wrap:wrap;\n",
              "      gap: 12px;\n",
              "    }\n",
              "\n",
              "    .colab-df-convert {\n",
              "      background-color: #E8F0FE;\n",
              "      border: none;\n",
              "      border-radius: 50%;\n",
              "      cursor: pointer;\n",
              "      display: none;\n",
              "      fill: #1967D2;\n",
              "      height: 32px;\n",
              "      padding: 0 0 0 0;\n",
              "      width: 32px;\n",
              "    }\n",
              "\n",
              "    .colab-df-convert:hover {\n",
              "      background-color: #E2EBFA;\n",
              "      box-shadow: 0px 1px 2px rgba(60, 64, 67, 0.3), 0px 1px 3px 1px rgba(60, 64, 67, 0.15);\n",
              "      fill: #174EA6;\n",
              "    }\n",
              "\n",
              "    [theme=dark] .colab-df-convert {\n",
              "      background-color: #3B4455;\n",
              "      fill: #D2E3FC;\n",
              "    }\n",
              "\n",
              "    [theme=dark] .colab-df-convert:hover {\n",
              "      background-color: #434B5C;\n",
              "      box-shadow: 0px 1px 3px 1px rgba(0, 0, 0, 0.15);\n",
              "      filter: drop-shadow(0px 1px 2px rgba(0, 0, 0, 0.3));\n",
              "      fill: #FFFFFF;\n",
              "    }\n",
              "  </style>\n",
              "\n",
              "      <script>\n",
              "        const buttonEl =\n",
              "          document.querySelector('#df-ead12011-2dac-45b9-ae92-90da53425693 button.colab-df-convert');\n",
              "        buttonEl.style.display =\n",
              "          google.colab.kernel.accessAllowed ? 'block' : 'none';\n",
              "\n",
              "        async function convertToInteractive(key) {\n",
              "          const element = document.querySelector('#df-ead12011-2dac-45b9-ae92-90da53425693');\n",
              "          const dataTable =\n",
              "            await google.colab.kernel.invokeFunction('convertToInteractive',\n",
              "                                                     [key], {});\n",
              "          if (!dataTable) return;\n",
              "\n",
              "          const docLinkHtml = 'Like what you see? Visit the ' +\n",
              "            '<a target=\"_blank\" href=https://colab.research.google.com/notebooks/data_table.ipynb>data table notebook</a>'\n",
              "            + ' to learn more about interactive tables.';\n",
              "          element.innerHTML = '';\n",
              "          dataTable['output_type'] = 'display_data';\n",
              "          await google.colab.output.renderOutput(dataTable, element);\n",
              "          const docLink = document.createElement('div');\n",
              "          docLink.innerHTML = docLinkHtml;\n",
              "          element.appendChild(docLink);\n",
              "        }\n",
              "      </script>\n",
              "    </div>\n",
              "  </div>\n",
              "  "
            ]
          },
          "metadata": {},
          "execution_count": 227
        }
      ],
      "source": [
        "import pandas as pd\n",
        "result = pd.DataFrame(dict(max_depth = depth_list,\n",
        "                           Train = train_acc_list,\n",
        "                           Test = test_acc_list))\n",
        "result"
      ]
    },
    {
      "cell_type": "code",
      "execution_count": 228,
      "metadata": {
        "id": "-V1hI81eaXi8",
        "colab": {
          "base_uri": "https://localhost:8080/",
          "height": 442
        },
        "outputId": "a3eebc0d-614f-44f0-848f-f485558748c2"
      },
      "outputs": [
        {
          "output_type": "display_data",
          "data": {
            "text/plain": [
              "<Figure size 504x504 with 1 Axes>"
            ],
            "image/png": "[encoded data removed]"
          },
          "metadata": {
            "needs_background": "light"
          }
        }
      ],
      "source": [
        "import matplotlib.pyplot as plt\n",
        "plt.figure(figsize = (7,7))\n",
        "plt.plot(depth_list, train_acc_list, label = 'Train acc')\n",
        "plt.plot(depth_list, test_acc_list, label = 'Test acc')\n",
        "plt.xlabel('max depth')\n",
        "plt.show()"
      ]
    },
    {
      "cell_type": "code",
      "execution_count": 229,
      "metadata": {
        "id": "xGGAeBNGaXmY"
      },
      "outputs": [],
      "source": [
        "# GridSearch --> optimiztion of hyperparameter"
      ]
    },
    {
      "cell_type": "code",
      "execution_count": 230,
      "metadata": {
        "id": "JrSL26IyuDQx"
      },
      "outputs": [],
      "source": [
        "from sklearn.datasets import load_breast_cancer\n",
        "from sklearn.model_selection import train_test_split\n",
        "\n",
        "X, y = load_breast_cancer(return_X_y = True)\n",
        "\n",
        "X_train, X_test, y_train, y_test = train_test_split(X, y, stratify = y, random_state=1)"
      ]
    },
    {
      "cell_type": "code",
      "execution_count": 231,
      "metadata": {
        "id": "WpqPV_iruDTW"
      },
      "outputs": [],
      "source": [
        "from sklearn.tree import DecisionTreeClassifier\n",
        "from sklearn.model_selection import GridSearchCV\n",
        "\n",
        "tree = DecisionTreeClassifier()\n",
        "param_grid = {\n",
        "    'max_depth': range(1,11),\n",
        "    'max_leaf_nodes':[3,5,7,9],\n",
        "    'random_state': [1]\n",
        "}\n",
        "\n",
        "grid_search = GridSearchCV(tree,\n",
        "                           param_grid = param_grid,\n",
        "                           scoring = ['accuracy', 'recall', 'precision'],\n",
        "                           refit = 'accuracy',\n",
        "                           cv = 5,\n",
        "                           n_jobs = -1)"
      ]
    },
    {
      "cell_type": "code",
      "execution_count": 232,
      "metadata": {
        "id": "FfCrAs6FuDV8",
        "colab": {
          "base_uri": "https://localhost:8080/"
        },
        "outputId": "4a9d9dd1-3edf-4b04-d296-b77ad1ae2b76"
      },
      "outputs": [
        {
          "output_type": "execute_result",
          "data": {
            "text/plain": [
              "GridSearchCV(cv=5, estimator=DecisionTreeClassifier(), n_jobs=-1,\n",
              "             param_grid={'max_depth': range(1, 11),\n",
              "                         'max_leaf_nodes': [3, 5, 7, 9], 'random_state': [1]},\n",
              "             refit='accuracy', scoring=['accuracy', 'recall', 'precision'])"
            ]
          },
          "metadata": {},
          "execution_count": 232
        }
      ],
      "source": [
        "grid_search.fit(X_train, y_train)"
      ]
    },
    {
      "cell_type": "code",
      "execution_count": 233,
      "metadata": {
        "id": "MaQtKDA7uDY5",
        "colab": {
          "base_uri": "https://localhost:8080/"
        },
        "outputId": "26e2575d-4c20-4074-dba5-cd1f6d34bcdc"
      },
      "outputs": [
        {
          "output_type": "execute_result",
          "data": {
            "text/plain": [
              "0.9577464788732394"
            ]
          },
          "metadata": {},
          "execution_count": 233
        }
      ],
      "source": [
        "from sklearn.metrics import accuracy_score\n",
        "\n",
        "pred_train = grid_search.predict(X_train)\n",
        "accuracy_score(y_train, pred_train)"
      ]
    },
    {
      "cell_type": "code",
      "execution_count": 234,
      "metadata": {
        "id": "B93L97GcuDa9",
        "colab": {
          "base_uri": "https://localhost:8080/",
          "height": 1000
        },
        "outputId": "4ea75396-5385-4b56-f4e9-09555d2ce641"
      },
      "outputs": [
        {
          "output_type": "execute_result",
          "data": {
            "text/plain": [
              "    mean_fit_time  std_fit_time  mean_score_time  std_score_time  \\\n",
              "0        0.003471      0.001034         0.003023        0.000123   \n",
              "1        0.002743      0.000055         0.002906        0.000059   \n",
              "2        0.002748      0.000221         0.002625        0.000117   \n",
              "3        0.002674      0.000100         0.002769        0.000116   \n",
              "4        0.004028      0.000080         0.002664        0.000190   \n",
              "5        0.004009      0.000130         0.002689        0.000208   \n",
              "6        0.003961      0.000036         0.002683        0.000078   \n",
              "7        0.005930      0.003895         0.004927        0.003776   \n",
              "8        0.006966      0.002611         0.002993        0.000122   \n",
              "9        0.005314      0.000231         0.003017        0.000232   \n",
              "10       0.005312      0.000206         0.003038        0.000284   \n",
              "11       0.005417      0.000212         0.002914        0.000056   \n",
              "12       0.004764      0.000163         0.002628        0.000089   \n",
              "13       0.005437      0.000431         0.002720        0.000190   \n",
              "14       0.006080      0.000298         0.002767        0.000151   \n",
              "15       0.006311      0.000155         0.002802        0.000504   \n",
              "16       0.006162      0.002425         0.005750        0.005812   \n",
              "17       0.006914      0.002353         0.002842        0.000201   \n",
              "18       0.006304      0.000524         0.002805        0.000610   \n",
              "19       0.007153      0.001426         0.002698        0.000254   \n",
              "20       0.006432      0.001831         0.003956        0.001292   \n",
              "21       0.005404      0.000337         0.002624        0.000191   \n",
              "22       0.007354      0.002394         0.002785        0.000217   \n",
              "23       0.006782      0.000514         0.002880        0.000575   \n",
              "24       0.004981      0.000228         0.002780        0.000151   \n",
              "25       0.005721      0.000667         0.002624        0.000131   \n",
              "26       0.006116      0.000263         0.002582        0.000066   \n",
              "27       0.006850      0.000563         0.002829        0.000087   \n",
              "28       0.006981      0.004284         0.002681        0.000081   \n",
              "29       0.005435      0.000368         0.002564        0.000096   \n",
              "30       0.006097      0.000303         0.003042        0.000798   \n",
              "31       0.006987      0.000469         0.004615        0.003686   \n",
              "32       0.004828      0.000200         0.002715        0.000099   \n",
              "33       0.005505      0.000459         0.002549        0.000052   \n",
              "34       0.006898      0.001672         0.005553        0.003180   \n",
              "35       0.011448      0.001743         0.004267        0.001092   \n",
              "36       0.005739      0.000401         0.003120        0.000400   \n",
              "37       0.005506      0.000400         0.002970        0.000387   \n",
              "38       0.006067      0.000336         0.002719        0.000289   \n",
              "39       0.006682      0.000155         0.003134        0.000674   \n",
              "\n",
              "   param_max_depth param_max_leaf_nodes param_random_state  \\\n",
              "0                1                    3                  1   \n",
              "1                1                    5                  1   \n",
              "2                1                    7                  1   \n",
              "3                1                    9                  1   \n",
              "4                2                    3                  1   \n",
              "5                2                    5                  1   \n",
              "6                2                    7                  1   \n",
              "7                2                    9                  1   \n",
              "8                3                    3                  1   \n",
              "9                3                    5                  1   \n",
              "10               3                    7                  1   \n",
              "11               3                    9                  1   \n",
              "12               4                    3                  1   \n",
              "13               4                    5                  1   \n",
              "14               4                    7                  1   \n",
              "15               4                    9                  1   \n",
              "16               5                    3                  1   \n",
              "17               5                    5                  1   \n",
              "18               5                    7                  1   \n",
              "19               5                    9                  1   \n",
              "20               6                    3                  1   \n",
              "21               6                    5                  1   \n",
              "22               6                    7                  1   \n",
              "23               6                    9                  1   \n",
              "24               7                    3                  1   \n",
              "25               7                    5                  1   \n",
              "26               7                    7                  1   \n",
              "27               7                    9                  1   \n",
              "28               8                    3                  1   \n",
              "29               8                    5                  1   \n",
              "30               8                    7                  1   \n",
              "31               8                    9                  1   \n",
              "32               9                    3                  1   \n",
              "33               9                    5                  1   \n",
              "34               9                    7                  1   \n",
              "35               9                    9                  1   \n",
              "36              10                    3                  1   \n",
              "37              10                    5                  1   \n",
              "38              10                    7                  1   \n",
              "39              10                    9                  1   \n",
              "\n",
              "                                               params  split0_test_accuracy  \\\n",
              "0   {'max_depth': 1, 'max_leaf_nodes': 3, 'random_...              0.872093   \n",
              "1   {'max_depth': 1, 'max_leaf_nodes': 5, 'random_...              0.872093   \n",
              "2   {'max_depth': 1, 'max_leaf_nodes': 7, 'random_...              0.872093   \n",
              "3   {'max_depth': 1, 'max_leaf_nodes': 9, 'random_...              0.872093   \n",
              "4   {'max_depth': 2, 'max_leaf_nodes': 3, 'random_...              0.918605   \n",
              "5   {'max_depth': 2, 'max_leaf_nodes': 5, 'random_...              0.918605   \n",
              "6   {'max_depth': 2, 'max_leaf_nodes': 7, 'random_...              0.918605   \n",
              "7   {'max_depth': 2, 'max_leaf_nodes': 9, 'random_...              0.918605   \n",
              "8   {'max_depth': 3, 'max_leaf_nodes': 3, 'random_...              0.918605   \n",
              "9   {'max_depth': 3, 'max_leaf_nodes': 5, 'random_...              0.918605   \n",
              "10  {'max_depth': 3, 'max_leaf_nodes': 7, 'random_...              0.895349   \n",
              "11  {'max_depth': 3, 'max_leaf_nodes': 9, 'random_...              0.895349   \n",
              "12  {'max_depth': 4, 'max_leaf_nodes': 3, 'random_...              0.918605   \n",
              "13  {'max_depth': 4, 'max_leaf_nodes': 5, 'random_...              0.918605   \n",
              "14  {'max_depth': 4, 'max_leaf_nodes': 7, 'random_...              0.895349   \n",
              "15  {'max_depth': 4, 'max_leaf_nodes': 9, 'random_...              0.895349   \n",
              "16  {'max_depth': 5, 'max_leaf_nodes': 3, 'random_...              0.918605   \n",
              "17  {'max_depth': 5, 'max_leaf_nodes': 5, 'random_...              0.918605   \n",
              "18  {'max_depth': 5, 'max_leaf_nodes': 7, 'random_...              0.895349   \n",
              "19  {'max_depth': 5, 'max_leaf_nodes': 9, 'random_...              0.918605   \n",
              "20  {'max_depth': 6, 'max_leaf_nodes': 3, 'random_...              0.918605   \n",
              "21  {'max_depth': 6, 'max_leaf_nodes': 5, 'random_...              0.918605   \n",
              "22  {'max_depth': 6, 'max_leaf_nodes': 7, 'random_...              0.895349   \n",
              "23  {'max_depth': 6, 'max_leaf_nodes': 9, 'random_...              0.918605   \n",
              "24  {'max_depth': 7, 'max_leaf_nodes': 3, 'random_...              0.918605   \n",
              "25  {'max_depth': 7, 'max_leaf_nodes': 5, 'random_...              0.918605   \n",
              "26  {'max_depth': 7, 'max_leaf_nodes': 7, 'random_...              0.895349   \n",
              "27  {'max_depth': 7, 'max_leaf_nodes': 9, 'random_...              0.918605   \n",
              "28  {'max_depth': 8, 'max_leaf_nodes': 3, 'random_...              0.918605   \n",
              "29  {'max_depth': 8, 'max_leaf_nodes': 5, 'random_...              0.918605   \n",
              "30  {'max_depth': 8, 'max_leaf_nodes': 7, 'random_...              0.895349   \n",
              "31  {'max_depth': 8, 'max_leaf_nodes': 9, 'random_...              0.918605   \n",
              "32  {'max_depth': 9, 'max_leaf_nodes': 3, 'random_...              0.918605   \n",
              "33  {'max_depth': 9, 'max_leaf_nodes': 5, 'random_...              0.918605   \n",
              "34  {'max_depth': 9, 'max_leaf_nodes': 7, 'random_...              0.895349   \n",
              "35  {'max_depth': 9, 'max_leaf_nodes': 9, 'random_...              0.918605   \n",
              "36  {'max_depth': 10, 'max_leaf_nodes': 3, 'random...              0.918605   \n",
              "37  {'max_depth': 10, 'max_leaf_nodes': 5, 'random...              0.918605   \n",
              "38  {'max_depth': 10, 'max_leaf_nodes': 7, 'random...              0.895349   \n",
              "39  {'max_depth': 10, 'max_leaf_nodes': 9, 'random...              0.918605   \n",
              "\n",
              "    split1_test_accuracy  ...  std_test_recall  rank_test_recall  \\\n",
              "0               0.882353  ...         0.063856                37   \n",
              "1               0.882353  ...         0.063856                37   \n",
              "2               0.882353  ...         0.063856                37   \n",
              "3               0.882353  ...         0.063856                37   \n",
              "4               0.952941  ...         0.018705                12   \n",
              "5               0.952941  ...         0.022197                 9   \n",
              "6               0.952941  ...         0.022197                 9   \n",
              "7               0.952941  ...         0.022197                 9   \n",
              "8               0.952941  ...         0.018705                12   \n",
              "9               0.929412  ...         0.025739                 1   \n",
              "10              0.941176  ...         0.018705                12   \n",
              "11              0.941176  ...         0.018705                12   \n",
              "12              0.952941  ...         0.018705                12   \n",
              "13              0.929412  ...         0.025739                 1   \n",
              "14              0.941176  ...         0.025854                24   \n",
              "15              0.941176  ...         0.028429                23   \n",
              "16              0.952941  ...         0.018705                12   \n",
              "17              0.929412  ...         0.025739                 1   \n",
              "18              0.941176  ...         0.025854                24   \n",
              "19              0.941176  ...         0.025854                24   \n",
              "20              0.952941  ...         0.018705                12   \n",
              "21              0.929412  ...         0.025739                 1   \n",
              "22              0.941176  ...         0.025854                24   \n",
              "23              0.941176  ...         0.025854                24   \n",
              "24              0.952941  ...         0.018705                12   \n",
              "25              0.929412  ...         0.025739                 1   \n",
              "26              0.941176  ...         0.025854                24   \n",
              "27              0.941176  ...         0.025854                24   \n",
              "28              0.952941  ...         0.018705                12   \n",
              "29              0.929412  ...         0.025739                 1   \n",
              "30              0.941176  ...         0.025854                24   \n",
              "31              0.941176  ...         0.025854                24   \n",
              "32              0.952941  ...         0.018705                12   \n",
              "33              0.929412  ...         0.025739                 1   \n",
              "34              0.941176  ...         0.025854                24   \n",
              "35              0.941176  ...         0.025854                24   \n",
              "36              0.952941  ...         0.018705                12   \n",
              "37              0.929412  ...         0.025739                 1   \n",
              "38              0.941176  ...         0.025854                24   \n",
              "39              0.941176  ...         0.025854                24   \n",
              "\n",
              "    split0_test_precision  split1_test_precision  split2_test_precision  \\\n",
              "0                0.830769               0.879310               0.910714   \n",
              "1                0.830769               0.879310               0.910714   \n",
              "2                0.830769               0.879310               0.910714   \n",
              "3                0.830769               0.879310               0.910714   \n",
              "4                0.912281               0.980769               0.943396   \n",
              "5                0.912281               0.962963               0.925926   \n",
              "6                0.912281               0.962963               0.925926   \n",
              "7                0.912281               0.962963               0.925926   \n",
              "8                0.912281               0.980769               0.943396   \n",
              "9                0.898305               0.928571               0.925926   \n",
              "10               0.894737               0.945455               0.925926   \n",
              "11               0.894737               0.945455               0.925926   \n",
              "12               0.912281               0.980769               0.943396   \n",
              "13               0.898305               0.928571               0.925926   \n",
              "14               0.894737               0.945455               0.942308   \n",
              "15               0.894737               0.945455               0.960784   \n",
              "16               0.912281               0.980769               0.943396   \n",
              "17               0.898305               0.928571               0.925926   \n",
              "18               0.894737               0.945455               0.942308   \n",
              "19               0.927273               0.945455               0.942308   \n",
              "20               0.912281               0.980769               0.943396   \n",
              "21               0.898305               0.928571               0.925926   \n",
              "22               0.894737               0.945455               0.942308   \n",
              "23               0.927273               0.945455               0.942308   \n",
              "24               0.912281               0.980769               0.943396   \n",
              "25               0.898305               0.928571               0.925926   \n",
              "26               0.894737               0.945455               0.942308   \n",
              "27               0.927273               0.945455               0.942308   \n",
              "28               0.912281               0.980769               0.943396   \n",
              "29               0.898305               0.928571               0.925926   \n",
              "30               0.894737               0.945455               0.942308   \n",
              "31               0.927273               0.945455               0.942308   \n",
              "32               0.912281               0.980769               0.943396   \n",
              "33               0.898305               0.928571               0.925926   \n",
              "34               0.894737               0.945455               0.942308   \n",
              "35               0.927273               0.945455               0.942308   \n",
              "36               0.912281               0.980769               0.943396   \n",
              "37               0.898305               0.928571               0.925926   \n",
              "38               0.894737               0.945455               0.942308   \n",
              "39               0.927273               0.945455               0.942308   \n",
              "\n",
              "    split3_test_precision  split4_test_precision  mean_test_precision  \\\n",
              "0                0.955556               0.892857             0.893841   \n",
              "1                0.955556               0.892857             0.893841   \n",
              "2                0.955556               0.892857             0.893841   \n",
              "3                0.955556               0.892857             0.893841   \n",
              "4                0.923077               0.961538             0.944212   \n",
              "5                0.923077               0.962264             0.937302   \n",
              "6                0.923077               0.962264             0.937302   \n",
              "7                0.923077               0.962264             0.937302   \n",
              "8                0.923077               0.961538             0.944212   \n",
              "9                0.941176               0.962264             0.931249   \n",
              "10               0.941176               0.961538             0.933766   \n",
              "11               0.941176               0.961538             0.933766   \n",
              "12               0.923077               0.961538             0.944212   \n",
              "13               0.941176               0.962264             0.931249   \n",
              "14               0.940000               0.961538             0.936808   \n",
              "15               0.940000               0.962264             0.940648   \n",
              "16               0.923077               0.961538             0.944212   \n",
              "17               0.941176               0.962264             0.931249   \n",
              "18               0.940000               0.961538             0.936808   \n",
              "19               0.940000               0.961538             0.943315   \n",
              "20               0.923077               0.961538             0.944212   \n",
              "21               0.941176               0.962264             0.931249   \n",
              "22               0.940000               0.961538             0.936808   \n",
              "23               0.940000               0.961538             0.943315   \n",
              "24               0.923077               0.961538             0.944212   \n",
              "25               0.941176               0.962264             0.931249   \n",
              "26               0.940000               0.961538             0.936808   \n",
              "27               0.940000               0.961538             0.943315   \n",
              "28               0.923077               0.961538             0.944212   \n",
              "29               0.941176               0.962264             0.931249   \n",
              "30               0.940000               0.961538             0.936808   \n",
              "31               0.940000               0.961538             0.943315   \n",
              "32               0.923077               0.961538             0.944212   \n",
              "33               0.941176               0.962264             0.931249   \n",
              "34               0.940000               0.961538             0.936808   \n",
              "35               0.940000               0.961538             0.943315   \n",
              "36               0.923077               0.961538             0.944212   \n",
              "37               0.941176               0.962264             0.931249   \n",
              "38               0.940000               0.961538             0.936808   \n",
              "39               0.940000               0.961538             0.943315   \n",
              "\n",
              "    std_test_precision  rank_test_precision  \n",
              "0             0.040703                   37  \n",
              "1             0.040703                   37  \n",
              "2             0.040703                   37  \n",
              "3             0.040703                   37  \n",
              "4             0.024914                    1  \n",
              "5             0.021163                   17  \n",
              "6             0.021163                   17  \n",
              "7             0.021163                   17  \n",
              "8             0.024914                    1  \n",
              "9             0.020887                   29  \n",
              "10            0.022572                   27  \n",
              "11            0.022572                   27  \n",
              "12            0.024914                    1  \n",
              "13            0.020887                   29  \n",
              "14            0.022346                   20  \n",
              "15            0.024512                   16  \n",
              "16            0.024914                    1  \n",
              "17            0.020887                   29  \n",
              "18            0.022346                   20  \n",
              "19            0.011009                   10  \n",
              "20            0.024914                    1  \n",
              "21            0.020887                   29  \n",
              "22            0.022346                   20  \n",
              "23            0.011009                   10  \n",
              "24            0.024914                    1  \n",
              "25            0.020887                   29  \n",
              "26            0.022346                   20  \n",
              "27            0.011009                   10  \n",
              "28            0.024914                    1  \n",
              "29            0.020887                   29  \n",
              "30            0.022346                   20  \n",
              "31            0.011009                   10  \n",
              "32            0.024914                    1  \n",
              "33            0.020887                   29  \n",
              "34            0.022346                   20  \n",
              "35            0.011009                   10  \n",
              "36            0.024914                    1  \n",
              "37            0.020887                   29  \n",
              "38            0.022346                   20  \n",
              "39            0.011009                   10  \n",
              "\n",
              "[40 rows x 32 columns]"
            ],
            "text/html": [
              "\n",
              "  <div id=\"df-911d9209-4fc7-4c6f-9a08-0711f4db1ed9\">\n",
              "    <div class=\"colab-df-container\">\n",
              "      <div>\n",
              "<style scoped>\n",
              "    .dataframe tbody tr th:only-of-type {\n",
              "        vertical-align: middle;\n",
              "    }\n",
              "\n",
              "    .dataframe tbody tr th {\n",
              "        vertical-align: top;\n",
              "    }\n",
              "\n",
              "    .dataframe thead th {\n",
              "        text-align: right;\n",
              "    }\n",
              "</style>\n",
              "<table border=\"1\" class=\"dataframe\">\n",
              "  <thead>\n",
              "    <tr style=\"text-align: right;\">\n",
              "      <th></th>\n",
              "      <th>mean_fit_time</th>\n",
              "      <th>std_fit_time</th>\n",
              "      <th>mean_score_time</th>\n",
              "      <th>std_score_time</th>\n",
              "      <th>param_max_depth</th>\n",
              "      <th>param_max_leaf_nodes</th>\n",
              "      <th>param_random_state</th>\n",
              "      <th>params</th>\n",
              "      <th>split0_test_accuracy</th>\n",
              "      <th>split1_test_accuracy</th>\n",
              "      <th>...</th>\n",
              "      <th>std_test_recall</th>\n",
              "      <th>rank_test_recall</th>\n",
              "      <th>split0_test_precision</th>\n",
              "      <th>split1_test_precision</th>\n",
              "      <th>split2_test_precision</th>\n",
              "      <th>split3_test_precision</th>\n",
              "      <th>split4_test_precision</th>\n",
              "      <th>mean_test_precision</th>\n",
              "      <th>std_test_precision</th>\n",
              "      <th>rank_test_precision</th>\n",
              "    </tr>\n",
              "  </thead>\n",
              "  <tbody>\n",
              "    <tr>\n",
              "      <th>0</th>\n",
              "      <td>0.003471</td>\n",
              "      <td>0.001034</td>\n",
              "      <td>0.003023</td>\n",
              "      <td>0.000123</td>\n",
              "      <td>1</td>\n",
              "      <td>3</td>\n",
              "      <td>1</td>\n",
              "      <td>{'max_depth': 1, 'max_leaf_nodes': 3, 'random_...</td>\n",
              "      <td>0.872093</td>\n",
              "      <td>0.882353</td>\n",
              "      <td>...</td>\n",
              "      <td>0.063856</td>\n",
              "      <td>37</td>\n",
              "      <td>0.830769</td>\n",
              "      <td>0.879310</td>\n",
              "      <td>0.910714</td>\n",
              "      <td>0.955556</td>\n",
              "      <td>0.892857</td>\n",
              "      <td>0.893841</td>\n",
              "      <td>0.040703</td>\n",
              "      <td>37</td>\n",
              "    </tr>\n",
              "    <tr>\n",
              "      <th>1</th>\n",
              "      <td>0.002743</td>\n",
              "      <td>0.000055</td>\n",
              "      <td>0.002906</td>\n",
              "      <td>0.000059</td>\n",
              "      <td>1</td>\n",
              "      <td>5</td>\n",
              "      <td>1</td>\n",
              "      <td>{'max_depth': 1, 'max_leaf_nodes': 5, 'random_...</td>\n",
              "      <td>0.872093</td>\n",
              "      <td>0.882353</td>\n",
              "      <td>...</td>\n",
              "      <td>0.063856</td>\n",
              "      <td>37</td>\n",
              "      <td>0.830769</td>\n",
              "      <td>0.879310</td>\n",
              "      <td>0.910714</td>\n",
              "      <td>0.955556</td>\n",
              "      <td>0.892857</td>\n",
              "      <td>0.893841</td>\n",
              "      <td>0.040703</td>\n",
              "      <td>37</td>\n",
              "    </tr>\n",
              "    <tr>\n",
              "      <th>2</th>\n",
              "      <td>0.002748</td>\n",
              "      <td>0.000221</td>\n",
              "      <td>0.002625</td>\n",
              "      <td>0.000117</td>\n",
              "      <td>1</td>\n",
              "      <td>7</td>\n",
              "      <td>1</td>\n",
              "      <td>{'max_depth': 1, 'max_leaf_nodes': 7, 'random_...</td>\n",
              "      <td>0.872093</td>\n",
              "      <td>0.882353</td>\n",
              "      <td>...</td>\n",
              "      <td>0.063856</td>\n",
              "      <td>37</td>\n",
              "      <td>0.830769</td>\n",
              "      <td>0.879310</td>\n",
              "      <td>0.910714</td>\n",
              "      <td>0.955556</td>\n",
              "      <td>0.892857</td>\n",
              "      <td>0.893841</td>\n",
              "      <td>0.040703</td>\n",
              "      <td>37</td>\n",
              "    </tr>\n",
              "    <tr>\n",
              "      <th>3</th>\n",
              "      <td>0.002674</td>\n",
              "      <td>0.000100</td>\n",
              "      <td>0.002769</td>\n",
              "      <td>0.000116</td>\n",
              "      <td>1</td>\n",
              "      <td>9</td>\n",
              "      <td>1</td>\n",
              "      <td>{'max_depth': 1, 'max_leaf_nodes': 9, 'random_...</td>\n",
              "      <td>0.872093</td>\n",
              "      <td>0.882353</td>\n",
              "      <td>...</td>\n",
              "      <td>0.063856</td>\n",
              "      <td>37</td>\n",
              "      <td>0.830769</td>\n",
              "      <td>0.879310</td>\n",
              "      <td>0.910714</td>\n",
              "      <td>0.955556</td>\n",
              "      <td>0.892857</td>\n",
              "      <td>0.893841</td>\n",
              "      <td>0.040703</td>\n",
              "      <td>37</td>\n",
              "    </tr>\n",
              "    <tr>\n",
              "      <th>4</th>\n",
              "      <td>0.004028</td>\n",
              "      <td>0.000080</td>\n",
              "      <td>0.002664</td>\n",
              "      <td>0.000190</td>\n",
              "      <td>2</td>\n",
              "      <td>3</td>\n",
              "      <td>1</td>\n",
              "      <td>{'max_depth': 2, 'max_leaf_nodes': 3, 'random_...</td>\n",
              "      <td>0.918605</td>\n",
              "      <td>0.952941</td>\n",
              "      <td>...</td>\n",
              "      <td>0.018705</td>\n",
              "      <td>12</td>\n",
              "      <td>0.912281</td>\n",
              "      <td>0.980769</td>\n",
              "      <td>0.943396</td>\n",
              "      <td>0.923077</td>\n",
              "      <td>0.961538</td>\n",
              "      <td>0.944212</td>\n",
              "      <td>0.024914</td>\n",
              "      <td>1</td>\n",
              "    </tr>\n",
              "    <tr>\n",
              "      <th>5</th>\n",
              "      <td>0.004009</td>\n",
              "      <td>0.000130</td>\n",
              "      <td>0.002689</td>\n",
              "      <td>0.000208</td>\n",
              "      <td>2</td>\n",
              "      <td>5</td>\n",
              "      <td>1</td>\n",
              "      <td>{'max_depth': 2, 'max_leaf_nodes': 5, 'random_...</td>\n",
              "      <td>0.918605</td>\n",
              "      <td>0.952941</td>\n",
              "      <td>...</td>\n",
              "      <td>0.022197</td>\n",
              "      <td>9</td>\n",
              "      <td>0.912281</td>\n",
              "      <td>0.962963</td>\n",
              "      <td>0.925926</td>\n",
              "      <td>0.923077</td>\n",
              "      <td>0.962264</td>\n",
              "      <td>0.937302</td>\n",
              "      <td>0.021163</td>\n",
              "      <td>17</td>\n",
              "    </tr>\n",
              "    <tr>\n",
              "      <th>6</th>\n",
              "      <td>0.003961</td>\n",
              "      <td>0.000036</td>\n",
              "      <td>0.002683</td>\n",
              "      <td>0.000078</td>\n",
              "      <td>2</td>\n",
              "      <td>7</td>\n",
              "      <td>1</td>\n",
              "      <td>{'max_depth': 2, 'max_leaf_nodes': 7, 'random_...</td>\n",
              "      <td>0.918605</td>\n",
              "      <td>0.952941</td>\n",
              "      <td>...</td>\n",
              "      <td>0.022197</td>\n",
              "      <td>9</td>\n",
              "      <td>0.912281</td>\n",
              "      <td>0.962963</td>\n",
              "      <td>0.925926</td>\n",
              "      <td>0.923077</td>\n",
              "      <td>0.962264</td>\n",
              "      <td>0.937302</td>\n",
              "      <td>0.021163</td>\n",
              "      <td>17</td>\n",
              "    </tr>\n",
              "    <tr>\n",
              "      <th>7</th>\n",
              "      <td>0.005930</td>\n",
              "      <td>0.003895</td>\n",
              "      <td>0.004927</td>\n",
              "      <td>0.003776</td>\n",
              "      <td>2</td>\n",
              "      <td>9</td>\n",
              "      <td>1</td>\n",
              "      <td>{'max_depth': 2, 'max_leaf_nodes': 9, 'random_...</td>\n",
              "      <td>0.918605</td>\n",
              "      <td>0.952941</td>\n",
              "      <td>...</td>\n",
              "      <td>0.022197</td>\n",
              "      <td>9</td>\n",
              "      <td>0.912281</td>\n",
              "      <td>0.962963</td>\n",
              "      <td>0.925926</td>\n",
              "      <td>0.923077</td>\n",
              "      <td>0.962264</td>\n",
              "      <td>0.937302</td>\n",
              "      <td>0.021163</td>\n",
              "      <td>17</td>\n",
              "    </tr>\n",
              "    <tr>\n",
              "      <th>8</th>\n",
              "      <td>0.006966</td>\n",
              "      <td>0.002611</td>\n",
              "      <td>0.002993</td>\n",
              "      <td>0.000122</td>\n",
              "      <td>3</td>\n",
              "      <td>3</td>\n",
              "      <td>1</td>\n",
              "      <td>{'max_depth': 3, 'max_leaf_nodes': 3, 'random_...</td>\n",
              "      <td>0.918605</td>\n",
              "      <td>0.952941</td>\n",
              "      <td>...</td>\n",
              "      <td>0.018705</td>\n",
              "      <td>12</td>\n",
              "      <td>0.912281</td>\n",
              "      <td>0.980769</td>\n",
              "      <td>0.943396</td>\n",
              "      <td>0.923077</td>\n",
              "      <td>0.961538</td>\n",
              "      <td>0.944212</td>\n",
              "      <td>0.024914</td>\n",
              "      <td>1</td>\n",
              "    </tr>\n",
              "    <tr>\n",
              "      <th>9</th>\n",
              "      <td>0.005314</td>\n",
              "      <td>0.000231</td>\n",
              "      <td>0.003017</td>\n",
              "      <td>0.000232</td>\n",
              "      <td>3</td>\n",
              "      <td>5</td>\n",
              "      <td>1</td>\n",
              "      <td>{'max_depth': 3, 'max_leaf_nodes': 5, 'random_...</td>\n",
              "      <td>0.918605</td>\n",
              "      <td>0.929412</td>\n",
              "      <td>...</td>\n",
              "      <td>0.025739</td>\n",
              "      <td>1</td>\n",
              "      <td>0.898305</td>\n",
              "      <td>0.928571</td>\n",
              "      <td>0.925926</td>\n",
              "      <td>0.941176</td>\n",
              "      <td>0.962264</td>\n",
              "      <td>0.931249</td>\n",
              "      <td>0.020887</td>\n",
              "      <td>29</td>\n",
              "    </tr>\n",
              "    <tr>\n",
              "      <th>10</th>\n",
              "      <td>0.005312</td>\n",
              "      <td>0.000206</td>\n",
              "      <td>0.003038</td>\n",
              "      <td>0.000284</td>\n",
              "      <td>3</td>\n",
              "      <td>7</td>\n",
              "      <td>1</td>\n",
              "      <td>{'max_depth': 3, 'max_leaf_nodes': 7, 'random_...</td>\n",
              "      <td>0.895349</td>\n",
              "      <td>0.941176</td>\n",
              "      <td>...</td>\n",
              "      <td>0.018705</td>\n",
              "      <td>12</td>\n",
              "      <td>0.894737</td>\n",
              "      <td>0.945455</td>\n",
              "      <td>0.925926</td>\n",
              "      <td>0.941176</td>\n",
              "      <td>0.961538</td>\n",
              "      <td>0.933766</td>\n",
              "      <td>0.022572</td>\n",
              "      <td>27</td>\n",
              "    </tr>\n",
              "    <tr>\n",
              "      <th>11</th>\n",
              "      <td>0.005417</td>\n",
              "      <td>0.000212</td>\n",
              "      <td>0.002914</td>\n",
              "      <td>0.000056</td>\n",
              "      <td>3</td>\n",
              "      <td>9</td>\n",
              "      <td>1</td>\n",
              "      <td>{'max_depth': 3, 'max_leaf_nodes': 9, 'random_...</td>\n",
              "      <td>0.895349</td>\n",
              "      <td>0.941176</td>\n",
              "      <td>...</td>\n",
              "      <td>0.018705</td>\n",
              "      <td>12</td>\n",
              "      <td>0.894737</td>\n",
              "      <td>0.945455</td>\n",
              "      <td>0.925926</td>\n",
              "      <td>0.941176</td>\n",
              "      <td>0.961538</td>\n",
              "      <td>0.933766</td>\n",
              "      <td>0.022572</td>\n",
              "      <td>27</td>\n",
              "    </tr>\n",
              "    <tr>\n",
              "      <th>12</th>\n",
              "      <td>0.004764</td>\n",
              "      <td>0.000163</td>\n",
              "      <td>0.002628</td>\n",
              "      <td>0.000089</td>\n",
              "      <td>4</td>\n",
              "      <td>3</td>\n",
              "      <td>1</td>\n",
              "      <td>{'max_depth': 4, 'max_leaf_nodes': 3, 'random_...</td>\n",
              "      <td>0.918605</td>\n",
              "      <td>0.952941</td>\n",
              "      <td>...</td>\n",
              "      <td>0.018705</td>\n",
              "      <td>12</td>\n",
              "      <td>0.912281</td>\n",
              "      <td>0.980769</td>\n",
              "      <td>0.943396</td>\n",
              "      <td>0.923077</td>\n",
              "      <td>0.961538</td>\n",
              "      <td>0.944212</td>\n",
              "      <td>0.024914</td>\n",
              "      <td>1</td>\n",
              "    </tr>\n",
              "    <tr>\n",
              "      <th>13</th>\n",
              "      <td>0.005437</td>\n",
              "      <td>0.000431</td>\n",
              "      <td>0.002720</td>\n",
              "      <td>0.000190</td>\n",
              "      <td>4</td>\n",
              "      <td>5</td>\n",
              "      <td>1</td>\n",
              "      <td>{'max_depth': 4, 'max_leaf_nodes': 5, 'random_...</td>\n",
              "      <td>0.918605</td>\n",
              "      <td>0.929412</td>\n",
              "      <td>...</td>\n",
              "      <td>0.025739</td>\n",
              "      <td>1</td>\n",
              "      <td>0.898305</td>\n",
              "      <td>0.928571</td>\n",
              "      <td>0.925926</td>\n",
              "      <td>0.941176</td>\n",
              "      <td>0.962264</td>\n",
              "      <td>0.931249</td>\n",
              "      <td>0.020887</td>\n",
              "      <td>29</td>\n",
              "    </tr>\n",
              "    <tr>\n",
              "      <th>14</th>\n",
              "      <td>0.006080</td>\n",
              "      <td>0.000298</td>\n",
              "      <td>0.002767</td>\n",
              "      <td>0.000151</td>\n",
              "      <td>4</td>\n",
              "      <td>7</td>\n",
              "      <td>1</td>\n",
              "      <td>{'max_depth': 4, 'max_leaf_nodes': 7, 'random_...</td>\n",
              "      <td>0.895349</td>\n",
              "      <td>0.941176</td>\n",
              "      <td>...</td>\n",
              "      <td>0.025854</td>\n",
              "      <td>24</td>\n",
              "      <td>0.894737</td>\n",
              "      <td>0.945455</td>\n",
              "      <td>0.942308</td>\n",
              "      <td>0.940000</td>\n",
              "      <td>0.961538</td>\n",
              "      <td>0.936808</td>\n",
              "      <td>0.022346</td>\n",
              "      <td>20</td>\n",
              "    </tr>\n",
              "    <tr>\n",
              "      <th>15</th>\n",
              "      <td>0.006311</td>\n",
              "      <td>0.000155</td>\n",
              "      <td>0.002802</td>\n",
              "      <td>0.000504</td>\n",
              "      <td>4</td>\n",
              "      <td>9</td>\n",
              "      <td>1</td>\n",
              "      <td>{'max_depth': 4, 'max_leaf_nodes': 9, 'random_...</td>\n",
              "      <td>0.895349</td>\n",
              "      <td>0.941176</td>\n",
              "      <td>...</td>\n",
              "      <td>0.028429</td>\n",
              "      <td>23</td>\n",
              "      <td>0.894737</td>\n",
              "      <td>0.945455</td>\n",
              "      <td>0.960784</td>\n",
              "      <td>0.940000</td>\n",
              "      <td>0.962264</td>\n",
              "      <td>0.940648</td>\n",
              "      <td>0.024512</td>\n",
              "      <td>16</td>\n",
              "    </tr>\n",
              "    <tr>\n",
              "      <th>16</th>\n",
              "      <td>0.006162</td>\n",
              "      <td>0.002425</td>\n",
              "      <td>0.005750</td>\n",
              "      <td>0.005812</td>\n",
              "      <td>5</td>\n",
              "      <td>3</td>\n",
              "      <td>1</td>\n",
              "      <td>{'max_depth': 5, 'max_leaf_nodes': 3, 'random_...</td>\n",
              "      <td>0.918605</td>\n",
              "      <td>0.952941</td>\n",
              "      <td>...</td>\n",
              "      <td>0.018705</td>\n",
              "      <td>12</td>\n",
              "      <td>0.912281</td>\n",
              "      <td>0.980769</td>\n",
              "      <td>0.943396</td>\n",
              "      <td>0.923077</td>\n",
              "      <td>0.961538</td>\n",
              "      <td>0.944212</td>\n",
              "      <td>0.024914</td>\n",
              "      <td>1</td>\n",
              "    </tr>\n",
              "    <tr>\n",
              "      <th>17</th>\n",
              "      <td>0.006914</td>\n",
              "      <td>0.002353</td>\n",
              "      <td>0.002842</td>\n",
              "      <td>0.000201</td>\n",
              "      <td>5</td>\n",
              "      <td>5</td>\n",
              "      <td>1</td>\n",
              "      <td>{'max_depth': 5, 'max_leaf_nodes': 5, 'random_...</td>\n",
              "      <td>0.918605</td>\n",
              "      <td>0.929412</td>\n",
              "      <td>...</td>\n",
              "      <td>0.025739</td>\n",
              "      <td>1</td>\n",
              "      <td>0.898305</td>\n",
              "      <td>0.928571</td>\n",
              "      <td>0.925926</td>\n",
              "      <td>0.941176</td>\n",
              "      <td>0.962264</td>\n",
              "      <td>0.931249</td>\n",
              "      <td>0.020887</td>\n",
              "      <td>29</td>\n",
              "    </tr>\n",
              "    <tr>\n",
              "      <th>18</th>\n",
              "      <td>0.006304</td>\n",
              "      <td>0.000524</td>\n",
              "      <td>0.002805</td>\n",
              "      <td>0.000610</td>\n",
              "      <td>5</td>\n",
              "      <td>7</td>\n",
              "      <td>1</td>\n",
              "      <td>{'max_depth': 5, 'max_leaf_nodes': 7, 'random_...</td>\n",
              "      <td>0.895349</td>\n",
              "      <td>0.941176</td>\n",
              "      <td>...</td>\n",
              "      <td>0.025854</td>\n",
              "      <td>24</td>\n",
              "      <td>0.894737</td>\n",
              "      <td>0.945455</td>\n",
              "      <td>0.942308</td>\n",
              "      <td>0.940000</td>\n",
              "      <td>0.961538</td>\n",
              "      <td>0.936808</td>\n",
              "      <td>0.022346</td>\n",
              "      <td>20</td>\n",
              "    </tr>\n",
              "    <tr>\n",
              "      <th>19</th>\n",
              "      <td>0.007153</td>\n",
              "      <td>0.001426</td>\n",
              "      <td>0.002698</td>\n",
              "      <td>0.000254</td>\n",
              "      <td>5</td>\n",
              "      <td>9</td>\n",
              "      <td>1</td>\n",
              "      <td>{'max_depth': 5, 'max_leaf_nodes': 9, 'random_...</td>\n",
              "      <td>0.918605</td>\n",
              "      <td>0.941176</td>\n",
              "      <td>...</td>\n",
              "      <td>0.025854</td>\n",
              "      <td>24</td>\n",
              "      <td>0.927273</td>\n",
              "      <td>0.945455</td>\n",
              "      <td>0.942308</td>\n",
              "      <td>0.940000</td>\n",
              "      <td>0.961538</td>\n",
              "      <td>0.943315</td>\n",
              "      <td>0.011009</td>\n",
              "      <td>10</td>\n",
              "    </tr>\n",
              "    <tr>\n",
              "      <th>20</th>\n",
              "      <td>0.006432</td>\n",
              "      <td>0.001831</td>\n",
              "      <td>0.003956</td>\n",
              "      <td>0.001292</td>\n",
              "      <td>6</td>\n",
              "      <td>3</td>\n",
              "      <td>1</td>\n",
              "      <td>{'max_depth': 6, 'max_leaf_nodes': 3, 'random_...</td>\n",
              "      <td>0.918605</td>\n",
              "      <td>0.952941</td>\n",
              "      <td>...</td>\n",
              "      <td>0.018705</td>\n",
              "      <td>12</td>\n",
              "      <td>0.912281</td>\n",
              "      <td>0.980769</td>\n",
              "      <td>0.943396</td>\n",
              "      <td>0.923077</td>\n",
              "      <td>0.961538</td>\n",
              "      <td>0.944212</td>\n",
              "      <td>0.024914</td>\n",
              "      <td>1</td>\n",
              "    </tr>\n",
              "    <tr>\n",
              "      <th>21</th>\n",
              "      <td>0.005404</td>\n",
              "      <td>0.000337</td>\n",
              "      <td>0.002624</td>\n",
              "      <td>0.000191</td>\n",
              "      <td>6</td>\n",
              "      <td>5</td>\n",
              "      <td>1</td>\n",
              "      <td>{'max_depth': 6, 'max_leaf_nodes': 5, 'random_...</td>\n",
              "      <td>0.918605</td>\n",
              "      <td>0.929412</td>\n",
              "      <td>...</td>\n",
              "      <td>0.025739</td>\n",
              "      <td>1</td>\n",
              "      <td>0.898305</td>\n",
              "      <td>0.928571</td>\n",
              "      <td>0.925926</td>\n",
              "      <td>0.941176</td>\n",
              "      <td>0.962264</td>\n",
              "      <td>0.931249</td>\n",
              "      <td>0.020887</td>\n",
              "      <td>29</td>\n",
              "    </tr>\n",
              "    <tr>\n",
              "      <th>22</th>\n",
              "      <td>0.007354</td>\n",
              "      <td>0.002394</td>\n",
              "      <td>0.002785</td>\n",
              "      <td>0.000217</td>\n",
              "      <td>6</td>\n",
              "      <td>7</td>\n",
              "      <td>1</td>\n",
              "      <td>{'max_depth': 6, 'max_leaf_nodes': 7, 'random_...</td>\n",
              "      <td>0.895349</td>\n",
              "      <td>0.941176</td>\n",
              "      <td>...</td>\n",
              "      <td>0.025854</td>\n",
              "      <td>24</td>\n",
              "      <td>0.894737</td>\n",
              "      <td>0.945455</td>\n",
              "      <td>0.942308</td>\n",
              "      <td>0.940000</td>\n",
              "      <td>0.961538</td>\n",
              "      <td>0.936808</td>\n",
              "      <td>0.022346</td>\n",
              "      <td>20</td>\n",
              "    </tr>\n",
              "    <tr>\n",
              "      <th>23</th>\n",
              "      <td>0.006782</td>\n",
              "      <td>0.000514</td>\n",
              "      <td>0.002880</td>\n",
              "      <td>0.000575</td>\n",
              "      <td>6</td>\n",
              "      <td>9</td>\n",
              "      <td>1</td>\n",
              "      <td>{'max_depth': 6, 'max_leaf_nodes': 9, 'random_...</td>\n",
              "      <td>0.918605</td>\n",
              "      <td>0.941176</td>\n",
              "      <td>...</td>\n",
              "      <td>0.025854</td>\n",
              "      <td>24</td>\n",
              "      <td>0.927273</td>\n",
              "      <td>0.945455</td>\n",
              "      <td>0.942308</td>\n",
              "      <td>0.940000</td>\n",
              "      <td>0.961538</td>\n",
              "      <td>0.943315</td>\n",
              "      <td>0.011009</td>\n",
              "      <td>10</td>\n",
              "    </tr>\n",
              "    <tr>\n",
              "      <th>24</th>\n",
              "      <td>0.004981</td>\n",
              "      <td>0.000228</td>\n",
              "      <td>0.002780</td>\n",
              "      <td>0.000151</td>\n",
              "      <td>7</td>\n",
              "      <td>3</td>\n",
              "      <td>1</td>\n",
              "      <td>{'max_depth': 7, 'max_leaf_nodes': 3, 'random_...</td>\n",
              "      <td>0.918605</td>\n",
              "      <td>0.952941</td>\n",
              "      <td>...</td>\n",
              "      <td>0.018705</td>\n",
              "      <td>12</td>\n",
              "      <td>0.912281</td>\n",
              "      <td>0.980769</td>\n",
              "      <td>0.943396</td>\n",
              "      <td>0.923077</td>\n",
              "      <td>0.961538</td>\n",
              "      <td>0.944212</td>\n",
              "      <td>0.024914</td>\n",
              "      <td>1</td>\n",
              "    </tr>\n",
              "    <tr>\n",
              "      <th>25</th>\n",
              "      <td>0.005721</td>\n",
              "      <td>0.000667</td>\n",
              "      <td>0.002624</td>\n",
              "      <td>0.000131</td>\n",
              "      <td>7</td>\n",
              "      <td>5</td>\n",
              "      <td>1</td>\n",
              "      <td>{'max_depth': 7, 'max_leaf_nodes': 5, 'random_...</td>\n",
              "      <td>0.918605</td>\n",
              "      <td>0.929412</td>\n",
              "      <td>...</td>\n",
              "      <td>0.025739</td>\n",
              "      <td>1</td>\n",
              "      <td>0.898305</td>\n",
              "      <td>0.928571</td>\n",
              "      <td>0.925926</td>\n",
              "      <td>0.941176</td>\n",
              "      <td>0.962264</td>\n",
              "      <td>0.931249</td>\n",
              "      <td>0.020887</td>\n",
              "      <td>29</td>\n",
              "    </tr>\n",
              "    <tr>\n",
              "      <th>26</th>\n",
              "      <td>0.006116</td>\n",
              "      <td>0.000263</td>\n",
              "      <td>0.002582</td>\n",
              "      <td>0.000066</td>\n",
              "      <td>7</td>\n",
              "      <td>7</td>\n",
              "      <td>1</td>\n",
              "      <td>{'max_depth': 7, 'max_leaf_nodes': 7, 'random_...</td>\n",
              "      <td>0.895349</td>\n",
              "      <td>0.941176</td>\n",
              "      <td>...</td>\n",
              "      <td>0.025854</td>\n",
              "      <td>24</td>\n",
              "      <td>0.894737</td>\n",
              "      <td>0.945455</td>\n",
              "      <td>0.942308</td>\n",
              "      <td>0.940000</td>\n",
              "      <td>0.961538</td>\n",
              "      <td>0.936808</td>\n",
              "      <td>0.022346</td>\n",
              "      <td>20</td>\n",
              "    </tr>\n",
              "    <tr>\n",
              "      <th>27</th>\n",
              "      <td>0.006850</td>\n",
              "      <td>0.000563</td>\n",
              "      <td>0.002829</td>\n",
              "      <td>0.000087</td>\n",
              "      <td>7</td>\n",
              "      <td>9</td>\n",
              "      <td>1</td>\n",
              "      <td>{'max_depth': 7, 'max_leaf_nodes': 9, 'random_...</td>\n",
              "      <td>0.918605</td>\n",
              "      <td>0.941176</td>\n",
              "      <td>...</td>\n",
              "      <td>0.025854</td>\n",
              "      <td>24</td>\n",
              "      <td>0.927273</td>\n",
              "      <td>0.945455</td>\n",
              "      <td>0.942308</td>\n",
              "      <td>0.940000</td>\n",
              "      <td>0.961538</td>\n",
              "      <td>0.943315</td>\n",
              "      <td>0.011009</td>\n",
              "      <td>10</td>\n",
              "    </tr>\n",
              "    <tr>\n",
              "      <th>28</th>\n",
              "      <td>0.006981</td>\n",
              "      <td>0.004284</td>\n",
              "      <td>0.002681</td>\n",
              "      <td>0.000081</td>\n",
              "      <td>8</td>\n",
              "      <td>3</td>\n",
              "      <td>1</td>\n",
              "      <td>{'max_depth': 8, 'max_leaf_nodes': 3, 'random_...</td>\n",
              "      <td>0.918605</td>\n",
              "      <td>0.952941</td>\n",
              "      <td>...</td>\n",
              "      <td>0.018705</td>\n",
              "      <td>12</td>\n",
              "      <td>0.912281</td>\n",
              "      <td>0.980769</td>\n",
              "      <td>0.943396</td>\n",
              "      <td>0.923077</td>\n",
              "      <td>0.961538</td>\n",
              "      <td>0.944212</td>\n",
              "      <td>0.024914</td>\n",
              "      <td>1</td>\n",
              "    </tr>\n",
              "    <tr>\n",
              "      <th>29</th>\n",
              "      <td>0.005435</td>\n",
              "      <td>0.000368</td>\n",
              "      <td>0.002564</td>\n",
              "      <td>0.000096</td>\n",
              "      <td>8</td>\n",
              "      <td>5</td>\n",
              "      <td>1</td>\n",
              "      <td>{'max_depth': 8, 'max_leaf_nodes': 5, 'random_...</td>\n",
              "      <td>0.918605</td>\n",
              "      <td>0.929412</td>\n",
              "      <td>...</td>\n",
              "      <td>0.025739</td>\n",
              "      <td>1</td>\n",
              "      <td>0.898305</td>\n",
              "      <td>0.928571</td>\n",
              "      <td>0.925926</td>\n",
              "      <td>0.941176</td>\n",
              "      <td>0.962264</td>\n",
              "      <td>0.931249</td>\n",
              "      <td>0.020887</td>\n",
              "      <td>29</td>\n",
              "    </tr>\n",
              "    <tr>\n",
              "      <th>30</th>\n",
              "      <td>0.006097</td>\n",
              "      <td>0.000303</td>\n",
              "      <td>0.003042</td>\n",
              "      <td>0.000798</td>\n",
              "      <td>8</td>\n",
              "      <td>7</td>\n",
              "      <td>1</td>\n",
              "      <td>{'max_depth': 8, 'max_leaf_nodes': 7, 'random_...</td>\n",
              "      <td>0.895349</td>\n",
              "      <td>0.941176</td>\n",
              "      <td>...</td>\n",
              "      <td>0.025854</td>\n",
              "      <td>24</td>\n",
              "      <td>0.894737</td>\n",
              "      <td>0.945455</td>\n",
              "      <td>0.942308</td>\n",
              "      <td>0.940000</td>\n",
              "      <td>0.961538</td>\n",
              "      <td>0.936808</td>\n",
              "      <td>0.022346</td>\n",
              "      <td>20</td>\n",
              "    </tr>\n",
              "    <tr>\n",
              "      <th>31</th>\n",
              "      <td>0.006987</td>\n",
              "      <td>0.000469</td>\n",
              "      <td>0.004615</td>\n",
              "      <td>0.003686</td>\n",
              "      <td>8</td>\n",
              "      <td>9</td>\n",
              "      <td>1</td>\n",
              "      <td>{'max_depth': 8, 'max_leaf_nodes': 9, 'random_...</td>\n",
              "      <td>0.918605</td>\n",
              "      <td>0.941176</td>\n",
              "      <td>...</td>\n",
              "      <td>0.025854</td>\n",
              "      <td>24</td>\n",
              "      <td>0.927273</td>\n",
              "      <td>0.945455</td>\n",
              "      <td>0.942308</td>\n",
              "      <td>0.940000</td>\n",
              "      <td>0.961538</td>\n",
              "      <td>0.943315</td>\n",
              "      <td>0.011009</td>\n",
              "      <td>10</td>\n",
              "    </tr>\n",
              "    <tr>\n",
              "      <th>32</th>\n",
              "      <td>0.004828</td>\n",
              "      <td>0.000200</td>\n",
              "      <td>0.002715</td>\n",
              "      <td>0.000099</td>\n",
              "      <td>9</td>\n",
              "      <td>3</td>\n",
              "      <td>1</td>\n",
              "      <td>{'max_depth': 9, 'max_leaf_nodes': 3, 'random_...</td>\n",
              "      <td>0.918605</td>\n",
              "      <td>0.952941</td>\n",
              "      <td>...</td>\n",
              "      <td>0.018705</td>\n",
              "      <td>12</td>\n",
              "      <td>0.912281</td>\n",
              "      <td>0.980769</td>\n",
              "      <td>0.943396</td>\n",
              "      <td>0.923077</td>\n",
              "      <td>0.961538</td>\n",
              "      <td>0.944212</td>\n",
              "      <td>0.024914</td>\n",
              "      <td>1</td>\n",
              "    </tr>\n",
              "    <tr>\n",
              "      <th>33</th>\n",
              "      <td>0.005505</td>\n",
              "      <td>0.000459</td>\n",
              "      <td>0.002549</td>\n",
              "      <td>0.000052</td>\n",
              "      <td>9</td>\n",
              "      <td>5</td>\n",
              "      <td>1</td>\n",
              "      <td>{'max_depth': 9, 'max_leaf_nodes': 5, 'random_...</td>\n",
              "      <td>0.918605</td>\n",
              "      <td>0.929412</td>\n",
              "      <td>...</td>\n",
              "      <td>0.025739</td>\n",
              "      <td>1</td>\n",
              "      <td>0.898305</td>\n",
              "      <td>0.928571</td>\n",
              "      <td>0.925926</td>\n",
              "      <td>0.941176</td>\n",
              "      <td>0.962264</td>\n",
              "      <td>0.931249</td>\n",
              "      <td>0.020887</td>\n",
              "      <td>29</td>\n",
              "    </tr>\n",
              "    <tr>\n",
              "      <th>34</th>\n",
              "      <td>0.006898</td>\n",
              "      <td>0.001672</td>\n",
              "      <td>0.005553</td>\n",
              "      <td>0.003180</td>\n",
              "      <td>9</td>\n",
              "      <td>7</td>\n",
              "      <td>1</td>\n",
              "      <td>{'max_depth': 9, 'max_leaf_nodes': 7, 'random_...</td>\n",
              "      <td>0.895349</td>\n",
              "      <td>0.941176</td>\n",
              "      <td>...</td>\n",
              "      <td>0.025854</td>\n",
              "      <td>24</td>\n",
              "      <td>0.894737</td>\n",
              "      <td>0.945455</td>\n",
              "      <td>0.942308</td>\n",
              "      <td>0.940000</td>\n",
              "      <td>0.961538</td>\n",
              "      <td>0.936808</td>\n",
              "      <td>0.022346</td>\n",
              "      <td>20</td>\n",
              "    </tr>\n",
              "    <tr>\n",
              "      <th>35</th>\n",
              "      <td>0.011448</td>\n",
              "      <td>0.001743</td>\n",
              "      <td>0.004267</td>\n",
              "      <td>0.001092</td>\n",
              "      <td>9</td>\n",
              "      <td>9</td>\n",
              "      <td>1</td>\n",
              "      <td>{'max_depth': 9, 'max_leaf_nodes': 9, 'random_...</td>\n",
              "      <td>0.918605</td>\n",
              "      <td>0.941176</td>\n",
              "      <td>...</td>\n",
              "      <td>0.025854</td>\n",
              "      <td>24</td>\n",
              "      <td>0.927273</td>\n",
              "      <td>0.945455</td>\n",
              "      <td>0.942308</td>\n",
              "      <td>0.940000</td>\n",
              "      <td>0.961538</td>\n",
              "      <td>0.943315</td>\n",
              "      <td>0.011009</td>\n",
              "      <td>10</td>\n",
              "    </tr>\n",
              "    <tr>\n",
              "      <th>36</th>\n",
              "      <td>0.005739</td>\n",
              "      <td>0.000401</td>\n",
              "      <td>0.003120</td>\n",
              "      <td>0.000400</td>\n",
              "      <td>10</td>\n",
              "      <td>3</td>\n",
              "      <td>1</td>\n",
              "      <td>{'max_depth': 10, 'max_leaf_nodes': 3, 'random...</td>\n",
              "      <td>0.918605</td>\n",
              "      <td>0.952941</td>\n",
              "      <td>...</td>\n",
              "      <td>0.018705</td>\n",
              "      <td>12</td>\n",
              "      <td>0.912281</td>\n",
              "      <td>0.980769</td>\n",
              "      <td>0.943396</td>\n",
              "      <td>0.923077</td>\n",
              "      <td>0.961538</td>\n",
              "      <td>0.944212</td>\n",
              "      <td>0.024914</td>\n",
              "      <td>1</td>\n",
              "    </tr>\n",
              "    <tr>\n",
              "      <th>37</th>\n",
              "      <td>0.005506</td>\n",
              "      <td>0.000400</td>\n",
              "      <td>0.002970</td>\n",
              "      <td>0.000387</td>\n",
              "      <td>10</td>\n",
              "      <td>5</td>\n",
              "      <td>1</td>\n",
              "      <td>{'max_depth': 10, 'max_leaf_nodes': 5, 'random...</td>\n",
              "      <td>0.918605</td>\n",
              "      <td>0.929412</td>\n",
              "      <td>...</td>\n",
              "      <td>0.025739</td>\n",
              "      <td>1</td>\n",
              "      <td>0.898305</td>\n",
              "      <td>0.928571</td>\n",
              "      <td>0.925926</td>\n",
              "      <td>0.941176</td>\n",
              "      <td>0.962264</td>\n",
              "      <td>0.931249</td>\n",
              "      <td>0.020887</td>\n",
              "      <td>29</td>\n",
              "    </tr>\n",
              "    <tr>\n",
              "      <th>38</th>\n",
              "      <td>0.006067</td>\n",
              "      <td>0.000336</td>\n",
              "      <td>0.002719</td>\n",
              "      <td>0.000289</td>\n",
              "      <td>10</td>\n",
              "      <td>7</td>\n",
              "      <td>1</td>\n",
              "      <td>{'max_depth': 10, 'max_leaf_nodes': 7, 'random...</td>\n",
              "      <td>0.895349</td>\n",
              "      <td>0.941176</td>\n",
              "      <td>...</td>\n",
              "      <td>0.025854</td>\n",
              "      <td>24</td>\n",
              "      <td>0.894737</td>\n",
              "      <td>0.945455</td>\n",
              "      <td>0.942308</td>\n",
              "      <td>0.940000</td>\n",
              "      <td>0.961538</td>\n",
              "      <td>0.936808</td>\n",
              "      <td>0.022346</td>\n",
              "      <td>20</td>\n",
              "    </tr>\n",
              "    <tr>\n",
              "      <th>39</th>\n",
              "      <td>0.006682</td>\n",
              "      <td>0.000155</td>\n",
              "      <td>0.003134</td>\n",
              "      <td>0.000674</td>\n",
              "      <td>10</td>\n",
              "      <td>9</td>\n",
              "      <td>1</td>\n",
              "      <td>{'max_depth': 10, 'max_leaf_nodes': 9, 'random...</td>\n",
              "      <td>0.918605</td>\n",
              "      <td>0.941176</td>\n",
              "      <td>...</td>\n",
              "      <td>0.025854</td>\n",
              "      <td>24</td>\n",
              "      <td>0.927273</td>\n",
              "      <td>0.945455</td>\n",
              "      <td>0.942308</td>\n",
              "      <td>0.940000</td>\n",
              "      <td>0.961538</td>\n",
              "      <td>0.943315</td>\n",
              "      <td>0.011009</td>\n",
              "      <td>10</td>\n",
              "    </tr>\n",
              "  </tbody>\n",
              "</table>\n",
              "<p>40 rows × 32 columns</p>\n",
              "</div>\n",
              "      <button class=\"colab-df-convert\" onclick=\"convertToInteractive('df-911d9209-4fc7-4c6f-9a08-0711f4db1ed9')\"\n",
              "              title=\"Convert this dataframe to an interactive table.\"\n",
              "              style=\"display:none;\">\n",
              "        \n",
              "  <svg xmlns=\"http://www.w3.org/2000/svg\" height=\"24px\"viewBox=\"0 0 24 24\"\n",
              "       width=\"24px\">\n",
              "    <path d=\"M0 0h24v24H0V0z\" fill=\"none\"/>\n",
              "    <path d=\"M18.56 5.44l.94 2.06.94-2.06 2.06-.94-2.06-.94-.94-2.06-.94 2.06-2.06.94zm-11 1L8.5 8.5l.94-2.06 2.06-.94-2.06-.94L8.5 2.5l-.94 2.06-2.06.94zm10 10l.94 2.06.94-2.06 2.06-.94-2.06-.94-.94-2.06-.94 2.06-2.06.94z\"/><path d=\"M17.41 7.96l-1.37-1.37c-.4-.4-.92-.59-1.43-.59-.52 0-1.04.2-1.43.59L10.3 9.45l-7.72 7.72c-.78.78-.78 2.05 0 2.83L4 21.41c.39.39.9.59 1.41.59.51 0 1.02-.2 1.41-.59l7.78-7.78 2.81-2.81c.8-.78.8-2.07 0-2.86zM5.41 20L4 18.59l7.72-7.72 1.47 1.35L5.41 20z\"/>\n",
              "  </svg>\n",
              "      </button>\n",
              "      \n",
              "  <style>\n",
              "    .colab-df-container {\n",
              "      display:flex;\n",
              "      flex-wrap:wrap;\n",
              "      gap: 12px;\n",
              "    }\n",
              "\n",
              "    .colab-df-convert {\n",
              "      background-color: #E8F0FE;\n",
              "      border: none;\n",
              "      border-radius: 50%;\n",
              "      cursor: pointer;\n",
              "      display: none;\n",
              "      fill: #1967D2;\n",
              "      height: 32px;\n",
              "      padding: 0 0 0 0;\n",
              "      width: 32px;\n",
              "    }\n",
              "\n",
              "    .colab-df-convert:hover {\n",
              "      background-color: #E2EBFA;\n",
              "      box-shadow: 0px 1px 2px rgba(60, 64, 67, 0.3), 0px 1px 3px 1px rgba(60, 64, 67, 0.15);\n",
              "      fill: #174EA6;\n",
              "    }\n",
              "\n",
              "    [theme=dark] .colab-df-convert {\n",
              "      background-color: #3B4455;\n",
              "      fill: #D2E3FC;\n",
              "    }\n",
              "\n",
              "    [theme=dark] .colab-df-convert:hover {\n",
              "      background-color: #434B5C;\n",
              "      box-shadow: 0px 1px 3px 1px rgba(0, 0, 0, 0.15);\n",
              "      filter: drop-shadow(0px 1px 2px rgba(0, 0, 0, 0.3));\n",
              "      fill: #FFFFFF;\n",
              "    }\n",
              "  </style>\n",
              "\n",
              "      <script>\n",
              "        const buttonEl =\n",
              "          document.querySelector('#df-911d9209-4fc7-4c6f-9a08-0711f4db1ed9 button.colab-df-convert');\n",
              "        buttonEl.style.display =\n",
              "          google.colab.kernel.accessAllowed ? 'block' : 'none';\n",
              "\n",
              "        async function convertToInteractive(key) {\n",
              "          const element = document.querySelector('#df-911d9209-4fc7-4c6f-9a08-0711f4db1ed9');\n",
              "          const dataTable =\n",
              "            await google.colab.kernel.invokeFunction('convertToInteractive',\n",
              "                                                     [key], {});\n",
              "          if (!dataTable) return;\n",
              "\n",
              "          const docLinkHtml = 'Like what you see? Visit the ' +\n",
              "            '<a target=\"_blank\" href=https://colab.research.google.com/notebooks/data_table.ipynb>data table notebook</a>'\n",
              "            + ' to learn more about interactive tables.';\n",
              "          element.innerHTML = '';\n",
              "          dataTable['output_type'] = 'display_data';\n",
              "          await google.colab.output.renderOutput(dataTable, element);\n",
              "          const docLink = document.createElement('div');\n",
              "          docLink.innerHTML = docLinkHtml;\n",
              "          element.appendChild(docLink);\n",
              "        }\n",
              "      </script>\n",
              "    </div>\n",
              "  </div>\n",
              "  "
            ]
          },
          "metadata": {},
          "execution_count": 234
        }
      ],
      "source": [
        "df = pd.DataFrame(grid_search.cv_results_)\n",
        "df"
      ]
    },
    {
      "cell_type": "code",
      "execution_count": 235,
      "metadata": {
        "id": "RLqvAIJkuDdF",
        "colab": {
          "base_uri": "https://localhost:8080/"
        },
        "outputId": "4ec5de5c-23f7-4d41-abf6-4eaf1d2882d0"
      },
      "outputs": [
        {
          "output_type": "execute_result",
          "data": {
            "text/plain": [
              "(40, 32)"
            ]
          },
          "metadata": {},
          "execution_count": 235
        }
      ],
      "source": [
        "df.shape"
      ]
    },
    {
      "cell_type": "code",
      "execution_count": 236,
      "metadata": {
        "id": "yWWIlglOuDfd"
      },
      "outputs": [],
      "source": [
        "# RandomizedsearchCv"
      ]
    },
    {
      "cell_type": "code",
      "execution_count": 237,
      "metadata": {
        "id": "AGy2zfJaaXpn"
      },
      "outputs": [],
      "source": [
        "from sklearn.model_selection import RandomizedSearchCV\n",
        "\n",
        "tree = DecisionTreeClassifier()\n",
        "\n",
        "param_grid = {\n",
        "    'max_depth': range(1,21),\n",
        "    'max_leaf_nodes': range(2, 11),\n",
        "    'criterion':['gini', 'entropy'],\n",
        "    'random_state': [1]\n",
        "}\n",
        "\n",
        "randomized_search = RandomizedSearchCV(tree,\n",
        "                           param_distributions = param_grid,\n",
        "                           scoring = 'accuracy',\n",
        "                           n_iter = 50,\n",
        "                           cv = 3,\n",
        "                           n_jobs = -1)"
      ]
    },
    {
      "cell_type": "code",
      "execution_count": 238,
      "metadata": {
        "id": "UofxEXifaXsZ",
        "colab": {
          "base_uri": "https://localhost:8080/"
        },
        "outputId": "d5893f7e-d2a9-41dc-c2d9-dfe23fdcdff7"
      },
      "outputs": [
        {
          "output_type": "execute_result",
          "data": {
            "text/plain": [
              "RandomizedSearchCV(cv=3, estimator=DecisionTreeClassifier(), n_iter=50,\n",
              "                   n_jobs=-1,\n",
              "                   param_distributions={'criterion': ['gini', 'entropy'],\n",
              "                                        'max_depth': range(1, 21),\n",
              "                                        'max_leaf_nodes': range(2, 11),\n",
              "                                        'random_state': [1]},\n",
              "                   scoring='accuracy')"
            ]
          },
          "metadata": {},
          "execution_count": 238
        }
      ],
      "source": [
        "randomized_search.fit(X_train, y_train)"
      ]
    },
    {
      "cell_type": "code",
      "execution_count": 239,
      "metadata": {
        "id": "6b5q-i4_aXvx",
        "colab": {
          "base_uri": "https://localhost:8080/"
        },
        "outputId": "74776301-bb20-4e95-9fe1-57f439af0682"
      },
      "outputs": [
        {
          "output_type": "execute_result",
          "data": {
            "text/plain": [
              "(50, 15)"
            ]
          },
          "metadata": {},
          "execution_count": 239
        }
      ],
      "source": [
        "df = pd.DataFrame(randomized_search.cv_results_)\n",
        "df.shape"
      ]
    },
    {
      "cell_type": "code",
      "execution_count": 240,
      "metadata": {
        "id": "XUjpyPhCaXy4",
        "colab": {
          "base_uri": "https://localhost:8080/",
          "height": 1000
        },
        "outputId": "413bf3a3-a78c-43a5-920c-69145aa0ac67"
      },
      "outputs": [
        {
          "output_type": "execute_result",
          "data": {
            "text/plain": [
              "    mean_fit_time  std_fit_time  mean_score_time  std_score_time  \\\n",
              "0        0.014634      0.004674         0.000737        0.000078   \n",
              "1        0.005308      0.000479         0.000534        0.000014   \n",
              "2        0.008687      0.001401         0.000600        0.000029   \n",
              "3        0.007499      0.000106         0.000625        0.000111   \n",
              "4        0.005298      0.000309         0.000542        0.000020   \n",
              "5        0.007347      0.000081         0.000592        0.000074   \n",
              "6        0.004891      0.000531         0.000615        0.000156   \n",
              "7        0.004452      0.000142         0.000482        0.000007   \n",
              "8        0.004530      0.000197         0.000505        0.000025   \n",
              "9        0.006313      0.000397         0.000633        0.000158   \n",
              "10       0.005408      0.000347         0.000476        0.000006   \n",
              "11       0.003497      0.000152         0.000456        0.000009   \n",
              "12       0.004685      0.000366         0.000489        0.000013   \n",
              "13       0.003382      0.000029         0.000440        0.000021   \n",
              "14       0.008486      0.001464         0.000613        0.000089   \n",
              "15       0.005519      0.000447         0.000563        0.000033   \n",
              "16       0.007219      0.000092         0.000551        0.000024   \n",
              "17       0.003617      0.000146         0.000498        0.000051   \n",
              "18       0.007610      0.000198         0.000558        0.000042   \n",
              "19       0.005725      0.000043         0.000523        0.000053   \n",
              "20       0.005392      0.001340         0.000544        0.000053   \n",
              "21       0.007258      0.000146         0.000486        0.000002   \n",
              "22       0.002204      0.000063         0.000429        0.000014   \n",
              "23       0.007466      0.003159         0.001544        0.001503   \n",
              "24       0.004647      0.000915         0.000650        0.000164   \n",
              "25       0.007597      0.000229         0.000539        0.000011   \n",
              "26       0.007261      0.000076         0.000521        0.000021   \n",
              "27       0.003590      0.000143         0.000453        0.000025   \n",
              "28       0.009966      0.002262         0.000702        0.000173   \n",
              "29       0.004259      0.000098         0.000534        0.000030   \n",
              "30       0.008227      0.000798         0.000570        0.000022   \n",
              "31       0.004400      0.000201         0.000541        0.000017   \n",
              "32       0.007481      0.000046         0.000552        0.000030   \n",
              "33       0.007987      0.000953         0.000600        0.000058   \n",
              "34       0.010195      0.003621         0.000579        0.000032   \n",
              "35       0.007357      0.000102         0.000519        0.000038   \n",
              "36       0.011523      0.000250         0.000600        0.000023   \n",
              "37       0.011846      0.004188         0.000596        0.000039   \n",
              "38       0.005910      0.000032         0.000529        0.000047   \n",
              "39       0.007764      0.000285         0.000517        0.000015   \n",
              "40       0.013319      0.007910         0.000683        0.000057   \n",
              "41       0.004366      0.000165         0.000493        0.000050   \n",
              "42       0.008207      0.000863         0.000618        0.000058   \n",
              "43       0.002636      0.000334         0.000513        0.000037   \n",
              "44       0.005719      0.000550         0.000517        0.000052   \n",
              "45       0.008794      0.001107         0.000577        0.000073   \n",
              "46       0.005338      0.001411         0.000481        0.000022   \n",
              "47       0.007813      0.001214         0.000693        0.000176   \n",
              "48       0.005491      0.000097         0.000498        0.000020   \n",
              "49       0.003464      0.000636         0.000438        0.000076   \n",
              "\n",
              "   param_random_state param_max_leaf_nodes param_max_depth param_criterion  \\\n",
              "0                   1                    5              20         entropy   \n",
              "1                   1                    9              14            gini   \n",
              "2                   1                   10              20         entropy   \n",
              "3                   1                    5              15         entropy   \n",
              "4                   1                    9               4            gini   \n",
              "5                   1                    4               4         entropy   \n",
              "6                   1                    6              20            gini   \n",
              "7                   1                    6               3            gini   \n",
              "8                   1                    5              15            gini   \n",
              "9                   1                    9               2         entropy   \n",
              "10                  1                   10               6            gini   \n",
              "11                  1                    6               2            gini   \n",
              "12                  1                    6              16            gini   \n",
              "13                  1                    2               6            gini   \n",
              "14                  1                    9               4         entropy   \n",
              "15                  1                    9               7            gini   \n",
              "16                  1                    4              12         entropy   \n",
              "17                  1                    2               7            gini   \n",
              "18                  1                   10              14         entropy   \n",
              "19                  1                    6               2         entropy   \n",
              "20                  1                    4              13            gini   \n",
              "21                  1                    6              10         entropy   \n",
              "22                  1                    3               1            gini   \n",
              "23                  1                    9              10            gini   \n",
              "24                  1                    2               9            gini   \n",
              "25                  1                    7               9         entropy   \n",
              "26                  1                    4              18         entropy   \n",
              "27                  1                   10               2            gini   \n",
              "28                  1                   10              15         entropy   \n",
              "29                  1                    3              14            gini   \n",
              "30                  1                    9               6         entropy   \n",
              "31                  1                    4              20            gini   \n",
              "32                  1                    7              13         entropy   \n",
              "33                  1                    3              12         entropy   \n",
              "34                  1                    7              15         entropy   \n",
              "35                  1                   10              11         entropy   \n",
              "36                  1                    4               9            gini   \n",
              "37                  1                    9              17         entropy   \n",
              "38                  1                    2              19         entropy   \n",
              "39                  1                    9              20         entropy   \n",
              "40                  1                    9              18         entropy   \n",
              "41                  1                    5              13            gini   \n",
              "42                  1                    7              20         entropy   \n",
              "43                  1                    8               1            gini   \n",
              "44                  1                   10              17            gini   \n",
              "45                  1                    8               6         entropy   \n",
              "46                  1                    3               2            gini   \n",
              "47                  1                    7              11            gini   \n",
              "48                  1                    8              19            gini   \n",
              "49                  1                    2               1         entropy   \n",
              "\n",
              "                                               params  split0_test_score  \\\n",
              "0   {'random_state': 1, 'max_leaf_nodes': 5, 'max_...           0.929577   \n",
              "1   {'random_state': 1, 'max_leaf_nodes': 9, 'max_...           0.908451   \n",
              "2   {'random_state': 1, 'max_leaf_nodes': 10, 'max...           0.908451   \n",
              "3   {'random_state': 1, 'max_leaf_nodes': 5, 'max_...           0.929577   \n",
              "4   {'random_state': 1, 'max_leaf_nodes': 9, 'max_...           0.908451   \n",
              "5   {'random_state': 1, 'max_leaf_nodes': 4, 'max_...           0.929577   \n",
              "6   {'random_state': 1, 'max_leaf_nodes': 6, 'max_...           0.922535   \n",
              "7   {'random_state': 1, 'max_leaf_nodes': 6, 'max_...           0.922535   \n",
              "8   {'random_state': 1, 'max_leaf_nodes': 5, 'max_...           0.922535   \n",
              "9   {'random_state': 1, 'max_leaf_nodes': 9, 'max_...           0.873239   \n",
              "10  {'random_state': 1, 'max_leaf_nodes': 10, 'max...           0.915493   \n",
              "11  {'random_state': 1, 'max_leaf_nodes': 6, 'max_...           0.922535   \n",
              "12  {'random_state': 1, 'max_leaf_nodes': 6, 'max_...           0.922535   \n",
              "13  {'random_state': 1, 'max_leaf_nodes': 2, 'max_...           0.873239   \n",
              "14  {'random_state': 1, 'max_leaf_nodes': 9, 'max_...           0.908451   \n",
              "15  {'random_state': 1, 'max_leaf_nodes': 9, 'max_...           0.908451   \n",
              "16  {'random_state': 1, 'max_leaf_nodes': 4, 'max_...           0.929577   \n",
              "17  {'random_state': 1, 'max_leaf_nodes': 2, 'max_...           0.873239   \n",
              "18  {'random_state': 1, 'max_leaf_nodes': 10, 'max...           0.908451   \n",
              "19  {'random_state': 1, 'max_leaf_nodes': 6, 'max_...           0.873239   \n",
              "20  {'random_state': 1, 'max_leaf_nodes': 4, 'max_...           0.922535   \n",
              "21  {'random_state': 1, 'max_leaf_nodes': 6, 'max_...           0.915493   \n",
              "22  {'random_state': 1, 'max_leaf_nodes': 3, 'max_...           0.873239   \n",
              "23  {'random_state': 1, 'max_leaf_nodes': 9, 'max_...           0.908451   \n",
              "24  {'random_state': 1, 'max_leaf_nodes': 2, 'max_...           0.873239   \n",
              "25  {'random_state': 1, 'max_leaf_nodes': 7, 'max_...           0.915493   \n",
              "26  {'random_state': 1, 'max_leaf_nodes': 4, 'max_...           0.929577   \n",
              "27  {'random_state': 1, 'max_leaf_nodes': 10, 'max...           0.922535   \n",
              "28  {'random_state': 1, 'max_leaf_nodes': 10, 'max...           0.908451   \n",
              "29  {'random_state': 1, 'max_leaf_nodes': 3, 'max_...           0.922535   \n",
              "30  {'random_state': 1, 'max_leaf_nodes': 9, 'max_...           0.908451   \n",
              "31  {'random_state': 1, 'max_leaf_nodes': 4, 'max_...           0.922535   \n",
              "32  {'random_state': 1, 'max_leaf_nodes': 7, 'max_...           0.915493   \n",
              "33  {'random_state': 1, 'max_leaf_nodes': 3, 'max_...           0.873239   \n",
              "34  {'random_state': 1, 'max_leaf_nodes': 7, 'max_...           0.915493   \n",
              "35  {'random_state': 1, 'max_leaf_nodes': 10, 'max...           0.908451   \n",
              "36  {'random_state': 1, 'max_leaf_nodes': 4, 'max_...           0.922535   \n",
              "37  {'random_state': 1, 'max_leaf_nodes': 9, 'max_...           0.908451   \n",
              "38  {'random_state': 1, 'max_leaf_nodes': 2, 'max_...           0.873239   \n",
              "39  {'random_state': 1, 'max_leaf_nodes': 9, 'max_...           0.908451   \n",
              "40  {'random_state': 1, 'max_leaf_nodes': 9, 'max_...           0.908451   \n",
              "41  {'random_state': 1, 'max_leaf_nodes': 5, 'max_...           0.922535   \n",
              "42  {'random_state': 1, 'max_leaf_nodes': 7, 'max_...           0.915493   \n",
              "43  {'random_state': 1, 'max_leaf_nodes': 8, 'max_...           0.873239   \n",
              "44  {'random_state': 1, 'max_leaf_nodes': 10, 'max...           0.915493   \n",
              "45  {'random_state': 1, 'max_leaf_nodes': 8, 'max_...           0.908451   \n",
              "46  {'random_state': 1, 'max_leaf_nodes': 3, 'max_...           0.922535   \n",
              "47  {'random_state': 1, 'max_leaf_nodes': 7, 'max_...           0.922535   \n",
              "48  {'random_state': 1, 'max_leaf_nodes': 8, 'max_...           0.908451   \n",
              "49  {'random_state': 1, 'max_leaf_nodes': 2, 'max_...           0.873239   \n",
              "\n",
              "    split1_test_score  split2_test_score  mean_test_score  std_test_score  \\\n",
              "0            0.915493           0.901408         0.915493        0.011500   \n",
              "1            0.915493           0.943662         0.922535        0.015213   \n",
              "2            0.908451           0.915493         0.910798        0.003320   \n",
              "3            0.915493           0.901408         0.915493        0.011500   \n",
              "4            0.915493           0.971831         0.931925        0.028364   \n",
              "5            0.915493           0.901408         0.915493        0.011500   \n",
              "6            0.915493           0.964789         0.934272        0.021769   \n",
              "7            0.915493           0.964789         0.934272        0.021769   \n",
              "8            0.929577           0.971831         0.941315        0.021769   \n",
              "9            0.915493           0.915493         0.901408        0.019919   \n",
              "10           0.908451           0.950704         0.924883        0.018484   \n",
              "11           0.908451           0.971831         0.934272        0.027173   \n",
              "12           0.915493           0.964789         0.934272        0.021769   \n",
              "13           0.887324           0.915493         0.892019        0.017566   \n",
              "14           0.908451           0.915493         0.910798        0.003320   \n",
              "15           0.915493           0.943662         0.922535        0.015213   \n",
              "16           0.915493           0.901408         0.915493        0.011500   \n",
              "17           0.887324           0.915493         0.892019        0.017566   \n",
              "18           0.908451           0.915493         0.910798        0.003320   \n",
              "19           0.915493           0.915493         0.901408        0.019919   \n",
              "20           0.908451           0.971831         0.934272        0.027173   \n",
              "21           0.922535           0.901408         0.913146        0.008783   \n",
              "22           0.887324           0.915493         0.892019        0.017566   \n",
              "23           0.915493           0.943662         0.922535        0.015213   \n",
              "24           0.887324           0.915493         0.892019        0.017566   \n",
              "25           0.929577           0.901408         0.915493        0.011500   \n",
              "26           0.915493           0.901408         0.915493        0.011500   \n",
              "27           0.908451           0.971831         0.934272        0.027173   \n",
              "28           0.908451           0.915493         0.910798        0.003320   \n",
              "29           0.915493           0.964789         0.934272        0.021769   \n",
              "30           0.908451           0.915493         0.910798        0.003320   \n",
              "31           0.908451           0.971831         0.934272        0.027173   \n",
              "32           0.929577           0.901408         0.915493        0.011500   \n",
              "33           0.915493           0.915493         0.901408        0.019919   \n",
              "34           0.929577           0.901408         0.915493        0.011500   \n",
              "35           0.908451           0.915493         0.910798        0.003320   \n",
              "36           0.908451           0.971831         0.934272        0.027173   \n",
              "37           0.908451           0.915493         0.910798        0.003320   \n",
              "38           0.887324           0.915493         0.892019        0.017566   \n",
              "39           0.908451           0.915493         0.910798        0.003320   \n",
              "40           0.908451           0.915493         0.910798        0.003320   \n",
              "41           0.929577           0.971831         0.941315        0.021769   \n",
              "42           0.929577           0.901408         0.915493        0.011500   \n",
              "43           0.887324           0.915493         0.892019        0.017566   \n",
              "44           0.908451           0.950704         0.924883        0.018484   \n",
              "45           0.915493           0.908451         0.910798        0.003320   \n",
              "46           0.915493           0.964789         0.934272        0.021769   \n",
              "47           0.915493           0.964789         0.934272        0.021769   \n",
              "48           0.915493           0.943662         0.922535        0.015213   \n",
              "49           0.887324           0.915493         0.892019        0.017566   \n",
              "\n",
              "    rank_test_score  \n",
              "0                21  \n",
              "1                17  \n",
              "2                31  \n",
              "3                21  \n",
              "4                14  \n",
              "5                21  \n",
              "6                 3  \n",
              "7                 3  \n",
              "8                 1  \n",
              "9                41  \n",
              "10               15  \n",
              "11                3  \n",
              "12                3  \n",
              "13               44  \n",
              "14               31  \n",
              "15               17  \n",
              "16               21  \n",
              "17               44  \n",
              "18               31  \n",
              "19               41  \n",
              "20                3  \n",
              "21               30  \n",
              "22               44  \n",
              "23               17  \n",
              "24               44  \n",
              "25               21  \n",
              "26               21  \n",
              "27                3  \n",
              "28               31  \n",
              "29                3  \n",
              "30               31  \n",
              "31                3  \n",
              "32               21  \n",
              "33               41  \n",
              "34               21  \n",
              "35               31  \n",
              "36                3  \n",
              "37               31  \n",
              "38               44  \n",
              "39               31  \n",
              "40               31  \n",
              "41                1  \n",
              "42               21  \n",
              "43               44  \n",
              "44               15  \n",
              "45               31  \n",
              "46                3  \n",
              "47                3  \n",
              "48               17  \n",
              "49               44  "
            ],
            "text/html": [
              "\n",
              "  <div id=\"df-f239ef86-8686-42b8-b234-a88f38b4945c\">\n",
              "    <div class=\"colab-df-container\">\n",
              "      <div>\n",
              "<style scoped>\n",
              "    .dataframe tbody tr th:only-of-type {\n",
              "        vertical-align: middle;\n",
              "    }\n",
              "\n",
              "    .dataframe tbody tr th {\n",
              "        vertical-align: top;\n",
              "    }\n",
              "\n",
              "    .dataframe thead th {\n",
              "        text-align: right;\n",
              "    }\n",
              "</style>\n",
              "<table border=\"1\" class=\"dataframe\">\n",
              "  <thead>\n",
              "    <tr style=\"text-align: right;\">\n",
              "      <th></th>\n",
              "      <th>mean_fit_time</th>\n",
              "      <th>std_fit_time</th>\n",
              "      <th>mean_score_time</th>\n",
              "      <th>std_score_time</th>\n",
              "      <th>param_random_state</th>\n",
              "      <th>param_max_leaf_nodes</th>\n",
              "      <th>param_max_depth</th>\n",
              "      <th>param_criterion</th>\n",
              "      <th>params</th>\n",
              "      <th>split0_test_score</th>\n",
              "      <th>split1_test_score</th>\n",
              "      <th>split2_test_score</th>\n",
              "      <th>mean_test_score</th>\n",
              "      <th>std_test_score</th>\n",
              "      <th>rank_test_score</th>\n",
              "    </tr>\n",
              "  </thead>\n",
              "  <tbody>\n",
              "    <tr>\n",
              "      <th>0</th>\n",
              "      <td>0.014634</td>\n",
              "      <td>0.004674</td>\n",
              "      <td>0.000737</td>\n",
              "      <td>0.000078</td>\n",
              "      <td>1</td>\n",
              "      <td>5</td>\n",
              "      <td>20</td>\n",
              "      <td>entropy</td>\n",
              "      <td>{'random_state': 1, 'max_leaf_nodes': 5, 'max_...</td>\n",
              "      <td>0.929577</td>\n",
              "      <td>0.915493</td>\n",
              "      <td>0.901408</td>\n",
              "      <td>0.915493</td>\n",
              "      <td>0.011500</td>\n",
              "      <td>21</td>\n",
              "    </tr>\n",
              "    <tr>\n",
              "      <th>1</th>\n",
              "      <td>0.005308</td>\n",
              "      <td>0.000479</td>\n",
              "      <td>0.000534</td>\n",
              "      <td>0.000014</td>\n",
              "      <td>1</td>\n",
              "      <td>9</td>\n",
              "      <td>14</td>\n",
              "      <td>gini</td>\n",
              "      <td>{'random_state': 1, 'max_leaf_nodes': 9, 'max_...</td>\n",
              "      <td>0.908451</td>\n",
              "      <td>0.915493</td>\n",
              "      <td>0.943662</td>\n",
              "      <td>0.922535</td>\n",
              "      <td>0.015213</td>\n",
              "      <td>17</td>\n",
              "    </tr>\n",
              "    <tr>\n",
              "      <th>2</th>\n",
              "      <td>0.008687</td>\n",
              "      <td>0.001401</td>\n",
              "      <td>0.000600</td>\n",
              "      <td>0.000029</td>\n",
              "      <td>1</td>\n",
              "      <td>10</td>\n",
              "      <td>20</td>\n",
              "      <td>entropy</td>\n",
              "      <td>{'random_state': 1, 'max_leaf_nodes': 10, 'max...</td>\n",
              "      <td>0.908451</td>\n",
              "      <td>0.908451</td>\n",
              "      <td>0.915493</td>\n",
              "      <td>0.910798</td>\n",
              "      <td>0.003320</td>\n",
              "      <td>31</td>\n",
              "    </tr>\n",
              "    <tr>\n",
              "      <th>3</th>\n",
              "      <td>0.007499</td>\n",
              "      <td>0.000106</td>\n",
              "      <td>0.000625</td>\n",
              "      <td>0.000111</td>\n",
              "      <td>1</td>\n",
              "      <td>5</td>\n",
              "      <td>15</td>\n",
              "      <td>entropy</td>\n",
              "      <td>{'random_state': 1, 'max_leaf_nodes': 5, 'max_...</td>\n",
              "      <td>0.929577</td>\n",
              "      <td>0.915493</td>\n",
              "      <td>0.901408</td>\n",
              "      <td>0.915493</td>\n",
              "      <td>0.011500</td>\n",
              "      <td>21</td>\n",
              "    </tr>\n",
              "    <tr>\n",
              "      <th>4</th>\n",
              "      <td>0.005298</td>\n",
              "      <td>0.000309</td>\n",
              "      <td>0.000542</td>\n",
              "      <td>0.000020</td>\n",
              "      <td>1</td>\n",
              "      <td>9</td>\n",
              "      <td>4</td>\n",
              "      <td>gini</td>\n",
              "      <td>{'random_state': 1, 'max_leaf_nodes': 9, 'max_...</td>\n",
              "      <td>0.908451</td>\n",
              "      <td>0.915493</td>\n",
              "      <td>0.971831</td>\n",
              "      <td>0.931925</td>\n",
              "      <td>0.028364</td>\n",
              "      <td>14</td>\n",
              "    </tr>\n",
              "    <tr>\n",
              "      <th>5</th>\n",
              "      <td>0.007347</td>\n",
              "      <td>0.000081</td>\n",
              "      <td>0.000592</td>\n",
              "      <td>0.000074</td>\n",
              "      <td>1</td>\n",
              "      <td>4</td>\n",
              "      <td>4</td>\n",
              "      <td>entropy</td>\n",
              "      <td>{'random_state': 1, 'max_leaf_nodes': 4, 'max_...</td>\n",
              "      <td>0.929577</td>\n",
              "      <td>0.915493</td>\n",
              "      <td>0.901408</td>\n",
              "      <td>0.915493</td>\n",
              "      <td>0.011500</td>\n",
              "      <td>21</td>\n",
              "    </tr>\n",
              "    <tr>\n",
              "      <th>6</th>\n",
              "      <td>0.004891</td>\n",
              "      <td>0.000531</td>\n",
              "      <td>0.000615</td>\n",
              "      <td>0.000156</td>\n",
              "      <td>1</td>\n",
              "      <td>6</td>\n",
              "      <td>20</td>\n",
              "      <td>gini</td>\n",
              "      <td>{'random_state': 1, 'max_leaf_nodes': 6, 'max_...</td>\n",
              "      <td>0.922535</td>\n",
              "      <td>0.915493</td>\n",
              "      <td>0.964789</td>\n",
              "      <td>0.934272</td>\n",
              "      <td>0.021769</td>\n",
              "      <td>3</td>\n",
              "    </tr>\n",
              "    <tr>\n",
              "      <th>7</th>\n",
              "      <td>0.004452</td>\n",
              "      <td>0.000142</td>\n",
              "      <td>0.000482</td>\n",
              "      <td>0.000007</td>\n",
              "      <td>1</td>\n",
              "      <td>6</td>\n",
              "      <td>3</td>\n",
              "      <td>gini</td>\n",
              "      <td>{'random_state': 1, 'max_leaf_nodes': 6, 'max_...</td>\n",
              "      <td>0.922535</td>\n",
              "      <td>0.915493</td>\n",
              "      <td>0.964789</td>\n",
              "      <td>0.934272</td>\n",
              "      <td>0.021769</td>\n",
              "      <td>3</td>\n",
              "    </tr>\n",
              "    <tr>\n",
              "      <th>8</th>\n",
              "      <td>0.004530</td>\n",
              "      <td>0.000197</td>\n",
              "      <td>0.000505</td>\n",
              "      <td>0.000025</td>\n",
              "      <td>1</td>\n",
              "      <td>5</td>\n",
              "      <td>15</td>\n",
              "      <td>gini</td>\n",
              "      <td>{'random_state': 1, 'max_leaf_nodes': 5, 'max_...</td>\n",
              "      <td>0.922535</td>\n",
              "      <td>0.929577</td>\n",
              "      <td>0.971831</td>\n",
              "      <td>0.941315</td>\n",
              "      <td>0.021769</td>\n",
              "      <td>1</td>\n",
              "    </tr>\n",
              "    <tr>\n",
              "      <th>9</th>\n",
              "      <td>0.006313</td>\n",
              "      <td>0.000397</td>\n",
              "      <td>0.000633</td>\n",
              "      <td>0.000158</td>\n",
              "      <td>1</td>\n",
              "      <td>9</td>\n",
              "      <td>2</td>\n",
              "      <td>entropy</td>\n",
              "      <td>{'random_state': 1, 'max_leaf_nodes': 9, 'max_...</td>\n",
              "      <td>0.873239</td>\n",
              "      <td>0.915493</td>\n",
              "      <td>0.915493</td>\n",
              "      <td>0.901408</td>\n",
              "      <td>0.019919</td>\n",
              "      <td>41</td>\n",
              "    </tr>\n",
              "    <tr>\n",
              "      <th>10</th>\n",
              "      <td>0.005408</td>\n",
              "      <td>0.000347</td>\n",
              "      <td>0.000476</td>\n",
              "      <td>0.000006</td>\n",
              "      <td>1</td>\n",
              "      <td>10</td>\n",
              "      <td>6</td>\n",
              "      <td>gini</td>\n",
              "      <td>{'random_state': 1, 'max_leaf_nodes': 10, 'max...</td>\n",
              "      <td>0.915493</td>\n",
              "      <td>0.908451</td>\n",
              "      <td>0.950704</td>\n",
              "      <td>0.924883</td>\n",
              "      <td>0.018484</td>\n",
              "      <td>15</td>\n",
              "    </tr>\n",
              "    <tr>\n",
              "      <th>11</th>\n",
              "      <td>0.003497</td>\n",
              "      <td>0.000152</td>\n",
              "      <td>0.000456</td>\n",
              "      <td>0.000009</td>\n",
              "      <td>1</td>\n",
              "      <td>6</td>\n",
              "      <td>2</td>\n",
              "      <td>gini</td>\n",
              "      <td>{'random_state': 1, 'max_leaf_nodes': 6, 'max_...</td>\n",
              "      <td>0.922535</td>\n",
              "      <td>0.908451</td>\n",
              "      <td>0.971831</td>\n",
              "      <td>0.934272</td>\n",
              "      <td>0.027173</td>\n",
              "      <td>3</td>\n",
              "    </tr>\n",
              "    <tr>\n",
              "      <th>12</th>\n",
              "      <td>0.004685</td>\n",
              "      <td>0.000366</td>\n",
              "      <td>0.000489</td>\n",
              "      <td>0.000013</td>\n",
              "      <td>1</td>\n",
              "      <td>6</td>\n",
              "      <td>16</td>\n",
              "      <td>gini</td>\n",
              "      <td>{'random_state': 1, 'max_leaf_nodes': 6, 'max_...</td>\n",
              "      <td>0.922535</td>\n",
              "      <td>0.915493</td>\n",
              "      <td>0.964789</td>\n",
              "      <td>0.934272</td>\n",
              "      <td>0.021769</td>\n",
              "      <td>3</td>\n",
              "    </tr>\n",
              "    <tr>\n",
              "      <th>13</th>\n",
              "      <td>0.003382</td>\n",
              "      <td>0.000029</td>\n",
              "      <td>0.000440</td>\n",
              "      <td>0.000021</td>\n",
              "      <td>1</td>\n",
              "      <td>2</td>\n",
              "      <td>6</td>\n",
              "      <td>gini</td>\n",
              "      <td>{'random_state': 1, 'max_leaf_nodes': 2, 'max_...</td>\n",
              "      <td>0.873239</td>\n",
              "      <td>0.887324</td>\n",
              "      <td>0.915493</td>\n",
              "      <td>0.892019</td>\n",
              "      <td>0.017566</td>\n",
              "      <td>44</td>\n",
              "    </tr>\n",
              "    <tr>\n",
              "      <th>14</th>\n",
              "      <td>0.008486</td>\n",
              "      <td>0.001464</td>\n",
              "      <td>0.000613</td>\n",
              "      <td>0.000089</td>\n",
              "      <td>1</td>\n",
              "      <td>9</td>\n",
              "      <td>4</td>\n",
              "      <td>entropy</td>\n",
              "      <td>{'random_state': 1, 'max_leaf_nodes': 9, 'max_...</td>\n",
              "      <td>0.908451</td>\n",
              "      <td>0.908451</td>\n",
              "      <td>0.915493</td>\n",
              "      <td>0.910798</td>\n",
              "      <td>0.003320</td>\n",
              "      <td>31</td>\n",
              "    </tr>\n",
              "    <tr>\n",
              "      <th>15</th>\n",
              "      <td>0.005519</td>\n",
              "      <td>0.000447</td>\n",
              "      <td>0.000563</td>\n",
              "      <td>0.000033</td>\n",
              "      <td>1</td>\n",
              "      <td>9</td>\n",
              "      <td>7</td>\n",
              "      <td>gini</td>\n",
              "      <td>{'random_state': 1, 'max_leaf_nodes': 9, 'max_...</td>\n",
              "      <td>0.908451</td>\n",
              "      <td>0.915493</td>\n",
              "      <td>0.943662</td>\n",
              "      <td>0.922535</td>\n",
              "      <td>0.015213</td>\n",
              "      <td>17</td>\n",
              "    </tr>\n",
              "    <tr>\n",
              "      <th>16</th>\n",
              "      <td>0.007219</td>\n",
              "      <td>0.000092</td>\n",
              "      <td>0.000551</td>\n",
              "      <td>0.000024</td>\n",
              "      <td>1</td>\n",
              "      <td>4</td>\n",
              "      <td>12</td>\n",
              "      <td>entropy</td>\n",
              "      <td>{'random_state': 1, 'max_leaf_nodes': 4, 'max_...</td>\n",
              "      <td>0.929577</td>\n",
              "      <td>0.915493</td>\n",
              "      <td>0.901408</td>\n",
              "      <td>0.915493</td>\n",
              "      <td>0.011500</td>\n",
              "      <td>21</td>\n",
              "    </tr>\n",
              "    <tr>\n",
              "      <th>17</th>\n",
              "      <td>0.003617</td>\n",
              "      <td>0.000146</td>\n",
              "      <td>0.000498</td>\n",
              "      <td>0.000051</td>\n",
              "      <td>1</td>\n",
              "      <td>2</td>\n",
              "      <td>7</td>\n",
              "      <td>gini</td>\n",
              "      <td>{'random_state': 1, 'max_leaf_nodes': 2, 'max_...</td>\n",
              "      <td>0.873239</td>\n",
              "      <td>0.887324</td>\n",
              "      <td>0.915493</td>\n",
              "      <td>0.892019</td>\n",
              "      <td>0.017566</td>\n",
              "      <td>44</td>\n",
              "    </tr>\n",
              "    <tr>\n",
              "      <th>18</th>\n",
              "      <td>0.007610</td>\n",
              "      <td>0.000198</td>\n",
              "      <td>0.000558</td>\n",
              "      <td>0.000042</td>\n",
              "      <td>1</td>\n",
              "      <td>10</td>\n",
              "      <td>14</td>\n",
              "      <td>entropy</td>\n",
              "      <td>{'random_state': 1, 'max_leaf_nodes': 10, 'max...</td>\n",
              "      <td>0.908451</td>\n",
              "      <td>0.908451</td>\n",
              "      <td>0.915493</td>\n",
              "      <td>0.910798</td>\n",
              "      <td>0.003320</td>\n",
              "      <td>31</td>\n",
              "    </tr>\n",
              "    <tr>\n",
              "      <th>19</th>\n",
              "      <td>0.005725</td>\n",
              "      <td>0.000043</td>\n",
              "      <td>0.000523</td>\n",
              "      <td>0.000053</td>\n",
              "      <td>1</td>\n",
              "      <td>6</td>\n",
              "      <td>2</td>\n",
              "      <td>entropy</td>\n",
              "      <td>{'random_state': 1, 'max_leaf_nodes': 6, 'max_...</td>\n",
              "      <td>0.873239</td>\n",
              "      <td>0.915493</td>\n",
              "      <td>0.915493</td>\n",
              "      <td>0.901408</td>\n",
              "      <td>0.019919</td>\n",
              "      <td>41</td>\n",
              "    </tr>\n",
              "    <tr>\n",
              "      <th>20</th>\n",
              "      <td>0.005392</td>\n",
              "      <td>0.001340</td>\n",
              "      <td>0.000544</td>\n",
              "      <td>0.000053</td>\n",
              "      <td>1</td>\n",
              "      <td>4</td>\n",
              "      <td>13</td>\n",
              "      <td>gini</td>\n",
              "      <td>{'random_state': 1, 'max_leaf_nodes': 4, 'max_...</td>\n",
              "      <td>0.922535</td>\n",
              "      <td>0.908451</td>\n",
              "      <td>0.971831</td>\n",
              "      <td>0.934272</td>\n",
              "      <td>0.027173</td>\n",
              "      <td>3</td>\n",
              "    </tr>\n",
              "    <tr>\n",
              "      <th>21</th>\n",
              "      <td>0.007258</td>\n",
              "      <td>0.000146</td>\n",
              "      <td>0.000486</td>\n",
              "      <td>0.000002</td>\n",
              "      <td>1</td>\n",
              "      <td>6</td>\n",
              "      <td>10</td>\n",
              "      <td>entropy</td>\n",
              "      <td>{'random_state': 1, 'max_leaf_nodes': 6, 'max_...</td>\n",
              "      <td>0.915493</td>\n",
              "      <td>0.922535</td>\n",
              "      <td>0.901408</td>\n",
              "      <td>0.913146</td>\n",
              "      <td>0.008783</td>\n",
              "      <td>30</td>\n",
              "    </tr>\n",
              "    <tr>\n",
              "      <th>22</th>\n",
              "      <td>0.002204</td>\n",
              "      <td>0.000063</td>\n",
              "      <td>0.000429</td>\n",
              "      <td>0.000014</td>\n",
              "      <td>1</td>\n",
              "      <td>3</td>\n",
              "      <td>1</td>\n",
              "      <td>gini</td>\n",
              "      <td>{'random_state': 1, 'max_leaf_nodes': 3, 'max_...</td>\n",
              "      <td>0.873239</td>\n",
              "      <td>0.887324</td>\n",
              "      <td>0.915493</td>\n",
              "      <td>0.892019</td>\n",
              "      <td>0.017566</td>\n",
              "      <td>44</td>\n",
              "    </tr>\n",
              "    <tr>\n",
              "      <th>23</th>\n",
              "      <td>0.007466</td>\n",
              "      <td>0.003159</td>\n",
              "      <td>0.001544</td>\n",
              "      <td>0.001503</td>\n",
              "      <td>1</td>\n",
              "      <td>9</td>\n",
              "      <td>10</td>\n",
              "      <td>gini</td>\n",
              "      <td>{'random_state': 1, 'max_leaf_nodes': 9, 'max_...</td>\n",
              "      <td>0.908451</td>\n",
              "      <td>0.915493</td>\n",
              "      <td>0.943662</td>\n",
              "      <td>0.922535</td>\n",
              "      <td>0.015213</td>\n",
              "      <td>17</td>\n",
              "    </tr>\n",
              "    <tr>\n",
              "      <th>24</th>\n",
              "      <td>0.004647</td>\n",
              "      <td>0.000915</td>\n",
              "      <td>0.000650</td>\n",
              "      <td>0.000164</td>\n",
              "      <td>1</td>\n",
              "      <td>2</td>\n",
              "      <td>9</td>\n",
              "      <td>gini</td>\n",
              "      <td>{'random_state': 1, 'max_leaf_nodes': 2, 'max_...</td>\n",
              "      <td>0.873239</td>\n",
              "      <td>0.887324</td>\n",
              "      <td>0.915493</td>\n",
              "      <td>0.892019</td>\n",
              "      <td>0.017566</td>\n",
              "      <td>44</td>\n",
              "    </tr>\n",
              "    <tr>\n",
              "      <th>25</th>\n",
              "      <td>0.007597</td>\n",
              "      <td>0.000229</td>\n",
              "      <td>0.000539</td>\n",
              "      <td>0.000011</td>\n",
              "      <td>1</td>\n",
              "      <td>7</td>\n",
              "      <td>9</td>\n",
              "      <td>entropy</td>\n",
              "      <td>{'random_state': 1, 'max_leaf_nodes': 7, 'max_...</td>\n",
              "      <td>0.915493</td>\n",
              "      <td>0.929577</td>\n",
              "      <td>0.901408</td>\n",
              "      <td>0.915493</td>\n",
              "      <td>0.011500</td>\n",
              "      <td>21</td>\n",
              "    </tr>\n",
              "    <tr>\n",
              "      <th>26</th>\n",
              "      <td>0.007261</td>\n",
              "      <td>0.000076</td>\n",
              "      <td>0.000521</td>\n",
              "      <td>0.000021</td>\n",
              "      <td>1</td>\n",
              "      <td>4</td>\n",
              "      <td>18</td>\n",
              "      <td>entropy</td>\n",
              "      <td>{'random_state': 1, 'max_leaf_nodes': 4, 'max_...</td>\n",
              "      <td>0.929577</td>\n",
              "      <td>0.915493</td>\n",
              "      <td>0.901408</td>\n",
              "      <td>0.915493</td>\n",
              "      <td>0.011500</td>\n",
              "      <td>21</td>\n",
              "    </tr>\n",
              "    <tr>\n",
              "      <th>27</th>\n",
              "      <td>0.003590</td>\n",
              "      <td>0.000143</td>\n",
              "      <td>0.000453</td>\n",
              "      <td>0.000025</td>\n",
              "      <td>1</td>\n",
              "      <td>10</td>\n",
              "      <td>2</td>\n",
              "      <td>gini</td>\n",
              "      <td>{'random_state': 1, 'max_leaf_nodes': 10, 'max...</td>\n",
              "      <td>0.922535</td>\n",
              "      <td>0.908451</td>\n",
              "      <td>0.971831</td>\n",
              "      <td>0.934272</td>\n",
              "      <td>0.027173</td>\n",
              "      <td>3</td>\n",
              "    </tr>\n",
              "    <tr>\n",
              "      <th>28</th>\n",
              "      <td>0.009966</td>\n",
              "      <td>0.002262</td>\n",
              "      <td>0.000702</td>\n",
              "      <td>0.000173</td>\n",
              "      <td>1</td>\n",
              "      <td>10</td>\n",
              "      <td>15</td>\n",
              "      <td>entropy</td>\n",
              "      <td>{'random_state': 1, 'max_leaf_nodes': 10, 'max...</td>\n",
              "      <td>0.908451</td>\n",
              "      <td>0.908451</td>\n",
              "      <td>0.915493</td>\n",
              "      <td>0.910798</td>\n",
              "      <td>0.003320</td>\n",
              "      <td>31</td>\n",
              "    </tr>\n",
              "    <tr>\n",
              "      <th>29</th>\n",
              "      <td>0.004259</td>\n",
              "      <td>0.000098</td>\n",
              "      <td>0.000534</td>\n",
              "      <td>0.000030</td>\n",
              "      <td>1</td>\n",
              "      <td>3</td>\n",
              "      <td>14</td>\n",
              "      <td>gini</td>\n",
              "      <td>{'random_state': 1, 'max_leaf_nodes': 3, 'max_...</td>\n",
              "      <td>0.922535</td>\n",
              "      <td>0.915493</td>\n",
              "      <td>0.964789</td>\n",
              "      <td>0.934272</td>\n",
              "      <td>0.021769</td>\n",
              "      <td>3</td>\n",
              "    </tr>\n",
              "    <tr>\n",
              "      <th>30</th>\n",
              "      <td>0.008227</td>\n",
              "      <td>0.000798</td>\n",
              "      <td>0.000570</td>\n",
              "      <td>0.000022</td>\n",
              "      <td>1</td>\n",
              "      <td>9</td>\n",
              "      <td>6</td>\n",
              "      <td>entropy</td>\n",
              "      <td>{'random_state': 1, 'max_leaf_nodes': 9, 'max_...</td>\n",
              "      <td>0.908451</td>\n",
              "      <td>0.908451</td>\n",
              "      <td>0.915493</td>\n",
              "      <td>0.910798</td>\n",
              "      <td>0.003320</td>\n",
              "      <td>31</td>\n",
              "    </tr>\n",
              "    <tr>\n",
              "      <th>31</th>\n",
              "      <td>0.004400</td>\n",
              "      <td>0.000201</td>\n",
              "      <td>0.000541</td>\n",
              "      <td>0.000017</td>\n",
              "      <td>1</td>\n",
              "      <td>4</td>\n",
              "      <td>20</td>\n",
              "      <td>gini</td>\n",
              "      <td>{'random_state': 1, 'max_leaf_nodes': 4, 'max_...</td>\n",
              "      <td>0.922535</td>\n",
              "      <td>0.908451</td>\n",
              "      <td>0.971831</td>\n",
              "      <td>0.934272</td>\n",
              "      <td>0.027173</td>\n",
              "      <td>3</td>\n",
              "    </tr>\n",
              "    <tr>\n",
              "      <th>32</th>\n",
              "      <td>0.007481</td>\n",
              "      <td>0.000046</td>\n",
              "      <td>0.000552</td>\n",
              "      <td>0.000030</td>\n",
              "      <td>1</td>\n",
              "      <td>7</td>\n",
              "      <td>13</td>\n",
              "      <td>entropy</td>\n",
              "      <td>{'random_state': 1, 'max_leaf_nodes': 7, 'max_...</td>\n",
              "      <td>0.915493</td>\n",
              "      <td>0.929577</td>\n",
              "      <td>0.901408</td>\n",
              "      <td>0.915493</td>\n",
              "      <td>0.011500</td>\n",
              "      <td>21</td>\n",
              "    </tr>\n",
              "    <tr>\n",
              "      <th>33</th>\n",
              "      <td>0.007987</td>\n",
              "      <td>0.000953</td>\n",
              "      <td>0.000600</td>\n",
              "      <td>0.000058</td>\n",
              "      <td>1</td>\n",
              "      <td>3</td>\n",
              "      <td>12</td>\n",
              "      <td>entropy</td>\n",
              "      <td>{'random_state': 1, 'max_leaf_nodes': 3, 'max_...</td>\n",
              "      <td>0.873239</td>\n",
              "      <td>0.915493</td>\n",
              "      <td>0.915493</td>\n",
              "      <td>0.901408</td>\n",
              "      <td>0.019919</td>\n",
              "      <td>41</td>\n",
              "    </tr>\n",
              "    <tr>\n",
              "      <th>34</th>\n",
              "      <td>0.010195</td>\n",
              "      <td>0.003621</td>\n",
              "      <td>0.000579</td>\n",
              "      <td>0.000032</td>\n",
              "      <td>1</td>\n",
              "      <td>7</td>\n",
              "      <td>15</td>\n",
              "      <td>entropy</td>\n",
              "      <td>{'random_state': 1, 'max_leaf_nodes': 7, 'max_...</td>\n",
              "      <td>0.915493</td>\n",
              "      <td>0.929577</td>\n",
              "      <td>0.901408</td>\n",
              "      <td>0.915493</td>\n",
              "      <td>0.011500</td>\n",
              "      <td>21</td>\n",
              "    </tr>\n",
              "    <tr>\n",
              "      <th>35</th>\n",
              "      <td>0.007357</td>\n",
              "      <td>0.000102</td>\n",
              "      <td>0.000519</td>\n",
              "      <td>0.000038</td>\n",
              "      <td>1</td>\n",
              "      <td>10</td>\n",
              "      <td>11</td>\n",
              "      <td>entropy</td>\n",
              "      <td>{'random_state': 1, 'max_leaf_nodes': 10, 'max...</td>\n",
              "      <td>0.908451</td>\n",
              "      <td>0.908451</td>\n",
              "      <td>0.915493</td>\n",
              "      <td>0.910798</td>\n",
              "      <td>0.003320</td>\n",
              "      <td>31</td>\n",
              "    </tr>\n",
              "    <tr>\n",
              "      <th>36</th>\n",
              "      <td>0.011523</td>\n",
              "      <td>0.000250</td>\n",
              "      <td>0.000600</td>\n",
              "      <td>0.000023</td>\n",
              "      <td>1</td>\n",
              "      <td>4</td>\n",
              "      <td>9</td>\n",
              "      <td>gini</td>\n",
              "      <td>{'random_state': 1, 'max_leaf_nodes': 4, 'max_...</td>\n",
              "      <td>0.922535</td>\n",
              "      <td>0.908451</td>\n",
              "      <td>0.971831</td>\n",
              "      <td>0.934272</td>\n",
              "      <td>0.027173</td>\n",
              "      <td>3</td>\n",
              "    </tr>\n",
              "    <tr>\n",
              "      <th>37</th>\n",
              "      <td>0.011846</td>\n",
              "      <td>0.004188</td>\n",
              "      <td>0.000596</td>\n",
              "      <td>0.000039</td>\n",
              "      <td>1</td>\n",
              "      <td>9</td>\n",
              "      <td>17</td>\n",
              "      <td>entropy</td>\n",
              "      <td>{'random_state': 1, 'max_leaf_nodes': 9, 'max_...</td>\n",
              "      <td>0.908451</td>\n",
              "      <td>0.908451</td>\n",
              "      <td>0.915493</td>\n",
              "      <td>0.910798</td>\n",
              "      <td>0.003320</td>\n",
              "      <td>31</td>\n",
              "    </tr>\n",
              "    <tr>\n",
              "      <th>38</th>\n",
              "      <td>0.005910</td>\n",
              "      <td>0.000032</td>\n",
              "      <td>0.000529</td>\n",
              "      <td>0.000047</td>\n",
              "      <td>1</td>\n",
              "      <td>2</td>\n",
              "      <td>19</td>\n",
              "      <td>entropy</td>\n",
              "      <td>{'random_state': 1, 'max_leaf_nodes': 2, 'max_...</td>\n",
              "      <td>0.873239</td>\n",
              "      <td>0.887324</td>\n",
              "      <td>0.915493</td>\n",
              "      <td>0.892019</td>\n",
              "      <td>0.017566</td>\n",
              "      <td>44</td>\n",
              "    </tr>\n",
              "    <tr>\n",
              "      <th>39</th>\n",
              "      <td>0.007764</td>\n",
              "      <td>0.000285</td>\n",
              "      <td>0.000517</td>\n",
              "      <td>0.000015</td>\n",
              "      <td>1</td>\n",
              "      <td>9</td>\n",
              "      <td>20</td>\n",
              "      <td>entropy</td>\n",
              "      <td>{'random_state': 1, 'max_leaf_nodes': 9, 'max_...</td>\n",
              "      <td>0.908451</td>\n",
              "      <td>0.908451</td>\n",
              "      <td>0.915493</td>\n",
              "      <td>0.910798</td>\n",
              "      <td>0.003320</td>\n",
              "      <td>31</td>\n",
              "    </tr>\n",
              "    <tr>\n",
              "      <th>40</th>\n",
              "      <td>0.013319</td>\n",
              "      <td>0.007910</td>\n",
              "      <td>0.000683</td>\n",
              "      <td>0.000057</td>\n",
              "      <td>1</td>\n",
              "      <td>9</td>\n",
              "      <td>18</td>\n",
              "      <td>entropy</td>\n",
              "      <td>{'random_state': 1, 'max_leaf_nodes': 9, 'max_...</td>\n",
              "      <td>0.908451</td>\n",
              "      <td>0.908451</td>\n",
              "      <td>0.915493</td>\n",
              "      <td>0.910798</td>\n",
              "      <td>0.003320</td>\n",
              "      <td>31</td>\n",
              "    </tr>\n",
              "    <tr>\n",
              "      <th>41</th>\n",
              "      <td>0.004366</td>\n",
              "      <td>0.000165</td>\n",
              "      <td>0.000493</td>\n",
              "      <td>0.000050</td>\n",
              "      <td>1</td>\n",
              "      <td>5</td>\n",
              "      <td>13</td>\n",
              "      <td>gini</td>\n",
              "      <td>{'random_state': 1, 'max_leaf_nodes': 5, 'max_...</td>\n",
              "      <td>0.922535</td>\n",
              "      <td>0.929577</td>\n",
              "      <td>0.971831</td>\n",
              "      <td>0.941315</td>\n",
              "      <td>0.021769</td>\n",
              "      <td>1</td>\n",
              "    </tr>\n",
              "    <tr>\n",
              "      <th>42</th>\n",
              "      <td>0.008207</td>\n",
              "      <td>0.000863</td>\n",
              "      <td>0.000618</td>\n",
              "      <td>0.000058</td>\n",
              "      <td>1</td>\n",
              "      <td>7</td>\n",
              "      <td>20</td>\n",
              "      <td>entropy</td>\n",
              "      <td>{'random_state': 1, 'max_leaf_nodes': 7, 'max_...</td>\n",
              "      <td>0.915493</td>\n",
              "      <td>0.929577</td>\n",
              "      <td>0.901408</td>\n",
              "      <td>0.915493</td>\n",
              "      <td>0.011500</td>\n",
              "      <td>21</td>\n",
              "    </tr>\n",
              "    <tr>\n",
              "      <th>43</th>\n",
              "      <td>0.002636</td>\n",
              "      <td>0.000334</td>\n",
              "      <td>0.000513</td>\n",
              "      <td>0.000037</td>\n",
              "      <td>1</td>\n",
              "      <td>8</td>\n",
              "      <td>1</td>\n",
              "      <td>gini</td>\n",
              "      <td>{'random_state': 1, 'max_leaf_nodes': 8, 'max_...</td>\n",
              "      <td>0.873239</td>\n",
              "      <td>0.887324</td>\n",
              "      <td>0.915493</td>\n",
              "      <td>0.892019</td>\n",
              "      <td>0.017566</td>\n",
              "      <td>44</td>\n",
              "    </tr>\n",
              "    <tr>\n",
              "      <th>44</th>\n",
              "      <td>0.005719</td>\n",
              "      <td>0.000550</td>\n",
              "      <td>0.000517</td>\n",
              "      <td>0.000052</td>\n",
              "      <td>1</td>\n",
              "      <td>10</td>\n",
              "      <td>17</td>\n",
              "      <td>gini</td>\n",
              "      <td>{'random_state': 1, 'max_leaf_nodes': 10, 'max...</td>\n",
              "      <td>0.915493</td>\n",
              "      <td>0.908451</td>\n",
              "      <td>0.950704</td>\n",
              "      <td>0.924883</td>\n",
              "      <td>0.018484</td>\n",
              "      <td>15</td>\n",
              "    </tr>\n",
              "    <tr>\n",
              "      <th>45</th>\n",
              "      <td>0.008794</td>\n",
              "      <td>0.001107</td>\n",
              "      <td>0.000577</td>\n",
              "      <td>0.000073</td>\n",
              "      <td>1</td>\n",
              "      <td>8</td>\n",
              "      <td>6</td>\n",
              "      <td>entropy</td>\n",
              "      <td>{'random_state': 1, 'max_leaf_nodes': 8, 'max_...</td>\n",
              "      <td>0.908451</td>\n",
              "      <td>0.915493</td>\n",
              "      <td>0.908451</td>\n",
              "      <td>0.910798</td>\n",
              "      <td>0.003320</td>\n",
              "      <td>31</td>\n",
              "    </tr>\n",
              "    <tr>\n",
              "      <th>46</th>\n",
              "      <td>0.005338</td>\n",
              "      <td>0.001411</td>\n",
              "      <td>0.000481</td>\n",
              "      <td>0.000022</td>\n",
              "      <td>1</td>\n",
              "      <td>3</td>\n",
              "      <td>2</td>\n",
              "      <td>gini</td>\n",
              "      <td>{'random_state': 1, 'max_leaf_nodes': 3, 'max_...</td>\n",
              "      <td>0.922535</td>\n",
              "      <td>0.915493</td>\n",
              "      <td>0.964789</td>\n",
              "      <td>0.934272</td>\n",
              "      <td>0.021769</td>\n",
              "      <td>3</td>\n",
              "    </tr>\n",
              "    <tr>\n",
              "      <th>47</th>\n",
              "      <td>0.007813</td>\n",
              "      <td>0.001214</td>\n",
              "      <td>0.000693</td>\n",
              "      <td>0.000176</td>\n",
              "      <td>1</td>\n",
              "      <td>7</td>\n",
              "      <td>11</td>\n",
              "      <td>gini</td>\n",
              "      <td>{'random_state': 1, 'max_leaf_nodes': 7, 'max_...</td>\n",
              "      <td>0.922535</td>\n",
              "      <td>0.915493</td>\n",
              "      <td>0.964789</td>\n",
              "      <td>0.934272</td>\n",
              "      <td>0.021769</td>\n",
              "      <td>3</td>\n",
              "    </tr>\n",
              "    <tr>\n",
              "      <th>48</th>\n",
              "      <td>0.005491</td>\n",
              "      <td>0.000097</td>\n",
              "      <td>0.000498</td>\n",
              "      <td>0.000020</td>\n",
              "      <td>1</td>\n",
              "      <td>8</td>\n",
              "      <td>19</td>\n",
              "      <td>gini</td>\n",
              "      <td>{'random_state': 1, 'max_leaf_nodes': 8, 'max_...</td>\n",
              "      <td>0.908451</td>\n",
              "      <td>0.915493</td>\n",
              "      <td>0.943662</td>\n",
              "      <td>0.922535</td>\n",
              "      <td>0.015213</td>\n",
              "      <td>17</td>\n",
              "    </tr>\n",
              "    <tr>\n",
              "      <th>49</th>\n",
              "      <td>0.003464</td>\n",
              "      <td>0.000636</td>\n",
              "      <td>0.000438</td>\n",
              "      <td>0.000076</td>\n",
              "      <td>1</td>\n",
              "      <td>2</td>\n",
              "      <td>1</td>\n",
              "      <td>entropy</td>\n",
              "      <td>{'random_state': 1, 'max_leaf_nodes': 2, 'max_...</td>\n",
              "      <td>0.873239</td>\n",
              "      <td>0.887324</td>\n",
              "      <td>0.915493</td>\n",
              "      <td>0.892019</td>\n",
              "      <td>0.017566</td>\n",
              "      <td>44</td>\n",
              "    </tr>\n",
              "  </tbody>\n",
              "</table>\n",
              "</div>\n",
              "      <button class=\"colab-df-convert\" onclick=\"convertToInteractive('df-f239ef86-8686-42b8-b234-a88f38b4945c')\"\n",
              "              title=\"Convert this dataframe to an interactive table.\"\n",
              "              style=\"display:none;\">\n",
              "        \n",
              "  <svg xmlns=\"http://www.w3.org/2000/svg\" height=\"24px\"viewBox=\"0 0 24 24\"\n",
              "       width=\"24px\">\n",
              "    <path d=\"M0 0h24v24H0V0z\" fill=\"none\"/>\n",
              "    <path d=\"M18.56 5.44l.94 2.06.94-2.06 2.06-.94-2.06-.94-.94-2.06-.94 2.06-2.06.94zm-11 1L8.5 8.5l.94-2.06 2.06-.94-2.06-.94L8.5 2.5l-.94 2.06-2.06.94zm10 10l.94 2.06.94-2.06 2.06-.94-2.06-.94-.94-2.06-.94 2.06-2.06.94z\"/><path d=\"M17.41 7.96l-1.37-1.37c-.4-.4-.92-.59-1.43-.59-.52 0-1.04.2-1.43.59L10.3 9.45l-7.72 7.72c-.78.78-.78 2.05 0 2.83L4 21.41c.39.39.9.59 1.41.59.51 0 1.02-.2 1.41-.59l7.78-7.78 2.81-2.81c.8-.78.8-2.07 0-2.86zM5.41 20L4 18.59l7.72-7.72 1.47 1.35L5.41 20z\"/>\n",
              "  </svg>\n",
              "      </button>\n",
              "      \n",
              "  <style>\n",
              "    .colab-df-container {\n",
              "      display:flex;\n",
              "      flex-wrap:wrap;\n",
              "      gap: 12px;\n",
              "    }\n",
              "\n",
              "    .colab-df-convert {\n",
              "      background-color: #E8F0FE;\n",
              "      border: none;\n",
              "      border-radius: 50%;\n",
              "      cursor: pointer;\n",
              "      display: none;\n",
              "      fill: #1967D2;\n",
              "      height: 32px;\n",
              "      padding: 0 0 0 0;\n",
              "      width: 32px;\n",
              "    }\n",
              "\n",
              "    .colab-df-convert:hover {\n",
              "      background-color: #E2EBFA;\n",
              "      box-shadow: 0px 1px 2px rgba(60, 64, 67, 0.3), 0px 1px 3px 1px rgba(60, 64, 67, 0.15);\n",
              "      fill: #174EA6;\n",
              "    }\n",
              "\n",
              "    [theme=dark] .colab-df-convert {\n",
              "      background-color: #3B4455;\n",
              "      fill: #D2E3FC;\n",
              "    }\n",
              "\n",
              "    [theme=dark] .colab-df-convert:hover {\n",
              "      background-color: #434B5C;\n",
              "      box-shadow: 0px 1px 3px 1px rgba(0, 0, 0, 0.15);\n",
              "      filter: drop-shadow(0px 1px 2px rgba(0, 0, 0, 0.3));\n",
              "      fill: #FFFFFF;\n",
              "    }\n",
              "  </style>\n",
              "\n",
              "      <script>\n",
              "        const buttonEl =\n",
              "          document.querySelector('#df-f239ef86-8686-42b8-b234-a88f38b4945c button.colab-df-convert');\n",
              "        buttonEl.style.display =\n",
              "          google.colab.kernel.accessAllowed ? 'block' : 'none';\n",
              "\n",
              "        async function convertToInteractive(key) {\n",
              "          const element = document.querySelector('#df-f239ef86-8686-42b8-b234-a88f38b4945c');\n",
              "          const dataTable =\n",
              "            await google.colab.kernel.invokeFunction('convertToInteractive',\n",
              "                                                     [key], {});\n",
              "          if (!dataTable) return;\n",
              "\n",
              "          const docLinkHtml = 'Like what you see? Visit the ' +\n",
              "            '<a target=\"_blank\" href=https://colab.research.google.com/notebooks/data_table.ipynb>data table notebook</a>'\n",
              "            + ' to learn more about interactive tables.';\n",
              "          element.innerHTML = '';\n",
              "          dataTable['output_type'] = 'display_data';\n",
              "          await google.colab.output.renderOutput(dataTable, element);\n",
              "          const docLink = document.createElement('div');\n",
              "          docLink.innerHTML = docLinkHtml;\n",
              "          element.appendChild(docLink);\n",
              "        }\n",
              "      </script>\n",
              "    </div>\n",
              "  </div>\n",
              "  "
            ]
          },
          "metadata": {},
          "execution_count": 240
        }
      ],
      "source": [
        "df"
      ]
    },
    {
      "cell_type": "code",
      "execution_count": 241,
      "metadata": {
        "id": "SFgam3XiaX2S",
        "colab": {
          "base_uri": "https://localhost:8080/"
        },
        "outputId": "af41d041-4f31-4b2f-9351-ac2c66d314f2"
      },
      "outputs": [
        {
          "output_type": "execute_result",
          "data": {
            "text/plain": [
              "{'random_state': 1, 'max_leaf_nodes': 5, 'max_depth': 15, 'criterion': 'gini'}"
            ]
          },
          "metadata": {},
          "execution_count": 241
        }
      ],
      "source": [
        "randomized_search.best_params_"
      ]
    },
    {
      "cell_type": "code",
      "execution_count": 242,
      "metadata": {
        "id": "_dluJCBXOycN",
        "colab": {
          "base_uri": "https://localhost:8080/"
        },
        "outputId": "9a37fb80-fa92-4dd6-8b49-4ffe18c73cc8"
      },
      "outputs": [
        {
          "output_type": "execute_result",
          "data": {
            "text/plain": [
              "DecisionTreeClassifier(max_depth=15, max_leaf_nodes=5, random_state=1)"
            ]
          },
          "metadata": {},
          "execution_count": 242
        }
      ],
      "source": [
        "randomized_search.best_estimator_"
      ]
    },
    {
      "cell_type": "code",
      "execution_count": 242,
      "metadata": {
        "id": "Vw8yKlKzOyeo"
      },
      "outputs": [],
      "source": []
    }
  ],
  "metadata": {
    "colab": {
      "provenance": []
    },
    "kernelspec": {
      "display_name": "Python 3",
      "name": "python3"
    },
    "language_info": {
      "name": "python"
    }
  },
  "nbformat": 4,
  "nbformat_minor": 0
}
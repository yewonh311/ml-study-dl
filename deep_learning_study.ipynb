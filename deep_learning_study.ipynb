{
  "cells": [
    {
      "cell_type": "code",
      "execution_count": 1,
      "metadata": {
        "id": "NKQMI0uIJAgV"
      },
      "outputs": [],
      "source": [
        "import tensorflow as tf\n",
        "import numpy as np"
      ]
    },
    {
      "cell_type": "code",
      "execution_count": 2,
      "metadata": {
        "id": "_4rScIS9JCBg"
      },
      "outputs": [],
      "source": [
        "arr = np.arange(9)"
      ]
    },
    {
      "cell_type": "code",
      "execution_count": 3,
      "metadata": {
        "id": "Bdl0SR_IJCDV"
      },
      "outputs": [],
      "source": [
        "dataset = tf.data.Dataset.from_tensor_slices(arr)"
      ]
    },
    {
      "cell_type": "code",
      "execution_count": 4,
      "metadata": {
        "colab": {
          "base_uri": "https://localhost:8080/"
        },
        "id": "PFhjK-fEJCFb",
        "outputId": "e31a0961-acaa-4ac4-9bd7-ddd055e20329"
      },
      "outputs": [
        {
          "output_type": "execute_result",
          "data": {
            "text/plain": [
              "tensorflow.python.data.ops.dataset_ops.TensorSliceDataset"
            ]
          },
          "metadata": {},
          "execution_count": 4
        }
      ],
      "source": [
        "type(dataset)"
      ]
    },
    {
      "cell_type": "code",
      "execution_count": 5,
      "metadata": {
        "colab": {
          "base_uri": "https://localhost:8080/"
        },
        "id": "86spJ53dJCHf",
        "outputId": "26fad6a7-48bb-4d1d-e72d-2d4da21958f5"
      },
      "outputs": [
        {
          "output_type": "execute_result",
          "data": {
            "text/plain": [
              "tensorflow.python.data.ops.dataset_ops.MapDataset"
            ]
          },
          "metadata": {},
          "execution_count": 5
        }
      ],
      "source": [
        "dataset = dataset.map(lambda x:x**2)\n",
        "type(dataset)"
      ]
    },
    {
      "cell_type": "code",
      "execution_count": 6,
      "metadata": {
        "id": "3vaoixnwJCJV"
      },
      "outputs": [],
      "source": [
        "dataset = dataset.shuffle(9)"
      ]
    },
    {
      "cell_type": "code",
      "execution_count": 7,
      "metadata": {
        "id": "e16EiSPSJCLq"
      },
      "outputs": [],
      "source": [
        "dataset = dataset.batch(4)"
      ]
    },
    {
      "cell_type": "code",
      "execution_count": 8,
      "metadata": {
        "colab": {
          "base_uri": "https://localhost:8080/"
        },
        "id": "QTVM6xhEo5J3",
        "outputId": "0aee054e-d006-47ad-a22d-0680e8a85b2c"
      },
      "outputs": [
        {
          "output_type": "stream",
          "name": "stdout",
          "text": [
            "tf.Tensor([64  9  1 25], shape=(4,), dtype=int64)\n",
            "tf.Tensor([16  4 49 36], shape=(4,), dtype=int64)\n",
            "tf.Tensor([0], shape=(1,), dtype=int64)\n"
          ]
        }
      ],
      "source": [
        "for a in dataset:\n",
        "  print(a)"
      ]
    },
    {
      "cell_type": "code",
      "execution_count": 9,
      "metadata": {
        "colab": {
          "base_uri": "https://localhost:8080/"
        },
        "id": "jwmUT7Fjo5Ea",
        "outputId": "fbfc4c85-2301-4cc8-ca71-e4ed866173a7"
      },
      "outputs": [
        {
          "output_type": "execute_result",
          "data": {
            "text/plain": [
              "((10,), (10,))"
            ]
          },
          "metadata": {},
          "execution_count": 9
        }
      ],
      "source": [
        "x = np.arange(10)\n",
        "y = np.arange(10, 20)\n",
        "x.shape, y.shape"
      ]
    },
    {
      "cell_type": "code",
      "execution_count": 10,
      "metadata": {
        "id": "uAatmPhvo5CU"
      },
      "outputs": [],
      "source": [
        "ds = tf.data.Dataset.from_tensor_slices((x,y))"
      ]
    },
    {
      "cell_type": "code",
      "execution_count": 11,
      "metadata": {
        "colab": {
          "base_uri": "https://localhost:8080/"
        },
        "id": "yPYtP7XHo4_9",
        "outputId": "f129324f-404a-4b5c-c9b0-37966f89735f"
      },
      "outputs": [
        {
          "output_type": "stream",
          "name": "stdout",
          "text": [
            "(<tf.Tensor: shape=(), dtype=int64, numpy=0>, <tf.Tensor: shape=(), dtype=int64, numpy=10>)\n",
            "(<tf.Tensor: shape=(), dtype=int64, numpy=1>, <tf.Tensor: shape=(), dtype=int64, numpy=11>)\n",
            "(<tf.Tensor: shape=(), dtype=int64, numpy=2>, <tf.Tensor: shape=(), dtype=int64, numpy=12>)\n",
            "(<tf.Tensor: shape=(), dtype=int64, numpy=3>, <tf.Tensor: shape=(), dtype=int64, numpy=13>)\n",
            "(<tf.Tensor: shape=(), dtype=int64, numpy=4>, <tf.Tensor: shape=(), dtype=int64, numpy=14>)\n",
            "(<tf.Tensor: shape=(), dtype=int64, numpy=5>, <tf.Tensor: shape=(), dtype=int64, numpy=15>)\n",
            "(<tf.Tensor: shape=(), dtype=int64, numpy=6>, <tf.Tensor: shape=(), dtype=int64, numpy=16>)\n",
            "(<tf.Tensor: shape=(), dtype=int64, numpy=7>, <tf.Tensor: shape=(), dtype=int64, numpy=17>)\n",
            "(<tf.Tensor: shape=(), dtype=int64, numpy=8>, <tf.Tensor: shape=(), dtype=int64, numpy=18>)\n",
            "(<tf.Tensor: shape=(), dtype=int64, numpy=9>, <tf.Tensor: shape=(), dtype=int64, numpy=19>)\n"
          ]
        }
      ],
      "source": [
        "for a in ds:\n",
        "  print(a)"
      ]
    },
    {
      "cell_type": "code",
      "execution_count": 12,
      "metadata": {
        "id": "epnDXCCZo49x"
      },
      "outputs": [],
      "source": [
        "ds2 = ds.map(lambda x, y:(x**2, y))"
      ]
    },
    {
      "cell_type": "code",
      "execution_count": 13,
      "metadata": {
        "colab": {
          "base_uri": "https://localhost:8080/"
        },
        "id": "JquxiZD3o47B",
        "outputId": "ee09c167-a629-4477-de35-60e252353573"
      },
      "outputs": [
        {
          "output_type": "stream",
          "name": "stdout",
          "text": [
            "(<tf.Tensor: shape=(), dtype=int64, numpy=0>, <tf.Tensor: shape=(), dtype=int64, numpy=10>)\n",
            "(<tf.Tensor: shape=(), dtype=int64, numpy=1>, <tf.Tensor: shape=(), dtype=int64, numpy=11>)\n",
            "(<tf.Tensor: shape=(), dtype=int64, numpy=4>, <tf.Tensor: shape=(), dtype=int64, numpy=12>)\n",
            "(<tf.Tensor: shape=(), dtype=int64, numpy=9>, <tf.Tensor: shape=(), dtype=int64, numpy=13>)\n",
            "(<tf.Tensor: shape=(), dtype=int64, numpy=16>, <tf.Tensor: shape=(), dtype=int64, numpy=14>)\n",
            "(<tf.Tensor: shape=(), dtype=int64, numpy=25>, <tf.Tensor: shape=(), dtype=int64, numpy=15>)\n",
            "(<tf.Tensor: shape=(), dtype=int64, numpy=36>, <tf.Tensor: shape=(), dtype=int64, numpy=16>)\n",
            "(<tf.Tensor: shape=(), dtype=int64, numpy=49>, <tf.Tensor: shape=(), dtype=int64, numpy=17>)\n",
            "(<tf.Tensor: shape=(), dtype=int64, numpy=64>, <tf.Tensor: shape=(), dtype=int64, numpy=18>)\n",
            "(<tf.Tensor: shape=(), dtype=int64, numpy=81>, <tf.Tensor: shape=(), dtype=int64, numpy=19>)\n"
          ]
        }
      ],
      "source": [
        "for a in ds2:\n",
        "  print(a)"
      ]
    },
    {
      "cell_type": "code",
      "execution_count": 14,
      "metadata": {
        "id": "yn0sb_owo44a"
      },
      "outputs": [],
      "source": [
        "ds3 = ds2.shuffle(10)"
      ]
    },
    {
      "cell_type": "code",
      "execution_count": 15,
      "metadata": {
        "colab": {
          "base_uri": "https://localhost:8080/"
        },
        "id": "PnI_4pxVo4zN",
        "outputId": "4aa16a09-8515-4c10-b695-810906bd835f"
      },
      "outputs": [
        {
          "output_type": "stream",
          "name": "stdout",
          "text": [
            "(<tf.Tensor: shape=(), dtype=int64, numpy=81>, <tf.Tensor: shape=(), dtype=int64, numpy=19>)\n",
            "(<tf.Tensor: shape=(), dtype=int64, numpy=25>, <tf.Tensor: shape=(), dtype=int64, numpy=15>)\n",
            "(<tf.Tensor: shape=(), dtype=int64, numpy=36>, <tf.Tensor: shape=(), dtype=int64, numpy=16>)\n",
            "(<tf.Tensor: shape=(), dtype=int64, numpy=0>, <tf.Tensor: shape=(), dtype=int64, numpy=10>)\n",
            "(<tf.Tensor: shape=(), dtype=int64, numpy=1>, <tf.Tensor: shape=(), dtype=int64, numpy=11>)\n",
            "(<tf.Tensor: shape=(), dtype=int64, numpy=4>, <tf.Tensor: shape=(), dtype=int64, numpy=12>)\n",
            "(<tf.Tensor: shape=(), dtype=int64, numpy=49>, <tf.Tensor: shape=(), dtype=int64, numpy=17>)\n",
            "(<tf.Tensor: shape=(), dtype=int64, numpy=16>, <tf.Tensor: shape=(), dtype=int64, numpy=14>)\n",
            "(<tf.Tensor: shape=(), dtype=int64, numpy=64>, <tf.Tensor: shape=(), dtype=int64, numpy=18>)\n",
            "(<tf.Tensor: shape=(), dtype=int64, numpy=9>, <tf.Tensor: shape=(), dtype=int64, numpy=13>)\n"
          ]
        }
      ],
      "source": [
        "for a in ds3:\n",
        "  print(a)"
      ]
    },
    {
      "cell_type": "code",
      "execution_count": 16,
      "metadata": {
        "id": "Jj0w4WpLo4wm"
      },
      "outputs": [],
      "source": [
        "ds4 = ds3.batch(5)"
      ]
    },
    {
      "cell_type": "code",
      "execution_count": 17,
      "metadata": {
        "colab": {
          "base_uri": "https://localhost:8080/"
        },
        "id": "dywT91eJo4tj",
        "outputId": "f49856f3-e4ee-415a-dbfb-3ecda2c1b2af"
      },
      "outputs": [
        {
          "output_type": "stream",
          "name": "stdout",
          "text": [
            "(<tf.Tensor: shape=(5,), dtype=int64, numpy=array([64, 36, 16,  0,  4])>, <tf.Tensor: shape=(5,), dtype=int64, numpy=array([18, 16, 14, 10, 12])>)\n",
            "(<tf.Tensor: shape=(5,), dtype=int64, numpy=array([25, 49, 81,  1,  9])>, <tf.Tensor: shape=(5,), dtype=int64, numpy=array([15, 17, 19, 11, 13])>)\n"
          ]
        }
      ],
      "source": [
        "for a in ds4:\n",
        "  print(a)"
      ]
    },
    {
      "cell_type": "code",
      "execution_count": 18,
      "metadata": {
        "colab": {
          "base_uri": "https://localhost:8080/"
        },
        "id": "XaLoNe72o4qo",
        "outputId": "e4a4c3b8-c22c-4af8-806b-88cc0e5700a8"
      },
      "outputs": [
        {
          "output_type": "stream",
          "name": "stdout",
          "text": [
            "(<tf.Tensor: shape=(5,), dtype=int64, numpy=array([64,  9, 36,  1, 49])>, <tf.Tensor: shape=(5,), dtype=int64, numpy=array([18, 13, 16, 11, 17])>)\n",
            "(<tf.Tensor: shape=(5,), dtype=int64, numpy=array([16,  4, 81,  0, 25])>, <tf.Tensor: shape=(5,), dtype=int64, numpy=array([14, 12, 19, 10, 15])>)\n",
            "(<tf.Tensor: shape=(5,), dtype=int64, numpy=array([36,  9,  0, 64, 81])>, <tf.Tensor: shape=(5,), dtype=int64, numpy=array([16, 13, 10, 18, 19])>)\n",
            "(<tf.Tensor: shape=(5,), dtype=int64, numpy=array([16,  4, 25, 49,  1])>, <tf.Tensor: shape=(5,), dtype=int64, numpy=array([14, 12, 15, 17, 11])>)\n"
          ]
        }
      ],
      "source": [
        "for a in ds4.repeat(2):\n",
        "  print(a)"
      ]
    },
    {
      "cell_type": "code",
      "execution_count": 19,
      "metadata": {
        "id": "uyIeTcZYo4kX"
      },
      "outputs": [],
      "source": [
        "dataset = tf.data.Dataset.from_tensor_slices((x,y)).map(lambda x,y: (x**2, y)).shuffle(10).batch(4, drop_remainder = True)"
      ]
    },
    {
      "cell_type": "code",
      "execution_count": 20,
      "metadata": {
        "colab": {
          "base_uri": "https://localhost:8080/"
        },
        "id": "aQsIAR1Ho4hO",
        "outputId": "80ed9dc4-eaaf-40e2-f38e-0b98e677dba7"
      },
      "outputs": [
        {
          "output_type": "stream",
          "name": "stdout",
          "text": [
            "(<tf.Tensor: shape=(4,), dtype=int64, numpy=array([49, 81, 16,  1])>, <tf.Tensor: shape=(4,), dtype=int64, numpy=array([17, 19, 14, 11])>)\n",
            "(<tf.Tensor: shape=(4,), dtype=int64, numpy=array([ 9, 36, 25,  0])>, <tf.Tensor: shape=(4,), dtype=int64, numpy=array([13, 16, 15, 10])>)\n"
          ]
        }
      ],
      "source": [
        "for a in dataset:\n",
        "  print(a)"
      ]
    },
    {
      "cell_type": "code",
      "execution_count": 20,
      "metadata": {
        "id": "C_yLGsk0DWR_"
      },
      "outputs": [],
      "source": []
    },
    {
      "cell_type": "code",
      "execution_count": 21,
      "metadata": {
        "id": "-gBVSbxlECi3"
      },
      "outputs": [],
      "source": [
        "import numpy as np\n",
        "import tensorflow as tf\n",
        "from tensorflow import keras"
      ]
    },
    {
      "cell_type": "code",
      "execution_count": 22,
      "metadata": {
        "id": "d4r9zSbqECle"
      },
      "outputs": [],
      "source": [
        "np.random.seed(1)\n",
        "tf.random.set_seed(1)"
      ]
    },
    {
      "cell_type": "code",
      "execution_count": 23,
      "metadata": {
        "colab": {
          "base_uri": "https://localhost:8080/"
        },
        "id": "0iUmmqeTECoG",
        "outputId": "14ebbd33-96b5-41ff-c623-1eab57c8bd36"
      },
      "outputs": [
        {
          "output_type": "stream",
          "name": "stdout",
          "text": [
            "Downloading data from https://storage.googleapis.com/tensorflow/tf-keras-datasets/boston_housing.npz\n",
            "57026/57026 [==============================] - 0s 0us/step\n"
          ]
        }
      ],
      "source": [
        "(X_train, y_train), (X_test, y_test) = keras.datasets.boston_housing.load_data()"
      ]
    },
    {
      "cell_type": "code",
      "execution_count": 24,
      "metadata": {
        "colab": {
          "base_uri": "https://localhost:8080/"
        },
        "id": "xmfO9SokECqr",
        "outputId": "bf396622-97f1-454b-be9c-011c8fe3fe05"
      },
      "outputs": [
        {
          "output_type": "execute_result",
          "data": {
            "text/plain": [
              "((404, 13), (102, 13))"
            ]
          },
          "metadata": {},
          "execution_count": 24
        }
      ],
      "source": [
        "X_train.shape, X_test.shape"
      ]
    },
    {
      "cell_type": "code",
      "execution_count": 25,
      "metadata": {
        "colab": {
          "base_uri": "https://localhost:8080/"
        },
        "id": "fwhGvt8yECtj",
        "outputId": "a609108f-24b5-4659-d23a-77688130bb58"
      },
      "outputs": [
        {
          "output_type": "execute_result",
          "data": {
            "text/plain": [
              "array([15.2, 42.3, 50. , 21.1, 17.7])"
            ]
          },
          "metadata": {},
          "execution_count": 25
        }
      ],
      "source": [
        "y_train[:5]"
      ]
    },
    {
      "cell_type": "code",
      "execution_count": 26,
      "metadata": {
        "id": "0kbGCa7_ECwc"
      },
      "outputs": [],
      "source": [
        "LEARNING_RATE = 0.001\n",
        "N_EPOCHS = 200\n",
        "N_BATCHS = 32\n",
        "\n",
        "N_TRAIN = X_train.shape[0]\n",
        "N_TEST = X_test.shape[0]\n",
        "N_FEATURES = X_train.shape[1]"
      ]
    },
    {
      "cell_type": "code",
      "execution_count": 27,
      "metadata": {
        "colab": {
          "base_uri": "https://localhost:8080/"
        },
        "id": "aWBBKsDeGCAE",
        "outputId": "475a021c-cafb-4b6b-fd03-5f18a3704e52"
      },
      "outputs": [
        {
          "output_type": "execute_result",
          "data": {
            "text/plain": [
              "13"
            ]
          },
          "metadata": {},
          "execution_count": 27
        }
      ],
      "source": [
        "X_train.shape[1]"
      ]
    },
    {
      "cell_type": "code",
      "execution_count": 28,
      "metadata": {
        "id": "96N2ajXiECzB"
      },
      "outputs": [],
      "source": [
        "train_dataset = tf.data.Dataset.from_tensor_slices((X_train, y_train)).shuffle(N_TRAIN).batch(N_BATCHS, drop_remainder=True).repeat()\n",
        "val_dataset = tf.data.Dataset.from_tensor_slices((X_train, y_train)).batch(N_BATCHS)"
      ]
    },
    {
      "cell_type": "code",
      "execution_count": 29,
      "metadata": {
        "id": "2mrtUWC-EC1o"
      },
      "outputs": [],
      "source": [
        "def create_model():\n",
        "  model = keras.Sequential()\n",
        "\n",
        "  model.add(keras.layers.Dense(units = 16, activation = 'relu', input_shape = (N_FEATURES,)))\n",
        "  model.add(keras.layers.Dense(units = 8, activation = 'relu'))\n",
        "\n",
        "  model.add(keras.layers.Dense(units = 1))\n",
        "\n",
        "  # define optimizer\n",
        "  model.compile(optimizer = tf.keras.optimizers.Adam(learning_rate = LEARNING_RATE), loss = 'mse')\n",
        "\n",
        "  return model"
      ]
    },
    {
      "cell_type": "code",
      "execution_count": 30,
      "metadata": {
        "id": "yNmFQjC2EC4G"
      },
      "outputs": [],
      "source": [
        "model = create_model()"
      ]
    },
    {
      "cell_type": "code",
      "execution_count": 31,
      "metadata": {
        "colab": {
          "base_uri": "https://localhost:8080/"
        },
        "id": "43nFAAszEC6D",
        "outputId": "e38d56dc-866e-4c1c-e2ea-294b8de01f1c"
      },
      "outputs": [
        {
          "output_type": "stream",
          "name": "stdout",
          "text": [
            "Model: \"sequential\"\n",
            "_________________________________________________________________\n",
            " Layer (type)                Output Shape              Param #   \n",
            "=================================================================\n",
            " dense (Dense)               (None, 16)                224       \n",
            "                                                                 \n",
            " dense_1 (Dense)             (None, 8)                 136       \n",
            "                                                                 \n",
            " dense_2 (Dense)             (None, 1)                 9         \n",
            "                                                                 \n",
            "=================================================================\n",
            "Total params: 369\n",
            "Trainable params: 369\n",
            "Non-trainable params: 0\n",
            "_________________________________________________________________\n"
          ]
        }
      ],
      "source": [
        "model.summary()"
      ]
    },
    {
      "cell_type": "code",
      "execution_count": 32,
      "metadata": {
        "id": "MeeEOpiiEC8q"
      },
      "outputs": [],
      "source": [
        "steps_per_epoch = N_TRAIN // N_BATCHS\n",
        "validation_steps = int(np.ceil(N_TEST / N_BATCHS))"
      ]
    },
    {
      "cell_type": "code",
      "execution_count": 33,
      "metadata": {
        "colab": {
          "base_uri": "https://localhost:8080/"
        },
        "id": "JU1FMDk1EC_G",
        "outputId": "09c2f9fb-8e51-450b-e985-a96e94be275b"
      },
      "outputs": [
        {
          "output_type": "execute_result",
          "data": {
            "text/plain": [
              "(102, 404)"
            ]
          },
          "metadata": {},
          "execution_count": 33
        }
      ],
      "source": [
        "N_TEST, N_TRAIN"
      ]
    },
    {
      "cell_type": "code",
      "execution_count": 34,
      "metadata": {
        "colab": {
          "base_uri": "https://localhost:8080/"
        },
        "id": "zzYPMfBoEDBo",
        "outputId": "759960fe-039b-4750-f9b2-0f54e0aed7a3"
      },
      "outputs": [
        {
          "output_type": "stream",
          "name": "stdout",
          "text": [
            "Epoch 1/200\n",
            "12/12 [==============================] - 1s 21ms/step - loss: 402.1755 - val_loss: 291.0386\n",
            "Epoch 2/200\n",
            "12/12 [==============================] - 0s 2ms/step - loss: 151.8999 - val_loss: 116.0289\n",
            "Epoch 3/200\n",
            "12/12 [==============================] - 0s 3ms/step - loss: 81.3070 - val_loss: 81.7936\n",
            "Epoch 4/200\n",
            "12/12 [==============================] - 0s 5ms/step - loss: 77.1330 - val_loss: 76.8948\n",
            "Epoch 5/200\n",
            "12/12 [==============================] - 0s 2ms/step - loss: 73.2870 - val_loss: 74.0808\n",
            "Epoch 6/200\n",
            "12/12 [==============================] - 0s 3ms/step - loss: 73.6594 - val_loss: 75.3413\n",
            "Epoch 7/200\n",
            "12/12 [==============================] - 0s 3ms/step - loss: 68.5960 - val_loss: 73.2786\n",
            "Epoch 8/200\n",
            "12/12 [==============================] - 0s 3ms/step - loss: 68.1735 - val_loss: 69.7536\n",
            "Epoch 9/200\n",
            "12/12 [==============================] - 0s 4ms/step - loss: 64.4891 - val_loss: 69.0059\n",
            "Epoch 10/200\n",
            "12/12 [==============================] - 0s 4ms/step - loss: 64.8099 - val_loss: 67.0893\n",
            "Epoch 11/200\n",
            "12/12 [==============================] - 0s 3ms/step - loss: 65.4377 - val_loss: 66.2868\n",
            "Epoch 12/200\n",
            "12/12 [==============================] - 0s 3ms/step - loss: 62.9740 - val_loss: 65.4817\n",
            "Epoch 13/200\n",
            "12/12 [==============================] - 0s 5ms/step - loss: 63.7099 - val_loss: 64.3872\n",
            "Epoch 14/200\n",
            "12/12 [==============================] - 0s 3ms/step - loss: 65.0336 - val_loss: 63.5509\n",
            "Epoch 15/200\n",
            "12/12 [==============================] - 0s 2ms/step - loss: 63.9684 - val_loss: 63.0125\n",
            "Epoch 16/200\n",
            "12/12 [==============================] - 0s 3ms/step - loss: 62.0394 - val_loss: 62.1972\n",
            "Epoch 17/200\n",
            "12/12 [==============================] - 0s 2ms/step - loss: 62.4096 - val_loss: 63.4381\n",
            "Epoch 18/200\n",
            "12/12 [==============================] - 0s 2ms/step - loss: 59.5260 - val_loss: 60.9158\n",
            "Epoch 19/200\n",
            "12/12 [==============================] - 0s 2ms/step - loss: 61.3428 - val_loss: 60.1424\n",
            "Epoch 20/200\n",
            "12/12 [==============================] - 0s 2ms/step - loss: 58.3867 - val_loss: 59.9517\n",
            "Epoch 21/200\n",
            "12/12 [==============================] - 0s 3ms/step - loss: 59.8239 - val_loss: 59.0075\n",
            "Epoch 22/200\n",
            "12/12 [==============================] - 0s 4ms/step - loss: 60.4442 - val_loss: 59.9772\n",
            "Epoch 23/200\n",
            "12/12 [==============================] - 0s 3ms/step - loss: 57.6439 - val_loss: 59.4790\n",
            "Epoch 24/200\n",
            "12/12 [==============================] - 0s 3ms/step - loss: 58.5588 - val_loss: 57.6756\n",
            "Epoch 25/200\n",
            "12/12 [==============================] - 0s 4ms/step - loss: 55.6146 - val_loss: 61.0887\n",
            "Epoch 26/200\n",
            "12/12 [==============================] - 0s 4ms/step - loss: 55.1755 - val_loss: 59.0053\n",
            "Epoch 27/200\n",
            "12/12 [==============================] - 0s 3ms/step - loss: 56.7222 - val_loss: 56.2315\n",
            "Epoch 28/200\n",
            "12/12 [==============================] - 0s 2ms/step - loss: 55.2426 - val_loss: 55.6731\n",
            "Epoch 29/200\n",
            "12/12 [==============================] - 0s 2ms/step - loss: 56.0065 - val_loss: 55.6217\n",
            "Epoch 30/200\n",
            "12/12 [==============================] - 0s 4ms/step - loss: 55.0820 - val_loss: 55.5882\n",
            "Epoch 31/200\n",
            "12/12 [==============================] - 0s 6ms/step - loss: 54.4144 - val_loss: 53.9681\n",
            "Epoch 32/200\n",
            "12/12 [==============================] - 0s 5ms/step - loss: 53.5696 - val_loss: 54.9405\n",
            "Epoch 33/200\n",
            "12/12 [==============================] - 0s 8ms/step - loss: 51.9430 - val_loss: 52.8899\n",
            "Epoch 34/200\n",
            "12/12 [==============================] - 0s 6ms/step - loss: 50.8528 - val_loss: 52.5202\n",
            "Epoch 35/200\n",
            "12/12 [==============================] - 0s 3ms/step - loss: 52.0572 - val_loss: 52.5960\n",
            "Epoch 36/200\n",
            "12/12 [==============================] - 0s 3ms/step - loss: 56.3639 - val_loss: 58.2706\n",
            "Epoch 37/200\n",
            "12/12 [==============================] - 0s 7ms/step - loss: 58.0538 - val_loss: 54.3933\n",
            "Epoch 38/200\n",
            "12/12 [==============================] - 0s 3ms/step - loss: 55.8469 - val_loss: 58.1579\n",
            "Epoch 39/200\n",
            "12/12 [==============================] - 0s 3ms/step - loss: 50.7781 - val_loss: 50.1711\n",
            "Epoch 40/200\n",
            "12/12 [==============================] - 0s 3ms/step - loss: 50.5251 - val_loss: 50.2335\n",
            "Epoch 41/200\n",
            "12/12 [==============================] - 0s 3ms/step - loss: 50.2312 - val_loss: 49.6551\n",
            "Epoch 42/200\n",
            "12/12 [==============================] - 0s 4ms/step - loss: 51.1090 - val_loss: 49.9795\n",
            "Epoch 43/200\n",
            "12/12 [==============================] - 0s 7ms/step - loss: 47.1106 - val_loss: 48.7964\n",
            "Epoch 44/200\n",
            "12/12 [==============================] - 0s 5ms/step - loss: 46.9172 - val_loss: 48.4441\n",
            "Epoch 45/200\n",
            "12/12 [==============================] - 0s 10ms/step - loss: 49.1659 - val_loss: 48.8310\n",
            "Epoch 46/200\n",
            "12/12 [==============================] - 0s 9ms/step - loss: 49.5845 - val_loss: 48.3917\n",
            "Epoch 47/200\n",
            "12/12 [==============================] - 0s 4ms/step - loss: 49.9568 - val_loss: 47.3705\n",
            "Epoch 48/200\n",
            "12/12 [==============================] - 0s 7ms/step - loss: 47.2701 - val_loss: 47.0203\n",
            "Epoch 49/200\n",
            "12/12 [==============================] - 0s 4ms/step - loss: 48.2489 - val_loss: 46.9664\n",
            "Epoch 50/200\n",
            "12/12 [==============================] - 0s 3ms/step - loss: 50.1578 - val_loss: 47.1471\n",
            "Epoch 51/200\n",
            "12/12 [==============================] - 0s 5ms/step - loss: 45.3427 - val_loss: 46.2487\n",
            "Epoch 52/200\n",
            "12/12 [==============================] - 0s 5ms/step - loss: 45.7545 - val_loss: 45.9414\n",
            "Epoch 53/200\n",
            "12/12 [==============================] - 0s 5ms/step - loss: 42.2191 - val_loss: 45.6798\n",
            "Epoch 54/200\n",
            "12/12 [==============================] - 0s 3ms/step - loss: 45.6220 - val_loss: 48.4677\n",
            "Epoch 55/200\n",
            "12/12 [==============================] - 0s 2ms/step - loss: 44.3202 - val_loss: 45.1826\n",
            "Epoch 56/200\n",
            "12/12 [==============================] - 0s 2ms/step - loss: 44.7217 - val_loss: 47.9205\n",
            "Epoch 57/200\n",
            "12/12 [==============================] - 0s 3ms/step - loss: 47.4383 - val_loss: 46.2656\n",
            "Epoch 58/200\n",
            "12/12 [==============================] - 0s 8ms/step - loss: 46.6368 - val_loss: 44.7177\n",
            "Epoch 59/200\n",
            "12/12 [==============================] - 0s 5ms/step - loss: 43.9872 - val_loss: 44.1947\n",
            "Epoch 60/200\n",
            "12/12 [==============================] - 0s 3ms/step - loss: 45.9647 - val_loss: 43.8404\n",
            "Epoch 61/200\n",
            "12/12 [==============================] - 0s 5ms/step - loss: 45.2187 - val_loss: 44.9621\n",
            "Epoch 62/200\n",
            "12/12 [==============================] - 0s 7ms/step - loss: 42.1026 - val_loss: 43.4077\n",
            "Epoch 63/200\n",
            "12/12 [==============================] - 0s 10ms/step - loss: 41.8696 - val_loss: 43.6841\n",
            "Epoch 64/200\n",
            "12/12 [==============================] - 0s 6ms/step - loss: 43.5113 - val_loss: 43.0693\n",
            "Epoch 65/200\n",
            "12/12 [==============================] - 0s 6ms/step - loss: 43.1631 - val_loss: 45.0570\n",
            "Epoch 66/200\n",
            "12/12 [==============================] - 0s 9ms/step - loss: 42.6488 - val_loss: 45.2834\n",
            "Epoch 67/200\n",
            "12/12 [==============================] - 0s 5ms/step - loss: 42.6960 - val_loss: 46.6399\n",
            "Epoch 68/200\n",
            "12/12 [==============================] - 0s 7ms/step - loss: 43.9614 - val_loss: 42.1672\n",
            "Epoch 69/200\n",
            "12/12 [==============================] - 0s 5ms/step - loss: 41.6969 - val_loss: 42.0070\n",
            "Epoch 70/200\n",
            "12/12 [==============================] - 0s 8ms/step - loss: 40.7622 - val_loss: 42.5303\n",
            "Epoch 71/200\n",
            "12/12 [==============================] - 0s 2ms/step - loss: 40.9530 - val_loss: 41.7329\n",
            "Epoch 72/200\n",
            "12/12 [==============================] - 0s 5ms/step - loss: 42.1056 - val_loss: 42.4583\n",
            "Epoch 73/200\n",
            "12/12 [==============================] - 0s 4ms/step - loss: 41.6055 - val_loss: 42.4418\n",
            "Epoch 74/200\n",
            "12/12 [==============================] - 0s 4ms/step - loss: 38.9769 - val_loss: 41.6347\n",
            "Epoch 75/200\n",
            "12/12 [==============================] - 0s 5ms/step - loss: 41.9724 - val_loss: 40.9825\n",
            "Epoch 76/200\n",
            "12/12 [==============================] - 0s 3ms/step - loss: 39.4094 - val_loss: 40.6732\n",
            "Epoch 77/200\n",
            "12/12 [==============================] - 0s 6ms/step - loss: 39.9596 - val_loss: 42.5642\n",
            "Epoch 78/200\n",
            "12/12 [==============================] - 0s 6ms/step - loss: 39.3306 - val_loss: 40.1975\n",
            "Epoch 79/200\n",
            "12/12 [==============================] - 0s 8ms/step - loss: 41.4842 - val_loss: 41.1040\n",
            "Epoch 80/200\n",
            "12/12 [==============================] - 0s 6ms/step - loss: 35.7655 - val_loss: 39.7263\n",
            "Epoch 81/200\n",
            "12/12 [==============================] - 0s 11ms/step - loss: 40.6395 - val_loss: 39.8678\n",
            "Epoch 82/200\n",
            "12/12 [==============================] - 0s 13ms/step - loss: 41.8409 - val_loss: 45.3253\n",
            "Epoch 83/200\n",
            "12/12 [==============================] - 0s 8ms/step - loss: 41.3783 - val_loss: 39.4072\n",
            "Epoch 84/200\n",
            "12/12 [==============================] - 0s 8ms/step - loss: 39.6774 - val_loss: 40.0807\n",
            "Epoch 85/200\n",
            "12/12 [==============================] - 0s 8ms/step - loss: 41.2063 - val_loss: 39.2291\n",
            "Epoch 86/200\n",
            "12/12 [==============================] - 0s 4ms/step - loss: 40.0407 - val_loss: 38.8573\n",
            "Epoch 87/200\n",
            "12/12 [==============================] - 0s 8ms/step - loss: 35.3876 - val_loss: 41.3719\n",
            "Epoch 88/200\n",
            "12/12 [==============================] - 0s 4ms/step - loss: 40.0828 - val_loss: 40.0744\n",
            "Epoch 89/200\n",
            "12/12 [==============================] - 0s 6ms/step - loss: 41.4324 - val_loss: 39.5053\n",
            "Epoch 90/200\n",
            "12/12 [==============================] - 0s 7ms/step - loss: 36.9179 - val_loss: 38.6080\n",
            "Epoch 91/200\n",
            "12/12 [==============================] - 0s 5ms/step - loss: 38.8322 - val_loss: 38.6572\n",
            "Epoch 92/200\n",
            "12/12 [==============================] - 0s 6ms/step - loss: 39.3039 - val_loss: 40.1681\n",
            "Epoch 93/200\n",
            "12/12 [==============================] - 0s 8ms/step - loss: 39.6712 - val_loss: 38.0344\n",
            "Epoch 94/200\n",
            "12/12 [==============================] - 0s 3ms/step - loss: 38.1553 - val_loss: 38.2460\n",
            "Epoch 95/200\n",
            "12/12 [==============================] - 0s 6ms/step - loss: 36.1023 - val_loss: 38.6367\n",
            "Epoch 96/200\n",
            "12/12 [==============================] - 0s 5ms/step - loss: 41.5881 - val_loss: 41.0707\n",
            "Epoch 97/200\n",
            "12/12 [==============================] - 0s 3ms/step - loss: 38.6762 - val_loss: 38.7833\n",
            "Epoch 98/200\n",
            "12/12 [==============================] - 0s 3ms/step - loss: 39.1162 - val_loss: 37.3111\n",
            "Epoch 99/200\n",
            "12/12 [==============================] - 0s 7ms/step - loss: 36.4666 - val_loss: 37.7335\n",
            "Epoch 100/200\n",
            "12/12 [==============================] - 0s 4ms/step - loss: 34.7881 - val_loss: 39.4254\n",
            "Epoch 101/200\n",
            "12/12 [==============================] - 0s 4ms/step - loss: 38.8773 - val_loss: 37.6040\n",
            "Epoch 102/200\n",
            "12/12 [==============================] - 0s 3ms/step - loss: 38.0816 - val_loss: 36.8103\n",
            "Epoch 103/200\n",
            "12/12 [==============================] - 0s 4ms/step - loss: 35.2724 - val_loss: 36.4807\n",
            "Epoch 104/200\n",
            "12/12 [==============================] - 0s 4ms/step - loss: 37.3092 - val_loss: 37.6159\n",
            "Epoch 105/200\n",
            "12/12 [==============================] - 0s 4ms/step - loss: 37.7346 - val_loss: 36.6512\n",
            "Epoch 106/200\n",
            "12/12 [==============================] - 0s 5ms/step - loss: 37.8885 - val_loss: 36.1712\n",
            "Epoch 107/200\n",
            "12/12 [==============================] - 0s 7ms/step - loss: 38.4336 - val_loss: 38.3893\n",
            "Epoch 108/200\n",
            "12/12 [==============================] - 0s 5ms/step - loss: 38.6801 - val_loss: 36.2910\n",
            "Epoch 109/200\n",
            "12/12 [==============================] - 0s 11ms/step - loss: 36.5863 - val_loss: 39.0300\n",
            "Epoch 110/200\n",
            "12/12 [==============================] - 0s 8ms/step - loss: 35.7232 - val_loss: 37.3387\n",
            "Epoch 111/200\n",
            "12/12 [==============================] - 0s 5ms/step - loss: 36.3928 - val_loss: 36.0705\n",
            "Epoch 112/200\n",
            "12/12 [==============================] - 0s 5ms/step - loss: 35.2898 - val_loss: 37.7582\n",
            "Epoch 113/200\n",
            "12/12 [==============================] - 0s 4ms/step - loss: 37.6640 - val_loss: 36.7542\n",
            "Epoch 114/200\n",
            "12/12 [==============================] - 0s 4ms/step - loss: 36.7590 - val_loss: 37.3899\n",
            "Epoch 115/200\n",
            "12/12 [==============================] - 0s 4ms/step - loss: 36.8201 - val_loss: 35.3352\n",
            "Epoch 116/200\n",
            "12/12 [==============================] - 0s 7ms/step - loss: 36.3729 - val_loss: 35.3289\n",
            "Epoch 117/200\n",
            "12/12 [==============================] - 0s 6ms/step - loss: 36.4167 - val_loss: 35.3902\n",
            "Epoch 118/200\n",
            "12/12 [==============================] - 0s 6ms/step - loss: 34.5780 - val_loss: 36.7728\n",
            "Epoch 119/200\n",
            "12/12 [==============================] - 0s 3ms/step - loss: 37.6742 - val_loss: 36.6513\n",
            "Epoch 120/200\n",
            "12/12 [==============================] - 0s 3ms/step - loss: 38.4758 - val_loss: 38.8110\n",
            "Epoch 121/200\n",
            "12/12 [==============================] - 0s 3ms/step - loss: 36.2951 - val_loss: 35.1539\n",
            "Epoch 122/200\n",
            "12/12 [==============================] - 0s 4ms/step - loss: 36.6792 - val_loss: 35.3573\n",
            "Epoch 123/200\n",
            "12/12 [==============================] - 0s 3ms/step - loss: 35.6400 - val_loss: 38.2948\n",
            "Epoch 124/200\n",
            "12/12 [==============================] - 0s 6ms/step - loss: 37.0662 - val_loss: 34.6202\n",
            "Epoch 125/200\n",
            "12/12 [==============================] - 0s 5ms/step - loss: 37.2502 - val_loss: 35.0689\n",
            "Epoch 126/200\n",
            "12/12 [==============================] - 0s 5ms/step - loss: 36.9472 - val_loss: 35.3469\n",
            "Epoch 127/200\n",
            "12/12 [==============================] - 0s 10ms/step - loss: 36.2343 - val_loss: 35.6457\n",
            "Epoch 128/200\n",
            "12/12 [==============================] - 0s 10ms/step - loss: 34.9077 - val_loss: 34.7862\n",
            "Epoch 129/200\n",
            "12/12 [==============================] - 0s 11ms/step - loss: 36.0079 - val_loss: 35.1134\n",
            "Epoch 130/200\n",
            "12/12 [==============================] - 0s 7ms/step - loss: 35.8052 - val_loss: 36.8105\n",
            "Epoch 131/200\n",
            "12/12 [==============================] - 0s 9ms/step - loss: 36.5314 - val_loss: 36.2592\n",
            "Epoch 132/200\n",
            "12/12 [==============================] - 0s 11ms/step - loss: 35.1258 - val_loss: 34.9177\n",
            "Epoch 133/200\n",
            "12/12 [==============================] - 0s 11ms/step - loss: 37.3060 - val_loss: 34.8870\n",
            "Epoch 134/200\n",
            "12/12 [==============================] - 0s 12ms/step - loss: 35.4222 - val_loss: 34.4196\n",
            "Epoch 135/200\n",
            "12/12 [==============================] - 0s 2ms/step - loss: 33.0794 - val_loss: 33.9795\n",
            "Epoch 136/200\n",
            "12/12 [==============================] - 0s 6ms/step - loss: 34.5928 - val_loss: 35.2213\n",
            "Epoch 137/200\n",
            "12/12 [==============================] - 0s 5ms/step - loss: 35.3102 - val_loss: 35.0457\n",
            "Epoch 138/200\n",
            "12/12 [==============================] - 0s 10ms/step - loss: 36.0494 - val_loss: 34.2336\n",
            "Epoch 139/200\n",
            "12/12 [==============================] - 0s 4ms/step - loss: 31.6362 - val_loss: 35.2933\n",
            "Epoch 140/200\n",
            "12/12 [==============================] - 0s 5ms/step - loss: 35.6327 - val_loss: 34.7335\n",
            "Epoch 141/200\n",
            "12/12 [==============================] - 0s 7ms/step - loss: 35.7827 - val_loss: 35.7314\n",
            "Epoch 142/200\n",
            "12/12 [==============================] - 0s 7ms/step - loss: 35.2612 - val_loss: 36.2540\n",
            "Epoch 143/200\n",
            "12/12 [==============================] - 0s 9ms/step - loss: 35.2579 - val_loss: 33.9706\n",
            "Epoch 144/200\n",
            "12/12 [==============================] - 0s 4ms/step - loss: 36.3229 - val_loss: 34.0243\n",
            "Epoch 145/200\n",
            "12/12 [==============================] - 0s 4ms/step - loss: 35.0171 - val_loss: 34.8855\n",
            "Epoch 146/200\n",
            "12/12 [==============================] - 0s 9ms/step - loss: 32.7783 - val_loss: 34.7059\n",
            "Epoch 147/200\n",
            "12/12 [==============================] - 0s 5ms/step - loss: 35.4734 - val_loss: 33.4090\n",
            "Epoch 148/200\n",
            "12/12 [==============================] - 0s 8ms/step - loss: 35.7032 - val_loss: 37.4566\n",
            "Epoch 149/200\n",
            "12/12 [==============================] - 0s 3ms/step - loss: 35.7451 - val_loss: 34.1622\n",
            "Epoch 150/200\n",
            "12/12 [==============================] - 0s 5ms/step - loss: 36.4798 - val_loss: 34.1533\n",
            "Epoch 151/200\n",
            "12/12 [==============================] - 0s 7ms/step - loss: 34.7162 - val_loss: 34.8385\n",
            "Epoch 152/200\n",
            "12/12 [==============================] - 0s 6ms/step - loss: 35.9736 - val_loss: 33.8215\n",
            "Epoch 153/200\n",
            "12/12 [==============================] - 0s 11ms/step - loss: 32.8387 - val_loss: 33.4861\n",
            "Epoch 154/200\n",
            "12/12 [==============================] - 0s 9ms/step - loss: 33.9922 - val_loss: 34.1096\n",
            "Epoch 155/200\n",
            "12/12 [==============================] - 0s 6ms/step - loss: 35.4931 - val_loss: 34.1589\n",
            "Epoch 156/200\n",
            "12/12 [==============================] - 0s 9ms/step - loss: 34.7526 - val_loss: 33.3641\n",
            "Epoch 157/200\n",
            "12/12 [==============================] - 0s 8ms/step - loss: 34.6434 - val_loss: 33.4982\n",
            "Epoch 158/200\n",
            "12/12 [==============================] - 0s 10ms/step - loss: 33.3328 - val_loss: 33.0763\n",
            "Epoch 159/200\n",
            "12/12 [==============================] - 0s 4ms/step - loss: 34.2025 - val_loss: 33.7449\n",
            "Epoch 160/200\n",
            "12/12 [==============================] - 0s 8ms/step - loss: 33.3250 - val_loss: 33.1986\n",
            "Epoch 161/200\n",
            "12/12 [==============================] - 0s 5ms/step - loss: 33.8451 - val_loss: 33.7884\n",
            "Epoch 162/200\n",
            "12/12 [==============================] - 0s 6ms/step - loss: 34.4304 - val_loss: 33.0504\n",
            "Epoch 163/200\n",
            "12/12 [==============================] - 0s 8ms/step - loss: 33.9570 - val_loss: 34.5835\n",
            "Epoch 164/200\n",
            "12/12 [==============================] - 0s 4ms/step - loss: 35.2657 - val_loss: 33.3615\n",
            "Epoch 165/200\n",
            "12/12 [==============================] - 0s 4ms/step - loss: 35.4410 - val_loss: 33.2027\n",
            "Epoch 166/200\n",
            "12/12 [==============================] - 0s 4ms/step - loss: 33.9625 - val_loss: 33.3383\n",
            "Epoch 167/200\n",
            "12/12 [==============================] - 0s 4ms/step - loss: 34.1748 - val_loss: 33.5925\n",
            "Epoch 168/200\n",
            "12/12 [==============================] - 0s 5ms/step - loss: 36.5509 - val_loss: 33.9099\n",
            "Epoch 169/200\n",
            "12/12 [==============================] - 0s 6ms/step - loss: 32.7472 - val_loss: 32.8925\n",
            "Epoch 170/200\n",
            "12/12 [==============================] - 0s 5ms/step - loss: 32.7444 - val_loss: 32.4893\n",
            "Epoch 171/200\n",
            "12/12 [==============================] - 0s 9ms/step - loss: 33.2411 - val_loss: 32.8821\n",
            "Epoch 172/200\n",
            "12/12 [==============================] - 0s 7ms/step - loss: 34.6768 - val_loss: 33.7785\n",
            "Epoch 173/200\n",
            "12/12 [==============================] - 0s 9ms/step - loss: 34.8063 - val_loss: 32.6224\n",
            "Epoch 174/200\n",
            "12/12 [==============================] - 0s 7ms/step - loss: 33.0958 - val_loss: 32.8792\n",
            "Epoch 175/200\n",
            "12/12 [==============================] - 0s 6ms/step - loss: 34.4121 - val_loss: 32.3186\n",
            "Epoch 176/200\n",
            "12/12 [==============================] - 0s 4ms/step - loss: 33.5598 - val_loss: 34.0295\n",
            "Epoch 177/200\n",
            "12/12 [==============================] - 0s 3ms/step - loss: 34.2061 - val_loss: 33.8535\n",
            "Epoch 178/200\n",
            "12/12 [==============================] - 0s 7ms/step - loss: 34.7221 - val_loss: 32.3943\n",
            "Epoch 179/200\n",
            "12/12 [==============================] - 0s 8ms/step - loss: 33.3808 - val_loss: 33.8122\n",
            "Epoch 180/200\n",
            "12/12 [==============================] - 0s 4ms/step - loss: 33.4244 - val_loss: 32.8820\n",
            "Epoch 181/200\n",
            "12/12 [==============================] - 0s 4ms/step - loss: 35.0616 - val_loss: 33.6526\n",
            "Epoch 182/200\n",
            "12/12 [==============================] - 0s 3ms/step - loss: 34.1833 - val_loss: 37.6015\n",
            "Epoch 183/200\n",
            "12/12 [==============================] - 0s 3ms/step - loss: 35.8915 - val_loss: 33.7924\n",
            "Epoch 184/200\n",
            "12/12 [==============================] - 0s 2ms/step - loss: 34.8062 - val_loss: 34.8406\n",
            "Epoch 185/200\n",
            "12/12 [==============================] - 0s 2ms/step - loss: 33.8466 - val_loss: 32.6814\n",
            "Epoch 186/200\n",
            "12/12 [==============================] - 0s 3ms/step - loss: 32.5418 - val_loss: 34.1483\n",
            "Epoch 187/200\n",
            "12/12 [==============================] - 0s 5ms/step - loss: 33.7945 - val_loss: 32.1732\n",
            "Epoch 188/200\n",
            "12/12 [==============================] - 0s 3ms/step - loss: 36.1498 - val_loss: 38.1592\n",
            "Epoch 189/200\n",
            "12/12 [==============================] - 0s 4ms/step - loss: 36.4542 - val_loss: 34.5815\n",
            "Epoch 190/200\n",
            "12/12 [==============================] - 0s 5ms/step - loss: 33.8898 - val_loss: 32.6382\n",
            "Epoch 191/200\n",
            "12/12 [==============================] - 0s 4ms/step - loss: 35.1105 - val_loss: 32.6452\n",
            "Epoch 192/200\n",
            "12/12 [==============================] - 0s 3ms/step - loss: 35.8341 - val_loss: 32.1994\n",
            "Epoch 193/200\n",
            "12/12 [==============================] - 0s 5ms/step - loss: 33.4818 - val_loss: 33.9973\n",
            "Epoch 194/200\n",
            "12/12 [==============================] - 0s 5ms/step - loss: 34.0635 - val_loss: 33.7714\n",
            "Epoch 195/200\n",
            "12/12 [==============================] - 0s 6ms/step - loss: 34.8828 - val_loss: 32.0197\n",
            "Epoch 196/200\n",
            "12/12 [==============================] - 0s 9ms/step - loss: 33.3723 - val_loss: 33.1708\n",
            "Epoch 197/200\n",
            "12/12 [==============================] - 0s 5ms/step - loss: 34.1927 - val_loss: 32.3771\n",
            "Epoch 198/200\n",
            "12/12 [==============================] - 0s 8ms/step - loss: 33.5358 - val_loss: 32.2841\n",
            "Epoch 199/200\n",
            "12/12 [==============================] - 0s 8ms/step - loss: 33.6734 - val_loss: 31.8831\n",
            "Epoch 200/200\n",
            "12/12 [==============================] - 0s 3ms/step - loss: 32.8767 - val_loss: 40.7959\n"
          ]
        }
      ],
      "source": [
        "from re import S\n",
        "history = model.fit(train_dataset,\n",
        "                    epochs = N_EPOCHS,\n",
        "                    steps_per_epoch = steps_per_epoch,\n",
        "                    validation_data = val_dataset,\n",
        "                    validation_steps = validation_steps)"
      ]
    },
    {
      "cell_type": "code",
      "execution_count": 35,
      "metadata": {
        "colab": {
          "base_uri": "https://localhost:8080/"
        },
        "id": "jUtJ3-CDEDEz",
        "outputId": "045c04ab-1c4c-41d9-e10b-7fcd4a5ff8d7"
      },
      "outputs": [
        {
          "output_type": "execute_result",
          "data": {
            "text/plain": [
              "dict_keys(['loss', 'val_loss'])"
            ]
          },
          "metadata": {},
          "execution_count": 35
        }
      ],
      "source": [
        "history.history.keys()"
      ]
    },
    {
      "cell_type": "code",
      "execution_count": 36,
      "metadata": {
        "colab": {
          "base_uri": "https://localhost:8080/"
        },
        "id": "fxLuce3bDWUO",
        "outputId": "1f527003-dd19-4e45-dcec-f3f79712801c"
      },
      "outputs": [
        {
          "output_type": "execute_result",
          "data": {
            "text/plain": [
              "{'loss': [402.175537109375,\n",
              "  151.89990234375,\n",
              "  81.30701446533203,\n",
              "  77.13300323486328,\n",
              "  73.28704071044922,\n",
              "  73.65939331054688,\n",
              "  68.59603118896484,\n",
              "  68.17345428466797,\n",
              "  64.48908233642578,\n",
              "  64.80986785888672,\n",
              "  65.43766784667969,\n",
              "  62.97397994995117,\n",
              "  63.70985794067383,\n",
              "  65.03363037109375,\n",
              "  63.9683723449707,\n",
              "  62.03939437866211,\n",
              "  62.40961837768555,\n",
              "  59.52604675292969,\n",
              "  61.34280776977539,\n",
              "  58.386749267578125,\n",
              "  59.82392501831055,\n",
              "  60.44419479370117,\n",
              "  57.64393615722656,\n",
              "  58.558807373046875,\n",
              "  55.61460876464844,\n",
              "  55.17548751831055,\n",
              "  56.72218322753906,\n",
              "  55.24264144897461,\n",
              "  56.00654983520508,\n",
              "  55.08198547363281,\n",
              "  54.41440963745117,\n",
              "  53.569610595703125,\n",
              "  51.942996978759766,\n",
              "  50.8527946472168,\n",
              "  52.05717086791992,\n",
              "  56.363861083984375,\n",
              "  58.05381774902344,\n",
              "  55.84690856933594,\n",
              "  50.7780876159668,\n",
              "  50.52507400512695,\n",
              "  50.23121643066406,\n",
              "  51.10896682739258,\n",
              "  47.110599517822266,\n",
              "  46.91720199584961,\n",
              "  49.16593933105469,\n",
              "  49.584529876708984,\n",
              "  49.95680618286133,\n",
              "  47.27008056640625,\n",
              "  48.24893569946289,\n",
              "  50.1578483581543,\n",
              "  45.34266662597656,\n",
              "  45.754547119140625,\n",
              "  42.2191047668457,\n",
              "  45.622039794921875,\n",
              "  44.320194244384766,\n",
              "  44.72174072265625,\n",
              "  47.43826675415039,\n",
              "  46.63679885864258,\n",
              "  43.98723220825195,\n",
              "  45.96467590332031,\n",
              "  45.218692779541016,\n",
              "  42.10261154174805,\n",
              "  41.8696174621582,\n",
              "  43.51127243041992,\n",
              "  43.16305923461914,\n",
              "  42.64875793457031,\n",
              "  42.696041107177734,\n",
              "  43.9614372253418,\n",
              "  41.69685363769531,\n",
              "  40.7622184753418,\n",
              "  40.95298385620117,\n",
              "  42.10563659667969,\n",
              "  41.60549545288086,\n",
              "  38.976932525634766,\n",
              "  41.972381591796875,\n",
              "  39.40935516357422,\n",
              "  39.95960235595703,\n",
              "  39.33064651489258,\n",
              "  41.48420333862305,\n",
              "  35.76548385620117,\n",
              "  40.639530181884766,\n",
              "  41.84089279174805,\n",
              "  41.37834167480469,\n",
              "  39.677398681640625,\n",
              "  41.206329345703125,\n",
              "  40.04072189331055,\n",
              "  35.38755798339844,\n",
              "  40.0827522277832,\n",
              "  41.432437896728516,\n",
              "  36.91786193847656,\n",
              "  38.83224868774414,\n",
              "  39.30388641357422,\n",
              "  39.67121887207031,\n",
              "  38.15532302856445,\n",
              "  36.102325439453125,\n",
              "  41.588130950927734,\n",
              "  38.67623519897461,\n",
              "  39.1161994934082,\n",
              "  36.46663284301758,\n",
              "  34.788055419921875,\n",
              "  38.8773307800293,\n",
              "  38.08164596557617,\n",
              "  35.272403717041016,\n",
              "  37.30921936035156,\n",
              "  37.73458480834961,\n",
              "  37.888465881347656,\n",
              "  38.43355178833008,\n",
              "  38.68012619018555,\n",
              "  36.58633804321289,\n",
              "  35.72322082519531,\n",
              "  36.392818450927734,\n",
              "  35.28984832763672,\n",
              "  37.66396713256836,\n",
              "  36.75901412963867,\n",
              "  36.82005310058594,\n",
              "  36.37289810180664,\n",
              "  36.41668701171875,\n",
              "  34.57797622680664,\n",
              "  37.67422103881836,\n",
              "  38.475772857666016,\n",
              "  36.29506301879883,\n",
              "  36.67917251586914,\n",
              "  35.6400032043457,\n",
              "  37.0661735534668,\n",
              "  37.25017166137695,\n",
              "  36.9471549987793,\n",
              "  36.234256744384766,\n",
              "  34.907684326171875,\n",
              "  36.00792694091797,\n",
              "  35.80521774291992,\n",
              "  36.53144454956055,\n",
              "  35.12577819824219,\n",
              "  37.30595397949219,\n",
              "  35.422237396240234,\n",
              "  33.07944107055664,\n",
              "  34.59279251098633,\n",
              "  35.31022644042969,\n",
              "  36.0494270324707,\n",
              "  31.636178970336914,\n",
              "  35.6326789855957,\n",
              "  35.782718658447266,\n",
              "  35.26119613647461,\n",
              "  35.2579460144043,\n",
              "  36.322933197021484,\n",
              "  35.017112731933594,\n",
              "  32.77834701538086,\n",
              "  35.473419189453125,\n",
              "  35.703243255615234,\n",
              "  35.74514389038086,\n",
              "  36.47975158691406,\n",
              "  34.7161865234375,\n",
              "  35.97360610961914,\n",
              "  32.838741302490234,\n",
              "  33.99222946166992,\n",
              "  35.493080139160156,\n",
              "  34.752628326416016,\n",
              "  34.64337158203125,\n",
              "  33.33280563354492,\n",
              "  34.20253372192383,\n",
              "  33.32500076293945,\n",
              "  33.845088958740234,\n",
              "  34.43043518066406,\n",
              "  33.95703125,\n",
              "  35.26567459106445,\n",
              "  35.440975189208984,\n",
              "  33.96250915527344,\n",
              "  34.174835205078125,\n",
              "  36.550926208496094,\n",
              "  32.747196197509766,\n",
              "  32.744388580322266,\n",
              "  33.241127014160156,\n",
              "  34.676753997802734,\n",
              "  34.80625915527344,\n",
              "  33.09580993652344,\n",
              "  34.412052154541016,\n",
              "  33.55978012084961,\n",
              "  34.20609664916992,\n",
              "  34.722103118896484,\n",
              "  33.380802154541016,\n",
              "  33.424381256103516,\n",
              "  35.06161117553711,\n",
              "  34.18328094482422,\n",
              "  35.89152145385742,\n",
              "  34.806182861328125,\n",
              "  33.846595764160156,\n",
              "  32.541812896728516,\n",
              "  33.79454803466797,\n",
              "  36.14983367919922,\n",
              "  36.4542236328125,\n",
              "  33.889766693115234,\n",
              "  35.11048126220703,\n",
              "  35.83409881591797,\n",
              "  33.48176193237305,\n",
              "  34.063541412353516,\n",
              "  34.88276672363281,\n",
              "  33.37225341796875,\n",
              "  34.19272994995117,\n",
              "  33.535823822021484,\n",
              "  33.673431396484375,\n",
              "  32.876686096191406],\n",
              " 'val_loss': [291.03863525390625,\n",
              "  116.02889251708984,\n",
              "  81.79360961914062,\n",
              "  76.89476776123047,\n",
              "  74.08082580566406,\n",
              "  75.34131622314453,\n",
              "  73.27857971191406,\n",
              "  69.75364685058594,\n",
              "  69.00592041015625,\n",
              "  67.08931732177734,\n",
              "  66.2867660522461,\n",
              "  65.481689453125,\n",
              "  64.3872299194336,\n",
              "  63.550933837890625,\n",
              "  63.01250457763672,\n",
              "  62.197235107421875,\n",
              "  63.4380989074707,\n",
              "  60.91584777832031,\n",
              "  60.142417907714844,\n",
              "  59.951698303222656,\n",
              "  59.007530212402344,\n",
              "  59.97718048095703,\n",
              "  59.47903060913086,\n",
              "  57.675601959228516,\n",
              "  61.08865737915039,\n",
              "  59.00534439086914,\n",
              "  56.23154067993164,\n",
              "  55.67308044433594,\n",
              "  55.62165832519531,\n",
              "  55.588157653808594,\n",
              "  53.96809387207031,\n",
              "  54.940494537353516,\n",
              "  52.88991165161133,\n",
              "  52.52021789550781,\n",
              "  52.59597396850586,\n",
              "  58.270626068115234,\n",
              "  54.393280029296875,\n",
              "  58.15794372558594,\n",
              "  50.17112731933594,\n",
              "  50.233463287353516,\n",
              "  49.65508270263672,\n",
              "  49.97951126098633,\n",
              "  48.796356201171875,\n",
              "  48.444068908691406,\n",
              "  48.83103942871094,\n",
              "  48.391700744628906,\n",
              "  47.37054443359375,\n",
              "  47.02027130126953,\n",
              "  46.96635437011719,\n",
              "  47.147071838378906,\n",
              "  46.248748779296875,\n",
              "  45.94136047363281,\n",
              "  45.67977523803711,\n",
              "  48.46770477294922,\n",
              "  45.18260955810547,\n",
              "  47.92047882080078,\n",
              "  46.26563262939453,\n",
              "  44.71772003173828,\n",
              "  44.19471740722656,\n",
              "  43.840389251708984,\n",
              "  44.96207046508789,\n",
              "  43.407745361328125,\n",
              "  43.68410873413086,\n",
              "  43.06927490234375,\n",
              "  45.05704879760742,\n",
              "  45.28340148925781,\n",
              "  46.639930725097656,\n",
              "  42.16722106933594,\n",
              "  42.007022857666016,\n",
              "  42.53028106689453,\n",
              "  41.73291778564453,\n",
              "  42.458290100097656,\n",
              "  42.441776275634766,\n",
              "  41.6346549987793,\n",
              "  40.982460021972656,\n",
              "  40.6732177734375,\n",
              "  42.56416320800781,\n",
              "  40.197509765625,\n",
              "  41.103981018066406,\n",
              "  39.726295471191406,\n",
              "  39.867801666259766,\n",
              "  45.325340270996094,\n",
              "  39.40717315673828,\n",
              "  40.080650329589844,\n",
              "  39.229061126708984,\n",
              "  38.857330322265625,\n",
              "  41.3719482421875,\n",
              "  40.07437515258789,\n",
              "  39.50528335571289,\n",
              "  38.607967376708984,\n",
              "  38.65718078613281,\n",
              "  40.16811752319336,\n",
              "  38.034393310546875,\n",
              "  38.2459716796875,\n",
              "  38.636695861816406,\n",
              "  41.0706901550293,\n",
              "  38.78327941894531,\n",
              "  37.311065673828125,\n",
              "  37.73346710205078,\n",
              "  39.42535400390625,\n",
              "  37.604000091552734,\n",
              "  36.810302734375,\n",
              "  36.48066329956055,\n",
              "  37.61591339111328,\n",
              "  36.65119934082031,\n",
              "  36.1711540222168,\n",
              "  38.389347076416016,\n",
              "  36.291046142578125,\n",
              "  39.03002166748047,\n",
              "  37.338714599609375,\n",
              "  36.07054138183594,\n",
              "  37.758201599121094,\n",
              "  36.75423812866211,\n",
              "  37.38990020751953,\n",
              "  35.335227966308594,\n",
              "  35.328948974609375,\n",
              "  35.39019012451172,\n",
              "  36.77275085449219,\n",
              "  36.65128707885742,\n",
              "  38.811012268066406,\n",
              "  35.153934478759766,\n",
              "  35.35733413696289,\n",
              "  38.29479217529297,\n",
              "  34.62017822265625,\n",
              "  35.06885528564453,\n",
              "  35.34687805175781,\n",
              "  35.64573669433594,\n",
              "  34.78620529174805,\n",
              "  35.11338806152344,\n",
              "  36.810462951660156,\n",
              "  36.259246826171875,\n",
              "  34.91770935058594,\n",
              "  34.88697814941406,\n",
              "  34.41957473754883,\n",
              "  33.979522705078125,\n",
              "  35.221256256103516,\n",
              "  35.04566955566406,\n",
              "  34.233551025390625,\n",
              "  35.293277740478516,\n",
              "  34.73351287841797,\n",
              "  35.73137664794922,\n",
              "  36.254005432128906,\n",
              "  33.97063446044922,\n",
              "  34.02428436279297,\n",
              "  34.88547897338867,\n",
              "  34.70592498779297,\n",
              "  33.408966064453125,\n",
              "  37.45655822753906,\n",
              "  34.16223907470703,\n",
              "  34.153316497802734,\n",
              "  34.8385124206543,\n",
              "  33.82154846191406,\n",
              "  33.48609924316406,\n",
              "  34.109649658203125,\n",
              "  34.158897399902344,\n",
              "  33.364112854003906,\n",
              "  33.498199462890625,\n",
              "  33.07633590698242,\n",
              "  33.74490737915039,\n",
              "  33.19858932495117,\n",
              "  33.788387298583984,\n",
              "  33.050418853759766,\n",
              "  34.58345031738281,\n",
              "  33.36151885986328,\n",
              "  33.20271301269531,\n",
              "  33.33831024169922,\n",
              "  33.592506408691406,\n",
              "  33.90989685058594,\n",
              "  32.892520904541016,\n",
              "  32.4892692565918,\n",
              "  32.882102966308594,\n",
              "  33.778472900390625,\n",
              "  32.62236022949219,\n",
              "  32.87923049926758,\n",
              "  32.31861114501953,\n",
              "  34.029457092285156,\n",
              "  33.853538513183594,\n",
              "  32.39430236816406,\n",
              "  33.812198638916016,\n",
              "  32.88199996948242,\n",
              "  33.65255355834961,\n",
              "  37.60149002075195,\n",
              "  33.792415618896484,\n",
              "  34.840599060058594,\n",
              "  32.681358337402344,\n",
              "  34.14829635620117,\n",
              "  32.17324447631836,\n",
              "  38.15918731689453,\n",
              "  34.58150863647461,\n",
              "  32.638248443603516,\n",
              "  32.64515686035156,\n",
              "  32.199440002441406,\n",
              "  33.99726486206055,\n",
              "  33.77143478393555,\n",
              "  32.019657135009766,\n",
              "  33.1707649230957,\n",
              "  32.37712860107422,\n",
              "  32.28406524658203,\n",
              "  31.883075714111328,\n",
              "  40.7958984375]}"
            ]
          },
          "metadata": {},
          "execution_count": 36
        }
      ],
      "source": [
        "history.history"
      ]
    },
    {
      "cell_type": "code",
      "execution_count": 37,
      "metadata": {
        "colab": {
          "base_uri": "https://localhost:8080/",
          "height": 446
        },
        "id": "ajhhma2JDWXA",
        "outputId": "93022a40-f023-4364-b664-3cf1ef838b53"
      },
      "outputs": [
        {
          "output_type": "display_data",
          "data": {
            "text/plain": [
              "<Figure size 720x504 with 1 Axes>"
            ],
            "image/png": "[encoded data removed]"
          },
          "metadata": {
            "needs_background": "light"
          }
        }
      ],
      "source": [
        "import matplotlib.pyplot as plt\n",
        "plt.figure(figsize = (10, 7))\n",
        "\n",
        "plt.plot(range(1, N_EPOCHS+1), history.history['loss'], label='Train loss')\n",
        "plt.plot(range(1, N_EPOCHS+1), history.history['val_loss'], label='Validation loss')\n",
        "\n",
        "plt.xlabel('Epoch')\n",
        "plt.ylabel('Loss(MSE)')\n",
        "plt.ylim(0, 90)\n",
        "plt.legend()\n",
        "plt.grid(True)\n",
        "plt.show()"
      ]
    },
    {
      "cell_type": "code",
      "execution_count": 38,
      "metadata": {
        "colab": {
          "base_uri": "https://localhost:8080/"
        },
        "id": "Tl2D-ppT1P_t",
        "outputId": "d793b74a-d399-4b68-a372-5eab2ad00e4f"
      },
      "outputs": [
        {
          "output_type": "stream",
          "name": "stdout",
          "text": [
            "13/13 [==============================] - 0s 1ms/step - loss: 41.0046\n"
          ]
        },
        {
          "output_type": "execute_result",
          "data": {
            "text/plain": [
              "41.004642486572266"
            ]
          },
          "metadata": {},
          "execution_count": 38
        }
      ],
      "source": [
        "model.evaluate(val_dataset)"
      ]
    },
    {
      "cell_type": "code",
      "execution_count": 39,
      "metadata": {
        "id": "RMe2Ef8g1QCC"
      },
      "outputs": [],
      "source": [
        "#classification 시작!"
      ]
    },
    {
      "cell_type": "code",
      "execution_count": 40,
      "metadata": {
        "id": "b7zyh2981QEG"
      },
      "outputs": [],
      "source": [
        "class_names = ['T-Shirt/Top','Trousers','Pullover','Dress','Coat','Sandal','Shirt','Sneaker','Bag','Ankle boots']"
      ]
    },
    {
      "cell_type": "code",
      "execution_count": 42,
      "metadata": {
        "id": "fytZw89H1QF7"
      },
      "outputs": [],
      "source": [
        "import numpy as np\n",
        "import tensorflow as tf\n",
        "from tensorflow import keras\n",
        "\n",
        "np.random.seed(1)\n",
        "tf.random.set_seed(1)"
      ]
    },
    {
      "cell_type": "code",
      "execution_count": 43,
      "metadata": {
        "id": "-RVxI80R1QII"
      },
      "outputs": [],
      "source": [
        "#openCV"
      ]
    },
    {
      "cell_type": "code",
      "execution_count": 44,
      "metadata": {
        "colab": {
          "base_uri": "https://localhost:8080/"
        },
        "id": "vPCbGrDT1QJ6",
        "outputId": "077373c3-1db4-4b24-c109-d978cd32a9f0"
      },
      "outputs": [
        {
          "output_type": "stream",
          "name": "stdout",
          "text": [
            "Looking in indexes: https://pypi.org/simple, https://us-python.pkg.dev/colab-wheels/public/simple/\n",
            "Requirement already satisfied: opencv-contrib-python in /usr/local/lib/python3.8/dist-packages (4.6.0.66)\n",
            "Requirement already satisfied: numpy>=1.14.5 in /usr/local/lib/python3.8/dist-packages (from opencv-contrib-python) (1.21.6)\n"
          ]
        }
      ],
      "source": [
        "pip install opencv-contrib-python"
      ]
    },
    {
      "cell_type": "code",
      "execution_count": 45,
      "metadata": {
        "id": "EqUT5OFZ1QLx"
      },
      "outputs": [],
      "source": [
        "import cv2\n",
        "import numpy as np\n",
        "\n",
        "lenna = cv2.imread('/content/download.png')"
      ]
    },
    {
      "cell_type": "code",
      "execution_count": 46,
      "metadata": {
        "colab": {
          "base_uri": "https://localhost:8080/",
          "height": 164
        },
        "id": "qTe_uoEr1QNi",
        "outputId": "c02b9779-b387-44df-f691-57da00fc68a6"
      },
      "outputs": [
        {
          "output_type": "error",
          "ename": "AttributeError",
          "evalue": "ignored",
          "traceback": [
            "\u001b[0;31m---------------------------------------------------------------------------\u001b[0m",
            "\u001b[0;31mAttributeError\u001b[0m                            Traceback (most recent call last)",
            "\u001b[0;32m<ipython-input-46-4c683ceda7fa>\u001b[0m in \u001b[0;36m<module>\u001b[0;34m\u001b[0m\n\u001b[0;32m----> 1\u001b[0;31m \u001b[0mprint\u001b[0m\u001b[0;34m(\u001b[0m\u001b[0mtype\u001b[0m\u001b[0;34m(\u001b[0m\u001b[0mlenna\u001b[0m\u001b[0;34m)\u001b[0m\u001b[0;34m,\u001b[0m\u001b[0mlenna\u001b[0m\u001b[0;34m.\u001b[0m\u001b[0mshape\u001b[0m\u001b[0;34m)\u001b[0m\u001b[0;34m\u001b[0m\u001b[0;34m\u001b[0m\u001b[0m\n\u001b[0m",
            "\u001b[0;31mAttributeError\u001b[0m: 'NoneType' object has no attribute 'shape'"
          ]
        }
      ],
      "source": [
        "print(type(lenna),lenna.shape)"
      ]
    },
    {
      "cell_type": "code",
      "execution_count": 47,
      "metadata": {
        "colab": {
          "base_uri": "https://localhost:8080/",
          "height": 300
        },
        "id": "Ypfa44vd1QPX",
        "outputId": "fa143ea2-3217-4463-dd1f-25821cd3a1c7"
      },
      "outputs": [
        {
          "output_type": "error",
          "ename": "AttributeError",
          "evalue": "ignored",
          "traceback": [
            "\u001b[0;31m---------------------------------------------------------------------------\u001b[0m",
            "\u001b[0;31mAttributeError\u001b[0m                            Traceback (most recent call last)",
            "\u001b[0;32m<ipython-input-47-cc129b1c3247>\u001b[0m in \u001b[0;36m<module>\u001b[0;34m\u001b[0m\n\u001b[1;32m      1\u001b[0m \u001b[0;32mfrom\u001b[0m \u001b[0mgoogle\u001b[0m\u001b[0;34m.\u001b[0m\u001b[0mcolab\u001b[0m\u001b[0;34m.\u001b[0m\u001b[0mpatches\u001b[0m \u001b[0;32mimport\u001b[0m \u001b[0mcv2_imshow\u001b[0m\u001b[0;34m\u001b[0m\u001b[0;34m\u001b[0m\u001b[0m\n\u001b[0;32m----> 2\u001b[0;31m \u001b[0mcv2_imshow\u001b[0m\u001b[0;34m(\u001b[0m\u001b[0mlenna\u001b[0m\u001b[0;34m)\u001b[0m\u001b[0;34m\u001b[0m\u001b[0;34m\u001b[0m\u001b[0m\n\u001b[0m",
            "\u001b[0;32m/usr/local/lib/python3.8/dist-packages/google/colab/patches/__init__.py\u001b[0m in \u001b[0;36mcv2_imshow\u001b[0;34m(a)\u001b[0m\n\u001b[1;32m     16\u001b[0m       \u001b[0mimage\u001b[0m\u001b[0;34m.\u001b[0m\u001b[0;34m\u001b[0m\u001b[0;34m\u001b[0m\u001b[0m\n\u001b[1;32m     17\u001b[0m   \"\"\"\n\u001b[0;32m---> 18\u001b[0;31m   \u001b[0ma\u001b[0m \u001b[0;34m=\u001b[0m \u001b[0ma\u001b[0m\u001b[0;34m.\u001b[0m\u001b[0mclip\u001b[0m\u001b[0;34m(\u001b[0m\u001b[0;36m0\u001b[0m\u001b[0;34m,\u001b[0m \u001b[0;36m255\u001b[0m\u001b[0;34m)\u001b[0m\u001b[0;34m.\u001b[0m\u001b[0mastype\u001b[0m\u001b[0;34m(\u001b[0m\u001b[0;34m'uint8'\u001b[0m\u001b[0;34m)\u001b[0m\u001b[0;34m\u001b[0m\u001b[0;34m\u001b[0m\u001b[0m\n\u001b[0m\u001b[1;32m     19\u001b[0m   \u001b[0;31m# cv2 stores colors as BGR; convert to RGB\u001b[0m\u001b[0;34m\u001b[0m\u001b[0;34m\u001b[0m\u001b[0;34m\u001b[0m\u001b[0m\n\u001b[1;32m     20\u001b[0m   \u001b[0;32mif\u001b[0m \u001b[0ma\u001b[0m\u001b[0;34m.\u001b[0m\u001b[0mndim\u001b[0m \u001b[0;34m==\u001b[0m \u001b[0;36m3\u001b[0m\u001b[0;34m:\u001b[0m\u001b[0;34m\u001b[0m\u001b[0;34m\u001b[0m\u001b[0m\n",
            "\u001b[0;31mAttributeError\u001b[0m: 'NoneType' object has no attribute 'clip'"
          ]
        }
      ],
      "source": [
        "from google.colab.patches import cv2_imshow\n",
        "cv2_imshow(lenna)"
      ]
    },
    {
      "cell_type": "code",
      "execution_count": 48,
      "metadata": {
        "colab": {
          "base_uri": "https://localhost:8080/"
        },
        "id": "KNIaYGQA1QRJ",
        "outputId": "02e6da82-7e54-48b7-9610-6c42cd2cd74a"
      },
      "outputs": [
        {
          "output_type": "stream",
          "name": "stdout",
          "text": [
            "false\n"
          ]
        }
      ],
      "source": [
        "import cv2\n",
        "import time\n",
        "\n",
        "cap = cv2.VideoCapture(0)\n",
        "\n",
        "if cap.isOpened()== False:\n",
        "  print('false')\n",
        "  exit(1)"
      ]
    },
    {
      "cell_type": "code",
      "execution_count": 49,
      "metadata": {
        "id": "E7yUX-LCzgEx"
      },
      "outputs": [],
      "source": [
        "from IPython.display import display, Javascript\n",
        "from google.colab.output import eval_js\n",
        "from base64 import b64decode\n",
        "\n",
        "def take_photo(filename='photo.jpg', quality=0.8):\n",
        "  js = Javascript('''\n",
        "    async function takePhoto(quality) {\n",
        "      const div = document.createElement('div');\n",
        "      const capture = document.createElement('button');\n",
        "      capture.textContent = 'Capture';\n",
        "      div.appendChild(capture);\n",
        "\n",
        "      const video = document.createElement('video');\n",
        "      video.style.display = 'block';\n",
        "      const stream = await navigator.mediaDevices.getUserMedia({video: true});\n",
        "\n",
        "      document.body.appendChild(div);\n",
        "      div.appendChild(video);\n",
        "      video.srcObject = stream;\n",
        "      await video.play();\n",
        "\n",
        "      // Resize the output to fit the video element.\n",
        "      google.colab.output.setIframeHeight(document.documentElement.scrollHeight, true);\n",
        "\n",
        "      // Wait for Capture to be clicked.\n",
        "      await new Promise((resolve) => capture.onclick = resolve);\n",
        "\n",
        "      const canvas = document.createElement('canvas');\n",
        "      canvas.width = video.videoWidth;\n",
        "      canvas.height = video.videoHeight;\n",
        "      canvas.getContext('2d').drawImage(video, 0, 0);\n",
        "      stream.getVideoTracks()[0].stop();\n",
        "      div.remove();\n",
        "      return canvas.toDataURL('image/jpeg', quality);\n",
        "    }\n",
        "    ''')\n",
        "  display(js)\n",
        "  data = eval_js('takePhoto({})'.format(quality))\n",
        "  binary = b64decode(data.split(',')[1])\n",
        "  with open(filename, 'wb') as f:\n",
        "    f.write(binary)\n",
        "  return filename"
      ]
    },
    {
      "cell_type": "code",
      "execution_count": null,
      "metadata": {
        "colab": {
          "base_uri": "https://localhost:8080/",
          "height": 519
        },
        "id": "sMDHukJDzgEy",
        "outputId": "5bbe005c-40ff-43f8-98b6-57e10dcf2252"
      },
      "outputs": [
        {
          "output_type": "display_data",
          "data": {
            "text/plain": [
              "<IPython.core.display.Javascript object>"
            ],
            "application/javascript": [
              "\n",
              "    async function takePhoto(quality) {\n",
              "      const div = document.createElement('div');\n",
              "      const capture = document.createElement('button');\n",
              "      capture.textContent = 'Capture';\n",
              "      div.appendChild(capture);\n",
              "\n",
              "      const video = document.createElement('video');\n",
              "      video.style.display = 'block';\n",
              "      const stream = await navigator.mediaDevices.getUserMedia({video: true});\n",
              "\n",
              "      document.body.appendChild(div);\n",
              "      div.appendChild(video);\n",
              "      video.srcObject = stream;\n",
              "      await video.play();\n",
              "\n",
              "      // Resize the output to fit the video element.\n",
              "      google.colab.output.setIframeHeight(document.documentElement.scrollHeight, true);\n",
              "\n",
              "      // Wait for Capture to be clicked.\n",
              "      await new Promise((resolve) => capture.onclick = resolve);\n",
              "\n",
              "      const canvas = document.createElement('canvas');\n",
              "      canvas.width = video.videoWidth;\n",
              "      canvas.height = video.videoHeight;\n",
              "      canvas.getContext('2d').drawImage(video, 0, 0);\n",
              "      stream.getVideoTracks()[0].stop();\n",
              "      div.remove();\n",
              "      return canvas.toDataURL('image/jpeg', quality);\n",
              "    }\n",
              "    "
            ]
          },
          "metadata": {}
        }
      ],
      "source": [
        "from IPython.display import Image\n",
        "try:\n",
        "  filename = take_photo()\n",
        "  print('Saved to {}'.format(filename))\n",
        "  \n",
        "  # Show the image which was just taken.\n",
        "  display(Image(filename))\n",
        "except Exception as err:\n",
        "  # Errors will be thrown if the user does not have a webcam or if they do not\n",
        "  # grant the page permission to access it.\n",
        "  print(str(err))"
      ]
    },
    {
      "cell_type": "code",
      "execution_count": null,
      "metadata": {
        "id": "FWCMfEIF1QS9"
      },
      "outputs": [],
      "source": []
    },
    {
      "cell_type": "code",
      "execution_count": null,
      "metadata": {
        "id": "WCDD2wvm1QVC"
      },
      "outputs": [],
      "source": []
    },
    {
      "cell_type": "code",
      "execution_count": null,
      "metadata": {
        "id": "MiUK0q7T1QW2"
      },
      "outputs": [],
      "source": []
    },
    {
      "cell_type": "code",
      "execution_count": null,
      "metadata": {
        "id": "eMYbzhrB1QZA"
      },
      "outputs": [],
      "source": []
    },
    {
      "cell_type": "code",
      "execution_count": null,
      "metadata": {
        "id": "QLX2WzpTDWYt"
      },
      "outputs": [],
      "source": []
    },
    {
      "cell_type": "code",
      "execution_count": null,
      "metadata": {
        "id": "62u9jJoVDWbB"
      },
      "outputs": [],
      "source": []
    },
    {
      "cell_type": "code",
      "execution_count": null,
      "metadata": {
        "id": "JFdBCIh4DWc1"
      },
      "outputs": [],
      "source": []
    },
    {
      "cell_type": "code",
      "execution_count": null,
      "metadata": {
        "id": "J3AjHyLyDWe7"
      },
      "outputs": [],
      "source": []
    },
    {
      "cell_type": "code",
      "execution_count": null,
      "metadata": {
        "id": "ML4q0Eq-DWhS"
      },
      "outputs": [],
      "source": []
    },
    {
      "cell_type": "code",
      "execution_count": null,
      "metadata": {
        "id": "InXOoX1So4eZ"
      },
      "outputs": [],
      "source": []
    },
    {
      "cell_type": "code",
      "execution_count": null,
      "metadata": {
        "id": "vGlf8mr_JCOT"
      },
      "outputs": [],
      "source": []
    },
    {
      "cell_type": "code",
      "execution_count": null,
      "metadata": {
        "id": "4-o3sI92JCQG"
      },
      "outputs": [],
      "source": []
    },
    {
      "cell_type": "code",
      "execution_count": null,
      "metadata": {
        "id": "k5veY-hKJCSd"
      },
      "outputs": [],
      "source": []
    }
  ],
  "metadata": {
    "colab": {
      "provenance": []
    },
    "kernelspec": {
      "display_name": "Python 3",
      "name": "python3"
    },
    "language_info": {
      "name": "python"
    }
  },
  "nbformat": 4,
  "nbformat_minor": 0
}